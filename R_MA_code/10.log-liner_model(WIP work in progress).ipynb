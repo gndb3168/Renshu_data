{
 "cells": [
  {
   "cell_type": "markdown",
   "metadata": {},
   "source": [
    "## 対数線形モデル(クロス表の分析)"
   ]
  },
  {
   "cell_type": "markdown",
   "metadata": {},
   "source": [
    "- 概要\n",
    "    - 質的変数間の連関\n",
    "    - 用いるデータの概要と分析目的\n",
    "- 飽和モデルの分析\n",
    "- 独立モデルの分析\n",
    "- 最良モデルの探索\n",
    "- 対数線形モデルの報告例\n",
    "- 対数線形モデルとポアソン分布\n",
    "- 逸脱度\n",
    "- モデルの自由度\n",
    "- 逸脱度を用いた尤度比検定\n",
    "- 母数の制約\n",
    "- 母数と期待度数\n",
    "- 期待度数と関連付けた母数の解釈\n",
    "    - 切片の解釈\n",
    "    - 主効果の解釈\n",
    "    - 1次の交互作用効果の解釈\n",
    "    - 1次の交互作用効果の別の求め方\n",
    "    - 2次の交互作用効果の解釈\n",
    "    - より高次の交互作用効果\n",
    "- 基準セルの設定    "
   ]
  },
  {
   "cell_type": "markdown",
   "metadata": {
    "collapsed": true
   },
   "source": [
    "### 概要"
   ]
  },
  {
   "cell_type": "markdown",
   "metadata": {},
   "source": [
    "#### 質的変数間の連関\n",
    "\n",
    "- 質的変数間の連関の検討はクロス集計表に対する$\\chi^2$検定を用いる。  \n",
    "- 対数線形モデルは、質的変数のカテゴリの組み合わせの効果の観点から変数間の連関を詳細に分析する。  \n",
    "- 対数線形モデルは3変数以上の連関について一度の分析で検討でき、カテゴリの組み合わせ効果(交互作用効果)の有無について分析者の仮説を反映させたモデルを複数作成し、データへの適合を比較検討することが可能。"
   ]
  },
  {
   "cell_type": "markdown",
   "metadata": {},
   "source": [
    "#### 用いるデータの概要と分析目的"
   ]
  },
  {
   "cell_type": "markdown",
   "metadata": {},
   "source": [
    "##### イタリア老舗自転車メーカー3社の利用ユーザーに関する調査"
   ]
  },
  {
   "cell_type": "markdown",
   "metadata": {},
   "source": [
    "##### データ概要\n",
    "\n",
    "|変数名|説明|\n",
    " |:---|:---|\n",
    " |年代|20代、30代、40代|\n",
    " |性別|M=男性、F=女性|\n",
    " |メーカー|コレナゴ、デロンザ、ピロリロ|\n",
    "|度数|回答者数|  "
   ]
  },
  {
   "cell_type": "code",
   "execution_count": 1,
   "metadata": {},
   "outputs": [
    {
     "data": {
      "text/html": [
       "<ol class=list-inline>\n",
       "\t<li>18</li>\n",
       "\t<li>4</li>\n",
       "</ol>\n"
      ],
      "text/latex": [
       "\\begin{enumerate*}\n",
       "\\item 18\n",
       "\\item 4\n",
       "\\end{enumerate*}\n"
      ],
      "text/markdown": [
       "1. 18\n",
       "2. 4\n",
       "\n",
       "\n"
      ],
      "text/plain": [
       "[1] 18  4"
      ]
     },
     "metadata": {},
     "output_type": "display_data"
    },
    {
     "name": "stdout",
     "output_type": "stream",
     "text": [
      "'data.frame':\t18 obs. of  4 variables:\n",
      " $ 年代    : Factor w/ 3 levels \"20代\",\"30代\",..: 1 2 3 1 2 3 1 2 3 1 ...\n",
      " $ 性別    : Factor w/ 2 levels \"F\",\"M\": 2 2 2 2 2 2 2 2 2 1 ...\n",
      " $ メーカー: Factor w/ 3 levels \"コレナゴ\",\"デロンザ\",..: 1 1 1 2 2 2 3 3 3 1 ...\n",
      " $ 度数    : int  510 649 1598 554 645 1658 744 1623 2433 794 ...\n"
     ]
    },
    {
     "data": {
      "text/html": [
       "<table>\n",
       "<thead><tr><th scope=col>年代</th><th scope=col>性別</th><th scope=col>メーカー</th><th scope=col>度数</th></tr></thead>\n",
       "<tbody>\n",
       "\t<tr><td>20代    </td><td>M       </td><td>コレナゴ</td><td> 510    </td></tr>\n",
       "\t<tr><td>30代    </td><td>M       </td><td>コレナゴ</td><td> 649    </td></tr>\n",
       "\t<tr><td>40代    </td><td>M       </td><td>コレナゴ</td><td>1598    </td></tr>\n",
       "\t<tr><td>20代    </td><td>M       </td><td>デロンザ</td><td> 554    </td></tr>\n",
       "\t<tr><td>30代    </td><td>M       </td><td>デロンザ</td><td> 645    </td></tr>\n",
       "\t<tr><td>40代    </td><td>M       </td><td>デロンザ</td><td>1658    </td></tr>\n",
       "</tbody>\n",
       "</table>\n"
      ],
      "text/latex": [
       "\\begin{tabular}{r|llll}\n",
       " 年代 & 性別 & メーカー & 度数\\\\\n",
       "\\hline\n",
       "\t 20代     & M        & コレナゴ &  510    \\\\\n",
       "\t 30代     & M        & コレナゴ &  649    \\\\\n",
       "\t 40代     & M        & コレナゴ & 1598    \\\\\n",
       "\t 20代     & M        & デロンザ &  554    \\\\\n",
       "\t 30代     & M        & デロンザ &  645    \\\\\n",
       "\t 40代     & M        & デロンザ & 1658    \\\\\n",
       "\\end{tabular}\n"
      ],
      "text/markdown": [
       "\n",
       "年代 | 性別 | メーカー | 度数 | \n",
       "|---|---|---|---|---|---|\n",
       "| 20代     | M        | コレナゴ |  510     | \n",
       "| 30代     | M        | コレナゴ |  649     | \n",
       "| 40代     | M        | コレナゴ | 1598     | \n",
       "| 20代     | M        | デロンザ |  554     | \n",
       "| 30代     | M        | デロンザ |  645     | \n",
       "| 40代     | M        | デロンザ | 1658     | \n",
       "\n",
       "\n"
      ],
      "text/plain": [
       "  年代 性別 メーカー 度数\n",
       "1 20代 M    コレナゴ  510\n",
       "2 30代 M    コレナゴ  649\n",
       "3 40代 M    コレナゴ 1598\n",
       "4 20代 M    デロンザ  554\n",
       "5 30代 M    デロンザ  645\n",
       "6 40代 M    デロンザ 1658"
      ]
     },
     "metadata": {},
     "output_type": "display_data"
    }
   ],
   "source": [
    "#データ読み込み・確認\n",
    "\n",
    "#集計結果のデータ(個票データではない)\n",
    "bdat <- read.csv(\"https://raw.githubusercontent.com/gndb3168/Renshu_data/master/R_MA/Sec_10/bicycle.csv\") \n",
    "dim(bdat)\n",
    "str(bdat)\n",
    "head(bdat)"
   ]
  },
  {
   "cell_type": "code",
   "execution_count": 2,
   "metadata": {},
   "outputs": [
    {
     "data": {
      "text/html": [
       "<table>\n",
       "<thead><tr><th></th><th scope=col>コレナゴ</th><th scope=col>デロンザ</th><th scope=col>ピロリロ</th></tr></thead>\n",
       "<tbody>\n",
       "\t<tr><th scope=row>20代</th><td> 510</td><td> 554</td><td> 744</td></tr>\n",
       "\t<tr><th scope=row>30代</th><td> 649</td><td> 645</td><td>1623</td></tr>\n",
       "\t<tr><th scope=row>40代</th><td>1598</td><td>1658</td><td>2433</td></tr>\n",
       "</tbody>\n",
       "</table>\n"
      ],
      "text/latex": [
       "\\begin{tabular}{r|lll}\n",
       "  & コレナゴ & デロンザ & ピロリロ\\\\\n",
       "\\hline\n",
       "\t20代 &  510 &  554 &  744\\\\\n",
       "\t30代 &  649 &  645 & 1623\\\\\n",
       "\t40代 & 1598 & 1658 & 2433\\\\\n",
       "\\end{tabular}\n"
      ],
      "text/markdown": [
       "\n",
       "| <!--/--> | コレナゴ | デロンザ | ピロリロ | \n",
       "|---|---|---|\n",
       "| 20代 |  510 |  554 |  744 | \n",
       "| 30代 |  649 |  645 | 1623 | \n",
       "| 40代 | 1598 | 1658 | 2433 | \n",
       "\n",
       "\n"
      ],
      "text/plain": [
       "     コレナゴ デロンザ ピロリロ\n",
       "20代  510      554      744    \n",
       "30代  649      645     1623    \n",
       "40代 1598     1658     2433    "
      ]
     },
     "metadata": {},
     "output_type": "display_data"
    },
    {
     "data": {
      "text/html": [
       "<table>\n",
       "<thead><tr><th></th><th scope=col>コレナゴ</th><th scope=col>デロンザ</th><th scope=col>ピロリロ</th></tr></thead>\n",
       "<tbody>\n",
       "\t<tr><th scope=row>20代</th><td> 794</td><td> 804</td><td>1243</td></tr>\n",
       "\t<tr><th scope=row>30代</th><td> 987</td><td>1055</td><td>2517</td></tr>\n",
       "\t<tr><th scope=row>40代</th><td>1528</td><td>1519</td><td>2255</td></tr>\n",
       "</tbody>\n",
       "</table>\n"
      ],
      "text/latex": [
       "\\begin{tabular}{r|lll}\n",
       "  & コレナゴ & デロンザ & ピロリロ\\\\\n",
       "\\hline\n",
       "\t20代 &  794 &  804 & 1243\\\\\n",
       "\t30代 &  987 & 1055 & 2517\\\\\n",
       "\t40代 & 1528 & 1519 & 2255\\\\\n",
       "\\end{tabular}\n"
      ],
      "text/markdown": [
       "\n",
       "| <!--/--> | コレナゴ | デロンザ | ピロリロ | \n",
       "|---|---|---|\n",
       "| 20代 |  794 |  804 | 1243 | \n",
       "| 30代 |  987 | 1055 | 2517 | \n",
       "| 40代 | 1528 | 1519 | 2255 | \n",
       "\n",
       "\n"
      ],
      "text/plain": [
       "     コレナゴ デロンザ ピロリロ\n",
       "20代  794      804     1243    \n",
       "30代  987     1055     2517    \n",
       "40代 1528     1519     2255    "
      ]
     },
     "metadata": {},
     "output_type": "display_data"
    }
   ],
   "source": [
    "#集計データからのクロス集計表の作成\n",
    "\n",
    "#行方向に年代、列方向にメーカーにしてクロス集計(行名・列名をつけるために用いるだけ)\n",
    "tmpm <- table(bdat$年代, bdat$メーカー)\n",
    "\n",
    "#男性におけるクロス集計表の作成\n",
    "mm <- matrix(bdat$度数[1:9], ncol=3, nrow=3)\n",
    "colnames(mm) <- colnames(tmpm)\n",
    "rownames(mm) <- rownames(tmpm)\n",
    "\n",
    "#女性におけるクロス集計表の作成\n",
    "fm <- matrix(bdat$度数[10:18], ncol=3, nrow=3)\n",
    "colnames(fm) <- colnames(tmpm)\n",
    "rownames(fm) <- rownames(tmpm)\n",
    "\n",
    "mm\n",
    "fm"
   ]
  },
  {
   "cell_type": "markdown",
   "metadata": {},
   "source": [
    "##### クロス集計表の問題点\n",
    "2次以上の交互作用(3変数以上の連関)については言及しにくい。"
   ]
  },
  {
   "cell_type": "markdown",
   "metadata": {},
   "source": [
    "#### 対数線形モデルの飽和モデルのモデル式(40代・男性・「ピロリロ」と回答した人の期待度数の対数)\n",
    "$$\n",
    "    \\mbox{log}(m_{M40 \\small{\\mbox{ピロ}}} \\ ) \\  = \\  \\mu + \\alpha_{40} + \\beta_M + \\delta_{\\small{\\mbox{ピロ}}} + (\\alpha \\delta)_{40M}\n",
    "        + (\\alpha \\delta)_{40 \\small{\\mbox{ピロ}}} + (\\beta \\delta)_{M \\small{\\mbox{ピロ}}} \n",
    "        + + (\\alpha \\beta \\delta)_{40M \\small{\\mbox{ピロ}}} \n",
    "$$"
   ]
  },
  {
   "cell_type": "markdown",
   "metadata": {},
   "source": [
    "飽和モデルには主効果と1次の交互作用効果と2次の交互作用効果をモデル式に含んでいる。  \n",
    "※$\\alpha \\beta$等は1次の交互作用効果の母数を示しており、2つの母数の積ではないので注意。  \n",
    "4変数以上で定義される多重クロス集計表に対して対数線形モデルを用いた場合はオッズ比に基づく交互作用効果の解釈が非常に困難になる。  "
   ]
  },
  {
   "cell_type": "markdown",
   "metadata": {},
   "source": [
    "#### 対数線形モデルの独立モデルのモデル式(40代・男性・「ピロリロ」と回答した人の期待度数の対数)\n",
    "$$\n",
    "    \\mbox{log}(m_{M40 \\small{\\mbox{ピロ}}} \\ ) \\  = \\  \\mu + \\alpha_{40} + \\beta_M + \\delta_{\\small{\\mbox{ピロ}}}\n",
    "$$"
   ]
  },
  {
   "cell_type": "markdown",
   "metadata": {},
   "source": [
    "独立モデルは主効果と切片のみの式。  \n",
    "独立モデルが採択された場合、質的変数間に連関がないことが示唆される。  \n",
    "独立モデルが棄却された場合は、飽和モデルから母数を減らし、度数の説明において特に重要な交互作用項のみを含んだ最良モデルを探索する。"
   ]
  },
  {
   "cell_type": "markdown",
   "metadata": {},
   "source": [
    "#### 対数線形モデルの分析手順\n",
    "1. 飽和モデルに基づく分析と解釈\n",
    "1. 独立モデルに基づく分析と飽和モデルとの結果比較・解釈\n",
    "1. 最良モデルの探索と解釈"
   ]
  },
  {
   "cell_type": "markdown",
   "metadata": {},
   "source": [
    "### 10.2 飽和モデルの分析"
   ]
  },
  {
   "cell_type": "code",
   "execution_count": 3,
   "metadata": {},
   "outputs": [
    {
     "data": {
      "text/plain": [
       "\n",
       "Call:\n",
       "glm(formula = 度数 ~ 年代 * 性別 * メーカー, family = \"poisson\", \n",
       "    data = bdat)\n",
       "\n",
       "Deviance Residuals: \n",
       " [1]  0  0  0  0  0  0  0  0  0  0  0  0  0  0  0  0  0  0\n",
       "\n",
       "Coefficients:\n",
       "                                Estimate Std. Error z value Pr(>|z|)    \n",
       "(Intercept)                      6.67708    0.03549 188.147  < 2e-16 ***\n",
       "年代30代                         0.21759    0.04767   4.564 5.01e-06 ***\n",
       "年代40代                         0.65463    0.04375  14.964  < 2e-16 ***\n",
       "性別M                           -0.44267    0.05675  -7.801 6.15e-15 ***\n",
       "メーカーデロンザ                 0.01252    0.05003   0.250    0.802    \n",
       "メーカーピロリロ                 0.44820    0.04543   9.866  < 2e-16 ***\n",
       "年代30代:性別M                   0.02344    0.07599   0.308    0.758    \n",
       "年代40代:性別M                   0.48747    0.06709   7.266 3.69e-13 ***\n",
       "年代30代:メーカーデロンザ        0.05411    0.06682   0.810    0.418    \n",
       "年代40代:メーカーデロンザ       -0.01842    0.06177  -0.298    0.766    \n",
       "年代30代:メーカーピロリロ        0.48795    0.05894   8.278  < 2e-16 ***\n",
       "年代40代:メーカーピロリロ       -0.05901    0.05623  -1.049    0.294    \n",
       "性別M:メーカーデロンザ           0.07024    0.07918   0.887    0.375    \n",
       "性別M:メーカーピロリロ          -0.07057    0.07327  -0.963    0.335    \n",
       "年代30代:性別M:メーカーデロンザ -0.14305    0.10640  -1.344    0.179    \n",
       "年代40代:性別M:メーカーデロンザ -0.02747    0.09387  -0.293    0.770    \n",
       "年代30代:性別M:メーカーピロリロ  0.05102    0.09453   0.540    0.589    \n",
       "年代40代:性別M:メーカーピロリロ  0.10175    0.08662   1.175    0.240    \n",
       "---\n",
       "Signif. codes:  0 '***' 0.001 '**' 0.01 '*' 0.05 '.' 0.1 ' ' 1\n",
       "\n",
       "(Dispersion parameter for poisson family taken to be 1)\n",
       "\n",
       "    Null deviance:  5.3906e+03  on 17  degrees of freedom\n",
       "Residual deviance: -2.3892e-13  on  0  degrees of freedom\n",
       "AIC: 195.73\n",
       "\n",
       "Number of Fisher Scoring iterations: 2\n"
      ]
     },
     "metadata": {},
     "output_type": "display_data"
    }
   ],
   "source": [
    "#飽和モデルの分析\n",
    "\n",
    "#度数の予測にはポアソン分布のモデル式を用いる\n",
    "fullmodel <- glm(度数~年代*性別*メーカー, data=bdat, family=\"poisson\")　#'*'を用いることで交互作用項もモデルに含めることが出来る\n",
    "summary(fullmodel)"
   ]
  },
  {
   "cell_type": "markdown",
   "metadata": {},
   "source": [
    "全てのカテゴリが記載されてるわけではない。  \n",
    "これは、「基準セル」によって一部のカテゴリの水準の効果が0に固定し、他の水準の効果を相対的に求めているため。"
   ]
  },
  {
   "cell_type": "markdown",
   "metadata": {},
   "source": [
    "Residual devianceはデータに対するモデルの逸脱度を示し、飽和モデルでは限りなく0に近づく。  \n",
    "それに対しNull devianceは、切片のみのモデルの逸脱度を示しており、相対的に適合が悪いことが示唆されている。"
   ]
  },
  {
   "cell_type": "markdown",
   "metadata": {},
   "source": [
    "### 10.3 独立モデルの分析"
   ]
  },
  {
   "cell_type": "code",
   "execution_count": 4,
   "metadata": {},
   "outputs": [
    {
     "data": {
      "text/plain": [
       "\n",
       "Call:\n",
       "glm(formula = 度数 ~ 年代 + 性別 + メーカー, family = \"poisson\", \n",
       "    data = bdat)\n",
       "\n",
       "Deviance Residuals: \n",
       "     Min        1Q    Median        3Q       Max  \n",
       "-11.1299   -2.7982   -0.9488    3.7987   12.9502  \n",
       "\n",
       "Coefficients:\n",
       "                 Estimate Std. Error z value Pr(>|z|)    \n",
       "(Intercept)       6.50782    0.01929 337.342   <2e-16 ***\n",
       "年代30代          0.47505    0.01868  25.434   <2e-16 ***\n",
       "年代40代          0.86042    0.01750  49.180   <2e-16 ***\n",
       "性別M            -0.19861    0.01322 -15.024   <2e-16 ***\n",
       "メーカーデロンザ  0.02748    0.01803   1.524    0.128    \n",
       "メーカーピロリロ  0.57823    0.01604  36.047   <2e-16 ***\n",
       "---\n",
       "Signif. codes:  0 '***' 0.001 '**' 0.01 '*' 0.05 '.' 0.1 ' ' 1\n",
       "\n",
       "(Dispersion parameter for poisson family taken to be 1)\n",
       "\n",
       "    Null deviance: 5390.57  on 17  degrees of freedom\n",
       "Residual deviance:  715.64  on 12  degrees of freedom\n",
       "AIC: 887.37\n",
       "\n",
       "Number of Fisher Scoring iterations: 4\n"
      ]
     },
     "metadata": {},
     "output_type": "display_data"
    }
   ],
   "source": [
    "#独立モデルの分析\n",
    "\n",
    "idmodel <- glm(度数~年代+性別+メーカー, data=bdat, family=\"poisson\")\n",
    "summary(idmodel)"
   ]
  },
  {
   "cell_type": "code",
   "execution_count": 5,
   "metadata": {},
   "outputs": [
    {
     "data": {
      "text/html": [
       "<table>\n",
       "<thead><tr><th scope=col>Resid. Df</th><th scope=col>Resid. Dev</th><th scope=col>Df</th><th scope=col>Deviance</th><th scope=col>Pr(&gt;Chi)</th></tr></thead>\n",
       "<tbody>\n",
       "\t<tr><td>12           </td><td> 7.156365e+02</td><td>NA           </td><td>      NA     </td><td>           NA</td></tr>\n",
       "\t<tr><td> 0           </td><td>-2.389200e-13</td><td>12           </td><td>715.6365     </td><td>1.980284e-145</td></tr>\n",
       "</tbody>\n",
       "</table>\n"
      ],
      "text/latex": [
       "\\begin{tabular}{r|lllll}\n",
       " Resid. Df & Resid. Dev & Df & Deviance & Pr(>Chi)\\\\\n",
       "\\hline\n",
       "\t 12            &  7.156365e+02 & NA            &       NA      &            NA\\\\\n",
       "\t  0            & -2.389200e-13 & 12            & 715.6365      & 1.980284e-145\\\\\n",
       "\\end{tabular}\n"
      ],
      "text/markdown": [
       "\n",
       "Resid. Df | Resid. Dev | Df | Deviance | Pr(>Chi) | \n",
       "|---|---|\n",
       "| 12            |  7.156365e+02 | NA            |       NA      |            NA | \n",
       "|  0            | -2.389200e-13 | 12            | 715.6365      | 1.980284e-145 | \n",
       "\n",
       "\n"
      ],
      "text/plain": [
       "  Resid. Df Resid. Dev    Df Deviance Pr(>Chi)     \n",
       "1 12         7.156365e+02 NA       NA            NA\n",
       "2  0        -2.389200e-13 12 715.6365 1.980284e-145"
      ]
     },
     "metadata": {},
     "output_type": "display_data"
    }
   ],
   "source": [
    "#anovaを用いた飽和モデルと独立モデルの尤度比検定\n",
    "\n",
    "anova(idmodel, fullmodel, test=\"Chisq\")"
   ]
  },
  {
   "cell_type": "code",
   "execution_count": 6,
   "metadata": {},
   "outputs": [
    {
     "data": {
      "text/html": [
       "<ol class=list-inline>\n",
       "\t<li>18</li>\n",
       "\t<li>195.729036596151</li>\n",
       "</ol>\n"
      ],
      "text/latex": [
       "\\begin{enumerate*}\n",
       "\\item 18\n",
       "\\item 195.729036596151\n",
       "\\end{enumerate*}\n"
      ],
      "text/markdown": [
       "1. 18\n",
       "2. 195.729036596151\n",
       "\n",
       "\n"
      ],
      "text/plain": [
       "[1]  18.000 195.729"
      ]
     },
     "metadata": {},
     "output_type": "display_data"
    },
    {
     "data": {
      "text/html": [
       "<ol class=list-inline>\n",
       "\t<li>6</li>\n",
       "\t<li>887.365566375165</li>\n",
       "</ol>\n"
      ],
      "text/latex": [
       "\\begin{enumerate*}\n",
       "\\item 6\n",
       "\\item 887.365566375165\n",
       "\\end{enumerate*}\n"
      ],
      "text/markdown": [
       "1. 6\n",
       "2. 887.365566375165\n",
       "\n",
       "\n"
      ],
      "text/plain": [
       "[1]   6.0000 887.3656"
      ]
     },
     "metadata": {},
     "output_type": "display_data"
    },
    {
     "data": {
      "text/html": [
       "<ol class=list-inline>\n",
       "\t<li>18</li>\n",
       "\t<li>340.598081950029</li>\n",
       "</ol>\n"
      ],
      "text/latex": [
       "\\begin{enumerate*}\n",
       "\\item 18\n",
       "\\item 340.598081950029\n",
       "\\end{enumerate*}\n"
      ],
      "text/markdown": [
       "1. 18\n",
       "2. 340.598081950029\n",
       "\n",
       "\n"
      ],
      "text/plain": [
       "[1]  18.0000 340.5981"
      ]
     },
     "metadata": {},
     "output_type": "display_data"
    },
    {
     "data": {
      "text/html": [
       "<ol class=list-inline>\n",
       "\t<li>6</li>\n",
       "\t<li>935.655248159792</li>\n",
       "</ol>\n"
      ],
      "text/latex": [
       "\\begin{enumerate*}\n",
       "\\item 6\n",
       "\\item 935.655248159792\n",
       "\\end{enumerate*}\n"
      ],
      "text/markdown": [
       "1. 6\n",
       "2. 935.655248159792\n",
       "\n",
       "\n"
      ],
      "text/plain": [
       "[1]   6.0000 935.6552"
      ]
     },
     "metadata": {},
     "output_type": "display_data"
    }
   ],
   "source": [
    "#飽和モデルと独立モデルのAICとBIC\n",
    "extractAIC(fullmodel)\n",
    "extractAIC(idmodel)\n",
    "extractAIC(fullmodel, k=log(sum(bdat$度数)))\n",
    "extractAIC(idmodel, k=log(sum(bdat$度数)))"
   ]
  },
  {
   "cell_type": "markdown",
   "metadata": {},
   "source": [
    "### 10.4 最良モデルの探索"
   ]
  },
  {
   "cell_type": "markdown",
   "metadata": {},
   "source": [
    "#### 最良モデルの探索のルール\n",
    "- 主効果は必ずモデルに含む(独立モデルが最も制約が強いモデル)\n",
    "- 交互作用効果をモデルに含める場合は、下位の交互作用効果をすべて含める"
   ]
  },
  {
   "cell_type": "code",
   "execution_count": 7,
   "metadata": {},
   "outputs": [
    {
     "data": {
      "text/plain": [
       "\n",
       "Call:\n",
       "glm(formula = 度数 ~ 年代 + 性別 + メーカー + (年代:性別) + (年代:メーカー), \n",
       "    family = \"poisson\", data = bdat)\n",
       "\n",
       "Deviance Residuals: \n",
       "     Min        1Q    Median        3Q       Max  \n",
       "-1.04060  -0.34486   0.01281   0.39917   1.11682  \n",
       "\n",
       "Coefficients:\n",
       "                           Estimate Std. Error z value Pr(>|z|)    \n",
       "(Intercept)                6.680696   0.030063 222.226  < 2e-16 ***\n",
       "年代30代                   0.224719   0.040007   5.617 1.94e-08 ***\n",
       "年代40代                   0.637821   0.036349  17.547  < 2e-16 ***\n",
       "性別M                     -0.451935   0.030085 -15.022  < 2e-16 ***\n",
       "メーカーデロンザ           0.040577   0.038772   1.047    0.295    \n",
       "メーカーピロリロ           0.421190   0.035639  11.818  < 2e-16 ***\n",
       "年代30代:性別M             0.005387   0.038305   0.141    0.888    \n",
       "年代40代:性別M             0.522385   0.035630  14.662  < 2e-16 ***\n",
       "年代30代:メーカーデロンザ -0.002203   0.051988  -0.042    0.966    \n",
       "年代40代:メーカーデロンザ -0.024393   0.046238  -0.528    0.598    \n",
       "年代30代:メーカーピロリロ  0.507252   0.046075  11.009  < 2e-16 ***\n",
       "年代40代:メーカーピロリロ -0.015938   0.042466  -0.375    0.707    \n",
       "---\n",
       "Signif. codes:  0 '***' 0.001 '**' 0.01 '*' 0.05 '.' 0.1 ' ' 1\n",
       "\n",
       "(Dispersion parameter for poisson family taken to be 1)\n",
       "\n",
       "    Null deviance: 5390.5727  on 17  degrees of freedom\n",
       "Residual deviance:    5.8114  on  6  degrees of freedom\n",
       "AIC: 189.54\n",
       "\n",
       "Number of Fisher Scoring iterations: 3\n"
      ]
     },
     "metadata": {},
     "output_type": "display_data"
    }
   ],
   "source": [
    "#提案モデルの分析\n",
    "\n",
    "#飽和モデルで有意な効果のみモデルに含める\n",
    "bestmodel <- glm(度数~年代+性別+メーカー+(年代:性別)+(年代:メーカー), data=bdat, family=\"poisson\")\n",
    "summary(bestmodel)"
   ]
  },
  {
   "cell_type": "code",
   "execution_count": 8,
   "metadata": {},
   "outputs": [
    {
     "data": {
      "text/html": [
       "<table>\n",
       "<thead><tr><th scope=col>Resid. Df</th><th scope=col>Resid. Dev</th><th scope=col>Df</th><th scope=col>Deviance</th><th scope=col>Pr(&gt;Chi)</th></tr></thead>\n",
       "<tbody>\n",
       "\t<tr><td>6            </td><td> 5.811422e+00</td><td>NA           </td><td>      NA     </td><td>      NA     </td></tr>\n",
       "\t<tr><td>0            </td><td>-2.389200e-13</td><td> 6           </td><td>5.811422     </td><td>0.444643     </td></tr>\n",
       "</tbody>\n",
       "</table>\n"
      ],
      "text/latex": [
       "\\begin{tabular}{r|lllll}\n",
       " Resid. Df & Resid. Dev & Df & Deviance & Pr(>Chi)\\\\\n",
       "\\hline\n",
       "\t 6             &  5.811422e+00 & NA            &       NA      &       NA     \\\\\n",
       "\t 0             & -2.389200e-13 &  6            & 5.811422      & 0.444643     \\\\\n",
       "\\end{tabular}\n"
      ],
      "text/markdown": [
       "\n",
       "Resid. Df | Resid. Dev | Df | Deviance | Pr(>Chi) | \n",
       "|---|---|\n",
       "| 6             |  5.811422e+00 | NA            |       NA      |       NA      | \n",
       "| 0             | -2.389200e-13 |  6            | 5.811422      | 0.444643      | \n",
       "\n",
       "\n"
      ],
      "text/plain": [
       "  Resid. Df Resid. Dev    Df Deviance Pr(>Chi)\n",
       "1 6          5.811422e+00 NA       NA       NA\n",
       "2 0         -2.389200e-13  6 5.811422 0.444643"
      ]
     },
     "metadata": {},
     "output_type": "display_data"
    }
   ],
   "source": [
    "#飽和モデルと提案モデルの尤度比検定\n",
    "anova(bestmodel, fullmodel, test=\"Chisq\")"
   ]
  },
  {
   "cell_type": "code",
   "execution_count": 9,
   "metadata": {},
   "outputs": [
    {
     "data": {
      "text/html": [
       "<ol class=list-inline>\n",
       "\t<li>18</li>\n",
       "\t<li>195.729036596151</li>\n",
       "</ol>\n"
      ],
      "text/latex": [
       "\\begin{enumerate*}\n",
       "\\item 18\n",
       "\\item 195.729036596151\n",
       "\\end{enumerate*}\n"
      ],
      "text/markdown": [
       "1. 18\n",
       "2. 195.729036596151\n",
       "\n",
       "\n"
      ],
      "text/plain": [
       "[1]  18.000 195.729"
      ]
     },
     "metadata": {},
     "output_type": "display_data"
    },
    {
     "data": {
      "text/html": [
       "<ol class=list-inline>\n",
       "\t<li>12</li>\n",
       "\t<li>189.540458245664</li>\n",
       "</ol>\n"
      ],
      "text/latex": [
       "\\begin{enumerate*}\n",
       "\\item 12\n",
       "\\item 189.540458245664\n",
       "\\end{enumerate*}\n"
      ],
      "text/markdown": [
       "1. 12\n",
       "2. 189.540458245664\n",
       "\n",
       "\n"
      ],
      "text/plain": [
       "[1]  12.0000 189.5405"
      ]
     },
     "metadata": {},
     "output_type": "display_data"
    },
    {
     "data": {
      "text/html": [
       "<ol class=list-inline>\n",
       "\t<li>18</li>\n",
       "\t<li>340.598081950029</li>\n",
       "</ol>\n"
      ],
      "text/latex": [
       "\\begin{enumerate*}\n",
       "\\item 18\n",
       "\\item 340.598081950029\n",
       "\\end{enumerate*}\n"
      ],
      "text/markdown": [
       "1. 18\n",
       "2. 340.598081950029\n",
       "\n",
       "\n"
      ],
      "text/plain": [
       "[1]  18.0000 340.5981"
      ]
     },
     "metadata": {},
     "output_type": "display_data"
    },
    {
     "data": {
      "text/html": [
       "<ol class=list-inline>\n",
       "\t<li>12</li>\n",
       "\t<li>286.119821814916</li>\n",
       "</ol>\n"
      ],
      "text/latex": [
       "\\begin{enumerate*}\n",
       "\\item 12\n",
       "\\item 286.119821814916\n",
       "\\end{enumerate*}\n"
      ],
      "text/markdown": [
       "1. 12\n",
       "2. 286.119821814916\n",
       "\n",
       "\n"
      ],
      "text/plain": [
       "[1]  12.0000 286.1198"
      ]
     },
     "metadata": {},
     "output_type": "display_data"
    }
   ],
   "source": [
    "#提案モデルと飽和モデルのAICとBIC\n",
    "extractAIC(fullmodel)\n",
    "extractAIC(bestmodel)\n",
    "extractAIC(fullmodel, k=log(sum(bdat$度数)))\n",
    "extractAIC(bestmodel, k=log(sum(bdat$度数)))"
   ]
  },
  {
   "cell_type": "markdown",
   "metadata": {},
   "source": [
    "### 10.5 対数線形モデルの報告例"
   ]
  },
  {
   "cell_type": "markdown",
   "metadata": {},
   "source": [
    "　「年代」「性別」「メーカー」の3変数間の連関構造を検討するために, 対数線形モデルによる分析を行った. 基準セルを\"20代女性のコレナゴユーザー\"としたうえで, 主効果と交互作用効果の推定を行った.  \n",
    "　飽和モデルと独立モデルを算出し, 両モデルの適合度について逸脱度の差に基づく尤度比検定を行ったところ, 飽和モデルの相対的な適合の高さが示された($\\chi^2(12) = 715.64, p < 0.001$). また, 飽和モデルにおいてはAIC = 195.729,  独立モデルにおいてはAIC=887.366, BIC=935.655であり, 情報量規準の観点からも飽和モデルの相対的な適合の高さが示された.  \n",
    " 　上述の結果から, 独立モデルでは制約が強すぎる可能性が示唆されたので, 次に, 飽和モデルに含まれる主効果と交互作用の検定結果に基づいて, 「年代」「性別」「メーカー」の主効果, 「年代」「性別」の交互作用効果, 「年代」「メーカー」の交互作用効果を含むモデルを提案モデルとした.  \n",
    "  尤度比検定を用いて飽和モデルと提案モデルとの適合度の比較を行ったところ, 有意差は見られなかった($\\chi^2(6)=5.811, n.s.$). また, 提案モデルにおいてAIC=189.541, BIC=286.120であり, 情報量規準の観点からは提案モデルの相対的適合の高さが示された. この分析結果から, 提案モデルを最良モデルとして採択した. 下表に母数の推定結果を報告する.\n",
    "\n",
    "\\begin{array}{llc|llc} \\hline\n",
    "    母数 & 推定値 & 標準誤差 & 母数 & 推定値 & 標準偏差 \\\\ \\hline\n",
    "            \\mu & 6.681*** & 0.030 & (\\alpha \\beta)_{30M} & 0.005 & 0.038 \\\\\n",
    "            \\alpha_{30} & 0.225*** & 0.040 & (\\alpha \\beta)_{40M} & 0.522*** & 0.036 \\\\\n",
    "            \\alpha_{40} & 0.638*** & 0.036 & (\\alpha \\delta)_{\\text{30デロ}} & -0.002 & 0.052 \\\\\n",
    "            \\beta_M & -0.452*** & 0.030 & (\\alpha \\delta)_{\\text{40デロ}} & -0.024 & 0.046 \\\\\n",
    "            \\delta_{デロ} & 0.041 & 0.039 & (\\alpha \\delta)_{\\text{30ピロ}} & -0.507*** & 0.046 \\\\\n",
    "            \\delta_{ピロ} & 0.421*** & 0.036 & (\\alpha \\delta)_{\\text{40ピロ}} & -0.016 & 0.042 \\\\ \\hline              \n",
    "\\end{array}\n",
    "\\begin{array}{l}\n",
    "    *:p < 0.05, \\  **: p < 0.01, \\  ***: p < 0.001\n",
    "\\end{array}\n",
    "\n",
    "「年代」の主効果については, $\\alpha_{30} = 0.025$, $\\alpha_{40}$であり, それぞれ0.1%水準で有意であった. 20代を基準とすると, 30代, 40代と年齢が上昇するとともに, 主効果が増加する傾向がみられた.\n",
    "\n",
    "「性別」の主効果については$\\beta_M = -0.452$であり, 0.1%水準で有意であった. 女性に比較して男性の主効果が小さい傾向がうかがえた. また, 「メーカー」の主効果については$\\delta_{\\text{ピロ}}(=0.421)$のみが0.1%水準で有意であり, コレナゴに比較してピロリロの主効果が大きい傾向が示された.\n",
    "\n",
    "「年代」と「性別の1次の交互作用効果と, 「年代」と「メーカー」の1次の交互作用効果もそれぞれ有意であった. 「年代」と「性別」については, 40代の男性の交互作用効果が$(\\alpha \\beta)_{40M} = 0.552$であり, 0.1%水準で有意であった. 40代で男性という属性のセルの度数は, この正の交互作用効果によってある程度説明されることが明らかになった. また, 「年代」と「メーカー」については, 30代のピロリロユーザーの交互作用効果が$(\\alpha \\beta)_{30 \\text{ピロ}} = 0.507$であり, 0.1%水準で有意であった.l 性別を問わず, 30代のユーザーにはピロリロの人気が高いことが示唆される結果となった."
   ]
  },
  {
   "cell_type": "markdown",
   "metadata": {
    "collapsed": true
   },
   "source": [
    "### 10.6 対数線形モデルとポアソン分布"
   ]
  },
  {
   "cell_type": "markdown",
   "metadata": {},
   "source": [
    "対数線形モデルはクロス集計表の度数($n_{ij}$)をポアソン分布に従うと仮定する.  \n",
    "確率関数とパラメータ($m_{ij}$)は以下のようになる."
   ]
  },
  {
   "cell_type": "markdown",
   "metadata": {},
   "source": [
    "$$\n",
    "    f(n_{ij}) = \\frac{m_{ij}^{n_{ij}}\\textrm{exp}(-m_{ij})}{n_{ij}!} \\\\\n",
    "    E[n_{ij}] = m_{ij}\n",
    "$$"
   ]
  },
  {
   "cell_type": "markdown",
   "metadata": {},
   "source": [
    "二重クロス集計表における対数線形モデルの飽和モデル"
   ]
  },
  {
   "cell_type": "markdown",
   "metadata": {},
   "source": [
    "$$\n",
    "    \\textrm{log}\\, E[n_{ij}] = \\textrm{log}(m_{ij}) = \\mu + \\alpha_i + \\beta_j + (\\alpha + \\beta)_{ij}\n",
    "$$"
   ]
  },
  {
   "cell_type": "markdown",
   "metadata": {},
   "source": [
    "データの総数をあらかじめ定めずサンプリングした場合は各セルの度数は互いに独立.  \n",
    "全セルの度数を含んだベクトル$\\boldsymbol{n}(= n_{11}, \\ldots, n_{IJ})'$の同時分布(尤度関数)は"
   ]
  },
  {
   "cell_type": "markdown",
   "metadata": {},
   "source": [
    "$$\n",
    "    f(\\boldsymbol{n}) = \\prod_{i=1}^I \\prod_{j=1}^J \\frac{m_{ij}^{n_{ij}}\\textrm{exp}(-m_{ij})}{n_{ij}!}\n",
    "$$"
   ]
  },
  {
   "cell_type": "markdown",
   "metadata": {},
   "source": [
    "積の演算は計算上の問題が生じやすいので, 対数尤度関数を微分して母数推定する.  "
   ]
  },
  {
   "cell_type": "markdown",
   "metadata": {},
   "source": [
    "$$\n",
    "    \\textrm{log}\\, L(\\boldsymbol{n}) = \\sum_{i=1}^I \\sum_{j=1}^J \\{n_{ij}\\, \\textrm{log}\\, m_{ij} - m{ij} - \\textrm{log}(n_{ij}!) \\}\n",
    "$$"
   ]
  },
  {
   "cell_type": "markdown",
   "metadata": {},
   "source": [
    "$L(\\boldsymbol{n})$は$f(\\boldsymbol{n})$に対応する尤度"
   ]
  },
  {
   "cell_type": "markdown",
   "metadata": {
    "collapsed": true
   },
   "source": [
    "### 10.7 逸脱度"
   ]
  },
  {
   "cell_type": "markdown",
   "metadata": {},
   "source": [
    "- 逸脱度(deviance)は, データに対するモデルの適合度\n",
    "- 飽和モデルはデータに対して完全に適合\n",
    "- 飽和モデルの対数尤度と提案モデルの対数尤度の差が逸脱度の値"
   ]
  },
  {
   "cell_type": "markdown",
   "metadata": {},
   "source": [
    "##### 2重クロス集計表に対する対数線形モデルにおける逸脱度\n",
    "$$\n",
    "    \\text{(提案モデルの逸脱度)} = 2 \\sum_{i=1}^I \\sum_{j=1}^J n_{ij} \\log \\left(\\frac{n_{ij}}{m_{ij}}\\right)   \n",
    "$$"
   ]
  },
  {
   "cell_type": "markdown",
   "metadata": {},
   "source": [
    "提案モデルが飽和モデルであった場合, 観測度数と期待度数は一致し, $m_{ij} = n_{ij}$となり, 逸脱度は$\\log(1)=0$になる."
   ]
  },
  {
   "cell_type": "markdown",
   "metadata": {},
   "source": [
    "### 10.8 モデルの自由度"
   ]
  },
  {
   "cell_type": "markdown",
   "metadata": {},
   "source": [
    "$$\n",
    "    \\text(自由度) = \\text{セルの個数} - \\text{推定する母数の個数}   \n",
    "$$"
   ]
  },
  {
   "cell_type": "markdown",
   "metadata": {},
   "source": [
    "### 10.9 逸脱度を用いた尤度比検定"
   ]
  },
  {
   "cell_type": "markdown",
   "metadata": {},
   "source": [
    "- 標本サイズが十分に大きい場合, 対数線形モデルにおけるモデルAとモデルBとの逸脱度の差は自由度が(自由度A $-$ 自由度B)の$\\chi^2$分布に近似\n",
    "- 逸脱度の差の尤度比検定は逸脱度の差の$\\chi^2$検定"
   ]
  },
  {
   "cell_type": "markdown",
   "metadata": {},
   "source": [
    "### 10.10 母数の制約"
   ]
  },
  {
   "cell_type": "markdown",
   "metadata": {},
   "source": [
    "- 対数線形モデルにおいて, 「基準セル」を設定することで関連する主効果と交互作用効果を$0$に制約する母数の端点制約を行う\n",
    "- 端点制約を置かない場合, 1つの母数に対して無数に推定値の候補が生じ, 解が一位に定まらない\n",
    "- 端点制約を置くことで推定する母数が減り, 期待度数のオッズと関連付けて母数を解釈しやすい\n",
    "\n",
    "サンプルデータでは「20代女性のコレナゴユーザー」が基準セルになっている."
   ]
  },
  {
   "cell_type": "markdown",
   "metadata": {},
   "source": [
    "### 10.11 母数と期待度数"
   ]
  },
  {
   "cell_type": "markdown",
   "metadata": {
    "collapsed": true
   },
   "source": [
    "- サンプルデータにおける基準セルは「20代・女性・コレナゴユーザー」\n",
    "- 期待度数$\\log \\left(m_{20F\\text{コレ}}\\  \\right)$のモデルは, 主効果と交互作用効果が全て0であるため, 切片$\\mu$のみ"
   ]
  },
  {
   "cell_type": "markdown",
   "metadata": {},
   "source": [
    "女性における「年代」と「メーカー」のモデル構造"
   ]
  },
  {
   "cell_type": "markdown",
   "metadata": {},
   "source": [
    "$\n",
    "\\begin{align}\n",
    "    \\log \\left(m_{20F\\text{コレ}}\\  \\right) & = \\mu \\\\\n",
    "    \\log \\left(m_{30F\\text{コレ}}\\  \\right) & = \\mu + \\alpha_{30} \\\\\n",
    "    \\log \\left(m_{40F\\text{コレ}}\\  \\right) & = \\mu + \\alpha_{40} \\\\\n",
    "    \\log \\left(m_{20F\\text{デロ}}\\  \\right) & = \\mu + \\delta_{\\text{デロ}} \\\\\n",
    "    \\log \\left(m_{30F\\text{デロ}}\\  \\right) & = \\mu + \\alpha_{30} + \\delta_{\\text{デロ}} + (\\alpha \\delta)_{\\text{30デロ}} \\\\\n",
    "    \\log \\left(m_{40F\\text{デロ}}\\  \\right) & = \\mu + \\alpha_{40} + \\delta_{\\text{デロ}} + (\\alpha \\delta)_{\\text{40デロ}} \\\\\n",
    "    \\log \\left(m_{20F\\text{ピロ}}\\  \\right) & = \\mu + \\delta_{\\text{ピロ}} \\\\\n",
    "    \\log \\left(m_{30F\\text{ピロ}}\\  \\right) & = \\mu + \\alpha_{30} + \\delta_{\\text{ピロ}} + (\\alpha \\delta)_{\\text{30ピロ}} \\\\\n",
    "    \\log \\left(m_{40F\\text{ピロ}}\\  \\right) & = \\mu + \\alpha_{40} + \\delta_{\\text{ピロ}} + (\\alpha \\delta)_{\\text{40ピロ}} \n",
    "\\end{align}\n",
    "$"
   ]
  },
  {
   "cell_type": "code",
   "execution_count": 10,
   "metadata": {
    "scrolled": true
   },
   "outputs": [
    {
     "data": {
      "text/plain": [
       ", , bdat$性別 = F\n",
       "\n",
       "         bdat$メーカー\n",
       "bdat$年代  コレナゴ  デロンザ  ピロリロ\n",
       "     20代  796.8733  829.8727 1214.2540\n",
       "     30代  997.6624 1036.6907 2524.6469\n",
       "     40代 1507.9658 1532.5679 2261.4663\n",
       "\n",
       ", , bdat$性別 = M\n",
       "\n",
       "         bdat$メーカー\n",
       "bdat$年代  コレナゴ  デロンザ  ピロリロ\n",
       "     20代  507.1267  528.1273  772.7460\n",
       "     30代  638.3376  663.3093 1615.3531\n",
       "     40代 1618.0342 1644.4321 2426.5337\n"
      ]
     },
     "metadata": {},
     "output_type": "display_data"
    }
   ],
   "source": [
    "#最良モデルの期待度数行列\n",
    "\n",
    "#fitted.valuesはモデルで算出した推定値\n",
    "xtabs(bestmodel$fitted.values~bdat$年代+bdat$メーカー+bdat$性別)"
   ]
  }
 ],
 "metadata": {
  "kernelspec": {
   "display_name": "R",
   "language": "R",
   "name": "ir"
  },
  "language_info": {
   "codemirror_mode": "r",
   "file_extension": ".r",
   "mimetype": "text/x-r-source",
   "name": "R",
   "pygments_lexer": "r",
   "version": "3.5.1"
  },
  "latex_envs": {
   "LaTeX_envs_menu_present": true,
   "autoclose": false,
   "autocomplete": true,
   "bibliofile": "biblio.bib",
   "cite_by": "apalike",
   "current_citInitial": 1,
   "eqLabelWithNumbers": true,
   "eqNumInitial": 1,
   "hotkeys": {
    "equation": "Ctrl-E",
    "itemize": "Ctrl-I"
   },
   "labels_anchors": false,
   "latex_user_defs": false,
   "report_style_numbering": false,
   "user_envs_cfg": false
  }
 },
 "nbformat": 4,
 "nbformat_minor": 2
}
