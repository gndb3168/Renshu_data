{
 "cells": [
  {
   "cell_type": "markdown",
   "metadata": {},
   "source": [
    "## カテゴリに所属する確率の説明・予測"
   ]
  },
  {
   "cell_type": "markdown",
   "metadata": {},
   "source": [
    "### 11.1 分析に用いるサンプルデータ"
   ]
  },
  {
   "cell_type": "markdown",
   "metadata": {},
   "source": [
    "#### 11.1.1 空き巣調査データ\n",
    "|変数|説明|\n",
    "|:--|:--|\n",
    "|空き巣|空き巣被害のあり・なし|\n",
    "|不在時間|平日9～18時の不在時間(20日間)の平均|\n",
    "|会話|近隣住民との会話の回数(1週間の合計)|\n",
    "|築年数|住居の築年数|\n",
    "|セキュリティ|セキュリティ会社のサービスの加入・非加入|\n",
    "|飼い犬|飼い犬の有無|"
   ]
  },
  {
   "cell_type": "markdown",
   "metadata": {},
   "source": [
    "#### 11.1.2 分析目的\n",
    "空き巣被害にたいして不在時間などがどう影響するか明らかにする."
   ]
  },
  {
   "cell_type": "markdown",
   "metadata": {},
   "source": [
    "##### 分析の流れ\n",
    "- データの整形\n",
    "- ロジスティック回帰モデルにおける指標算出\n",
    "- モデル評価\n",
    "- モデル指標の解釈"
   ]
  },
  {
   "cell_type": "markdown",
   "metadata": {},
   "source": [
    "#### 11.1.3 ロジスティック回帰の概要とデータの整形\n",
    "- 回帰分析と異なり,カテゴリカル変数を目的変数として, ある水準となる確率を説明・予測\n",
    "- カテゴリカル変数は文字データのままでは分析に用いることが出来ず, 数値データに変換する必要がある"
   ]
  },
  {
   "cell_type": "code",
   "execution_count": 1,
   "metadata": {},
   "outputs": [
    {
     "data": {
      "text/html": [
       "<table>\n",
       "<thead><tr><th scope=col>空き巣</th><th scope=col>不在時間</th><th scope=col>会話</th><th scope=col>築年数</th><th scope=col>セキュリティ</th><th scope=col>飼い犬</th><th scope=col>空き巣01</th><th scope=col>セキュリティ01</th><th scope=col>飼い犬01</th></tr></thead>\n",
       "<tbody>\n",
       "\t<tr><td>あり  </td><td>2.92  </td><td>1     </td><td>21    </td><td>加入  </td><td>なし  </td><td>1     </td><td>1     </td><td>0     </td></tr>\n",
       "\t<tr><td>なし  </td><td>1.19  </td><td>1     </td><td>18    </td><td>非加入</td><td>なし  </td><td>0     </td><td>0     </td><td>0     </td></tr>\n",
       "\t<tr><td>あり  </td><td>5.20  </td><td>1     </td><td> 6    </td><td>非加入</td><td>なし  </td><td>1     </td><td>0     </td><td>0     </td></tr>\n",
       "\t<tr><td>あり  </td><td>6.06  </td><td>1     </td><td>17    </td><td>非加入</td><td>なし  </td><td>1     </td><td>0     </td><td>0     </td></tr>\n",
       "\t<tr><td>あり  </td><td>5.24  </td><td>1     </td><td>24    </td><td>加入  </td><td>あり  </td><td>1     </td><td>1     </td><td>1     </td></tr>\n",
       "\t<tr><td>あり  </td><td>2.30  </td><td>1     </td><td> 9    </td><td>加入  </td><td>なし  </td><td>1     </td><td>1     </td><td>0     </td></tr>\n",
       "</tbody>\n",
       "</table>\n"
      ],
      "text/latex": [
       "\\begin{tabular}{r|lllllllll}\n",
       " 空き巣 & 不在時間 & 会話 & 築年数 & セキュリティ & 飼い犬 & 空き巣01 & セキュリティ01 & 飼い犬01\\\\\n",
       "\\hline\n",
       "\t あり   & 2.92   & 1      & 21     & 加入   & なし   & 1      & 1      & 0     \\\\\n",
       "\t なし   & 1.19   & 1      & 18     & 非加入 & なし   & 0      & 0      & 0     \\\\\n",
       "\t あり   & 5.20   & 1      &  6     & 非加入 & なし   & 1      & 0      & 0     \\\\\n",
       "\t あり   & 6.06   & 1      & 17     & 非加入 & なし   & 1      & 0      & 0     \\\\\n",
       "\t あり   & 5.24   & 1      & 24     & 加入   & あり   & 1      & 1      & 1     \\\\\n",
       "\t あり   & 2.30   & 1      &  9     & 加入   & なし   & 1      & 1      & 0     \\\\\n",
       "\\end{tabular}\n"
      ],
      "text/markdown": [
       "\n",
       "空き巣 | 不在時間 | 会話 | 築年数 | セキュリティ | 飼い犬 | 空き巣01 | セキュリティ01 | 飼い犬01 | \n",
       "|---|---|---|---|---|---|\n",
       "| あり   | 2.92   | 1      | 21     | 加入   | なし   | 1      | 1      | 0      | \n",
       "| なし   | 1.19   | 1      | 18     | 非加入 | なし   | 0      | 0      | 0      | \n",
       "| あり   | 5.20   | 1      |  6     | 非加入 | なし   | 1      | 0      | 0      | \n",
       "| あり   | 6.06   | 1      | 17     | 非加入 | なし   | 1      | 0      | 0      | \n",
       "| あり   | 5.24   | 1      | 24     | 加入   | あり   | 1      | 1      | 1      | \n",
       "| あり   | 2.30   | 1      |  9     | 加入   | なし   | 1      | 1      | 0      | \n",
       "\n",
       "\n"
      ],
      "text/plain": [
       "  空き巣 不在時間 会話 築年数 セキュリティ 飼い犬 空き巣01 セキュリティ01\n",
       "1 あり   2.92     1    21     加入         なし   1        1             \n",
       "2 なし   1.19     1    18     非加入       なし   0        0             \n",
       "3 あり   5.20     1     6     非加入       なし   1        0             \n",
       "4 あり   6.06     1    17     非加入       なし   1        0             \n",
       "5 あり   5.24     1    24     加入         あり   1        1             \n",
       "6 あり   2.30     1     9     加入         なし   1        1             \n",
       "  飼い犬01\n",
       "1 0       \n",
       "2 0       \n",
       "3 0       \n",
       "4 0       \n",
       "5 1       \n",
       "6 0       "
      ]
     },
     "metadata": {},
     "output_type": "display_data"
    }
   ],
   "source": [
    "#データの読み込み・変換・確認\n",
    "\n",
    "aks <- read.csv(\"https://raw.githubusercontent.com/gndb3168/Renshu_data/master/R_MA/Sec_11/burglary_research.csv\")\n",
    "\n",
    "aks$空き巣01 <- ifelse(aks$空き巣==\"あり\", 1, 0)\n",
    "aks$セキュリティ01 <- ifelse(aks$セキュリティ==\"加入\", 1, 0)\n",
    "aks$飼い犬01 <- ifelse(aks$飼い犬==\"あり\", 1, 0)\n",
    "\n",
    "head(aks)"
   ]
  },
  {
   "cell_type": "markdown",
   "metadata": {},
   "source": [
    "### 11.2 係数・切片の推定と解釈"
   ]
  },
  {
   "cell_type": "markdown",
   "metadata": {},
   "source": [
    "#### 11.2.1 係数・切片の出力と解釈\n",
    "ロジスティック回帰には関数glmを用いる."
   ]
  },
  {
   "cell_type": "code",
   "execution_count": 2,
   "metadata": {
    "collapsed": true
   },
   "outputs": [],
   "source": [
    "#ロジスティック回帰の実行\n",
    "aks.out <- glm(空き巣01~不在時間+会話+築年数+セキュリティ01+飼い犬01, family=\"binomial\", data=aks)"
   ]
  },
  {
   "cell_type": "code",
   "execution_count": 3,
   "metadata": {},
   "outputs": [
    {
     "data": {
      "text/plain": [
       "\n",
       "Call:\n",
       "glm(formula = 空き巣01 ~ 不在時間 + 会話 + 築年数 + セキュリティ01 + \n",
       "    飼い犬01, family = \"binomial\", data = aks)\n",
       "\n",
       "Deviance Residuals: \n",
       "   Min      1Q  Median      3Q     Max  \n",
       "-2.079  -1.002  -0.496   1.019   2.173  \n",
       "\n",
       "Coefficients:\n",
       "                Estimate Std. Error z value Pr(>|z|)    \n",
       "(Intercept)    -0.941239   0.278842  -3.376 0.000737 ***\n",
       "不在時間        0.393992   0.041904   9.402  < 2e-16 ***\n",
       "会話           -0.550249   0.130741  -4.209 2.57e-05 ***\n",
       "築年数          0.005839   0.010774   0.542 0.587818    \n",
       "セキュリティ01 -0.548210   0.157485  -3.481 0.000499 ***\n",
       "飼い犬01       -0.480529   0.214167  -2.244 0.024851 *  \n",
       "---\n",
       "Signif. codes:  0 '***' 0.001 '**' 0.01 '*' 0.05 '.' 0.1 ' ' 1\n",
       "\n",
       "(Dispersion parameter for binomial family taken to be 1)\n",
       "\n",
       "    Null deviance: 1107.91  on 799  degrees of freedom\n",
       "Residual deviance:  956.81  on 794  degrees of freedom\n",
       "AIC: 968.81\n",
       "\n",
       "Number of Fisher Scoring iterations: 3\n"
      ]
     },
     "metadata": {},
     "output_type": "display_data"
    }
   ],
   "source": [
    "#ロジスティック回帰の結果の出力\n",
    "summary(aks.out)"
   ]
  },
  {
   "cell_type": "markdown",
   "metadata": {},
   "source": [
    "係数の推定値が正の場合は, 目的変数の値が1になる確率を上げる影響があることを示す.  \n",
    "z値は「各係数の母数が0である」という統計的仮設検定における検定統計量の値.  \n",
    "切片は「全ての説明変数の値が0であるときに, 目的変数の値が1になる確率」"
   ]
  },
  {
   "cell_type": "markdown",
   "metadata": {},
   "source": [
    "#### 11.2.2 係数・切片の指数変換値の算出と解釈"
   ]
  },
  {
   "cell_type": "markdown",
   "metadata": {},
   "source": [
    "係数や切片の指数変換を行うと解釈がしやすくなる."
   ]
  },
  {
   "cell_type": "code",
   "execution_count": 4,
   "metadata": {
    "scrolled": true
   },
   "outputs": [
    {
     "data": {
      "text/html": [
       "<dl class=dl-horizontal>\n",
       "\t<dt>(Intercept)</dt>\n",
       "\t\t<dd>0.390144053752652</dd>\n",
       "\t<dt>不在時間</dt>\n",
       "\t\t<dd>1.4828885353074</dd>\n",
       "\t<dt>会話</dt>\n",
       "\t\t<dd>0.576806210311348</dd>\n",
       "\t<dt>築年数</dt>\n",
       "\t\t<dd>1.00585642428038</dd>\n",
       "\t<dt>セキュリティ01</dt>\n",
       "\t\t<dd>0.577983405328959</dd>\n",
       "\t<dt>飼い犬01</dt>\n",
       "\t\t<dd>0.618456066409228</dd>\n",
       "</dl>\n"
      ],
      "text/latex": [
       "\\begin{description*}\n",
       "\\item[(Intercept)] 0.390144053752652\n",
       "\\item[不在時間] 1.4828885353074\n",
       "\\item[会話] 0.576806210311348\n",
       "\\item[築年数] 1.00585642428038\n",
       "\\item[セキュリティ01] 0.577983405328959\n",
       "\\item[飼い犬01] 0.618456066409228\n",
       "\\end{description*}\n"
      ],
      "text/markdown": [
       "(Intercept)\n",
       ":   0.390144053752652不在時間\n",
       ":   1.4828885353074会話\n",
       ":   0.576806210311348築年数\n",
       ":   1.00585642428038セキュリティ01\n",
       ":   0.577983405328959飼い犬01\n",
       ":   0.618456066409228\n",
       "\n"
      ],
      "text/plain": [
       "   (Intercept)       不在時間           会話         築年数 セキュリティ01 \n",
       "     0.3901441      1.4828885      0.5768062      1.0058564      0.5779834 \n",
       "      飼い犬01 \n",
       "     0.6184561 "
      ]
     },
     "metadata": {},
     "output_type": "display_data"
    }
   ],
   "source": [
    "#係数・切片の指数変換値の算出\n",
    "exp(aks.out$coefficients)"
   ]
  },
  {
   "cell_type": "markdown",
   "metadata": {},
   "source": [
    "##### 指数変換した切片と係数の解釈\n",
    "- 切片: 全説明変数の値が0のとき, 「目的変数が1となる」オッズ\n",
    "- 係数: 他の説明変数の値を固定したもとで当該説明変数が1増加したとき, 「目的変数が1となる」オッズは何倍になるか\n",
    "\n",
    "サンプルデータの場合, 切片の指数変換値は「全説明変数の値が0のとき, 空き巣被害が生じるオッズが0.39」. 係数の指数変換値は「他の説明変数の値を固定したもとで, 不在時間が1増加したとき, 空き巣被害が生じるオッズは1.48倍になる」ことを意味する."
   ]
  },
  {
   "cell_type": "markdown",
   "metadata": {},
   "source": [
    "##### 確率的な試行の結果がAとなるオッズの求め方\n",
    "$$\n",
    "    \\frac{\\text{Aが生じる確率}}{\\text{A以外が生じる確率}}\n",
    "$$"
   ]
  },
  {
   "cell_type": "markdown",
   "metadata": {},
   "source": [
    "#### 11.2.3 係数・切片に関する信頼区間の算出"
   ]
  },
  {
   "cell_type": "code",
   "execution_count": 5,
   "metadata": {
    "scrolled": false
   },
   "outputs": [
    {
     "name": "stderr",
     "output_type": "stream",
     "text": [
      "Waiting for profiling to be done...\n"
     ]
    },
    {
     "data": {
      "text/html": [
       "<table>\n",
       "<thead><tr><th></th><th scope=col>2.5 %</th><th scope=col>97.5 %</th></tr></thead>\n",
       "<tbody>\n",
       "\t<tr><th scope=row>(Intercept)</th><td>-1.49300752</td><td>-0.39857705</td></tr>\n",
       "\t<tr><th scope=row>不在時間</th><td> 0.31356566</td><td> 0.47801144</td></tr>\n",
       "\t<tr><th scope=row>会話</th><td>-0.80963933</td><td>-0.29647263</td></tr>\n",
       "\t<tr><th scope=row>築年数</th><td>-0.01526572</td><td> 0.02700569</td></tr>\n",
       "\t<tr><th scope=row>セキュリティ01</th><td>-0.85880279</td><td>-0.24101294</td></tr>\n",
       "\t<tr><th scope=row>飼い犬01</th><td>-0.90438019</td><td>-0.06341113</td></tr>\n",
       "</tbody>\n",
       "</table>\n"
      ],
      "text/latex": [
       "\\begin{tabular}{r|ll}\n",
       "  & 2.5 \\% & 97.5 \\%\\\\\n",
       "\\hline\n",
       "\t(Intercept) & -1.49300752 & -0.39857705\\\\\n",
       "\t不在時間 &  0.31356566 &  0.47801144\\\\\n",
       "\t会話 & -0.80963933 & -0.29647263\\\\\n",
       "\t築年数 & -0.01526572 &  0.02700569\\\\\n",
       "\tセキュリティ01 & -0.85880279 & -0.24101294\\\\\n",
       "\t飼い犬01 & -0.90438019 & -0.06341113\\\\\n",
       "\\end{tabular}\n"
      ],
      "text/markdown": [
       "\n",
       "| <!--/--> | 2.5 % | 97.5 % | \n",
       "|---|---|---|---|---|---|\n",
       "| (Intercept) | -1.49300752 | -0.39857705 | \n",
       "| 不在時間 |  0.31356566 |  0.47801144 | \n",
       "| 会話 | -0.80963933 | -0.29647263 | \n",
       "| 築年数 | -0.01526572 |  0.02700569 | \n",
       "| セキュリティ01 | -0.85880279 | -0.24101294 | \n",
       "| 飼い犬01 | -0.90438019 | -0.06341113 | \n",
       "\n",
       "\n"
      ],
      "text/plain": [
       "               2.5 %       97.5 %     \n",
       "(Intercept)    -1.49300752 -0.39857705\n",
       "不在時間        0.31356566  0.47801144\n",
       "会話           -0.80963933 -0.29647263\n",
       "築年数         -0.01526572  0.02700569\n",
       "セキュリティ01 -0.85880279 -0.24101294\n",
       "飼い犬01       -0.90438019 -0.06341113"
      ]
     },
     "metadata": {},
     "output_type": "display_data"
    },
    {
     "name": "stderr",
     "output_type": "stream",
     "text": [
      "Waiting for profiling to be done...\n"
     ]
    },
    {
     "data": {
      "text/html": [
       "<table>\n",
       "<thead><tr><th></th><th scope=col>2.5 %</th><th scope=col>97.5 %</th></tr></thead>\n",
       "<tbody>\n",
       "\t<tr><th scope=row>(Intercept)</th><td>0.2246959</td><td>0.6712746</td></tr>\n",
       "\t<tr><th scope=row>不在時間</th><td>1.3682953</td><td>1.6128639</td></tr>\n",
       "\t<tr><th scope=row>会話</th><td>0.4450185</td><td>0.7434360</td></tr>\n",
       "\t<tr><th scope=row>築年数</th><td>0.9848502</td><td>1.0273736</td></tr>\n",
       "\t<tr><th scope=row>セキュリティ01</th><td>0.4236690</td><td>0.7858315</td></tr>\n",
       "\t<tr><th scope=row>飼い犬01</th><td>0.4047927</td><td>0.9385575</td></tr>\n",
       "</tbody>\n",
       "</table>\n"
      ],
      "text/latex": [
       "\\begin{tabular}{r|ll}\n",
       "  & 2.5 \\% & 97.5 \\%\\\\\n",
       "\\hline\n",
       "\t(Intercept) & 0.2246959 & 0.6712746\\\\\n",
       "\t不在時間 & 1.3682953 & 1.6128639\\\\\n",
       "\t会話 & 0.4450185 & 0.7434360\\\\\n",
       "\t築年数 & 0.9848502 & 1.0273736\\\\\n",
       "\tセキュリティ01 & 0.4236690 & 0.7858315\\\\\n",
       "\t飼い犬01 & 0.4047927 & 0.9385575\\\\\n",
       "\\end{tabular}\n"
      ],
      "text/markdown": [
       "\n",
       "| <!--/--> | 2.5 % | 97.5 % | \n",
       "|---|---|---|---|---|---|\n",
       "| (Intercept) | 0.2246959 | 0.6712746 | \n",
       "| 不在時間 | 1.3682953 | 1.6128639 | \n",
       "| 会話 | 0.4450185 | 0.7434360 | \n",
       "| 築年数 | 0.9848502 | 1.0273736 | \n",
       "| セキュリティ01 | 0.4236690 | 0.7858315 | \n",
       "| 飼い犬01 | 0.4047927 | 0.9385575 | \n",
       "\n",
       "\n"
      ],
      "text/plain": [
       "               2.5 %     97.5 %   \n",
       "(Intercept)    0.2246959 0.6712746\n",
       "不在時間       1.3682953 1.6128639\n",
       "会話           0.4450185 0.7434360\n",
       "築年数         0.9848502 1.0273736\n",
       "セキュリティ01 0.4236690 0.7858315\n",
       "飼い犬01       0.4047927 0.9385575"
      ]
     },
     "metadata": {},
     "output_type": "display_data"
    }
   ],
   "source": [
    "#係数・切片に関する信頼区間の算出\n",
    "confint(aks.out, level=0.95)\n",
    "\n",
    "#指数変換した信頼区間の算出\n",
    "exp(confint(aks.out, level=0.95))"
   ]
  },
  {
   "cell_type": "markdown",
   "metadata": {},
   "source": [
    "#### 11.2.4 標準化係数の算出と解釈"
   ]
  },
  {
   "cell_type": "markdown",
   "metadata": {},
   "source": [
    "目的変数に対する影響の強さを説明変数間で比較したい場合, 単位が不揃いだと解釈が難しくなる. 影響の強さを比較するには全ての量的な説明変数をそれぞれ標準化(z得点化)した結果を利用する(1.4.3 'scale'参照)."
   ]
  },
  {
   "cell_type": "code",
   "execution_count": 6,
   "metadata": {
    "collapsed": true
   },
   "outputs": [],
   "source": [
    "#自作関数の実行\n",
    "#LRAstdcoef(aks.out, c(\"不在時間\", \"会話\", \"築年数\"))"
   ]
  },
  {
   "cell_type": "markdown",
   "metadata": {},
   "source": [
    "### 11.3 モデルの良さの評価"
   ]
  },
  {
   "cell_type": "markdown",
   "metadata": {},
   "source": [
    "ロジスティック回帰におけるモデル評価は, 主に当てはまりの良さを評価する Hosmer-Lemeshow の適合度検定, 予測の良さの評価としてAIC, BICなどがある."
   ]
  },
  {
   "cell_type": "code",
   "execution_count": 7,
   "metadata": {},
   "outputs": [
    {
     "name": "stderr",
     "output_type": "stream",
     "text": [
      "ResourceSelection 0.3-2 \t 2017-02-28\n"
     ]
    },
    {
     "data": {
      "text/plain": [
       "\n",
       "\tHosmer and Lemeshow goodness of fit (GOF) test\n",
       "\n",
       "data:  aks.out$y, fitted(aks.out)\n",
       "X-squared = 12.121, df = 8, p-value = 0.1459\n"
      ]
     },
     "metadata": {},
     "output_type": "display_data"
    }
   ],
   "source": [
    "#Hosmer-Lemeshowの適合度検定\n",
    "\n",
    "#hoslem.testを利用するためのResourceSelectionライブラリの呼び出し\n",
    "library(ResourceSelection)\n",
    "hoslem.test(x=aks.out$y, y=fitted(aks.out))"
   ]
  },
  {
   "cell_type": "markdown",
   "metadata": {},
   "source": [
    "- Hosmer-Lemshow の適合度検定における帰無仮説は「モデルが適合している」で, 棄却されなければモデルが当てはまっていると解釈\n",
    "- 引数xに「目的変数の観測値の変数」, 引数yに「目的変数の予測値の変数」を指定"
   ]
  },
  {
   "cell_type": "markdown",
   "metadata": {},
   "source": [
    "#### 11.3.2 予測の良さの評価指標の出力と解釈"
   ]
  },
  {
   "cell_type": "code",
   "execution_count": 8,
   "metadata": {
    "scrolled": true
   },
   "outputs": [
    {
     "data": {
      "text/html": [
       "<ol class=list-inline>\n",
       "\t<li>6</li>\n",
       "\t<li>968.811065624499</li>\n",
       "</ol>\n"
      ],
      "text/latex": [
       "\\begin{enumerate*}\n",
       "\\item 6\n",
       "\\item 968.811065624499\n",
       "\\end{enumerate*}\n"
      ],
      "text/markdown": [
       "1. 6\n",
       "2. 968.811065624499\n",
       "\n",
       "\n"
      ],
      "text/plain": [
       "[1]   6.0000 968.8111"
      ]
     },
     "metadata": {},
     "output_type": "display_data"
    },
    {
     "data": {
      "text/html": [
       "<ol class=list-inline>\n",
       "\t<li>6</li>\n",
       "\t<li>996.918735990507</li>\n",
       "</ol>\n"
      ],
      "text/latex": [
       "\\begin{enumerate*}\n",
       "\\item 6\n",
       "\\item 996.918735990507\n",
       "\\end{enumerate*}\n"
      ],
      "text/markdown": [
       "1. 6\n",
       "2. 996.918735990507\n",
       "\n",
       "\n"
      ],
      "text/plain": [
       "[1]   6.0000 996.9187"
      ]
     },
     "metadata": {},
     "output_type": "display_data"
    }
   ],
   "source": [
    "#AICとBICの算出(3.7参照)\n",
    "extractAIC(aks.out)  #AIC\n",
    "extractAIC(aks.out, k=log(nrow(aks.out$data)))   #BIC"
   ]
  },
  {
   "cell_type": "markdown",
   "metadata": {},
   "source": [
    "### 11.4 その他の有益な指標"
   ]
  },
  {
   "cell_type": "markdown",
   "metadata": {},
   "source": [
    "#### 11.4.1 説明変数群の有効性の確認"
   ]
  },
  {
   "cell_type": "code",
   "execution_count": 9,
   "metadata": {},
   "outputs": [
    {
     "data": {
      "text/html": [
       "<table>\n",
       "<thead><tr><th scope=col>Resid. Df</th><th scope=col>Resid. Dev</th><th scope=col>Df</th><th scope=col>Deviance</th><th scope=col>Pr(&gt;Chi)</th></tr></thead>\n",
       "<tbody>\n",
       "\t<tr><td>799         </td><td>1107.9102   </td><td>NA          </td><td>      NA    </td><td>          NA</td></tr>\n",
       "\t<tr><td>794         </td><td> 956.8111   </td><td> 5          </td><td>151.0992    </td><td>7.790047e-31</td></tr>\n",
       "</tbody>\n",
       "</table>\n"
      ],
      "text/latex": [
       "\\begin{tabular}{r|lllll}\n",
       " Resid. Df & Resid. Dev & Df & Deviance & Pr(>Chi)\\\\\n",
       "\\hline\n",
       "\t 799          & 1107.9102    & NA           &       NA     &           NA\\\\\n",
       "\t 794          &  956.8111    &  5           & 151.0992     & 7.790047e-31\\\\\n",
       "\\end{tabular}\n"
      ],
      "text/markdown": [
       "\n",
       "Resid. Df | Resid. Dev | Df | Deviance | Pr(>Chi) | \n",
       "|---|---|\n",
       "| 799          | 1107.9102    | NA           |       NA     |           NA | \n",
       "| 794          |  956.8111    |  5           | 151.0992     | 7.790047e-31 | \n",
       "\n",
       "\n"
      ],
      "text/plain": [
       "  Resid. Df Resid. Dev Df Deviance Pr(>Chi)    \n",
       "1 799       1107.9102  NA       NA           NA\n",
       "2 794        956.8111   5 151.0992 7.790047e-31"
      ]
     },
     "metadata": {},
     "output_type": "display_data"
    }
   ],
   "source": [
    "#説明変数群の有効性の確認\n",
    "aks.out_null <- glm(空き巣01~1, family=\"binomial\", data=aks)\n",
    "anova(aks.out_null, aks.out, test=\"Chisq\")"
   ]
  },
  {
   "cell_type": "code",
   "execution_count": 10,
   "metadata": {},
   "outputs": [
    {
     "name": "stdout",
     "output_type": "stream",
     "text": [
      "Start:  AIC=1109.91\n",
      "空き巣01 ~ 1\n",
      "\n",
      "                 Df Deviance     AIC\n",
      "+ 不在時間        1   992.86  996.86\n",
      "+ 会話            1  1073.07 1077.07\n",
      "+ セキュリティ01  1  1099.64 1103.64\n",
      "<none>               1107.91 1109.91\n",
      "+ 飼い犬01        1  1105.96 1109.96\n",
      "+ 築年数          1  1107.69 1111.69\n",
      "\n",
      "Step:  AIC=996.86\n",
      "空き巣01 ~ 不在時間\n",
      "\n",
      "                 Df Deviance     AIC\n",
      "+ 会話            1   974.08  980.08\n",
      "+ セキュリティ01  1   980.99  986.99\n",
      "+ 飼い犬01        1   987.91  993.91\n",
      "<none>                992.86  996.86\n",
      "+ 築年数          1   992.49  998.49\n",
      "- 不在時間        1  1107.91 1109.91\n",
      "\n",
      "Step:  AIC=980.08\n",
      "空き巣01 ~ 不在時間 + 会話\n",
      "\n",
      "                 Df Deviance     AIC\n",
      "+ セキュリティ01  1   962.22  970.22\n",
      "+ 飼い犬01        1   969.46  977.46\n",
      "<none>                974.08  980.08\n",
      "+ 築年数          1   973.72  981.72\n",
      "- 会話            1   992.86  996.86\n",
      "- 不在時間        1  1073.07 1077.07\n",
      "\n",
      "Step:  AIC=970.22\n",
      "空き巣01 ~ 不在時間 + 会話 + セキュリティ01\n",
      "\n",
      "                 Df Deviance     AIC\n",
      "+ 飼い犬01        1   957.11  967.11\n",
      "<none>                962.22  970.22\n",
      "+ 築年数          1   961.92  971.92\n",
      "- セキュリティ01  1   974.08  980.08\n",
      "- 会話            1   980.99  986.99\n",
      "- 不在時間        1  1064.59 1070.59\n",
      "\n",
      "Step:  AIC=967.11\n",
      "空き巣01 ~ 不在時間 + 会話 + セキュリティ01 + 飼い犬01\n",
      "\n",
      "                 Df Deviance     AIC\n",
      "<none>                957.11  967.11\n",
      "+ 築年数          1   956.81  968.81\n",
      "- 飼い犬01        1   962.22  970.22\n",
      "- セキュリティ01  1   969.46  977.46\n",
      "- 会話            1   975.47  983.47\n",
      "- 不在時間        1  1062.46 1070.46\n"
     ]
    },
    {
     "data": {
      "text/plain": [
       "\n",
       "Call:  glm(formula = 空き巣01 ~ 不在時間 + 会話 + セキュリティ01 + 飼い犬01, \n",
       "    family = \"binomial\", data = aks)\n",
       "\n",
       "Coefficients:\n",
       "   (Intercept)        不在時間            会話  セキュリティ01        飼い犬01  \n",
       "       -0.8658          0.3934         -0.5499         -0.5492         -0.4810  \n",
       "\n",
       "Degrees of Freedom: 799 Total (i.e. Null);  795 Residual\n",
       "Null Deviance:\t    1108 \n",
       "Residual Deviance: 957.1 \tAIC: 967.1"
      ]
     },
     "metadata": {},
     "output_type": "display_data"
    }
   ],
   "source": [
    "#変数選択の実行\n",
    "step(aks.out_null, direction=\"both\", scope=(~不在時間+会話+築年数+セキュリティ01+飼い犬01))"
   ]
  },
  {
   "cell_type": "markdown",
   "metadata": {},
   "source": [
    "#### 11.4.3 多重共線性の確認"
   ]
  },
  {
   "cell_type": "code",
   "execution_count": 11,
   "metadata": {},
   "outputs": [
    {
     "name": "stderr",
     "output_type": "stream",
     "text": [
      "Loading required package: carData\n"
     ]
    },
    {
     "data": {
      "text/html": [
       "<dl class=dl-horizontal>\n",
       "\t<dt>不在時間</dt>\n",
       "\t\t<dd>1.03267629376879</dd>\n",
       "\t<dt>会話</dt>\n",
       "\t\t<dd>1.00509400306721</dd>\n",
       "\t<dt>築年数</dt>\n",
       "\t\t<dd>1.00145672898792</dd>\n",
       "\t<dt>セキュリティ01</dt>\n",
       "\t\t<dd>1.01813752028794</dd>\n",
       "\t<dt>飼い犬01</dt>\n",
       "\t\t<dd>1.01335572237314</dd>\n",
       "</dl>\n"
      ],
      "text/latex": [
       "\\begin{description*}\n",
       "\\item[不在時間] 1.03267629376879\n",
       "\\item[会話] 1.00509400306721\n",
       "\\item[築年数] 1.00145672898792\n",
       "\\item[セキュリティ01] 1.01813752028794\n",
       "\\item[飼い犬01] 1.01335572237314\n",
       "\\end{description*}\n"
      ],
      "text/markdown": [
       "不在時間\n",
       ":   1.03267629376879会話\n",
       ":   1.00509400306721築年数\n",
       ":   1.00145672898792セキュリティ01\n",
       ":   1.01813752028794飼い犬01\n",
       ":   1.01335572237314\n",
       "\n"
      ],
      "text/plain": [
       "      不在時間           会話         築年数 セキュリティ01       飼い犬01 \n",
       "      1.032676       1.005094       1.001457       1.018138       1.013356 "
      ]
     },
     "metadata": {},
     "output_type": "display_data"
    }
   ],
   "source": [
    "#多重共線性の確認\n",
    "library(car)\n",
    "vif(aks.out)"
   ]
  },
  {
   "cell_type": "code",
   "execution_count": null,
   "metadata": {
    "collapsed": true
   },
   "outputs": [],
   "source": []
  }
 ],
 "metadata": {
  "kernelspec": {
   "display_name": "R",
   "language": "R",
   "name": "ir"
  },
  "language_info": {
   "codemirror_mode": "r",
   "file_extension": ".r",
   "mimetype": "text/x-r-source",
   "name": "R",
   "pygments_lexer": "r",
   "version": "3.5.1"
  },
  "latex_envs": {
   "LaTeX_envs_menu_present": true,
   "autoclose": false,
   "autocomplete": true,
   "bibliofile": "biblio.bib",
   "cite_by": "apalike",
   "current_citInitial": 1,
   "eqLabelWithNumbers": true,
   "eqNumInitial": 1,
   "hotkeys": {
    "equation": "Ctrl-E",
    "itemize": "Ctrl-I"
   },
   "labels_anchors": false,
   "latex_user_defs": false,
   "report_style_numbering": false,
   "user_envs_cfg": false
  }
 },
 "nbformat": 4,
 "nbformat_minor": 2
}
