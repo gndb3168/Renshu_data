{
 "cells": [
  {
   "cell_type": "markdown",
   "metadata": {},
   "source": [
    "## 重回帰分析\n",
    "\n",
    "- データと手法の概要\n",
    "- モデル作成と母数の推定・診断\n",
    "    - 多重共線性のチェック\n",
    "- モデルの評価と解釈\n",
    "    - 決定係数によるモデル全体の評価\n",
    "    - 切片と偏回帰係数の解釈\n",
    "    - 偏回帰係数の信頼区間\n",
    "    - 単位の異なる説明変数が混在する場合の標準偏回帰係数の算出\n",
    "- 報告例\n",
    "- 質的変数を含む重回帰分析\n",
    "- AICとBICによるモデルの評価\n",
    "- 重回帰分析と母数推定論\n",
    "    - 最小二乗法による母数推定の概要\n",
    "        - 自由度調整済み決定係数とAICの意義\n",
    "    - 最尤法による母数推定の概要\n",
    "- 偏回帰係数の解釈\n",
    "- 決定係数とその検定\n",
    "- 切片と偏回帰係数の検定\n",
    "- 切片と偏回帰係数の信頼区間\n",
    "- VIFの理論"
   ]
  },
  {
   "cell_type": "code",
   "execution_count": 1,
   "metadata": {},
   "outputs": [
    {
     "data": {
      "text/html": [
       "<style> table { float:left; } </style>"
      ]
     },
     "metadata": {},
     "output_type": "display_data"
    }
   ],
   "source": [
    "#markdownの表を左寄せするためにIDdisplayパッケージでhtml,cssを適用できるようにする\n",
    "library(IRdisplay)\n",
    "IRdisplay::display_html('<style> table { float:left; } </style>')"
   ]
  },
  {
   "cell_type": "markdown",
   "metadata": {
    "collapsed": true
   },
   "source": [
    "### データと手法の概要\n",
    "\n",
    "#### 用いる仮想データ:顧客満足度データ\n",
    "データ概要:都内を中心に30店舗を展開しているフィットネスジムチェーンの顧客満足度のアンケート結果のデータ\n",
    "\n",
    "変数名|変数の内容\n",
    ":---:|:---:\n",
    "店舗番号|各店舗にランダムに付与されたID\n",
    "顧客数|各店舗の顧客数\n",
    "立地満足度|立地に関する顧客満足度の平均\n",
    "設備満足度|設備に関する顧客満足度の平均\n",
    "店舗面積満足度|店舗面積に関する顧客満足度の平均\n",
    "トレーナー満足度|トレーナーに関する満足度の平均\n",
    "トレーナー数|各店舗のトレーナー数\n",
    "接客件数|1=研修あり、0=なし\n",
    "入会特典|1=特典あり、0=なし"
   ]
  },
  {
   "cell_type": "markdown",
   "metadata": {
    "collapsed": true
   },
   "source": [
    "### 回帰分析の具体的な手順\n",
    "- 回帰モデルの作成\n",
    "- モデルにおける母数の推定\n",
    "- モデルの診断と評価\n",
    "- 偏回帰係数の解釈"
   ]
  },
  {
   "cell_type": "markdown",
   "metadata": {},
   "source": [
    "### モデル作成と母数の推定・診断"
   ]
  },
  {
   "cell_type": "code",
   "execution_count": 2,
   "metadata": {},
   "outputs": [
    {
     "data": {
      "text/html": [
       "<table>\n",
       "<thead><tr><th scope=col>店舗番号</th><th scope=col>顧客数</th><th scope=col>立地満足度</th><th scope=col>設備満足度</th><th scope=col>店舗面積満足度</th><th scope=col>トレーナー満足度</th><th scope=col>トレーナー数</th><th scope=col>接客研修</th><th scope=col>入会特典</th></tr></thead>\n",
       "<tbody>\n",
       "\t<tr><td>1  </td><td>595</td><td>4.2</td><td>5.4</td><td>5.9</td><td>6.8</td><td>12 </td><td>0  </td><td>1  </td></tr>\n",
       "\t<tr><td>2  </td><td>483</td><td>4.7</td><td>4.1</td><td>3.6</td><td>6.1</td><td>11 </td><td>0  </td><td>0  </td></tr>\n",
       "\t<tr><td>3  </td><td>601</td><td>7.5</td><td>6.3</td><td>5.5</td><td>5.6</td><td>11 </td><td>1  </td><td>0  </td></tr>\n",
       "</tbody>\n",
       "</table>\n"
      ],
      "text/latex": [
       "\\begin{tabular}{r|lllllllll}\n",
       " 店舗番号 & 顧客数 & 立地満足度 & 設備満足度 & 店舗面積満足度 & トレーナー満足度 & トレーナー数 & 接客研修 & 入会特典\\\\\n",
       "\\hline\n",
       "\t 1   & 595 & 4.2 & 5.4 & 5.9 & 6.8 & 12  & 0   & 1  \\\\\n",
       "\t 2   & 483 & 4.7 & 4.1 & 3.6 & 6.1 & 11  & 0   & 0  \\\\\n",
       "\t 3   & 601 & 7.5 & 6.3 & 5.5 & 5.6 & 11  & 1   & 0  \\\\\n",
       "\\end{tabular}\n"
      ],
      "text/markdown": [
       "\n",
       "店舗番号 | 顧客数 | 立地満足度 | 設備満足度 | 店舗面積満足度 | トレーナー満足度 | トレーナー数 | 接客研修 | 入会特典 | \n",
       "|---|---|---|\n",
       "| 1   | 595 | 4.2 | 5.4 | 5.9 | 6.8 | 12  | 0   | 1   | \n",
       "| 2   | 483 | 4.7 | 4.1 | 3.6 | 6.1 | 11  | 0   | 0   | \n",
       "| 3   | 601 | 7.5 | 6.3 | 5.5 | 5.6 | 11  | 1   | 0   | \n",
       "\n",
       "\n"
      ],
      "text/plain": [
       "  店舗番号 顧客数 立地満足度 設備満足度 店舗面積満足度 トレーナー満足度\n",
       "1 1        595    4.2        5.4        5.9            6.8             \n",
       "2 2        483    4.7        4.1        3.6            6.1             \n",
       "3 3        601    7.5        6.3        5.5            5.6             \n",
       "  トレーナー数 接客研修 入会特典\n",
       "1 12           0        1       \n",
       "2 11           0        0       \n",
       "3 11           1        0       "
      ]
     },
     "metadata": {},
     "output_type": "display_data"
    }
   ],
   "source": [
    "#データの読み込み\n",
    "csdat <- read.csv(\"https://raw.githubusercontent.com/gndb3168/Renshu_data/master/R_MA/Sec_03/CS.csv\")\n",
    "head(csdat, 3)"
   ]
  },
  {
   "cell_type": "code",
   "execution_count": 3,
   "metadata": {},
   "outputs": [
    {
     "data": {
      "text/plain": [
       "\n",
       "Call:\n",
       "lm(formula = 顧客数 ~ 立地満足度 + 設備満足度 + 店舗面積満足度 + \n",
       "    トレーナー満足度, data = csdat)\n",
       "\n",
       "Residuals:\n",
       "    Min      1Q  Median      3Q     Max \n",
       "-63.636 -36.548  -0.314  21.419 101.890 \n",
       "\n",
       "Coefficients:\n",
       "                 Estimate Std. Error t value Pr(>|t|)    \n",
       "(Intercept)       -35.204     50.659  -0.695  0.49351    \n",
       "立地満足度         29.105      5.684   5.120 2.73e-05 ***\n",
       "設備満足度         21.640      7.036   3.076  0.00503 ** \n",
       "店舗面積満足度     23.803      6.971   3.414  0.00219 ** \n",
       "トレーナー満足度   32.421      5.608   5.781 5.01e-06 ***\n",
       "---\n",
       "Signif. codes:  0 '***' 0.001 '**' 0.01 '*' 0.05 '.' 0.1 ' ' 1\n",
       "\n",
       "Residual standard error: 45.11 on 25 degrees of freedom\n",
       "Multiple R-squared:  0.8248,\tAdjusted R-squared:  0.7968 \n",
       "F-statistic: 29.43 on 4 and 25 DF,  p-value: 3.957e-09\n"
      ]
     },
     "metadata": {},
     "output_type": "display_data"
    }
   ],
   "source": [
    "#重回帰分析の実行\n",
    "\n",
    "#顧客数を目的変数、立地満足度、設備満足度、店舗面積満足度が説明変数\n",
    "res1 <- lm(顧客数~立地満足度+設備満足度+店舗面積満足度+トレーナー満足度, data=csdat)\n",
    "\n",
    "#結果の出力\n",
    "summary(res1)"
   ]
  },
  {
   "cell_type": "markdown",
   "metadata": {},
   "source": [
    "### 推定結果の診断(多重共線性のチェック)\n",
    "#### 「多重共線性」とは?\n",
    "\n",
    "- 説明変数間の相関係数の絶対値が大きいと偏回帰係数の標準誤差を正しく推定できない"
   ]
  },
  {
   "cell_type": "code",
   "execution_count": 4,
   "metadata": {},
   "outputs": [
    {
     "data": {
      "text/html": [
       "0.984321244346195"
      ],
      "text/latex": [
       "0.984321244346195"
      ],
      "text/markdown": [
       "0.984321244346195"
      ],
      "text/plain": [
       "[1] 0.9843212"
      ]
     },
     "metadata": {},
     "output_type": "display_data"
    }
   ],
   "source": [
    "#説明変数間の相関係数\n",
    "cor(csdat$トレーナー満足度, csdat$トレーナー数)"
   ]
  },
  {
   "cell_type": "code",
   "execution_count": 5,
   "metadata": {},
   "outputs": [
    {
     "data": {
      "text/plain": [
       "\n",
       "Call:\n",
       "lm(formula = 顧客数 ~ トレーナー満足度, data = csdat)\n",
       "\n",
       "Residuals:\n",
       "     Min       1Q   Median       3Q      Max \n",
       "-155.049  -50.396    0.174   41.746  202.362 \n",
       "\n",
       "Coefficients:\n",
       "                 Estimate Std. Error t value Pr(>|t|)    \n",
       "(Intercept)        314.04      54.69   5.743 3.67e-06 ***\n",
       "トレーナー満足度    37.09      10.46   3.544  0.00141 ** \n",
       "---\n",
       "Signif. codes:  0 '***' 0.001 '**' 0.01 '*' 0.05 '.' 0.1 ' ' 1\n",
       "\n",
       "Residual standard error: 84.62 on 28 degrees of freedom\n",
       "Multiple R-squared:  0.3097,\tAdjusted R-squared:  0.285 \n",
       "F-statistic: 12.56 on 1 and 28 DF,  p-value: 0.001405\n"
      ]
     },
     "metadata": {},
     "output_type": "display_data"
    },
    {
     "data": {
      "text/plain": [
       "\n",
       "Call:\n",
       "lm(formula = 顧客数 ~ トレーナー満足度 + トレーナー数, data = csdat)\n",
       "\n",
       "Residuals:\n",
       "     Min       1Q   Median       3Q      Max \n",
       "-157.495  -46.837   -0.332   37.689  208.062 \n",
       "\n",
       "Coefficients:\n",
       "                 Estimate Std. Error t value Pr(>|t|)\n",
       "(Intercept)        373.19     260.79   1.431    0.164\n",
       "トレーナー満足度    50.88      60.35   0.843    0.407\n",
       "トレーナー数       -12.83      55.26  -0.232    0.818\n",
       "\n",
       "Residual standard error: 86.08 on 27 degrees of freedom\n",
       "Multiple R-squared:  0.3111,\tAdjusted R-squared:   0.26 \n",
       "F-statistic: 6.095 on 2 and 27 DF,  p-value: 0.006538\n"
      ]
     },
     "metadata": {},
     "output_type": "display_data"
    }
   ],
   "source": [
    "#説明変数間の相関が高い場合の重回帰分析の出力\n",
    "\n",
    "#単回帰分析\n",
    "resm1 <- lm(顧客数~トレーナー満足度, data=csdat)\n",
    "summary(resm1)\n",
    "\n",
    "#重回帰分析\n",
    "resm2 <- lm(顧客数~トレーナー満足度+トレーナー数, data=csdat)\n",
    "summary(resm2)"
   ]
  },
  {
   "cell_type": "markdown",
   "metadata": {},
   "source": [
    "トレーナー満足度のみの回帰では標準誤差が10.46であるが、トレーナー数を加えた重回帰では60.35と約6倍になり、推定精度が悪くなっている。"
   ]
  },
  {
   "cell_type": "markdown",
   "metadata": {},
   "source": [
    "#### 多重共線性の検出\n",
    "- 説明変数の相関行列を考察する\n",
    "- VIF(variance inflation factor; 分散拡大要因)という指標で客観的に診断する\n",
    "    - <span style=\"color:red;\">VIFが10を超えていたら多重比較が生じている可能性</span>"
   ]
  },
  {
   "cell_type": "code",
   "execution_count": 6,
   "metadata": {},
   "outputs": [
    {
     "name": "stderr",
     "output_type": "stream",
     "text": [
      "Loading required package: carData\n"
     ]
    }
   ],
   "source": [
    "#VIFを算出するための前準備(carパッケージ)\n",
    "library(car)    "
   ]
  },
  {
   "cell_type": "code",
   "execution_count": 7,
   "metadata": {
    "scrolled": true
   },
   "outputs": [
    {
     "data": {
      "text/html": [
       "<dl class=dl-horizontal>\n",
       "\t<dt>トレーナー満足度</dt>\n",
       "\t\t<dd>32.1422612071025</dd>\n",
       "\t<dt>トレーナー数</dt>\n",
       "\t\t<dd>32.1422612071025</dd>\n",
       "</dl>\n"
      ],
      "text/latex": [
       "\\begin{description*}\n",
       "\\item[トレーナー満足度] 32.1422612071025\n",
       "\\item[トレーナー数] 32.1422612071025\n",
       "\\end{description*}\n"
      ],
      "text/markdown": [
       "トレーナー満足度\n",
       ":   32.1422612071025トレーナー数\n",
       ":   32.1422612071025\n",
       "\n"
      ],
      "text/plain": [
       "トレーナー満足度     トレーナー数 \n",
       "        32.14226         32.14226 "
      ]
     },
     "metadata": {},
     "output_type": "display_data"
    }
   ],
   "source": [
    "#VIFの算出(carパッケージ)\n",
    "vif(resm2)    #回帰分析の結果を引数にする"
   ]
  },
  {
   "cell_type": "markdown",
   "metadata": {},
   "source": [
    "VIFが10を超えているので多重共線性を生じている可能性が高い。  \n",
    "どちらか一方の説明変数を削除してモデルを再構築すると良い。"
   ]
  },
  {
   "cell_type": "code",
   "execution_count": 8,
   "metadata": {},
   "outputs": [
    {
     "data": {
      "text/html": [
       "<dl class=dl-horizontal>\n",
       "\t<dt>立地満足度</dt>\n",
       "\t\t<dd>1.04210633053084</dd>\n",
       "\t<dt>設備満足度</dt>\n",
       "\t\t<dd>1.58993765590131</dd>\n",
       "\t<dt>店舗面積満足度</dt>\n",
       "\t\t<dd>1.54875168952613</dd>\n",
       "\t<dt>トレーナー満足度</dt>\n",
       "\t\t<dd>1.01045527357325</dd>\n",
       "</dl>\n"
      ],
      "text/latex": [
       "\\begin{description*}\n",
       "\\item[立地満足度] 1.04210633053084\n",
       "\\item[設備満足度] 1.58993765590131\n",
       "\\item[店舗面積満足度] 1.54875168952613\n",
       "\\item[トレーナー満足度] 1.01045527357325\n",
       "\\end{description*}\n"
      ],
      "text/markdown": [
       "立地満足度\n",
       ":   1.04210633053084設備満足度\n",
       ":   1.58993765590131店舗面積満足度\n",
       ":   1.54875168952613トレーナー満足度\n",
       ":   1.01045527357325\n",
       "\n"
      ],
      "text/plain": [
       "      立地満足度       設備満足度   店舗面積満足度 トレーナー満足度 \n",
       "        1.042106         1.589938         1.548752         1.010455 "
      ]
     },
     "metadata": {},
     "output_type": "display_data"
    }
   ],
   "source": [
    "#顧客満足度の4説明変数に関するVIFの算出\n",
    "vif(res1)"
   ]
  },
  {
   "cell_type": "markdown",
   "metadata": {},
   "source": [
    "どの説明変数もVIFが10を大きく下回っているので、多重共線性の影響は小さいと考えられる。"
   ]
  },
  {
   "cell_type": "markdown",
   "metadata": {},
   "source": [
    "### モデルの評価と解釈\n",
    "- 決定係数によるモデル全体の評価\n",
    "- 切片と偏回帰係数の解釈\n",
    "- 偏回帰係数の信頼区間\n",
    "- 単位の異なる説明変数が混在する場合(標準偏回帰係数の算出)"
   ]
  },
  {
   "cell_type": "markdown",
   "metadata": {},
   "source": [
    "### 決定係数によるモデル全体の評価"
   ]
  },
  {
   "cell_type": "markdown",
   "metadata": {},
   "source": [
    "#### 決定係数とは?\n",
    "- 目的変数の分散のうち、説明変数で説明できた割合(分散説明率)\n",
    "- $R^2$で表現され、割合なので1に近いほど説明変数で目的変数を良く説明できているといえる\n",
    "- 偏回帰係数の解釈の前に確認すべき指標"
   ]
  },
  {
   "cell_type": "markdown",
   "metadata": {},
   "source": [
    "#### 自由度調整済み決定係数とは?\n",
    "- 決定係数は説明変数の数を増やすだけで値が向上する性質\n",
    "- 説明変数が多くなるほど決定係数を下方修正する指標\n",
    "- 決定係数に対して自由度調整済み決定係数が極端に小さい場合、目的変数に寄与しない説明変数を投入しすぎている可能性\n",
    "```R\n",
    "F-statistic: 29.43 on 4 and 25 DF, p-value:3.957-09\n",
    "```\n",
    "は、母集団において「偏回帰係数$\\beta$がすべて0」という帰無仮説に対するF検定の結果  \n",
    "帰無仮説が採択されると決定係数が0になるので、決定係数の有意性検定ともいわれる"
   ]
  },
  {
   "cell_type": "markdown",
   "metadata": {},
   "source": [
    "### 切片と偏回帰係数の解釈"
   ]
  },
  {
   "cell_type": "code",
   "execution_count": 9,
   "metadata": {},
   "outputs": [
    {
     "data": {
      "text/html": [
       "<table>\n",
       "<thead><tr><th></th><th scope=col>Estimate</th><th scope=col>Std. Error</th><th scope=col>t value</th><th scope=col>Pr(&gt;|t|)</th></tr></thead>\n",
       "<tbody>\n",
       "\t<tr><th scope=row>(Intercept)</th><td>-35.20449   </td><td>50.658748   </td><td>-0.694934   </td><td>4.935055e-01</td></tr>\n",
       "\t<tr><th scope=row>立地満足度</th><td> 29.10529   </td><td> 5.684336   </td><td> 5.120262   </td><td>2.731219e-05</td></tr>\n",
       "\t<tr><th scope=row>設備満足度</th><td> 21.63968   </td><td> 7.035670   </td><td> 3.075709   </td><td>5.030246e-03</td></tr>\n",
       "\t<tr><th scope=row>店舗面積満足度</th><td> 23.80296   </td><td> 6.971247   </td><td> 3.414448   </td><td>2.186653e-03</td></tr>\n",
       "\t<tr><th scope=row>トレーナー満足度</th><td> 32.42134   </td><td> 5.607780   </td><td> 5.781493   </td><td>5.014765e-06</td></tr>\n",
       "</tbody>\n",
       "</table>\n"
      ],
      "text/latex": [
       "\\begin{tabular}{r|llll}\n",
       "  & Estimate & Std. Error & t value & Pr(>\\textbar{}t\\textbar{})\\\\\n",
       "\\hline\n",
       "\t(Intercept) & -35.20449    & 50.658748    & -0.694934    & 4.935055e-01\\\\\n",
       "\t立地満足度 &  29.10529    &  5.684336    &  5.120262    & 2.731219e-05\\\\\n",
       "\t設備満足度 &  21.63968    &  7.035670    &  3.075709    & 5.030246e-03\\\\\n",
       "\t店舗面積満足度 &  23.80296    &  6.971247    &  3.414448    & 2.186653e-03\\\\\n",
       "\tトレーナー満足度 &  32.42134    &  5.607780    &  5.781493    & 5.014765e-06\\\\\n",
       "\\end{tabular}\n"
      ],
      "text/markdown": [
       "\n",
       "| <!--/--> | Estimate | Std. Error | t value | Pr(>|t|) | \n",
       "|---|---|---|---|---|\n",
       "| (Intercept) | -35.20449    | 50.658748    | -0.694934    | 4.935055e-01 | \n",
       "| 立地満足度 |  29.10529    |  5.684336    |  5.120262    | 2.731219e-05 | \n",
       "| 設備満足度 |  21.63968    |  7.035670    |  3.075709    | 5.030246e-03 | \n",
       "| 店舗面積満足度 |  23.80296    |  6.971247    |  3.414448    | 2.186653e-03 | \n",
       "| トレーナー満足度 |  32.42134    |  5.607780    |  5.781493    | 5.014765e-06 | \n",
       "\n",
       "\n"
      ],
      "text/plain": [
       "                 Estimate  Std. Error t value   Pr(>|t|)    \n",
       "(Intercept)      -35.20449 50.658748  -0.694934 4.935055e-01\n",
       "立地満足度        29.10529  5.684336   5.120262 2.731219e-05\n",
       "設備満足度        21.63968  7.035670   3.075709 5.030246e-03\n",
       "店舗面積満足度    23.80296  6.971247   3.414448 2.186653e-03\n",
       "トレーナー満足度  32.42134  5.607780   5.781493 5.014765e-06"
      ]
     },
     "metadata": {},
     "output_type": "display_data"
    }
   ],
   "source": [
    "#切片と偏回帰係数の確認\n",
    "summary(res1)$coefficients"
   ]
  },
  {
   "cell_type": "markdown",
   "metadata": {},
   "source": [
    "- 切片(intercept)は説明変数の値がすべて0のときの期待値(解釈することはまずない(笑))  \n",
    "- Estimateは偏回帰係数であり、他の説明変数を一定にし、ある説明変数の値だけ1増加させたときの目的変数に期待される変化量\n",
    "- 「他の説明変数の値を一定にした」という前提のもとで、顧客数に最も寄与するのは「トレーナー満足度」と解釈できる\n",
    "- Std.errorは推定値の標準誤差\n",
    "- t-valueは「母集団において当該偏回帰係数が0」を帰無仮説とした$t$検定に対する$t$の値\n",
    "- Pr(>|t|)はt値に対する$p$値"
   ]
  },
  {
   "cell_type": "markdown",
   "metadata": {},
   "source": [
    "### 偏回帰係数の信頼区間\n",
    "重回帰分析では、偏回帰係数の有意性だｋでなく、推定値の大きさにも興味があることが多いので信頼区間を合わせて報告すること"
   ]
  },
  {
   "cell_type": "code",
   "execution_count": 10,
   "metadata": {},
   "outputs": [
    {
     "data": {
      "text/html": [
       "<table>\n",
       "<thead><tr><th></th><th scope=col>2.5 %</th><th scope=col>97.5 %</th></tr></thead>\n",
       "<tbody>\n",
       "\t<tr><th scope=row>(Intercept)</th><td>-139.538132</td><td>69.12916   </td></tr>\n",
       "\t<tr><th scope=row>立地満足度</th><td>  17.398182</td><td>40.81240   </td></tr>\n",
       "\t<tr><th scope=row>設備満足度</th><td>   7.149443</td><td>36.12991   </td></tr>\n",
       "\t<tr><th scope=row>店舗面積満足度</th><td>   9.445408</td><td>38.16051   </td></tr>\n",
       "\t<tr><th scope=row>トレーナー満足度</th><td>  20.871903</td><td>43.97078   </td></tr>\n",
       "</tbody>\n",
       "</table>\n"
      ],
      "text/latex": [
       "\\begin{tabular}{r|ll}\n",
       "  & 2.5 \\% & 97.5 \\%\\\\\n",
       "\\hline\n",
       "\t(Intercept) & -139.538132 & 69.12916   \\\\\n",
       "\t立地満足度 &   17.398182 & 40.81240   \\\\\n",
       "\t設備満足度 &    7.149443 & 36.12991   \\\\\n",
       "\t店舗面積満足度 &    9.445408 & 38.16051   \\\\\n",
       "\tトレーナー満足度 &   20.871903 & 43.97078   \\\\\n",
       "\\end{tabular}\n"
      ],
      "text/markdown": [
       "\n",
       "| <!--/--> | 2.5 % | 97.5 % | \n",
       "|---|---|---|---|---|\n",
       "| (Intercept) | -139.538132 | 69.12916    | \n",
       "| 立地満足度 |   17.398182 | 40.81240    | \n",
       "| 設備満足度 |    7.149443 | 36.12991    | \n",
       "| 店舗面積満足度 |    9.445408 | 38.16051    | \n",
       "| トレーナー満足度 |   20.871903 | 43.97078    | \n",
       "\n",
       "\n"
      ],
      "text/plain": [
       "                 2.5 %       97.5 %  \n",
       "(Intercept)      -139.538132 69.12916\n",
       "立地満足度         17.398182 40.81240\n",
       "設備満足度          7.149443 36.12991\n",
       "店舗面積満足度      9.445408 38.16051\n",
       "トレーナー満足度   20.871903 43.97078"
      ]
     },
     "metadata": {},
     "output_type": "display_data"
    }
   ],
   "source": [
    "#切片と偏回帰係数の信頼区間の算出\n",
    "confint(res1, level=0.95)    #confint(lmオブジェクト, 区間水準)"
   ]
  },
  {
   "cell_type": "markdown",
   "metadata": {},
   "source": [
    "偏回帰係数が0という帰無仮説は棄却されているものの、信頼区間の幅が広く、全体的に係数の推定制度は全体的に低め"
   ]
  },
  {
   "cell_type": "markdown",
   "metadata": {},
   "source": [
    "### 単位の異なる説明変数が混在する場合(標準偏回帰係数の算出)\n",
    "- 偏回帰係数は変数の単位に影響される\n",
    "- 「立地満足度」は10段階評価、「トレーナー数」は人数と単位が異なる場合、係数の比較が難しくなる\n",
    "- <span style=\"color:red;\">単位の異なる説明変数をモデルに含める場合には、すべての変数をz得点に変換し、偏回帰係数から単位の影響を取り除くと良い</span>\n",
    "- 標準化したデータから推定された偏回帰係数を「標準偏回帰係数」と呼ぶ\n",
    "- 標準偏回帰係数はおおよそ-1~+1の間の値を取り、影響の強さを解釈しやすくなる"
   ]
  },
  {
   "cell_type": "code",
   "execution_count": 11,
   "metadata": {},
   "outputs": [
    {
     "data": {
      "text/plain": [
       "\n",
       "Call:\n",
       "lm(formula = 顧客数 ~ 立地満足度 + トレーナー数, data = scsdat)\n",
       "\n",
       "Residuals:\n",
       "     Min       1Q   Median       3Q      Max \n",
       "-1.38531 -0.41534  0.01021  0.29706  2.09443 \n",
       "\n",
       "Coefficients:\n",
       "              Estimate Std. Error t value Pr(>|t|)    \n",
       "(Intercept)  1.544e-16  1.398e-01   0.000 1.000000    \n",
       "立地満足度   4.020e-01  1.422e-01   2.828 0.008729 ** \n",
       "トレーナー数 5.317e-01  1.422e-01   3.739 0.000878 ***\n",
       "---\n",
       "Signif. codes:  0 '***' 0.001 '**' 0.01 '*' 0.05 '.' 0.1 ' ' 1\n",
       "\n",
       "Residual standard error: 0.7655 on 27 degrees of freedom\n",
       "Multiple R-squared:  0.4545,\tAdjusted R-squared:  0.4141 \n",
       "F-statistic: 11.25 on 2 and 27 DF,  p-value: 0.0002799\n"
      ]
     },
     "metadata": {},
     "output_type": "display_data"
    }
   ],
   "source": [
    "#標準偏回帰係数の算出\n",
    "\n",
    "#データの標準(scale)とデータフレーム化(as.data.frame)\n",
    "scsdat <- as.data.frame(scale(csdat))\n",
    "\n",
    "#標準偏回帰係数の推定\n",
    "res2 <- lm(顧客数~立地満足度+トレーナー数, data=scsdat)\n",
    "summary(res2)"
   ]
  },
  {
   "cell_type": "markdown",
   "metadata": {},
   "source": [
    "- データを標準化した場合、回帰モデルの切片は理論的に0になるので、切片の情報は不要\n",
    "- 標準化したとしても、決定係数の値やモデルの適合に関するF検定、偏回帰係数に関する$t$検定の結果は変わらない"
   ]
  },
  {
   "cell_type": "markdown",
   "metadata": {},
   "source": [
    "### 報告例\n",
    "　「顧客数」に対する「立地満足度」「設備満足度「店舗面積満足度」「トレーナー満足度」の影響を検討するため、「顧客数」を目的変数、顧客満足度の4変数を説明変数とした重回帰分析っを行った。VIFによって多重共線性の可能性を検討したところ、すべての説明変数において2未満であり、多重共線性が生じている可能性は低いと判断した。  \n",
    " 　モデルの決定係数$R^2$は.825、自由度調整済み決定係数は.797であり、「顧客数」の分散の約8割を顧客満足度の4変数が説明する結果となった。下表にモデル中の母数と決定係数の推定値、そして母数の信頼区間を示す。\n",
    "<div style=\"text-align: center;\">\n",
    "    表1.重回帰分析の結果\n",
    "</div>\n",
    "\\begin{array}{lrrr} \\hline\n",
    "\t& 推定値 & 標準誤差 & 95\\%CI \\\\ \\hline \n",
    "\t\t\t切片 & -35.204 & 50.659 & [-139.538, 69.129] \\\\\n",
    "\t\t\t立地満足度 & 29.105 & 5.684 & [17.398, 40.812] \\\\\n",
    "\t\t\t設備満足度 & 21.640 & 7.036 & [7.149, 36.130] \\\\\n",
    "\t\t\t店舗面積満足度 & 23.803 & 6.971 & [9.445, 38.161] \\\\\n",
    "\t\t\tトレーナー満足度 & 32.421 & 5.608 & [20.872, 43.971] \\\\ \\hline\n",
    "            R^2 = .825^{* * *}\n",
    "\\end{array}\n",
    "　決定係数に関するF検定は0.1%水準で有意であり(F(4.25)=29.43, p<.001)、母集団において顧客満足度の4変数の少なくとも1つは「顧客数」を説明している可能性があることが示唆された。また、95%信頼区間より、すべての説明変数において偏回帰係数は少なくとも5%水準で有意であり、母集団における存在が示唆される結果となった。  \n",
    "　説明変数の単位が等しいので、偏回帰係数を解釈する。推定値が最大であったのは「トレーナー満足度」の32.421(95%CI[20.872, 43.971]であった。他の説明変数を一定にしたうえで「トレーナー満足度」を1店増加させると、32.421人の顧客数が見込まれる結果となった。一方、推定値が最小であったのは「設備満足度」の21.640であり(95%CI[7.149, 36.130])、他の説明変数を一定にしたうえで「設備満足度」を1点増加させると、21.640人の顧客の増加が見込まれる結果となった。 "
   ]
  },
  {
   "cell_type": "markdown",
   "metadata": {},
   "source": [
    "#### 補足\n",
    "<div style=\"color: red\">\n",
    "mathjaxはtabular環境に対応していないため、array環境で代用した。   \n",
    "latexコードでセンタリング等も出来なかったため、通常の文字の中央寄せはhtmlで対応。\n",
    "</div>\n",
    "\n",
    "[latex tabular environment](https://github.com/mathjax/mathjax-docs/wiki/LaTeX-Tabular-environment)  \n",
    "[html,tex対応表](http://www.ne.jp/asahi/hishidama/home/tech/tex/texhtml.html)  \n",
    "[easy copy mathjax](http://easy-copy-mathjax.xxxx7.com/#table)  \n",
    "[style属性でcssを複数指定する方法](http://w-d-l.net/css__course__inline_style/)"
   ]
  },
  {
   "cell_type": "markdown",
   "metadata": {},
   "source": [
    "### 質的変数を含む重回帰分析"
   ]
  },
  {
   "cell_type": "code",
   "execution_count": 12,
   "metadata": {},
   "outputs": [
    {
     "data": {
      "text/plain": [
       "\n",
       "Call:\n",
       "lm(formula = 顧客数 ~ 立地満足度 + 設備満足度 + 店舗面積満足度 + \n",
       "    トレーナー満足度 + 接客研修 + 入会特典, data = csdat)\n",
       "\n",
       "Residuals:\n",
       "    Min      1Q  Median      3Q     Max \n",
       "-78.543 -25.702  -2.392  17.573  91.820 \n",
       "\n",
       "Coefficients:\n",
       "                 Estimate Std. Error t value Pr(>|t|)    \n",
       "(Intercept)       -13.878     48.906  -0.284  0.77913    \n",
       "立地満足度         27.488      5.544   4.958 5.18e-05 ***\n",
       "設備満足度         24.745      6.779   3.650  0.00134 ** \n",
       "店舗面積満足度     17.963      7.067   2.542  0.01822 *  \n",
       "トレーナー満足度   28.515      5.592   5.099 3.65e-05 ***\n",
       "接客研修            8.014     16.121   0.497  0.62383    \n",
       "入会特典           40.128     18.065   2.221  0.03646 *  \n",
       "---\n",
       "Signif. codes:  0 '***' 0.001 '**' 0.01 '*' 0.05 '.' 0.1 ' ' 1\n",
       "\n",
       "Residual standard error: 42.55 on 23 degrees of freedom\n",
       "Multiple R-squared:  0.8566,\tAdjusted R-squared:  0.8192 \n",
       "F-statistic:  22.9 on 6 and 23 DF,  p-value: 1.27e-08\n"
      ]
     },
     "metadata": {},
     "output_type": "display_data"
    }
   ],
   "source": [
    "#質的変数を含む重回帰分析\n",
    "res3 <- lm(顧客数~立地満足度+設備満足度+店舗面積満足度+トレーナー満足度+接客研修+入会特典, data=csdat)\n",
    "summary(res3)"
   ]
  },
  {
   "cell_type": "markdown",
   "metadata": {},
   "source": [
    "決定係数が量的変数のみの分析では0.8248であったのに対して3%程度分散説明率が上がっている。  \n",
    "入会特典を実施している店舗(入会特典=1)の店舗の方が実施していない店舗(入会特典=0)よりも40.128人顧客数が多いことが期待される。"
   ]
  },
  {
   "cell_type": "markdown",
   "metadata": {},
   "source": [
    "### AICとBICによるモデルの評価\n",
    "説明変数が異なるモデル間で適合度を比較する場合に用いる。値が小さいモデルが適合が良好。\n",
    "- AIC:Akaike information criterion\n",
    "- BIC:Bayesian information crierion"
   ]
  },
  {
   "cell_type": "code",
   "execution_count": 13,
   "metadata": {},
   "outputs": [
    {
     "data": {
      "text/html": [
       "<ol class=list-inline>\n",
       "\t<li>5</li>\n",
       "\t<li>233.08083822976</li>\n",
       "</ol>\n"
      ],
      "text/latex": [
       "\\begin{enumerate*}\n",
       "\\item 5\n",
       "\\item 233.08083822976\n",
       "\\end{enumerate*}\n"
      ],
      "text/markdown": [
       "1. 5\n",
       "2. 233.08083822976\n",
       "\n",
       "\n"
      ],
      "text/plain": [
       "[1]   5.0000 233.0808"
      ]
     },
     "metadata": {},
     "output_type": "display_data"
    },
    {
     "data": {
      "text/html": [
       "<ol class=list-inline>\n",
       "\t<li>7</li>\n",
       "\t<li>231.075092192927</li>\n",
       "</ol>\n"
      ],
      "text/latex": [
       "\\begin{enumerate*}\n",
       "\\item 7\n",
       "\\item 231.075092192927\n",
       "\\end{enumerate*}\n"
      ],
      "text/markdown": [
       "1. 7\n",
       "2. 231.075092192927\n",
       "\n",
       "\n"
      ],
      "text/plain": [
       "[1]   7.0000 231.0751"
      ]
     },
     "metadata": {},
     "output_type": "display_data"
    }
   ],
   "source": [
    "#AICの算出\n",
    "\n",
    "#説明変数が量的変数のみの回帰モデル\n",
    "extractAIC(res1)\n",
    "\n",
    "#説明変数に質的変数も含めた回帰モデル\n",
    "extractAIC(res3)"
   ]
  },
  {
   "cell_type": "markdown",
   "metadata": {},
   "source": [
    "出力結果1つ目の要素がモデル中の母数の数、2つ目の要素がAIC。  "
   ]
  },
  {
   "cell_type": "code",
   "execution_count": 14,
   "metadata": {},
   "outputs": [
    {
     "data": {
      "text/html": [
       "<ol class=list-inline>\n",
       "\t<li>5</li>\n",
       "\t<li>240.086825138071</li>\n",
       "</ol>\n"
      ],
      "text/latex": [
       "\\begin{enumerate*}\n",
       "\\item 5\n",
       "\\item 240.086825138071\n",
       "\\end{enumerate*}\n"
      ],
      "text/markdown": [
       "1. 5\n",
       "2. 240.086825138071\n",
       "\n",
       "\n"
      ],
      "text/plain": [
       "[1]   5.0000 240.0868"
      ]
     },
     "metadata": {},
     "output_type": "display_data"
    },
    {
     "data": {
      "text/html": [
       "<ol class=list-inline>\n",
       "\t<li>7</li>\n",
       "\t<li>240.883473864562</li>\n",
       "</ol>\n"
      ],
      "text/latex": [
       "\\begin{enumerate*}\n",
       "\\item 7\n",
       "\\item 240.883473864562\n",
       "\\end{enumerate*}\n"
      ],
      "text/markdown": [
       "1. 7\n",
       "2. 240.883473864562\n",
       "\n",
       "\n"
      ],
      "text/plain": [
       "[1]   7.0000 240.8835"
      ]
     },
     "metadata": {},
     "output_type": "display_data"
    }
   ],
   "source": [
    "#BICの算出\n",
    "\n",
    "#BICはextractAICの引数kに観測対象の数の自然対数を指定する(デフォルトはk=2)\n",
    "extractAIC(res1, k=log(30))\n",
    "\n",
    "#説明変数に質的変数も含めた回帰モデル\n",
    "extractAIC(res3, k=log(30))"
   ]
  },
  {
   "cell_type": "markdown",
   "metadata": {},
   "source": [
    "AICとBICの結果から、実質的には両モデルの適合の良さはほぼ同じ。"
   ]
  },
  {
   "cell_type": "markdown",
   "metadata": {},
   "source": [
    "### 決定係数とその検定"
   ]
  },
  {
   "cell_type": "markdown",
   "metadata": {},
   "source": [
    "#### 目的変数$y$の平方和$SS_y$\n",
    "$$ SS_y = \\sum^N_{i=1}(y_i - \\bar{y})^2 $$\n",
    "\n",
    "#### 予測値$\\hat{y}$の平方和$SS_{\\hat{y}}$\n",
    "$$ SS_y = \\sum^N_{i=1}(\\hat{y}_i - \\bar{\\hat{y}})^2 $$\n",
    "\n",
    "#### 誤差の平方和$SS_e$\n",
    "$$ SS_e = \\sum^N_{i=1} e_i^2 $$\n",
    "\n",
    "3つの平方和の間で以下の関係式が成り立つ\n",
    "$$ SS_y = SS_{\\hat{y}} + SS_e $$\n",
    "\n",
    "#### 決定係数$R^2$\n",
    "$$ R^2 = \\frac{SS_{\\hat{y}}}{SS_y} $$\n",
    "\n",
    "#### 自由度調整済み決定係数\n",
    "$$ 1-\\frac{SS_e / (N - J - 1)}{SS_y / (N-1)} $$"
   ]
  },
  {
   "cell_type": "markdown",
   "metadata": {
    "collapsed": true
   },
   "source": [
    "### 切片と偏回帰係数の検定"
   ]
  },
  {
   "cell_type": "markdown",
   "metadata": {},
   "source": [
    "$$ t_{\\alpha} = \\frac{\\alpha}{\\alpha \\mbox{の標準誤差}} $$\n",
    "$$ t_{\\beta} = \\frac{\\beta}{\\beta \\mbox{の標準誤差}} $$\n",
    "\n",
    "これら検定統計量は自由度$N - J - 1$の$t$分布に従う"
   ]
  },
  {
   "cell_type": "markdown",
   "metadata": {},
   "source": [
    "### VIFの理論"
   ]
  },
  {
   "cell_type": "markdown",
   "metadata": {},
   "source": [
    "ある説明変数$x_j$を他の全ての説明変数で重回帰分析し、その決定係数を$R_j^2$とした場合、\n",
    "\n",
    "$$ VIF_j = \\frac{1}{1 - R_j^2} $$"
   ]
  },
  {
   "cell_type": "code",
   "execution_count": null,
   "metadata": {
    "collapsed": true
   },
   "outputs": [],
   "source": []
  }
 ],
 "metadata": {
  "kernelspec": {
   "display_name": "R",
   "language": "R",
   "name": "ir"
  },
  "language_info": {
   "codemirror_mode": "r",
   "file_extension": ".r",
   "mimetype": "text/x-r-source",
   "name": "R",
   "pygments_lexer": "r",
   "version": "3.5.1"
  }
 },
 "nbformat": 4,
 "nbformat_minor": 2
}
