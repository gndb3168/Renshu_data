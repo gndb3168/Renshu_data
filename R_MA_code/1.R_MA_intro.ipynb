{
 "cells": [
  {
   "cell_type": "code",
   "execution_count": 1,
   "metadata": {
    "collapsed": true
   },
   "outputs": [],
   "source": [
    "#githubから人事評価結果のデータの読み込み\n",
    "jinji_hyouka <- read.csv(\"https://raw.githubusercontent.com/gndb3168/Renshu_data/master/R_MA/Sec_01/jinji_hyouka.csv\")"
   ]
  },
  {
   "cell_type": "code",
   "execution_count": 2,
   "metadata": {
    "collapsed": true
   },
   "outputs": [],
   "source": [
    "inbox <- colnames(jinji_hyouka)\n",
    "#ラベルの文字コードが統一されていないとRの結果がjupyter形式で出力されないため、変数名を半角英数字に変更\n",
    "colnames(jinji_hyouka) <- c(\"ID\", \"sex\", \"dep\", \"age\", \"cooperativeness\", \n",
    "                            \"self-assertion\", \"skill\", \"knowledge\", \"stress\", \"total\", \"last_year_total\")"
   ]
  },
  {
   "cell_type": "code",
   "execution_count": 3,
   "metadata": {},
   "outputs": [
    {
     "data": {
      "text/plain": [
       "                                                                   \n",
       "1 function (x, size, replace = FALSE, prob = NULL)                 \n",
       "2 {                                                                \n",
       "3     if (length(x) == 1L && is.numeric(x) && is.finite(x) && x >= \n",
       "4         1) {                                                     \n",
       "5         if (missing(size))                                       \n",
       "6             size <- x                                            "
      ]
     },
     "metadata": {},
     "output_type": "display_data"
    }
   ],
   "source": [
    "head(sample)"
   ]
  },
  {
   "cell_type": "code",
   "execution_count": 4,
   "metadata": {
    "collapsed": true
   },
   "outputs": [],
   "source": [
    "#githubのデータが読み込めなかったときのローカルファイルからの読み込み\n",
    "\n",
    "#jinji_hyouka <- read.csv(\"R_Multivariate_Analysis0726/Sec_01/jinji.csv\")\n",
    "#inbox <- colnames(jinji_hyouka)\n",
    "##ラベルの文字コードが統一されていないとRの結果がjupyter形式で出力されないため、変数名を半角英数字に変更\n",
    "#colnames(jinji_hyouka) <- c(\"ID\", \"sex\", \"dep\", \"age\", \"cooperativeness\", \n",
    "#                            \"self-assertion\", \"skill\", \"knowledge\", \"stress\", \"total\", \"last_year_total\")"
   ]
  },
  {
   "cell_type": "markdown",
   "metadata": {},
   "source": [
    "### 多変量データを読み込んだ際に行うこと\n",
    "- データの規模を確認する\n",
    "- 変数名を確認する\n",
    "- データを数行確認する"
   ]
  },
  {
   "cell_type": "code",
   "execution_count": 5,
   "metadata": {
    "scrolled": true
   },
   "outputs": [
    {
     "data": {
      "text/html": [
       "<ol class=list-inline>\n",
       "\t<li>800</li>\n",
       "\t<li>11</li>\n",
       "</ol>\n"
      ],
      "text/latex": [
       "\\begin{enumerate*}\n",
       "\\item 800\n",
       "\\item 11\n",
       "\\end{enumerate*}\n"
      ],
      "text/markdown": [
       "1. 800\n",
       "2. 11\n",
       "\n",
       "\n"
      ],
      "text/plain": [
       "[1] 800  11"
      ]
     },
     "metadata": {},
     "output_type": "display_data"
    },
    {
     "data": {
      "text/html": [
       "<ol class=list-inline>\n",
       "\t<li>'ID'</li>\n",
       "\t<li>'sex'</li>\n",
       "\t<li>'dep'</li>\n",
       "\t<li>'age'</li>\n",
       "\t<li>'cooperativeness'</li>\n",
       "\t<li>'self-assertion'</li>\n",
       "\t<li>'skill'</li>\n",
       "\t<li>'knowledge'</li>\n",
       "\t<li>'stress'</li>\n",
       "\t<li>'total'</li>\n",
       "\t<li>'last_year_total'</li>\n",
       "</ol>\n"
      ],
      "text/latex": [
       "\\begin{enumerate*}\n",
       "\\item 'ID'\n",
       "\\item 'sex'\n",
       "\\item 'dep'\n",
       "\\item 'age'\n",
       "\\item 'cooperativeness'\n",
       "\\item 'self-assertion'\n",
       "\\item 'skill'\n",
       "\\item 'knowledge'\n",
       "\\item 'stress'\n",
       "\\item 'total'\n",
       "\\item 'last\\_year\\_total'\n",
       "\\end{enumerate*}\n"
      ],
      "text/markdown": [
       "1. 'ID'\n",
       "2. 'sex'\n",
       "3. 'dep'\n",
       "4. 'age'\n",
       "5. 'cooperativeness'\n",
       "6. 'self-assertion'\n",
       "7. 'skill'\n",
       "8. 'knowledge'\n",
       "9. 'stress'\n",
       "10. 'total'\n",
       "11. 'last_year_total'\n",
       "\n",
       "\n"
      ],
      "text/plain": [
       " [1] \"ID\"              \"sex\"             \"dep\"             \"age\"            \n",
       " [5] \"cooperativeness\" \"self-assertion\"  \"skill\"           \"knowledge\"      \n",
       " [9] \"stress\"          \"total\"           \"last_year_total\""
      ]
     },
     "metadata": {},
     "output_type": "display_data"
    },
    {
     "data": {
      "text/html": [
       "<table>\n",
       "<thead><tr><th scope=col>ID</th><th scope=col>sex</th><th scope=col>dep</th><th scope=col>age</th><th scope=col>cooperativeness</th><th scope=col>self-assertion</th><th scope=col>skill</th><th scope=col>knowledge</th><th scope=col>stress</th><th scope=col>total</th><th scope=col>last_year_total</th></tr></thead>\n",
       "<tbody>\n",
       "\t<tr><td>1   </td><td>M   </td><td>A部 </td><td>中堅</td><td>70  </td><td>45  </td><td>65  </td><td>71  </td><td>53  </td><td>251 </td><td>248 </td></tr>\n",
       "\t<tr><td>2   </td><td>F   </td><td>B部 </td><td>熟練</td><td>45  </td><td>62  </td><td>51  </td><td>72  </td><td>64  </td><td>227 </td><td>211 </td></tr>\n",
       "\t<tr><td>3   </td><td>M   </td><td>A部 </td><td>中堅</td><td>54  </td><td>70  </td><td>55  </td><td>70  </td><td>61  </td><td>249 </td><td>242 </td></tr>\n",
       "\t<tr><td>4   </td><td>M   </td><td>A部 </td><td>熟練</td><td>51  </td><td>63  </td><td>53  </td><td>65  </td><td>60  </td><td>232 </td><td>240 </td></tr>\n",
       "\t<tr><td>5   </td><td>F   </td><td>A部 </td><td>若手</td><td>56  </td><td>52  </td><td>44  </td><td>68  </td><td>56  </td><td>217 </td><td>177 </td></tr>\n",
       "\t<tr><td>6   </td><td>M   </td><td>A部 </td><td>熟練</td><td>51  </td><td>64  </td><td>48  </td><td>73  </td><td>52  </td><td>236 </td><td>216 </td></tr>\n",
       "</tbody>\n",
       "</table>\n"
      ],
      "text/latex": [
       "\\begin{tabular}{r|lllllllllll}\n",
       " ID & sex & dep & age & cooperativeness & self-assertion & skill & knowledge & stress & total & last\\_year\\_total\\\\\n",
       "\\hline\n",
       "\t 1    & M    & A部  & 中堅 & 70   & 45   & 65   & 71   & 53   & 251  & 248 \\\\\n",
       "\t 2    & F    & B部  & 熟練 & 45   & 62   & 51   & 72   & 64   & 227  & 211 \\\\\n",
       "\t 3    & M    & A部  & 中堅 & 54   & 70   & 55   & 70   & 61   & 249  & 242 \\\\\n",
       "\t 4    & M    & A部  & 熟練 & 51   & 63   & 53   & 65   & 60   & 232  & 240 \\\\\n",
       "\t 5    & F    & A部  & 若手 & 56   & 52   & 44   & 68   & 56   & 217  & 177 \\\\\n",
       "\t 6    & M    & A部  & 熟練 & 51   & 64   & 48   & 73   & 52   & 236  & 216 \\\\\n",
       "\\end{tabular}\n"
      ],
      "text/markdown": [
       "\n",
       "ID | sex | dep | age | cooperativeness | self-assertion | skill | knowledge | stress | total | last_year_total | \n",
       "|---|---|---|---|---|---|\n",
       "| 1    | M    | A部  | 中堅 | 70   | 45   | 65   | 71   | 53   | 251  | 248  | \n",
       "| 2    | F    | B部  | 熟練 | 45   | 62   | 51   | 72   | 64   | 227  | 211  | \n",
       "| 3    | M    | A部  | 中堅 | 54   | 70   | 55   | 70   | 61   | 249  | 242  | \n",
       "| 4    | M    | A部  | 熟練 | 51   | 63   | 53   | 65   | 60   | 232  | 240  | \n",
       "| 5    | F    | A部  | 若手 | 56   | 52   | 44   | 68   | 56   | 217  | 177  | \n",
       "| 6    | M    | A部  | 熟練 | 51   | 64   | 48   | 73   | 52   | 236  | 216  | \n",
       "\n",
       "\n"
      ],
      "text/plain": [
       "  ID sex dep age  cooperativeness self-assertion skill knowledge stress total\n",
       "1 1  M   A部 中堅 70              45             65    71        53     251  \n",
       "2 2  F   B部 熟練 45              62             51    72        64     227  \n",
       "3 3  M   A部 中堅 54              70             55    70        61     249  \n",
       "4 4  M   A部 熟練 51              63             53    65        60     232  \n",
       "5 5  F   A部 若手 56              52             44    68        56     217  \n",
       "6 6  M   A部 熟練 51              64             48    73        52     236  \n",
       "  last_year_total\n",
       "1 248            \n",
       "2 211            \n",
       "3 242            \n",
       "4 240            \n",
       "5 177            \n",
       "6 216            "
      ]
     },
     "metadata": {},
     "output_type": "display_data"
    }
   ],
   "source": [
    "#データの規模の確認\n",
    "dim(jinji_hyouka)\n",
    "\n",
    "#変数名の確認\n",
    "colnames(jinji_hyouka)\n",
    "\n",
    "#データを数行確認\n",
    "head(jinji_hyouka)"
   ]
  },
  {
   "cell_type": "markdown",
   "metadata": {},
   "source": [
    "### 単変量データの基礎集計\n",
    "\n",
    "- ヒストグラムの描画(latticeパッケージ)\n",
    "- 代表値と散布度\n",
    "- ↑2つの群間比較\n",
    "- 箱ひげ図\n",
    "- t検定\n",
    "- 母平均の信頼区間の描画\n",
    "\n",
    "latticeパッケージは多群の分布の比較を行うヒストグラムの作成に適している"
   ]
  },
  {
   "cell_type": "code",
   "execution_count": 6,
   "metadata": {},
   "outputs": [
    {
     "data": {},
     "metadata": {},
     "output_type": "display_data"
    },
    {
     "data": {
      "image/png": "[encoded data removed]",
      "text/plain": [
       "plot without title"
      ]
     },
     "metadata": {},
     "output_type": "display_data"
    }
   ],
   "source": [
    "library(lattice)    #latticeパッケージの読み込み\n",
    "\n",
    "#ヒストグラムの描画\n",
    "#histogram(~変数, data, 階級数(breaks), 縦軸の指定(type))、countは度数を示す\n",
    "histogram(~stress, data=jinji_hyouka, breaks=20, type=\"count\")"
   ]
  },
  {
   "cell_type": "code",
   "execution_count": 7,
   "metadata": {},
   "outputs": [
    {
     "data": {
      "text/html": [
       "55.0525"
      ],
      "text/latex": [
       "55.0525"
      ],
      "text/markdown": [
       "55.0525"
      ],
      "text/plain": [
       "[1] 55.0525"
      ]
     },
     "metadata": {},
     "output_type": "display_data"
    },
    {
     "data": {
      "text/html": [
       "55"
      ],
      "text/latex": [
       "55"
      ],
      "text/markdown": [
       "55"
      ],
      "text/plain": [
       "[1] 55"
      ]
     },
     "metadata": {},
     "output_type": "display_data"
    },
    {
     "data": {
      "text/plain": [
       "\n",
       "熟練 中堅 若手 \n",
       " 177  308  315 "
      ]
     },
     "metadata": {},
     "output_type": "display_data"
    }
   ],
   "source": [
    "#代表値の算出\n",
    "\n",
    "#data.frame()の変数はx$(変数名)でアクセス\n",
    "mean(jinji_hyouka$stress)     #変数の平均値を算出\n",
    "median(jinji_hyouka$stress)   #変数の中央値を算出\n",
    "sort(table(jinji_hyouka$age)) #変数の最頻値を算出(tableは度数分布を作成する関数で、度数分布を昇順に並べ替える)"
   ]
  },
  {
   "cell_type": "code",
   "execution_count": 8,
   "metadata": {},
   "outputs": [
    {
     "data": {
      "text/html": [
       "6.02288034162326"
      ],
      "text/latex": [
       "6.02288034162326"
      ],
      "text/markdown": [
       "6.02288034162326"
      ],
      "text/plain": [
       "[1] 6.02288"
      ]
     },
     "metadata": {},
     "output_type": "display_data"
    },
    {
     "data": {
      "text/html": [
       "36.2750876095119"
      ],
      "text/latex": [
       "36.2750876095119"
      ],
      "text/markdown": [
       "36.2750876095119"
      ],
      "text/plain": [
       "[1] 36.27509"
      ]
     },
     "metadata": {},
     "output_type": "display_data"
    },
    {
     "data": {
      "text/html": [
       "4.7325"
      ],
      "text/latex": [
       "4.7325"
      ],
      "text/markdown": [
       "4.7325"
      ],
      "text/plain": [
       "[1] 4.7325"
      ]
     },
     "metadata": {},
     "output_type": "display_data"
    }
   ],
   "source": [
    "#散布度の算出(データの散らばりに関する統計指標など)\n",
    "\n",
    "sd(jinji_hyouka$stress)    #不偏標準偏差(平均値からの散らばりを考える際に有用)\n",
    "var(jinji_hyouka$stress)   #不偏分散\n",
    "\n",
    "#中央値からの平均偏差の算出(平均値ではなく中央値を代表値として散らばりを求める場合)\n",
    "mean(abs(jinji_hyouka$stress - median(jinji_hyouka$stress)))"
   ]
  },
  {
   "cell_type": "code",
   "execution_count": 9,
   "metadata": {},
   "outputs": [
    {
     "data": {},
     "metadata": {},
     "output_type": "display_data"
    },
    {
     "data": {
      "image/png": "[encoded data removed]",
      "text/plain": [
       "plot without title"
      ]
     },
     "metadata": {},
     "output_type": "display_data"
    }
   ],
   "source": [
    "#群別にヒストグラムを描画(latticeパッケージ)\n",
    "#histogram(~描画する変数|群別変数1+群別変数2+..., data, 階級数(breaks))\n",
    "histogram(~cooperativeness|age+sex, data=jinji_hyouka, breaks=15)"
   ]
  },
  {
   "cell_type": "code",
   "execution_count": 10,
   "metadata": {},
   "outputs": [
    {
     "data": {
      "text/html": [
       "<table>\n",
       "<thead><tr><th scope=col>F</th><th scope=col>M</th></tr></thead>\n",
       "<tbody>\n",
       "\t<tr><td>52.92114</td><td>50.0559 </td></tr>\n",
       "</tbody>\n",
       "</table>\n"
      ],
      "text/latex": [
       "\\begin{tabular}{ll}\n",
       " F & M\\\\\n",
       "\\hline\n",
       "\t 52.92114 & 50.0559 \\\\\n",
       "\\end{tabular}\n"
      ],
      "text/markdown": [
       "\n",
       "F | M | \n",
       "|---|\n",
       "| 52.92114 | 50.0559  | \n",
       "\n",
       "\n"
      ],
      "text/plain": [
       "     F        M      \n",
       "[1,] 52.92114 50.0559"
      ]
     },
     "metadata": {},
     "output_type": "display_data"
    },
    {
     "data": {
      "text/html": [
       "<table>\n",
       "<thead><tr><th scope=col>F</th><th scope=col>M</th></tr></thead>\n",
       "<tbody>\n",
       "\t<tr><td>9.845809</td><td>10.11608</td></tr>\n",
       "</tbody>\n",
       "</table>\n"
      ],
      "text/latex": [
       "\\begin{tabular}{ll}\n",
       " F & M\\\\\n",
       "\\hline\n",
       "\t 9.845809 & 10.11608\\\\\n",
       "\\end{tabular}\n"
      ],
      "text/markdown": [
       "\n",
       "F | M | \n",
       "|---|\n",
       "| 9.845809 | 10.11608 | \n",
       "\n",
       "\n"
      ],
      "text/plain": [
       "     F        M       \n",
       "[1,] 9.845809 10.11608"
      ]
     },
     "metadata": {},
     "output_type": "display_data"
    }
   ],
   "source": [
    "#群別の代表値と散布度\n",
    "\n",
    "#tapply(集計したい変数, 群別にしたい変数, 適用関数)\n",
    "t(tapply(jinji_hyouka$cooperativeness, jinji_hyouka$sex, mean))    #群別で平均値を算出\n",
    "t(tapply(jinji_hyouka$cooperativeness, jinji_hyouka$sex, sd))      #群別でSDを算出"
   ]
  },
  {
   "cell_type": "markdown",
   "metadata": {},
   "source": [
    "### 補足\n",
    "jupyter上でRのtapply()関数を用いる場合、「添え字が許される範囲外です」とエラーが表示されるものの何故か結果は出力される  \n",
    "jupyter上ではprint()やt()で囲うことで対処した   \n",
    "参考URL:[R + jupyter tapply() function gives 'Error: subscript out of bounds'](https://stackoverflow.com/questions/37886584/r-jupyter-tapply-function-gives-error-subscript-out-of-bounds)"
   ]
  },
  {
   "cell_type": "markdown",
   "metadata": {},
   "source": [
    "#### 箱ひげ図\n",
    "\n",
    "- データ全体を視覚的に比較できる\n",
    "- 四分位数・四分位範囲・中央値・最大幅(最大で四分位範囲×1.5)・外れ値など"
   ]
  },
  {
   "cell_type": "code",
   "execution_count": 11,
   "metadata": {},
   "outputs": [
    {
     "data": {
      "image/png": "[encoded data removed]",
      "text/plain": [
       "plot without title"
      ]
     },
     "metadata": {},
     "output_type": "display_data"
    },
    {
     "data": {
      "image/png": "[encoded data removed]",
      "text/plain": [
       "plot without title"
      ]
     },
     "metadata": {},
     "output_type": "display_data"
    }
   ],
   "source": [
    "#箱ひげ図の描画\n",
    "\n",
    "boxplot(jinji_hyouka$skill, horizontal=TRUE)                      #boxplot(量的変数, 横置きor縦置きの指定)\n",
    "boxplot(cooperativeness~sex, data=jinji_hyouka, horizontal=TRUE)  #boxplot(量的変数「名」~群別変数「名」, ~)で群別でプロット"
   ]
  },
  {
   "cell_type": "code",
   "execution_count": 12,
   "metadata": {},
   "outputs": [
    {
     "data": {
      "text/plain": [
       "   Min. 1st Qu.  Median    Mean 3rd Qu.    Max. \n",
       "  22.00   44.00   50.00   50.01   56.00   82.00 "
      ]
     },
     "metadata": {},
     "output_type": "display_data"
    }
   ],
   "source": [
    "#四分位数も含めた要約統計量の算出\n",
    "summary(jinji_hyouka$skill)"
   ]
  },
  {
   "cell_type": "markdown",
   "metadata": {},
   "source": [
    "### t検定\n",
    "\n",
    "- 母平均の差を統計的に推測する際に用いる(母分散未知)\n",
    "- 等分散性を調べたい場合はF検定を行う"
   ]
  },
  {
   "cell_type": "code",
   "execution_count": 13,
   "metadata": {},
   "outputs": [
    {
     "data": {
      "text/plain": [
       "\n",
       "\tF test to compare two variances\n",
       "\n",
       "data:  cooperativeness by sex\n",
       "F = 0.94728, num df = 316, denom df = 482, p-value = 0.6026\n",
       "alternative hypothesis: true ratio of variances is not equal to 1\n",
       "95 percent confidence interval:\n",
       " 0.776489 1.160565\n",
       "sample estimates:\n",
       "ratio of variances \n",
       "         0.9472802 \n"
      ]
     },
     "metadata": {},
     "output_type": "display_data"
    }
   ],
   "source": [
    "#等分散性に関するF検定(※帰無仮説は「2群の母分散は等しい」であることに注意)\n",
    "\n",
    "var.test(cooperativeness~sex, data=jinji_hyouka)    #var.test(量的変数名~群別変数名, data)"
   ]
  },
  {
   "cell_type": "code",
   "execution_count": 14,
   "metadata": {},
   "outputs": [
    {
     "data": {
      "text/plain": [
       "\n",
       "\tTwo Sample t-test\n",
       "\n",
       "data:  cooperativeness by sex\n",
       "t = 3.9599, df = 798, p-value = 8.167e-05\n",
       "alternative hypothesis: true difference in means is not equal to 0\n",
       "95 percent confidence interval:\n",
       " 1.444935 4.285535\n",
       "sample estimates:\n",
       "mean in group F mean in group M \n",
       "       52.92114        50.05590 \n"
      ]
     },
     "metadata": {},
     "output_type": "display_data"
    }
   ],
   "source": [
    "#独立な2群のt検定(等分散を仮定)\n",
    "\n",
    "t.test(cooperativeness~sex, data=jinji_hyouka, var.equal=TRUE)    #t.test(量的変数名~群別変数名, data, 等分散 or not)"
   ]
  },
  {
   "cell_type": "code",
   "execution_count": 15,
   "metadata": {},
   "outputs": [
    {
     "data": {
      "text/plain": [
       "\n",
       "\tWelch Two Sample t-test\n",
       "\n",
       "data:  cooperativeness by sex\n",
       "t = 3.9823, df = 688.8, p-value = 7.552e-05\n",
       "alternative hypothesis: true difference in means is not equal to 0\n",
       "95 percent confidence interval:\n",
       " 1.452562 4.277908\n",
       "sample estimates:\n",
       "mean in group F mean in group M \n",
       "       52.92114        50.05590 \n"
      ]
     },
     "metadata": {},
     "output_type": "display_data"
    }
   ],
   "source": [
    "#Welch法によるt検定(等分散の検定が有意だった場合)\n",
    "t.test(cooperativeness~sex, data=jinji_hyouka)    #t.test()からvar.equalの記述を削除する"
   ]
  },
  {
   "cell_type": "code",
   "execution_count": 16,
   "metadata": {},
   "outputs": [
    {
     "data": {
      "text/plain": [
       "\n",
       "\tPaired t-test\n",
       "\n",
       "data:  score by year\n",
       "t = 0.85118, df = 799, p-value = 0.3949\n",
       "alternative hypothesis: true difference in means is not equal to 0\n",
       "95 percent confidence interval:\n",
       " -0.808164  2.045664\n",
       "sample estimates:\n",
       "mean of the differences \n",
       "                0.61875 \n"
      ]
     },
     "metadata": {},
     "output_type": "display_data"
    }
   ],
   "source": [
    "#対応のあるt検定(比較対象が同一の母集団である場合)\n",
    "\n",
    "#比較する量的変数を1つのベクトルにまとめる\n",
    "score <- c(jinji_hyouka$total, jinji_hyouka$last_year_total)\n",
    "#比較対象のラベルを要素の数だけ生成し、1つのベクトルにまとめる\n",
    "year <- c(rep(\"今年\", nrow(jinji_hyouka)), rep(\"昨年\", nrow(jinji_hyouka)))\n",
    "\n",
    "#t.test(2つの量的データを格納したオブジェクト~2つの比較対象ラベルを(要素の数だけ)格納したオブジェクト, 対応?)\n",
    "t.test(score~year, paired=TRUE)"
   ]
  },
  {
   "cell_type": "markdown",
   "metadata": {},
   "source": [
    "#### 補足\n",
    "t.testは比較対象の変数とラベルのデータ数が同一でなければならないので注意(引数に入れるラベルはuniqueなデータではない)  \n",
    "また、青木(2009)は「等分散の場合であっても常にWelchの方法を採用すればよい」という解説をしている。"
   ]
  },
  {
   "cell_type": "markdown",
   "metadata": {},
   "source": [
    "### 母平均の信頼区間の描画\n",
    "\n",
    "- 母平均の95%信頼区間は、無数の標本でそれぞれ同様に区間を求めた時に、これらの95%が母平均を含んでいるような区間を示す\n",
    "- 区間が狭いほど精度の高い母平均の推定が行われている"
   ]
  },
  {
   "cell_type": "code",
   "execution_count": 17,
   "metadata": {},
   "outputs": [
    {
     "data": {
      "image/png": "[encoded data removed]",
      "text/plain": [
       "plot without title"
      ]
     },
     "metadata": {},
     "output_type": "display_data"
    }
   ],
   "source": [
    "#群ごとに信頼区間を描画(gplotsパッケージ)\n",
    "\n",
    "#warn.conflicts = FALSE で他のパッケージの関数名と名前が被って片方が上書きされる警告文を非表示した上で読み込む\n",
    "library(gplots, warn.conflicts = FALSE)    \n",
    "\n",
    "#plotments(量的変数名~群別変数名, data, 信頼区間の幅, y軸の上限と下限)\n",
    "plotmeans(cooperativeness~sex, data=jinji_hyouka, p=0.95, ylim=c(49, 54))"
   ]
  },
  {
   "cell_type": "markdown",
   "metadata": {},
   "source": [
    "#### 補足\n",
    "\n",
    "パッケージ名の関数名が被って片方の関数が上書きされた場合の警告文  \n",
    "\n",
    "```R\n",
    "Attaching package: 'gplots'\n",
    "\n",
    "The following object is masked from 'package:stats':\n",
    "\n",
    "    lowess\n",
    " ```   \n",
    "\n",
    "library(~, warn.conflicts = FALSE)で警告文を非表示にできる"
   ]
  },
  {
   "cell_type": "code",
   "execution_count": 18,
   "metadata": {},
   "outputs": [
    {
     "data": {
      "text/plain": [
       "\n",
       "\tOne Sample t-test\n",
       "\n",
       "data:  jinji_hyouka$cooperativeness[jinji_hyouka$sex == \"F\"]\n",
       "t = 95.699, df = 316, p-value < 2.2e-16\n",
       "alternative hypothesis: true mean is not equal to 0\n",
       "95 percent confidence interval:\n",
       " 51.83312 54.00915\n",
       "sample estimates:\n",
       "mean of x \n",
       " 52.92114 \n"
      ]
     },
     "metadata": {},
     "output_type": "display_data"
    },
    {
     "data": {
      "text/plain": [
       "\n",
       "\tOne Sample t-test\n",
       "\n",
       "data:  jinji_hyouka$cooperativeness[jinji_hyouka$sex == \"M\"]\n",
       "t = 108.75, df = 482, p-value < 2.2e-16\n",
       "alternative hypothesis: true mean is not equal to 0\n",
       "95 percent confidence interval:\n",
       " 49.15146 50.96034\n",
       "sample estimates:\n",
       "mean of x \n",
       "  50.0559 \n"
      ]
     },
     "metadata": {},
     "output_type": "display_data"
    }
   ],
   "source": [
    "#信頼区間の算出\n",
    "t.test(jinji_hyouka$cooperativeness[jinji_hyouka$sex == \"F\"])    #t.test()に量的変数を入れることで算出\n",
    "t.test(jinji_hyouka$cooperativeness[jinji_hyouka$sex == \"M\"])"
   ]
  },
  {
   "cell_type": "markdown",
   "metadata": {},
   "source": [
    "## 多変量データの基礎分析\n",
    "\n",
    "- 行(列)に対する基礎集計\n",
    "- 群間比較\n",
    "- データの標準化\n",
    "- 相関関係の分析(散布図など)\n",
    "- 連関の分析\n",
    "- その他(偏相関係数・カテゴリカルデータの相関係数・効果量)"
   ]
  },
  {
   "cell_type": "code",
   "execution_count": 19,
   "metadata": {},
   "outputs": [
    {
     "data": {
      "text/html": [
       "<table>\n",
       "<thead><tr><th scope=col>cooperativeness</th><th scope=col>self-assertion</th><th scope=col>skill</th><th scope=col>knowledge</th></tr></thead>\n",
       "<tbody>\n",
       "\t<tr><td>51.19125</td><td>58.005  </td><td>50.00625</td><td>63.00375</td></tr>\n",
       "</tbody>\n",
       "</table>\n"
      ],
      "text/latex": [
       "\\begin{tabular}{llll}\n",
       " cooperativeness & self-assertion & skill & knowledge\\\\\n",
       "\\hline\n",
       "\t 51.19125 & 58.005   & 50.00625 & 63.00375\\\\\n",
       "\\end{tabular}\n"
      ],
      "text/markdown": [
       "\n",
       "cooperativeness | self-assertion | skill | knowledge | \n",
       "|---|\n",
       "| 51.19125 | 58.005   | 50.00625 | 63.00375 | \n",
       "\n",
       "\n"
      ],
      "text/plain": [
       "     cooperativeness self-assertion skill    knowledge\n",
       "[1,] 51.19125        58.005         50.00625 63.00375 "
      ]
     },
     "metadata": {},
     "output_type": "display_data"
    },
    {
     "data": {
      "text/html": [
       "<table>\n",
       "<thead><tr><th scope=col>cooperativeness</th><th scope=col>self-assertion</th><th scope=col>skill</th><th scope=col>knowledge</th></tr></thead>\n",
       "<tbody>\n",
       "\t<tr><td>10.10147</td><td>11.9929 </td><td>10.00657</td><td>7.995539</td></tr>\n",
       "</tbody>\n",
       "</table>\n"
      ],
      "text/latex": [
       "\\begin{tabular}{llll}\n",
       " cooperativeness & self-assertion & skill & knowledge\\\\\n",
       "\\hline\n",
       "\t 10.10147 & 11.9929  & 10.00657 & 7.995539\\\\\n",
       "\\end{tabular}\n"
      ],
      "text/markdown": [
       "\n",
       "cooperativeness | self-assertion | skill | knowledge | \n",
       "|---|\n",
       "| 10.10147 | 11.9929  | 10.00657 | 7.995539 | \n",
       "\n",
       "\n"
      ],
      "text/plain": [
       "     cooperativeness self-assertion skill    knowledge\n",
       "[1,] 10.10147        11.9929        10.00657 7.995539 "
      ]
     },
     "metadata": {},
     "output_type": "display_data"
    }
   ],
   "source": [
    "#列に対する基礎集計\n",
    "\n",
    "varname <- c(\"cooperativeness\", \"self-assertion\", \"skill\", \"knowledge\")\n",
    "m_jinji <- jinji_hyouka[, varname]    #mini_jinji(笑)\n",
    "\n",
    "#変数別に統計量を算出\n",
    "t(apply(m_jinji, 2, mean))    #apply(データフレーム, 行(1)or列(2)←処理を行う方向, 適用する関数)\n",
    "t(apply(m_jinji, 2, sd))      #jupyter上では、apply系列の関数は転置した方が綺麗に出力される"
   ]
  },
  {
   "cell_type": "code",
   "execution_count": 20,
   "metadata": {},
   "outputs": [
    {
     "data": {
      "text/plain": [
       "jinji_hyouka$sex: F\n",
       "cooperativeness  self-assertion           skill       knowledge \n",
       "       52.92114        57.41640        50.37855        63.05678 \n",
       "------------------------------------------------------------ \n",
       "jinji_hyouka$sex: M\n",
       "cooperativeness  self-assertion           skill       knowledge \n",
       "       50.05590        58.39130        49.76190        62.96894 "
      ]
     },
     "metadata": {},
     "output_type": "display_data"
    },
    {
     "data": {
      "text/plain": [
       "jinji_hyouka$sex: F\n",
       "cooperativeness  self-assertion           skill       knowledge \n",
       "       9.845809       11.233291       10.153034        7.662786 \n",
       "------------------------------------------------------------ \n",
       "jinji_hyouka$sex: M\n",
       "cooperativeness  self-assertion           skill       knowledge \n",
       "      10.116078       12.462645        9.912231        8.214264 "
      ]
     },
     "metadata": {},
     "output_type": "display_data"
    }
   ],
   "source": [
    "#群間で比較\n",
    "\n",
    "#by(データフレーム, 群データ, 適用する関数, 関数に必要な引数...,)\n",
    "by(m_jinji, jinji_hyouka$sex, apply, 2, mean)    #データを群ごとに処理(ここでは性別(群)ごとに、列ごとの統計量を算出)\n",
    "by(m_jinji, jinji_hyouka$sex, apply, 2, sd)      "
   ]
  },
  {
   "cell_type": "code",
   "execution_count": 21,
   "metadata": {},
   "outputs": [
    {
     "data": {
      "text/html": [
       "<table>\n",
       "<thead><tr><th scope=col>cooperativeness</th><th scope=col>self-assertion</th><th scope=col>skill</th><th scope=col>knowledge</th></tr></thead>\n",
       "<tbody>\n",
       "\t<tr><td> 1.8619812</td><td>-1.0843912</td><td>1.49839107</td><td>1.000089  </td></tr>\n",
       "\t<tr><td>-0.6129058</td><td> 0.3331136</td><td>0.09930979</td><td>1.125159  </td></tr>\n",
       "</tbody>\n",
       "</table>\n"
      ],
      "text/latex": [
       "\\begin{tabular}{llll}\n",
       " cooperativeness & self-assertion & skill & knowledge\\\\\n",
       "\\hline\n",
       "\t  1.8619812 & -1.0843912 & 1.49839107 & 1.000089  \\\\\n",
       "\t -0.6129058 &  0.3331136 & 0.09930979 & 1.125159  \\\\\n",
       "\\end{tabular}\n"
      ],
      "text/markdown": [
       "\n",
       "cooperativeness | self-assertion | skill | knowledge | \n",
       "|---|---|\n",
       "|  1.8619812 | -1.0843912 | 1.49839107 | 1.000089   | \n",
       "| -0.6129058 |  0.3331136 | 0.09930979 | 1.125159   | \n",
       "\n",
       "\n"
      ],
      "text/plain": [
       "     cooperativeness self-assertion skill      knowledge\n",
       "[1,]  1.8619812      -1.0843912     1.49839107 1.000089 \n",
       "[2,] -0.6129058       0.3331136     0.09930979 1.125159 "
      ]
     },
     "metadata": {},
     "output_type": "display_data"
    },
    {
     "data": {
      "text/html": [
       "<table>\n",
       "<thead><tr><th scope=col>cooperativeness</th><th scope=col>self-assertion</th><th scope=col>skill</th><th scope=col>knowledge</th></tr></thead>\n",
       "<tbody>\n",
       "\t<tr><td>68.61981</td><td>39.15609</td><td>64.98391</td><td>60.00089</td></tr>\n",
       "\t<tr><td>43.87094</td><td>53.33114</td><td>50.99310</td><td>61.25159</td></tr>\n",
       "</tbody>\n",
       "</table>\n"
      ],
      "text/latex": [
       "\\begin{tabular}{llll}\n",
       " cooperativeness & self-assertion & skill & knowledge\\\\\n",
       "\\hline\n",
       "\t 68.61981 & 39.15609 & 64.98391 & 60.00089\\\\\n",
       "\t 43.87094 & 53.33114 & 50.99310 & 61.25159\\\\\n",
       "\\end{tabular}\n"
      ],
      "text/markdown": [
       "\n",
       "cooperativeness | self-assertion | skill | knowledge | \n",
       "|---|---|\n",
       "| 68.61981 | 39.15609 | 64.98391 | 60.00089 | \n",
       "| 43.87094 | 53.33114 | 50.99310 | 61.25159 | \n",
       "\n",
       "\n"
      ],
      "text/plain": [
       "     cooperativeness self-assertion skill    knowledge\n",
       "[1,] 68.61981        39.15609       64.98391 60.00089 \n",
       "[2,] 43.87094        53.33114       50.99310 61.25159 "
      ]
     },
     "metadata": {},
     "output_type": "display_data"
    }
   ],
   "source": [
    "#データの標準化(変数間の単位の影響をなくす)\n",
    "\n",
    "zscore <- scale(m_jinji)    #scale()で標準化\n",
    "head(zscore, 2)\n",
    "tscore <- zscore*10+50      #偏差値を算出\n",
    "head(tscore, 2)"
   ]
  },
  {
   "cell_type": "markdown",
   "metadata": {},
   "source": [
    "### 多変量データの関係性の分析\n",
    "\n",
    "- 散布図\n",
    "- 散布図行列\n",
    "- 層別散布図\n",
    "- 相関係数(相関行列・共分散行列)\n",
    "- 相関係数の検定"
   ]
  },
  {
   "cell_type": "code",
   "execution_count": 22,
   "metadata": {},
   "outputs": [
    {
     "data": {
      "image/png": "[encoded data removed]",
      "text/plain": [
       "plot without title"
      ]
     },
     "metadata": {},
     "output_type": "display_data"
    }
   ],
   "source": [
    "#散布図の描画\n",
    "\n",
    "ginou <- jinji_hyouka$skill\n",
    "chisiki <- jinji_hyouka$knowledge\n",
    "#plot(x軸に置く変数, y軸に置く変数, x軸のラベル, y軸のラベル)\n",
    "plot(ginou, chisiki, xlab=\"技能\", ylab=\"知識\")"
   ]
  },
  {
   "cell_type": "markdown",
   "metadata": {},
   "source": [
    "プロットされた散布図から、正の相関があると推測できる"
   ]
  },
  {
   "cell_type": "code",
   "execution_count": 23,
   "metadata": {},
   "outputs": [
    {
     "data": {
      "image/png": "[encoded data removed]",
      "text/plain": [
       "plot without title"
      ]
     },
     "metadata": {},
     "output_type": "display_data"
    }
   ],
   "source": [
    "#散布図行列の描画\n",
    "\n",
    "kjs <- c(\"cooperativeness\", \"self-assertion\", \"stress\")    #「協調性」、「自己主張」、「ストレス」\n",
    "plot(jinji_hyouka[, kjs])"
   ]
  },
  {
   "cell_type": "markdown",
   "metadata": {},
   "source": [
    "#### 散布図行列の見方\n",
    "\n",
    "散布図のx軸は散布図がある列の変数、y軸は散布図がある行の変数に対応している。  \n",
    "左下の散布図であれば、x軸が「協調性」、y軸が「ストレス」になる。  \n",
    "散布図から、「協調性」と「自己主張」に正の相関がみられる一方で、「協調性」と「ストレス」は負の相関がみられる。"
   ]
  },
  {
   "cell_type": "markdown",
   "metadata": {},
   "source": [
    "library(lattice)    #層別散布図の出力に必要"
   ]
  },
  {
   "cell_type": "code",
   "execution_count": 24,
   "metadata": {},
   "outputs": [
    {
     "data": {},
     "metadata": {},
     "output_type": "display_data"
    },
    {
     "data": {
      "image/png": "[encoded data removed]",
      "text/plain": [
       "plot without title"
      ]
     },
     "metadata": {},
     "output_type": "display_data"
    }
   ],
   "source": [
    "#層別散布図(latticeパッケージ)\n",
    "\n",
    "xyplot(knowledge~skill|age+dep, data=jinji_hyouka)    #xyplot(y軸の変数~x軸の変数 |層別したい変数1+..., data)"
   ]
  },
  {
   "cell_type": "markdown",
   "metadata": {},
   "source": [
    "層別散布図より、部署や年代に限らず「技能」と「知識」には正の相関がみられる"
   ]
  },
  {
   "cell_type": "code",
   "execution_count": 25,
   "metadata": {},
   "outputs": [
    {
     "data": {
      "text/html": [
       "-0.507291977902646"
      ],
      "text/latex": [
       "-0.507291977902646"
      ],
      "text/markdown": [
       "-0.507291977902646"
      ],
      "text/plain": [
       "[1] -0.507292"
      ]
     },
     "metadata": {},
     "output_type": "display_data"
    }
   ],
   "source": [
    "#(ピアソンの積率)相関係数の算出\n",
    "cor(jinji_hyouka$cooperativeness, jinji_hyouka$stress)"
   ]
  },
  {
   "cell_type": "code",
   "execution_count": 26,
   "metadata": {},
   "outputs": [
    {
     "data": {
      "text/html": [
       "<table>\n",
       "<thead><tr><th></th><th scope=col>cooperativeness</th><th scope=col>self-assertion</th><th scope=col>stress</th></tr></thead>\n",
       "<tbody>\n",
       "\t<tr><th scope=row>cooperativeness</th><td> 1.0000000</td><td>0.3486028 </td><td>-0.5072920</td></tr>\n",
       "\t<tr><th scope=row>self-assertion</th><td> 0.3486028</td><td>1.0000000 </td><td> 0.1147188</td></tr>\n",
       "\t<tr><th scope=row>stress</th><td>-0.5072920</td><td>0.1147188 </td><td> 1.0000000</td></tr>\n",
       "</tbody>\n",
       "</table>\n"
      ],
      "text/latex": [
       "\\begin{tabular}{r|lll}\n",
       "  & cooperativeness & self-assertion & stress\\\\\n",
       "\\hline\n",
       "\tcooperativeness &  1.0000000 & 0.3486028  & -0.5072920\\\\\n",
       "\tself-assertion &  0.3486028 & 1.0000000  &  0.1147188\\\\\n",
       "\tstress & -0.5072920 & 0.1147188  &  1.0000000\\\\\n",
       "\\end{tabular}\n"
      ],
      "text/markdown": [
       "\n",
       "| <!--/--> | cooperativeness | self-assertion | stress | \n",
       "|---|---|---|\n",
       "| cooperativeness |  1.0000000 | 0.3486028  | -0.5072920 | \n",
       "| self-assertion |  0.3486028 | 1.0000000  |  0.1147188 | \n",
       "| stress | -0.5072920 | 0.1147188  |  1.0000000 | \n",
       "\n",
       "\n"
      ],
      "text/plain": [
       "                cooperativeness self-assertion stress    \n",
       "cooperativeness  1.0000000      0.3486028      -0.5072920\n",
       "self-assertion   0.3486028      1.0000000       0.1147188\n",
       "stress          -0.5072920      0.1147188       1.0000000"
      ]
     },
     "metadata": {},
     "output_type": "display_data"
    }
   ],
   "source": [
    "#相関行列の算出\n",
    "cor(jinji_hyouka[, kjs])"
   ]
  },
  {
   "cell_type": "code",
   "execution_count": 27,
   "metadata": {},
   "outputs": [
    {
     "data": {
      "text/html": [
       "<table>\n",
       "<thead><tr><th></th><th scope=col>cooperativeness</th><th scope=col>self-assertion</th><th scope=col>stress</th></tr></thead>\n",
       "<tbody>\n",
       "\t<tr><th scope=row>cooperativeness</th><td>102.03972 </td><td> 42.231834</td><td>-30.863620</td></tr>\n",
       "\t<tr><th scope=row>self-assertion</th><td> 42.23183 </td><td>143.829762</td><td>  8.286345</td></tr>\n",
       "\t<tr><th scope=row>stress</th><td>-30.86362 </td><td>  8.286345</td><td> 36.275088</td></tr>\n",
       "</tbody>\n",
       "</table>\n"
      ],
      "text/latex": [
       "\\begin{tabular}{r|lll}\n",
       "  & cooperativeness & self-assertion & stress\\\\\n",
       "\\hline\n",
       "\tcooperativeness & 102.03972  &  42.231834 & -30.863620\\\\\n",
       "\tself-assertion &  42.23183  & 143.829762 &   8.286345\\\\\n",
       "\tstress & -30.86362  &   8.286345 &  36.275088\\\\\n",
       "\\end{tabular}\n"
      ],
      "text/markdown": [
       "\n",
       "| <!--/--> | cooperativeness | self-assertion | stress | \n",
       "|---|---|---|\n",
       "| cooperativeness | 102.03972  |  42.231834 | -30.863620 | \n",
       "| self-assertion |  42.23183  | 143.829762 |   8.286345 | \n",
       "| stress | -30.86362  |   8.286345 |  36.275088 | \n",
       "\n",
       "\n"
      ],
      "text/plain": [
       "                cooperativeness self-assertion stress    \n",
       "cooperativeness 102.03972        42.231834     -30.863620\n",
       "self-assertion   42.23183       143.829762       8.286345\n",
       "stress          -30.86362         8.286345      36.275088"
      ]
     },
     "metadata": {},
     "output_type": "display_data"
    }
   ],
   "source": [
    "#共分散の算出(変数の単位に依存する)\n",
    "cov(jinji_hyouka[, kjs])"
   ]
  },
  {
   "cell_type": "code",
   "execution_count": 28,
   "metadata": {
    "collapsed": true
   },
   "outputs": [],
   "source": [
    "library(psych)    #相関係数の検定に用いる"
   ]
  },
  {
   "cell_type": "code",
   "execution_count": 29,
   "metadata": {},
   "outputs": [
    {
     "data": {
      "text/html": [
       "<table>\n",
       "<thead><tr><th></th><th scope=col>cooperativeness</th><th scope=col>self-assertion</th><th scope=col>stress</th></tr></thead>\n",
       "<tbody>\n",
       "\t<tr><th scope=row>cooperativeness</th><td>      Inf </td><td>10.506726 </td><td>-16.628992</td></tr>\n",
       "\t<tr><th scope=row>self-assertion</th><td> 10.50673 </td><td>      Inf </td><td>  3.262215</td></tr>\n",
       "\t<tr><th scope=row>stress</th><td>-16.62899 </td><td> 3.262215 </td><td>       Inf</td></tr>\n",
       "</tbody>\n",
       "</table>\n"
      ],
      "text/latex": [
       "\\begin{tabular}{r|lll}\n",
       "  & cooperativeness & self-assertion & stress\\\\\n",
       "\\hline\n",
       "\tcooperativeness &       Inf  & 10.506726  & -16.628992\\\\\n",
       "\tself-assertion &  10.50673  &       Inf  &   3.262215\\\\\n",
       "\tstress & -16.62899  &  3.262215  &        Inf\\\\\n",
       "\\end{tabular}\n"
      ],
      "text/markdown": [
       "\n",
       "| <!--/--> | cooperativeness | self-assertion | stress | \n",
       "|---|---|---|\n",
       "| cooperativeness |       Inf  | 10.506726  | -16.628992 | \n",
       "| self-assertion |  10.50673  |       Inf  |   3.262215 | \n",
       "| stress | -16.62899  |  3.262215  |        Inf | \n",
       "\n",
       "\n"
      ],
      "text/plain": [
       "                cooperativeness self-assertion stress    \n",
       "cooperativeness       Inf       10.506726      -16.628992\n",
       "self-assertion   10.50673             Inf        3.262215\n",
       "stress          -16.62899        3.262215             Inf"
      ]
     },
     "metadata": {},
     "output_type": "display_data"
    },
    {
     "data": {
      "text/html": [
       "<table>\n",
       "<thead><tr><th></th><th scope=col>cooperativeness</th><th scope=col>self-assertion</th><th scope=col>stress</th></tr></thead>\n",
       "<tbody>\n",
       "\t<tr><th scope=row>cooperativeness</th><td>0.000000e+00</td><td>5.674197e-24</td><td>4.625242e-53</td></tr>\n",
       "\t<tr><th scope=row>self-assertion</th><td>2.837099e-24</td><td>0.000000e+00</td><td>1.152430e-03</td></tr>\n",
       "\t<tr><th scope=row>stress</th><td>1.541747e-53</td><td>1.152430e-03</td><td>0.000000e+00</td></tr>\n",
       "</tbody>\n",
       "</table>\n"
      ],
      "text/latex": [
       "\\begin{tabular}{r|lll}\n",
       "  & cooperativeness & self-assertion & stress\\\\\n",
       "\\hline\n",
       "\tcooperativeness & 0.000000e+00 & 5.674197e-24 & 4.625242e-53\\\\\n",
       "\tself-assertion & 2.837099e-24 & 0.000000e+00 & 1.152430e-03\\\\\n",
       "\tstress & 1.541747e-53 & 1.152430e-03 & 0.000000e+00\\\\\n",
       "\\end{tabular}\n"
      ],
      "text/markdown": [
       "\n",
       "| <!--/--> | cooperativeness | self-assertion | stress | \n",
       "|---|---|---|\n",
       "| cooperativeness | 0.000000e+00 | 5.674197e-24 | 4.625242e-53 | \n",
       "| self-assertion | 2.837099e-24 | 0.000000e+00 | 1.152430e-03 | \n",
       "| stress | 1.541747e-53 | 1.152430e-03 | 0.000000e+00 | \n",
       "\n",
       "\n"
      ],
      "text/plain": [
       "                cooperativeness self-assertion stress      \n",
       "cooperativeness 0.000000e+00    5.674197e-24   4.625242e-53\n",
       "self-assertion  2.837099e-24    0.000000e+00   1.152430e-03\n",
       "stress          1.541747e-53    1.152430e-03   0.000000e+00"
      ]
     },
     "metadata": {},
     "output_type": "display_data"
    }
   ],
   "source": [
    "#相関係数の検定\n",
    "corkekka <- corr.test(jinji_hyouka[, kjs])    #corr.test()で検定\n",
    "\n",
    "corkekka$t    #t値の算出\n",
    "corkekka$p    #p値の算出"
   ]
  },
  {
   "cell_type": "markdown",
   "metadata": {},
   "source": [
    "※p値の上三角行列はHolm法による多重比較の補正をしたp値を算出  \n",
    "※無相関検定をする場合は2変数がどちらも正規分布に従っていることが前提\n",
    "(相関係数から求めた統計量が自由度n-2のt分布に従うことの証明は難しいので割愛(笑))\n",
    "\n",
    "[無相関検定を行う上での注意事項](http://tomoshige-n.hatenablog.com/entry/2014/09/26/221108)  \n",
    "[無相関検定の演算](https://bellcurve.jp/statistics/course/9591.html)  \n",
    "[多重比較の概要](http://www.med.osaka-u.ac.jp/pub/kid/clinicaljournalclub1.html)  \n",
    "[BonferroniとFDR](http://www.gon-tech.net/article/443528763.html#para6)  "
   ]
  },
  {
   "cell_type": "markdown",
   "metadata": {},
   "source": [
    "### 連関の分析\n",
    "\n",
    "連関:質的変数間の関連性\n",
    "- クロス集計\n",
    "- 層別クロス集計\n",
    "- 連関係数\n",
    "- χ^2検定と残差分析"
   ]
  },
  {
   "cell_type": "code",
   "execution_count": 30,
   "metadata": {},
   "outputs": [
    {
     "data": {
      "text/plain": [
       "     \n",
       "      若手 熟練 中堅\n",
       "  A部  216   58  150\n",
       "  B部   99  119  158"
      ]
     },
     "metadata": {},
     "output_type": "display_data"
    }
   ],
   "source": [
    "#クロス集計表の作成\n",
    "\n",
    "cross <- table(jinji_hyouka$dep, jinji_hyouka$age)    #table(質的変数1, 質的変数2)\n",
    "cross"
   ]
  },
  {
   "cell_type": "code",
   "execution_count": 31,
   "metadata": {},
   "outputs": [
    {
     "data": {
      "text/plain": [
       "     \n",
       "         若手    熟練    中堅\n",
       "  A部 0.27000 0.07250 0.18750\n",
       "  B部 0.12375 0.14875 0.19750"
      ]
     },
     "metadata": {},
     "output_type": "display_data"
    },
    {
     "data": {
      "text/plain": [
       "     \n",
       "           若手      熟練      中堅\n",
       "  A部 0.5094340 0.1367925 0.3537736\n",
       "  B部 0.2632979 0.3164894 0.4202128"
      ]
     },
     "metadata": {},
     "output_type": "display_data"
    },
    {
     "data": {
      "text/plain": [
       "     \n",
       "           若手      熟練      中堅\n",
       "  A部 0.6857143 0.3276836 0.4870130\n",
       "  B部 0.3142857 0.6723164 0.5129870"
      ]
     },
     "metadata": {},
     "output_type": "display_data"
    }
   ],
   "source": [
    "#クロス集計の割合表記\n",
    "\n",
    "prop.table(cross)    #全度数を基準にした割合表記\n",
    "prop.table(cross, 1) #行方向の周辺度数の割合表記\n",
    "prop.table(cross, 2) #列方向の周辺度数の割合表記"
   ]
  },
  {
   "cell_type": "markdown",
   "metadata": {},
   "source": [
    "行方向のクロス表から、A部は若手が多いのに対し、B部は熟練、中堅が多い"
   ]
  },
  {
   "cell_type": "code",
   "execution_count": 32,
   "metadata": {
    "scrolled": false
   },
   "outputs": [
    {
     "data": {
      "text/plain": [
       ", , sex = F\n",
       "\n",
       "     age\n",
       "dep   若手 熟練 中堅\n",
       "  A部   91   23   53\n",
       "  B部   40   54   56\n",
       "\n",
       ", , sex = M\n",
       "\n",
       "     age\n",
       "dep   若手 熟練 中堅\n",
       "  A部  125   35   97\n",
       "  B部   59   65  102\n"
      ]
     },
     "metadata": {},
     "output_type": "display_data"
    }
   ],
   "source": [
    "#層別クロス集計表\n",
    "\n",
    "xtabs(~dep+age+sex, data=jinji_hyouka)    #xtabs(~行方向に表示する変数+列方向に表示する変数+層別変数)"
   ]
  },
  {
   "cell_type": "markdown",
   "metadata": {
    "collapsed": true
   },
   "source": [
    "### 順序カテゴリカル変数の相関係数\n",
    "\n",
    "- 順序カテゴリカル変数に対しピアソンの積率相関係数を求めると、本来の値より絶対値が小さくなる  \n",
    "- Rのcorはピアソンの積率相関係数を求める関数のため、順序カテゴリカル変数には不適  \n",
    "- カテゴリカル変数は背後に潜在変数の存在を仮定したうえで、潜在変数間の相関係数を推定する\n",
    "\n",
    "#### 順序カテゴリカル変数に対応した相関係数\n",
    "\n",
    "- ポリコリック(polychoric)相関係数:  \n",
    "    &emsp;&emsp;順序カテゴリカル変数間の相関係数で、両変数が2値型の場合はテトラコリック(tetorachoric)相関係数と呼ぶ。  \n",
    "    \n",
    "    \n",
    "- ポリシリアル(polyserial)相関係数:  \n",
    "    &emsp;&emsp;順序カテゴリカル変数と量的変数の相関係数で、順序カテゴリカル変数は2値型の場合はバイシリアル(biserial)相関係数と呼ぶ。"
   ]
  },
  {
   "cell_type": "code",
   "execution_count": 33,
   "metadata": {},
   "outputs": [
    {
     "data": {
      "text/html": [
       "<ol class=list-inline>\n",
       "\t<li>-Inf</li>\n",
       "\t<li>221.0175</li>\n",
       "\t<li>Inf</li>\n",
       "</ol>\n"
      ],
      "text/latex": [
       "\\begin{enumerate*}\n",
       "\\item -Inf\n",
       "\\item 221.0175\n",
       "\\item Inf\n",
       "\\end{enumerate*}\n"
      ],
      "text/markdown": [
       "1. -Inf\n",
       "2. 221.0175\n",
       "3. Inf\n",
       "\n",
       "\n"
      ],
      "text/plain": [
       "[1]     -Inf 221.0175      Inf"
      ]
     },
     "metadata": {},
     "output_type": "display_data"
    },
    {
     "data": {
      "text/html": [
       "<ol class=list-inline>\n",
       "\t<li>1</li>\n",
       "\t<li>1</li>\n",
       "\t<li>1</li>\n",
       "\t<li>1</li>\n",
       "\t<li>0</li>\n",
       "\t<li>1</li>\n",
       "</ol>\n",
       "\n",
       "<details>\n",
       "\t<summary style=display:list-item;cursor:pointer>\n",
       "\t\t<strong>Levels</strong>:\n",
       "\t</summary>\n",
       "\t<ol class=list-inline>\n",
       "\t\t<li>'0'</li>\n",
       "\t\t<li>'1'</li>\n",
       "\t</ol>\n",
       "</details>"
      ],
      "text/latex": [
       "\\begin{enumerate*}\n",
       "\\item 1\n",
       "\\item 1\n",
       "\\item 1\n",
       "\\item 1\n",
       "\\item 0\n",
       "\\item 1\n",
       "\\end{enumerate*}\n",
       "\n",
       "\\emph{Levels}: \\begin{enumerate*}\n",
       "\\item '0'\n",
       "\\item '1'\n",
       "\\end{enumerate*}\n"
      ],
      "text/markdown": [
       "1. 1\n",
       "2. 1\n",
       "3. 1\n",
       "4. 1\n",
       "5. 0\n",
       "6. 1\n",
       "\n",
       "\n",
       "\n",
       "**Levels**: 1. '0'\n",
       "2. '1'\n",
       "\n",
       "\n"
      ],
      "text/plain": [
       "[1] 1 1 1 1 0 1\n",
       "Levels: 0 1"
      ]
     },
     "metadata": {},
     "output_type": "display_data"
    },
    {
     "data": {
      "text/html": [
       "<table>\n",
       "<thead><tr><th scope=col></th><th scope=col>1st Qu.</th><th scope=col>3rd Qu.</th><th scope=col></th></tr></thead>\n",
       "<tbody>\n",
       "\t<tr><td>-Inf</td><td>44  </td><td>56  </td><td>Inf </td></tr>\n",
       "</tbody>\n",
       "</table>\n"
      ],
      "text/latex": [
       "\\begin{tabular}{llll}\n",
       "  & 1st Qu. & 3rd Qu. & \\\\\n",
       "\\hline\n",
       "\t -Inf & 44   & 56   & Inf \\\\\n",
       "\\end{tabular}\n"
      ],
      "text/markdown": [
       "\n",
       " | 1st Qu. | 3rd Qu. |  | \n",
       "|---|\n",
       "| -Inf | 44   | 56   | Inf  | \n",
       "\n",
       "\n"
      ],
      "text/plain": [
       "          1st Qu. 3rd Qu.    \n",
       "[1,] -Inf 44      56      Inf"
      ]
     },
     "metadata": {},
     "output_type": "display_data"
    },
    {
     "data": {
      "text/html": [
       "<ol class=list-inline>\n",
       "\t<li>2</li>\n",
       "\t<li>1</li>\n",
       "\t<li>1</li>\n",
       "\t<li>1</li>\n",
       "\t<li>1</li>\n",
       "\t<li>1</li>\n",
       "</ol>\n",
       "\n",
       "<details>\n",
       "\t<summary style=display:list-item;cursor:pointer>\n",
       "\t\t<strong>Levels</strong>:\n",
       "\t</summary>\n",
       "\t<ol class=list-inline>\n",
       "\t\t<li>'0'</li>\n",
       "\t\t<li>'1'</li>\n",
       "\t\t<li>'2'</li>\n",
       "\t</ol>\n",
       "</details>"
      ],
      "text/latex": [
       "\\begin{enumerate*}\n",
       "\\item 2\n",
       "\\item 1\n",
       "\\item 1\n",
       "\\item 1\n",
       "\\item 1\n",
       "\\item 1\n",
       "\\end{enumerate*}\n",
       "\n",
       "\\emph{Levels}: \\begin{enumerate*}\n",
       "\\item '0'\n",
       "\\item '1'\n",
       "\\item '2'\n",
       "\\end{enumerate*}\n"
      ],
      "text/markdown": [
       "1. 2\n",
       "2. 1\n",
       "3. 1\n",
       "4. 1\n",
       "5. 1\n",
       "6. 1\n",
       "\n",
       "\n",
       "\n",
       "**Levels**: 1. '0'\n",
       "2. '1'\n",
       "3. '2'\n",
       "\n",
       "\n"
      ],
      "text/plain": [
       "[1] 2 1 1 1 1 1\n",
       "Levels: 0 1 2"
      ]
     },
     "metadata": {},
     "output_type": "display_data"
    }
   ],
   "source": [
    "#量的変数をカテゴリカル変数に変換する場合の例(あまり好ましくない)\n",
    "\n",
    "#2値カテゴリカル変数化するための階級幅の作成\n",
    "total_breaks <- c(-Inf, mean(jinji_hyouka$total), Inf)    #平均値を境目にした階級幅の作成のためのベクトルを生成\n",
    "total_breaks\n",
    "\n",
    "#階級幅を利用してデータを0と1に変換\n",
    "\n",
    "#cut(カテゴリ化する量的変数, 階級幅を定めるベクトル, 上限値を含むor含まない, カテゴリ名)\n",
    "total_cat <- cut(jinji_hyouka$total, breaks=total_breaks, right=FALSE, labels=c(0, 1))\n",
    "head(total_cat)    # Levels:をクリックすると水準が表示される\n",
    "\n",
    "#3値カテゴリ変数化する場合の階級幅の生成\n",
    "skill_breaks <- c(-Inf, summary(jinji_hyouka$skill)[c(2, 5)], Inf)\n",
    "t(skill_breaks)    #←普通に出力すると縦に出力されて見にくいので転置\n",
    "\n",
    "#階級幅を利用してデータを0, 1, 2に変換\n",
    "skill_cat <- cut(jinji_hyouka$skill, breaks=skill_breaks, right=FALSE, labels=c(0, 1, 2))\n",
    "head(skill_cat)"
   ]
  },
  {
   "cell_type": "markdown",
   "metadata": {},
   "source": [
    "#### つぶやき\n",
    "\n",
    "コード内にコメントアウトで環境依存文字(右三角の記号のやつ)を入力したら「Unicodeはアカンで～」と言われた(笑)\n",
    "\n",
    "\n"
   ]
  },
  {
   "cell_type": "markdown",
   "metadata": {},
   "source": [
    "#### 順序カテゴリカル変数を含めた相関行列の算出\n",
    "\n",
    "polycorパッケージを読み込む"
   ]
  },
  {
   "cell_type": "code",
   "execution_count": 34,
   "metadata": {
    "collapsed": true
   },
   "outputs": [],
   "source": [
    "#polycorとpsychは同じ名前の関数polyserialがあり、先に呼ばれた方が上書きされてしまうのでwarn.conflicts=F\n",
    "library(polycor, warn.conflicts = F)    "
   ]
  },
  {
   "cell_type": "code",
   "execution_count": 35,
   "metadata": {},
   "outputs": [
    {
     "data": {
      "text/plain": [
       "\n",
       "Maximum-Likelihood Estimates\n",
       "\n",
       "Correlations/Type of Correlation:\n",
       "          total_cat  skill_cat  knowledge\n",
       "total_cat         1 Polychoric Polyserial\n",
       "skill_cat    0.7973          1 Polyserial\n",
       "knowledge    0.6329     0.4558          1\n",
       "\n",
       "Standard Errors:\n",
       "          total_cat skill_cat\n",
       "total_cat                    \n",
       "skill_cat   0.02391          \n",
       "knowledge   0.02811   0.03074\n",
       "\n",
       "n = 800 \n",
       "\n",
       "P-values for Tests of Bivariate Normality:\n",
       "          total_cat skill_cat\n",
       "total_cat                    \n",
       "skill_cat    0.3198          \n",
       "knowledge    0.1545    0.1056"
      ]
     },
     "metadata": {},
     "output_type": "display_data"
    }
   ],
   "source": [
    "#順序カテゴリカル変数を含めたデータフレーム\n",
    "jinji_hyouka_all_cor <- data.frame(total_cat=total_cat, skill_cat=skill_cat, knowledge=jinji_hyouka$knowledge)\n",
    "\n",
    "#順序カテゴリカル変数を含めた相関行列の算出(polycorパッケージのhetcor関数)\n",
    "\n",
    "#hetcor(データフレーム, 相関係数の推定方法が最尤法 or two-step法でステイされた最尤法の簡便解)\n",
    "polycor_res <- hetcor(jinji_hyouka_all_cor, ML=TRUE)    \n",
    "polycor_res    #演算結果の出力"
   ]
  },
  {
   "cell_type": "code",
   "execution_count": 36,
   "metadata": {},
   "outputs": [
    {
     "name": "stdout",
     "output_type": "stream",
     "text": [
      "List of 7\n",
      " $ correlations: num [1:3, 1:3] 1 0.797 0.633 0.797 1 ...\n",
      "  ..- attr(*, \"dimnames\")=List of 2\n",
      "  .. ..$ : chr [1:3] \"total_cat\" \"skill_cat\" \"knowledge\"\n",
      "  .. ..$ : chr [1:3] \"total_cat\" \"skill_cat\" \"knowledge\"\n",
      " $ type        : chr [1:3, 1:3] \"\" \"Polychoric\" \"Polyserial\" \"Polychoric\" ...\n",
      " $ NA.method   : chr \"complete.obs\"\n",
      " $ ML          : logi TRUE\n",
      " $ std.errors  : num [1:3, 1:3] 0 0.0239 0.0281 0.0239 0 ...\n",
      "  ..- attr(*, \"dimnames\")=List of 2\n",
      "  .. ..$ : chr [1:3] \"total_cat\" \"skill_cat\" \"knowledge\"\n",
      "  .. ..$ : chr [1:3] \"total_cat\" \"skill_cat\" \"knowledge\"\n",
      " $ n           : int 800\n",
      " $ tests       : num [1:3, 1:3] 0 0.32 0.154 0 0 ...\n",
      "  ..- attr(*, \"dimnames\")=List of 2\n",
      "  .. ..$ : chr [1:3] \"total_cat\" \"skill_cat\" \"knowledge\"\n",
      "  .. ..$ : chr [1:3] \"total_cat\" \"skill_cat\" \"knowledge\"\n",
      " - attr(*, \"class\")= chr \"hetcor\"\n"
     ]
    }
   ],
   "source": [
    "#出力結果に含まれる要素を確認\n",
    "str(polycor_res)          "
   ]
  },
  {
   "cell_type": "code",
   "execution_count": 37,
   "metadata": {
    "scrolled": true
   },
   "outputs": [
    {
     "data": {
      "text/html": [
       "<table>\n",
       "<thead><tr><th></th><th scope=col>total_cat</th><th scope=col>skill_cat</th><th scope=col>knowledge</th></tr></thead>\n",
       "<tbody>\n",
       "\t<tr><th scope=row>total_cat</th><td>1.0000000</td><td>0.7973437</td><td>0.6329281</td></tr>\n",
       "\t<tr><th scope=row>skill_cat</th><td>0.7973437</td><td>1.0000000</td><td>0.4558098</td></tr>\n",
       "\t<tr><th scope=row>knowledge</th><td>0.6329281</td><td>0.4558098</td><td>1.0000000</td></tr>\n",
       "</tbody>\n",
       "</table>\n"
      ],
      "text/latex": [
       "\\begin{tabular}{r|lll}\n",
       "  & total\\_cat & skill\\_cat & knowledge\\\\\n",
       "\\hline\n",
       "\ttotal\\_cat & 1.0000000 & 0.7973437 & 0.6329281\\\\\n",
       "\tskill\\_cat & 0.7973437 & 1.0000000 & 0.4558098\\\\\n",
       "\tknowledge & 0.6329281 & 0.4558098 & 1.0000000\\\\\n",
       "\\end{tabular}\n"
      ],
      "text/markdown": [
       "\n",
       "| <!--/--> | total_cat | skill_cat | knowledge | \n",
       "|---|---|---|\n",
       "| total_cat | 1.0000000 | 0.7973437 | 0.6329281 | \n",
       "| skill_cat | 0.7973437 | 1.0000000 | 0.4558098 | \n",
       "| knowledge | 0.6329281 | 0.4558098 | 1.0000000 | \n",
       "\n",
       "\n"
      ],
      "text/plain": [
       "          total_cat skill_cat knowledge\n",
       "total_cat 1.0000000 0.7973437 0.6329281\n",
       "skill_cat 0.7973437 1.0000000 0.4558098\n",
       "knowledge 0.6329281 0.4558098 1.0000000"
      ]
     },
     "metadata": {},
     "output_type": "display_data"
    }
   ],
   "source": [
    "#順序カテゴリカル変数を含めた相関係数のみ出力する\n",
    "polycor_res$correlations  "
   ]
  },
  {
   "cell_type": "markdown",
   "metadata": {},
   "source": [
    "相関係数のみ出力した場合、相関係数の種類がpearsonなのかpolychoricなのかpolyserialなのか分かりづらい。  \n",
    "そのため、片側の三角行列に相関係数のタイプを代入する"
   ]
  },
  {
   "cell_type": "code",
   "execution_count": 38,
   "metadata": {},
   "outputs": [
    {
     "data": {
      "text/html": [
       "<table>\n",
       "<tbody>\n",
       "\t<tr><td>          </td><td>Polychoric</td><td>Polyserial</td></tr>\n",
       "\t<tr><td>Polychoric</td><td>          </td><td>Polyserial</td></tr>\n",
       "\t<tr><td>Polyserial</td><td>Polyserial</td><td>          </td></tr>\n",
       "</tbody>\n",
       "</table>\n"
      ],
      "text/latex": [
       "\\begin{tabular}{lll}\n",
       "\t            & Polychoric & Polyserial\\\\\n",
       "\t Polychoric &            & Polyserial\\\\\n",
       "\t Polyserial & Polyserial &           \\\\\n",
       "\\end{tabular}\n"
      ],
      "text/markdown": [
       "\n",
       "|            | Polychoric | Polyserial | \n",
       "| Polychoric |            | Polyserial | \n",
       "| Polyserial | Polyserial |            | \n",
       "\n",
       "\n"
      ],
      "text/plain": [
       "     [,1]       [,2]       [,3]      \n",
       "[1,]            Polychoric Polyserial\n",
       "[2,] Polychoric            Polyserial\n",
       "[3,] Polyserial Polyserial           "
      ]
     },
     "metadata": {},
     "output_type": "display_data"
    },
    {
     "data": {
      "text/html": [
       "<table>\n",
       "<thead><tr><th></th><th scope=col>total_cat</th><th scope=col>skill_cat</th><th scope=col>knowledge</th></tr></thead>\n",
       "<tbody>\n",
       "\t<tr><th scope=row>total_cat</th><td>1                </td><td>Polychoric       </td><td>Polyserial       </td></tr>\n",
       "\t<tr><th scope=row>skill_cat</th><td>0.79734372834492 </td><td>1                </td><td>Polyserial       </td></tr>\n",
       "\t<tr><th scope=row>knowledge</th><td>0.63292810102076 </td><td>0.455809824192717</td><td>1                </td></tr>\n",
       "</tbody>\n",
       "</table>\n"
      ],
      "text/latex": [
       "\\begin{tabular}{r|lll}\n",
       "  & total\\_cat & skill\\_cat & knowledge\\\\\n",
       "\\hline\n",
       "\ttotal\\_cat & 1                 & Polychoric        & Polyserial       \\\\\n",
       "\tskill\\_cat & 0.79734372834492  & 1                 & Polyserial       \\\\\n",
       "\tknowledge & 0.63292810102076  & 0.455809824192717 & 1                \\\\\n",
       "\\end{tabular}\n"
      ],
      "text/markdown": [
       "\n",
       "| <!--/--> | total_cat | skill_cat | knowledge | \n",
       "|---|---|---|\n",
       "| total_cat | 1                 | Polychoric        | Polyserial        | \n",
       "| skill_cat | 0.79734372834492  | 1                 | Polyserial        | \n",
       "| knowledge | 0.63292810102076  | 0.455809824192717 | 1                 | \n",
       "\n",
       "\n"
      ],
      "text/plain": [
       "          total_cat        skill_cat         knowledge \n",
       "total_cat 1                Polychoric        Polyserial\n",
       "skill_cat 0.79734372834492 1                 Polyserial\n",
       "knowledge 0.63292810102076 0.455809824192717 1         "
      ]
     },
     "metadata": {},
     "output_type": "display_data"
    }
   ],
   "source": [
    "#相関係数の種類を示す行列\n",
    "polycor_res$type\n",
    "\n",
    "#元の演算結果を上書きしないようにコピーを作る(&コード短縮)\n",
    "poly_cor <- polycor_res$correlations    \n",
    "\n",
    "#順序カテゴリカル変数を含めた相関係数行列の上三角成分にtype行列の上三角成分の値を代入\n",
    "poly_cor[upper.tri(poly_cor)] <- polycor_res$type[upper.tri(polycor_res$type)]\n",
    "poly_cor"
   ]
  },
  {
   "cell_type": "markdown",
   "metadata": {
    "collapsed": true
   },
   "source": [
    "### 効果量\n",
    "\n",
    "なぜ効果量が必要なのか?  \n",
    "&emsp;&emsp;→サンプルサイズの問題\n",
    "- t検定などの統計的仮設検定はサンプルサイズが大きいとどんな帰無仮説も棄却されてしまう\n",
    "- サンプルサイズを大きくしようとするとコスト面や安全面の問題がある\n",
    "- 効果量は「検出したい差の程度」や「変数間の関係の強さ」を示す\n",
    "- 効果量はサンプルサイズに依存しない実験の効果を示すことが出来る(サンプルが小さすぎなければ)\n",
    "- 標本サイズの設計には「有意水準」、「検出力」、「効果量」の値が必要\n",
    "- 効果量が大きいときはサンプルサイズが小さくすることが出来る\n",
    "\n",
    "[「効果量」とは?](https://bellcurve.jp/statistics/course/12752.html)"
   ]
  },
  {
   "cell_type": "markdown",
   "metadata": {},
   "source": [
    "### 効果量の例\n",
    "\n",
    "d族とr族に分かれる\n",
    "- d族:効果量が<span style=\"color:red\">「差の大きさ」</span>を示す  \n",
    "    - Cohenのd\n",
    "    - Hedgesのg\n",
    "      \n",
    "      \n",
    "- r族:効果量が<span style=\"color:red\">「相関の強さ」</span>を示す\n",
    "\n",
    "※上記の代表的なd族は母集団の効果量の不偏推定量(「修正済みg」)ではない"
   ]
  },
  {
   "cell_type": "markdown",
   "metadata": {},
   "source": [
    "#### 独立な2群のt検定における効果量\n",
    "\n",
    "\n",
    "$$\n",
    "    t = d \\sqrt{\\frac{n_1 n_2}{n_1 + n_2}}\n",
    "$$"
   ]
  },
  {
   "cell_type": "markdown",
   "metadata": {},
   "source": [
    "#### Cohenのd\n",
    "\n",
    "$$ d = \\frac{ \\bar{x_1} - \\bar{x_2} }{ s^* }, \\qquad s^* = \\sqrt{ \\frac{ n_1 s^2_1 + n_2 s^2_2 }{ n_1 + n_2 -2 } } $$"
   ]
  },
  {
   "cell_type": "markdown",
   "metadata": {},
   "source": [
    "t値より、効果量dに関係なく、サンプルサイズが大きく大きくなるほどt値は大きくなり、検定結果は優位になりやすくなる"
   ]
  },
  {
   "cell_type": "markdown",
   "metadata": {},
   "source": [
    "#### つぶやき\n",
    "単一行の数式番号無しの数式は`$$~$$`は上手くいったけど、  \n",
    "`\\[ ~ \\]`と`\\begin{displaymath}~\\end{displaymath}`は上手くいかなかった。謎。"
   ]
  },
  {
   "cell_type": "code",
   "execution_count": 39,
   "metadata": {
    "collapsed": true
   },
   "outputs": [],
   "source": [
    "####(続きのコード用)"
   ]
  },
  {
   "cell_type": "markdown",
   "metadata": {},
   "source": [
    "## 章末演習"
   ]
  },
  {
   "cell_type": "markdown",
   "metadata": {},
   "source": [
    "### 問1\n",
    "\n",
    "関数read.csvを用いて「学力調査結果.csv」を読み込んでmatに保存。  \n",
    "histogram(latticeパッケージ)とboxplotを利用し、「プレ得点」について「部活」別にヒストグラムと箱ひげ図(水平方向)に描画せよ。"
   ]
  },
  {
   "cell_type": "code",
   "execution_count": 40,
   "metadata": {
    "collapsed": true
   },
   "outputs": [],
   "source": [
    "#githubから学力調査データの読み込み\n",
    "mat <- read.csv(\"https://raw.githubusercontent.com/gndb3168/Renshu_data/master/R_MA/Sec_01/gakuryoku_tyousa.csv\")"
   ]
  },
  {
   "cell_type": "code",
   "execution_count": 41,
   "metadata": {},
   "outputs": [
    {
     "data": {
      "text/html": [
       "<ol class=list-inline>\n",
       "\t<li>800</li>\n",
       "\t<li>12</li>\n",
       "</ol>\n"
      ],
      "text/latex": [
       "\\begin{enumerate*}\n",
       "\\item 800\n",
       "\\item 12\n",
       "\\end{enumerate*}\n"
      ],
      "text/markdown": [
       "1. 800\n",
       "2. 12\n",
       "\n",
       "\n"
      ],
      "text/plain": [
       "[1] 800  12"
      ]
     },
     "metadata": {},
     "output_type": "display_data"
    },
    {
     "data": {
      "text/html": [
       "<ol class=list-inline>\n",
       "\t<li>'ID'</li>\n",
       "\t<li>'性別'</li>\n",
       "\t<li>'部活'</li>\n",
       "\t<li>'進路'</li>\n",
       "\t<li>'意欲'</li>\n",
       "\t<li>'プレ得点'</li>\n",
       "\t<li>'国語'</li>\n",
       "\t<li>'社会'</li>\n",
       "\t<li>'数学'</li>\n",
       "\t<li>'理科'</li>\n",
       "\t<li>'英語'</li>\n",
       "\t<li>'ポスト得点'</li>\n",
       "</ol>\n"
      ],
      "text/latex": [
       "\\begin{enumerate*}\n",
       "\\item 'ID'\n",
       "\\item '性別'\n",
       "\\item '部活'\n",
       "\\item '進路'\n",
       "\\item '意欲'\n",
       "\\item 'プレ得点'\n",
       "\\item '国語'\n",
       "\\item '社会'\n",
       "\\item '数学'\n",
       "\\item '理科'\n",
       "\\item '英語'\n",
       "\\item 'ポスト得点'\n",
       "\\end{enumerate*}\n"
      ],
      "text/markdown": [
       "1. 'ID'\n",
       "2. '性別'\n",
       "3. '部活'\n",
       "4. '進路'\n",
       "5. '意欲'\n",
       "6. 'プレ得点'\n",
       "7. '国語'\n",
       "8. '社会'\n",
       "9. '数学'\n",
       "10. '理科'\n",
       "11. '英語'\n",
       "12. 'ポスト得点'\n",
       "\n",
       "\n"
      ],
      "text/plain": [
       " [1] \"ID\"         \"性別\"       \"部活\"       \"進路\"       \"意欲\"      \n",
       " [6] \"プレ得点\"   \"国語\"       \"社会\"       \"数学\"       \"理科\"      \n",
       "[11] \"英語\"       \"ポスト得点\""
      ]
     },
     "metadata": {},
     "output_type": "display_data"
    },
    {
     "data": {
      "text/html": [
       "<table>\n",
       "<thead><tr><th scope=col>ID</th><th scope=col>性別</th><th scope=col>部活</th><th scope=col>進路</th><th scope=col>意欲</th><th scope=col>プレ得点</th><th scope=col>国語</th><th scope=col>社会</th><th scope=col>数学</th><th scope=col>理科</th><th scope=col>英語</th><th scope=col>ポスト得点</th></tr></thead>\n",
       "<tbody>\n",
       "\t<tr><td>1     </td><td>F     </td><td>無所属</td><td>文系  </td><td>54    </td><td>269   </td><td>59    </td><td>62    </td><td>58    </td><td>55    </td><td>53    </td><td>287   </td></tr>\n",
       "\t<tr><td>2     </td><td>F     </td><td>文化系</td><td>文系  </td><td>25    </td><td>162   </td><td>49    </td><td>53    </td><td>62    </td><td>53    </td><td>55    </td><td>272   </td></tr>\n",
       "\t<tr><td>3     </td><td>M     </td><td>文化系</td><td>文系  </td><td>25    </td><td>123   </td><td>43    </td><td>43    </td><td>37    </td><td>32    </td><td>37    </td><td>192   </td></tr>\n",
       "\t<tr><td>4     </td><td>F     </td><td>無所属</td><td>文系  </td><td>48    </td><td>176   </td><td>63    </td><td>49    </td><td>54    </td><td>40    </td><td>52    </td><td>258   </td></tr>\n",
       "\t<tr><td>5     </td><td>M     </td><td>体育系</td><td>文系  </td><td>41    </td><td>172   </td><td>55    </td><td>56    </td><td>40    </td><td>58    </td><td>44    </td><td>253   </td></tr>\n",
       "\t<tr><td>6     </td><td>M     </td><td>体育系</td><td>理系  </td><td>36    </td><td>140   </td><td>40    </td><td>34    </td><td>37    </td><td>32    </td><td>42    </td><td>185   </td></tr>\n",
       "</tbody>\n",
       "</table>\n"
      ],
      "text/latex": [
       "\\begin{tabular}{r|llllllllllll}\n",
       " ID & 性別 & 部活 & 進路 & 意欲 & プレ得点 & 国語 & 社会 & 数学 & 理科 & 英語 & ポスト得点\\\\\n",
       "\\hline\n",
       "\t 1      & F      & 無所属 & 文系   & 54     & 269    & 59     & 62     & 58     & 55     & 53     & 287   \\\\\n",
       "\t 2      & F      & 文化系 & 文系   & 25     & 162    & 49     & 53     & 62     & 53     & 55     & 272   \\\\\n",
       "\t 3      & M      & 文化系 & 文系   & 25     & 123    & 43     & 43     & 37     & 32     & 37     & 192   \\\\\n",
       "\t 4      & F      & 無所属 & 文系   & 48     & 176    & 63     & 49     & 54     & 40     & 52     & 258   \\\\\n",
       "\t 5      & M      & 体育系 & 文系   & 41     & 172    & 55     & 56     & 40     & 58     & 44     & 253   \\\\\n",
       "\t 6      & M      & 体育系 & 理系   & 36     & 140    & 40     & 34     & 37     & 32     & 42     & 185   \\\\\n",
       "\\end{tabular}\n"
      ],
      "text/markdown": [
       "\n",
       "ID | 性別 | 部活 | 進路 | 意欲 | プレ得点 | 国語 | 社会 | 数学 | 理科 | 英語 | ポスト得点 | \n",
       "|---|---|---|---|---|---|\n",
       "| 1      | F      | 無所属 | 文系   | 54     | 269    | 59     | 62     | 58     | 55     | 53     | 287    | \n",
       "| 2      | F      | 文化系 | 文系   | 25     | 162    | 49     | 53     | 62     | 53     | 55     | 272    | \n",
       "| 3      | M      | 文化系 | 文系   | 25     | 123    | 43     | 43     | 37     | 32     | 37     | 192    | \n",
       "| 4      | F      | 無所属 | 文系   | 48     | 176    | 63     | 49     | 54     | 40     | 52     | 258    | \n",
       "| 5      | M      | 体育系 | 文系   | 41     | 172    | 55     | 56     | 40     | 58     | 44     | 253    | \n",
       "| 6      | M      | 体育系 | 理系   | 36     | 140    | 40     | 34     | 37     | 32     | 42     | 185    | \n",
       "\n",
       "\n"
      ],
      "text/plain": [
       "  ID 性別 部活   進路 意欲 プレ得点 国語 社会 数学 理科 英語 ポスト得点\n",
       "1 1  F    無所属 文系 54   269      59   62   58   55   53   287       \n",
       "2 2  F    文化系 文系 25   162      49   53   62   53   55   272       \n",
       "3 3  M    文化系 文系 25   123      43   43   37   32   37   192       \n",
       "4 4  F    無所属 文系 48   176      63   49   54   40   52   258       \n",
       "5 5  M    体育系 文系 41   172      55   56   40   58   44   253       \n",
       "6 6  M    体育系 理系 36   140      40   34   37   32   42   185       "
      ]
     },
     "metadata": {},
     "output_type": "display_data"
    }
   ],
   "source": [
    "dim(mat)      #データの大きさの確認\n",
    "colnames(mat) #変数名の確認\n",
    "head(mat)     #データの表示"
   ]
  },
  {
   "cell_type": "code",
   "execution_count": 42,
   "metadata": {
    "collapsed": true
   },
   "outputs": [],
   "source": [
    "library(lattice)    #histogram関数を使うためのパッケージ"
   ]
  },
  {
   "cell_type": "code",
   "execution_count": 43,
   "metadata": {},
   "outputs": [
    {
     "data": {},
     "metadata": {},
     "output_type": "display_data"
    },
    {
     "data": {
      "image/png": "[encoded data removed]",
      "text/plain": [
       "plot without title"
      ]
     },
     "metadata": {},
     "output_type": "display_data"
    }
   ],
   "source": [
    "histogram(~プレ得点|部活, data=mat, breaks=10, type=\"count\")"
   ]
  },
  {
   "cell_type": "code",
   "execution_count": 44,
   "metadata": {},
   "outputs": [
    {
     "data": {
      "image/png": "[encoded data removed]",
      "text/plain": [
       "plot without title"
      ]
     },
     "metadata": {},
     "output_type": "display_data"
    }
   ],
   "source": [
    "boxplot(プレ得点~部活, data=mat, horizontal=TRUE)"
   ]
  },
  {
   "cell_type": "markdown",
   "metadata": {},
   "source": [
    "### 問2\n",
    "\n",
    "関数tapplyを利用して「プレ得点」について「部活」別に平均値と中央値とSDを求めよ。"
   ]
  },
  {
   "cell_type": "code",
   "execution_count": 45,
   "metadata": {},
   "outputs": [
    {
     "data": {
      "text/html": [
       "<table>\n",
       "<thead><tr><th scope=col>体育系</th><th scope=col>文化系</th><th scope=col>無所属</th></tr></thead>\n",
       "<tbody>\n",
       "\t<tr><td>182.6379</td><td>188.8655</td><td>183.5   </td></tr>\n",
       "</tbody>\n",
       "</table>\n"
      ],
      "text/latex": [
       "\\begin{tabular}{lll}\n",
       " 体育系 & 文化系 & 無所属\\\\\n",
       "\\hline\n",
       "\t 182.6379 & 188.8655 & 183.5   \\\\\n",
       "\\end{tabular}\n"
      ],
      "text/markdown": [
       "\n",
       "体育系 | 文化系 | 無所属 | \n",
       "|---|\n",
       "| 182.6379 | 188.8655 | 183.5    | \n",
       "\n",
       "\n"
      ],
      "text/plain": [
       "     体育系   文化系   無所属\n",
       "[1,] 182.6379 188.8655 183.5 "
      ]
     },
     "metadata": {},
     "output_type": "display_data"
    },
    {
     "data": {
      "text/html": [
       "<table>\n",
       "<thead><tr><th scope=col>体育系</th><th scope=col>文化系</th><th scope=col>無所属</th></tr></thead>\n",
       "<tbody>\n",
       "\t<tr><td>180  </td><td>186.5</td><td>185.5</td></tr>\n",
       "</tbody>\n",
       "</table>\n"
      ],
      "text/latex": [
       "\\begin{tabular}{lll}\n",
       " 体育系 & 文化系 & 無所属\\\\\n",
       "\\hline\n",
       "\t 180   & 186.5 & 185.5\\\\\n",
       "\\end{tabular}\n"
      ],
      "text/markdown": [
       "\n",
       "体育系 | 文化系 | 無所属 | \n",
       "|---|\n",
       "| 180   | 186.5 | 185.5 | \n",
       "\n",
       "\n"
      ],
      "text/plain": [
       "     体育系 文化系 無所属\n",
       "[1,] 180    186.5  185.5 "
      ]
     },
     "metadata": {},
     "output_type": "display_data"
    },
    {
     "data": {
      "text/html": [
       "<table>\n",
       "<thead><tr><th scope=col>体育系</th><th scope=col>文化系</th><th scope=col>無所属</th></tr></thead>\n",
       "<tbody>\n",
       "\t<tr><td>51.48008</td><td>46.30607</td><td>49.1855 </td></tr>\n",
       "</tbody>\n",
       "</table>\n"
      ],
      "text/latex": [
       "\\begin{tabular}{lll}\n",
       " 体育系 & 文化系 & 無所属\\\\\n",
       "\\hline\n",
       "\t 51.48008 & 46.30607 & 49.1855 \\\\\n",
       "\\end{tabular}\n"
      ],
      "text/markdown": [
       "\n",
       "体育系 | 文化系 | 無所属 | \n",
       "|---|\n",
       "| 51.48008 | 46.30607 | 49.1855  | \n",
       "\n",
       "\n"
      ],
      "text/plain": [
       "     体育系   文化系   無所属 \n",
       "[1,] 51.48008 46.30607 49.1855"
      ]
     },
     "metadata": {},
     "output_type": "display_data"
    }
   ],
   "source": [
    "pre_test_mean_by_club <- tapply(mat$プレ得点, mat$部活, mean)\n",
    "t(pre_test_mean_by_club)\n",
    "\n",
    "pre_test_median_by_club <- tapply(mat$プレ得点, mat$部活, median)\n",
    "t(pre_test_median_by_club)\n",
    "\n",
    "pre_test_sd_by_club <- tapply(mat$プレ得点, mat$部活, sd)\n",
    "t(pre_test_sd_by_club)"
   ]
  },
  {
   "cell_type": "markdown",
   "metadata": {},
   "source": [
    "### 問3\n",
    "\n",
    "関数t.testを利用して「数学」について「性別」を群として独立な2群のt検定(等分散を仮定)を実行せよ。  \n",
    "また、関数effected1によって効果量とその95%信頼区間を求めたうえで検定結果の報告をせよ。"
   ]
  },
  {
   "cell_type": "code",
   "execution_count": 46,
   "metadata": {},
   "outputs": [
    {
     "data": {
      "text/plain": [
       "\n",
       "\tTwo Sample t-test\n",
       "\n",
       "data:  数学 by 性別\n",
       "t = -0.30619, df = 798, p-value = 0.7595\n",
       "alternative hypothesis: true difference in means is not equal to 0\n",
       "95 percent confidence interval:\n",
       " -1.742079  1.271932\n",
       "sample estimates:\n",
       "mean in group F mean in group M \n",
       "       54.12879        54.36386 \n"
      ]
     },
     "metadata": {},
     "output_type": "display_data"
    }
   ],
   "source": [
    "mat_t_res <- t.test(数学~性別, data=mat, var.equal=TRUE)\n",
    "mat_t_res"
   ]
  },
  {
   "cell_type": "code",
   "execution_count": null,
   "metadata": {
    "collapsed": true
   },
   "outputs": [],
   "source": []
  }
 ],
 "metadata": {
  "kernelspec": {
   "display_name": "R",
   "language": "R",
   "name": "ir"
  },
  "language_info": {
   "codemirror_mode": "r",
   "file_extension": ".r",
   "mimetype": "text/x-r-source",
   "name": "R",
   "pygments_lexer": "r",
   "version": "3.5.1"
  }
 },
 "nbformat": 4,
 "nbformat_minor": 2
}
