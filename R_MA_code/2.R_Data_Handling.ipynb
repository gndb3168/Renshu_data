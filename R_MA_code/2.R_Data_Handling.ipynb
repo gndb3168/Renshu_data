{
 "cells": [
  {
   "cell_type": "markdown",
   "metadata": {
    "collapsed": true
   },
   "source": [
    "# Rを用いたアンケートデータとID-POSデータのハンドリング"
   ]
  },
  {
   "cell_type": "markdown",
   "metadata": {},
   "source": [
    "## アンケートデータのハンドリング方法\n",
    "\n",
    "- strによるデータフレームの変数の型の確認\n",
    "- factorと引数levelsを用いた度数0のカテゴリの確保\n",
    "- subsetを用いた条件に合致するデータの抽出\n",
    "- orderによるデータフレームのソート\n",
    "- read.csvの引数na.stringsや関数na.omitによる欠損値の処理\n",
    "- mergeを用いたデータフレームの併合\n",
    "- whichによる数値の置き換え\n",
    "- readLinesによる固定帳ファイルの読み込み、substringによる文字列抽出、データフレームへの変換"
   ]
  },
  {
   "cell_type": "markdown",
   "metadata": {
    "collapsed": true
   },
   "source": [
    "## ID-POSデータのハンドリング方法\n",
    "\n",
    "- lapplyを用いた複数のデータファイルの一括読み込み\n",
    "- orderを用いたRFM分析\n",
    "- tableやxtabsによるクロス集計表の作成\n",
    "- tapplyによる様々な条件で顧客IDごとの購買金額の取得\n",
    "- 自作関数とapplyを併用した顧客IDごとの購買商品名の取得\n",
    "- 顧客ID別の来店間隔の分布の描画および要約統計量の算出"
   ]
  },
  {
   "cell_type": "markdown",
   "metadata": {
    "collapsed": true
   },
   "source": [
    "### 変数の型\n",
    "\n",
    "- strによるデータ構造の把握\n",
    "- factorの使いどころ"
   ]
  },
  {
   "cell_type": "code",
   "execution_count": 1,
   "metadata": {
    "collapsed": true
   },
   "outputs": [],
   "source": [
    "#データの読み込み\n",
    "jinji_hyouka <- read.csv(\"https://raw.githubusercontent.com/gndb3168/Renshu_data/master/R_MA/Sec_02/jinji_hyouka.csv\")\n",
    "\n",
    "#ラベルの文字コードが統一されていないとRの結果がjupyter形式で出力されないため、変数名を半角英数字に変更\n",
    "colnames(jinji_hyouka) <- c(\"ID\", \"sex\", \"dep\", \"age\", \"cooperativeness\", \n",
    "                            \"self-assertion\", \"skill\", \"knowledge\", \"stress\", \"total\", \"last_year_total\")"
   ]
  },
  {
   "cell_type": "code",
   "execution_count": 2,
   "metadata": {},
   "outputs": [
    {
     "name": "stdout",
     "output_type": "stream",
     "text": [
      "'data.frame':\t800 obs. of  11 variables:\n",
      " $ ID             : int  1 2 3 4 5 6 7 8 9 10 ...\n",
      " $ sex            : Factor w/ 2 levels \"F\",\"M\": 2 1 2 2 1 2 1 2 2 2 ...\n",
      " $ dep            : Factor w/ 2 levels \"A部\",\"B部\": 1 2 1 1 1 1 2 1 1 1 ...\n",
      " $ age            : Factor w/ 3 levels \"若手\",\"熟練\",..: 3 2 3 2 1 2 1 1 1 3 ...\n",
      " $ cooperativeness: int  70 45 54 51 56 51 64 47 62 50 ...\n",
      " $ self-assertion : int  45 62 70 63 52 64 65 77 76 77 ...\n",
      " $ skill          : int  65 51 55 53 44 48 58 54 74 53 ...\n",
      " $ knowledge      : int  71 72 70 65 68 73 72 59 82 74 ...\n",
      " $ stress         : int  53 64 61 60 56 52 45 68 55 66 ...\n",
      " $ total          : int  251 227 249 232 217 236 256 237 294 254 ...\n",
      " $ last_year_total: int  248 211 242 240 177 216 262 215 314 234 ...\n"
     ]
    }
   ],
   "source": [
    "#データフレームの構造の表示\n",
    "str(jinji_hyouka)"
   ]
  },
  {
   "cell_type": "code",
   "execution_count": 3,
   "metadata": {},
   "outputs": [
    {
     "name": "stdout",
     "output_type": "stream",
     "text": [
      "'data.frame':\t800 obs. of  12 variables:\n",
      " $ ID             : int  1 2 3 4 5 6 7 8 9 10 ...\n",
      " $ sex            : Factor w/ 2 levels \"F\",\"M\": 2 1 2 2 1 2 1 2 2 2 ...\n",
      " $ dep            : Factor w/ 2 levels \"A部\",\"B部\": 1 2 1 1 1 1 2 1 1 1 ...\n",
      " $ age            : Factor w/ 3 levels \"若手\",\"熟練\",..: 3 2 3 2 1 2 1 1 1 3 ...\n",
      " $ cooperativeness: int  70 45 54 51 56 51 64 47 62 50 ...\n",
      " $ self-assertion : int  45 62 70 63 52 64 65 77 76 77 ...\n",
      " $ skill          : int  65 51 55 53 44 48 58 54 74 53 ...\n",
      " $ knowledge      : int  71 72 70 65 68 73 72 59 82 74 ...\n",
      " $ stress         : int  53 64 61 60 56 52 45 68 55 66 ...\n",
      " $ total          : int  251 227 249 232 217 236 256 237 294 254 ...\n",
      " $ last_year_total: int  248 211 242 240 177 216 262 215 314 234 ...\n",
      " $ total_mean     : num  250 219 246 236 197 ...\n"
     ]
    }
   ],
   "source": [
    "#変数の追加\n",
    "jinji_hyouka$total_mean <- apply(jinji_hyouka[, 10:11], 1, mean)    #totalとlast_year_totalの平均の値を新変数に追加\n",
    "str(jinji_hyouka)    #total_meanが追加されている"
   ]
  },
  {
   "cell_type": "markdown",
   "metadata": {},
   "source": [
    "#### Factor型(因子型)とは?\n",
    "\n",
    "- 変数が数値の対応づけられた文字データで構成されているデータ型\n",
    "- 因子型はベクトルや行列などと同じデータ構造\n",
    "- データフレーム内の文字列は特に指定が無ければ因子型で表現\n",
    "- 因子型の変数に含まれる文字はR内では整数型としても認識"
   ]
  },
  {
   "cell_type": "markdown",
   "metadata": {},
   "source": [
    "### factorの使いどころ\n",
    "\n",
    "度数が0のカテゴリを表示したいときに有用"
   ]
  },
  {
   "cell_type": "code",
   "execution_count": 4,
   "metadata": {},
   "outputs": [
    {
     "data": {
      "text/plain": [
       "score\n",
       " 1  2  3  4  5  8 10 \n",
       " 2  2  2  1  1  1  1 "
      ]
     },
     "metadata": {},
     "output_type": "display_data"
    }
   ],
   "source": [
    "#度数分布表の生成\n",
    "score <- c(1, 5, 2, 10, 8, 2, 1, 4, 3, 3)\n",
    "table(score)    #factor型ではない変数の場合、度数が0のカテゴリは表示されない"
   ]
  },
  {
   "cell_type": "code",
   "execution_count": 5,
   "metadata": {},
   "outputs": [
    {
     "name": "stdout",
     "output_type": "stream",
     "text": [
      " Factor w/ 11 levels \"0\",\"1\",\"2\",\"3\",..: 2 6 3 11 9 3 2 5 4 4\n"
     ]
    },
    {
     "data": {
      "text/plain": [
       "fscore\n",
       " 0  1  2  3  4  5  6  7  8  9 10 \n",
       " 0  2  2  2  1  1  0  0  1  0  1 "
      ]
     },
     "metadata": {},
     "output_type": "display_data"
    }
   ],
   "source": [
    "#factor型の変換と度数分布表\n",
    "fscore <- factor(score, levels=seq(0, 10, 1)) #factor(vector, levels=水準ベクトル)、levelsに指定したベクトルは文字列扱いになる\n",
    "str(fscore)\n",
    "\n",
    "table(fscore)"
   ]
  },
  {
   "cell_type": "code",
   "execution_count": 6,
   "metadata": {
    "scrolled": true
   },
   "outputs": [
    {
     "data": {
      "text/html": [
       "<table>\n",
       "<thead><tr><th></th><th scope=col>ID</th><th scope=col>sex</th><th scope=col>dep</th><th scope=col>age</th><th scope=col>cooperativeness</th><th scope=col>self-assertion</th><th scope=col>skill</th><th scope=col>knowledge</th><th scope=col>stress</th><th scope=col>total</th><th scope=col>last_year_total</th><th scope=col>total_mean</th></tr></thead>\n",
       "<tbody>\n",
       "\t<tr><th scope=row>1</th><td>1    </td><td>M    </td><td>A部  </td><td>中堅 </td><td>70   </td><td>45   </td><td>65   </td><td>71   </td><td>53   </td><td>251  </td><td>248  </td><td>249.5</td></tr>\n",
       "\t<tr><th scope=row>3</th><td>3    </td><td>M    </td><td>A部  </td><td>中堅 </td><td>54   </td><td>70   </td><td>55   </td><td>70   </td><td>61   </td><td>249  </td><td>242  </td><td>245.5</td></tr>\n",
       "\t<tr><th scope=row>4</th><td>4    </td><td>M    </td><td>A部  </td><td>熟練 </td><td>51   </td><td>63   </td><td>53   </td><td>65   </td><td>60   </td><td>232  </td><td>240  </td><td>236.0</td></tr>\n",
       "\t<tr><th scope=row>6</th><td>6    </td><td>M    </td><td>A部  </td><td>熟練 </td><td>51   </td><td>64   </td><td>48   </td><td>73   </td><td>52   </td><td>236  </td><td>216  </td><td>226.0</td></tr>\n",
       "\t<tr><th scope=row>8</th><td>8    </td><td>M    </td><td>A部  </td><td>若手 </td><td>47   </td><td>77   </td><td>54   </td><td>59   </td><td>68   </td><td>237  </td><td>215  </td><td>226.0</td></tr>\n",
       "\t<tr><th scope=row>9</th><td>9    </td><td>M    </td><td>A部  </td><td>若手 </td><td>62   </td><td>76   </td><td>74   </td><td>82   </td><td>55   </td><td>294  </td><td>314  </td><td>304.0</td></tr>\n",
       "</tbody>\n",
       "</table>\n"
      ],
      "text/latex": [
       "\\begin{tabular}{r|llllllllllll}\n",
       "  & ID & sex & dep & age & cooperativeness & self-assertion & skill & knowledge & stress & total & last\\_year\\_total & total\\_mean\\\\\n",
       "\\hline\n",
       "\t1 & 1     & M     & A部   & 中堅  & 70    & 45    & 65    & 71    & 53    & 251   & 248   & 249.5\\\\\n",
       "\t3 & 3     & M     & A部   & 中堅  & 54    & 70    & 55    & 70    & 61    & 249   & 242   & 245.5\\\\\n",
       "\t4 & 4     & M     & A部   & 熟練  & 51    & 63    & 53    & 65    & 60    & 232   & 240   & 236.0\\\\\n",
       "\t6 & 6     & M     & A部   & 熟練  & 51    & 64    & 48    & 73    & 52    & 236   & 216   & 226.0\\\\\n",
       "\t8 & 8     & M     & A部   & 若手  & 47    & 77    & 54    & 59    & 68    & 237   & 215   & 226.0\\\\\n",
       "\t9 & 9     & M     & A部   & 若手  & 62    & 76    & 74    & 82    & 55    & 294   & 314   & 304.0\\\\\n",
       "\\end{tabular}\n"
      ],
      "text/markdown": [
       "\n",
       "| <!--/--> | ID | sex | dep | age | cooperativeness | self-assertion | skill | knowledge | stress | total | last_year_total | total_mean | \n",
       "|---|---|---|---|---|---|\n",
       "| 1 | 1     | M     | A部   | 中堅  | 70    | 45    | 65    | 71    | 53    | 251   | 248   | 249.5 | \n",
       "| 3 | 3     | M     | A部   | 中堅  | 54    | 70    | 55    | 70    | 61    | 249   | 242   | 245.5 | \n",
       "| 4 | 4     | M     | A部   | 熟練  | 51    | 63    | 53    | 65    | 60    | 232   | 240   | 236.0 | \n",
       "| 6 | 6     | M     | A部   | 熟練  | 51    | 64    | 48    | 73    | 52    | 236   | 216   | 226.0 | \n",
       "| 8 | 8     | M     | A部   | 若手  | 47    | 77    | 54    | 59    | 68    | 237   | 215   | 226.0 | \n",
       "| 9 | 9     | M     | A部   | 若手  | 62    | 76    | 74    | 82    | 55    | 294   | 314   | 304.0 | \n",
       "\n",
       "\n"
      ],
      "text/plain": [
       "  ID sex dep age  cooperativeness self-assertion skill knowledge stress total\n",
       "1 1  M   A部 中堅 70              45             65    71        53     251  \n",
       "3 3  M   A部 中堅 54              70             55    70        61     249  \n",
       "4 4  M   A部 熟練 51              63             53    65        60     232  \n",
       "6 6  M   A部 熟練 51              64             48    73        52     236  \n",
       "8 8  M   A部 若手 47              77             54    59        68     237  \n",
       "9 9  M   A部 若手 62              76             74    82        55     294  \n",
       "  last_year_total total_mean\n",
       "1 248             249.5     \n",
       "3 242             245.5     \n",
       "4 240             236.0     \n",
       "6 216             226.0     \n",
       "8 215             226.0     \n",
       "9 314             304.0     "
      ]
     },
     "metadata": {},
     "output_type": "display_data"
    },
    {
     "data": {
      "text/html": [
       "<table>\n",
       "<thead><tr><th></th><th scope=col>ID</th><th scope=col>sex</th><th scope=col>dep</th><th scope=col>age</th><th scope=col>cooperativeness</th><th scope=col>self-assertion</th><th scope=col>skill</th><th scope=col>knowledge</th><th scope=col>stress</th><th scope=col>total</th><th scope=col>last_year_total</th><th scope=col>total_mean</th></tr></thead>\n",
       "<tbody>\n",
       "\t<tr><th scope=row>1</th><td>1    </td><td>M    </td><td>A部  </td><td>中堅 </td><td>70   </td><td>45   </td><td>65   </td><td>71   </td><td>53   </td><td>251  </td><td>248  </td><td>249.5</td></tr>\n",
       "\t<tr><th scope=row>3</th><td>3    </td><td>M    </td><td>A部  </td><td>中堅 </td><td>54   </td><td>70   </td><td>55   </td><td>70   </td><td>61   </td><td>249  </td><td>242  </td><td>245.5</td></tr>\n",
       "\t<tr><th scope=row>4</th><td>4    </td><td>M    </td><td>A部  </td><td>熟練 </td><td>51   </td><td>63   </td><td>53   </td><td>65   </td><td>60   </td><td>232  </td><td>240  </td><td>236.0</td></tr>\n",
       "\t<tr><th scope=row>6</th><td>6    </td><td>M    </td><td>A部  </td><td>熟練 </td><td>51   </td><td>64   </td><td>48   </td><td>73   </td><td>52   </td><td>236  </td><td>216  </td><td>226.0</td></tr>\n",
       "\t<tr><th scope=row>8</th><td>8    </td><td>M    </td><td>A部  </td><td>若手 </td><td>47   </td><td>77   </td><td>54   </td><td>59   </td><td>68   </td><td>237  </td><td>215  </td><td>226.0</td></tr>\n",
       "\t<tr><th scope=row>9</th><td>9    </td><td>M    </td><td>A部  </td><td>若手 </td><td>62   </td><td>76   </td><td>74   </td><td>82   </td><td>55   </td><td>294  </td><td>314  </td><td>304.0</td></tr>\n",
       "</tbody>\n",
       "</table>\n"
      ],
      "text/latex": [
       "\\begin{tabular}{r|llllllllllll}\n",
       "  & ID & sex & dep & age & cooperativeness & self-assertion & skill & knowledge & stress & total & last\\_year\\_total & total\\_mean\\\\\n",
       "\\hline\n",
       "\t1 & 1     & M     & A部   & 中堅  & 70    & 45    & 65    & 71    & 53    & 251   & 248   & 249.5\\\\\n",
       "\t3 & 3     & M     & A部   & 中堅  & 54    & 70    & 55    & 70    & 61    & 249   & 242   & 245.5\\\\\n",
       "\t4 & 4     & M     & A部   & 熟練  & 51    & 63    & 53    & 65    & 60    & 232   & 240   & 236.0\\\\\n",
       "\t6 & 6     & M     & A部   & 熟練  & 51    & 64    & 48    & 73    & 52    & 236   & 216   & 226.0\\\\\n",
       "\t8 & 8     & M     & A部   & 若手  & 47    & 77    & 54    & 59    & 68    & 237   & 215   & 226.0\\\\\n",
       "\t9 & 9     & M     & A部   & 若手  & 62    & 76    & 74    & 82    & 55    & 294   & 314   & 304.0\\\\\n",
       "\\end{tabular}\n"
      ],
      "text/markdown": [
       "\n",
       "| <!--/--> | ID | sex | dep | age | cooperativeness | self-assertion | skill | knowledge | stress | total | last_year_total | total_mean | \n",
       "|---|---|---|---|---|---|\n",
       "| 1 | 1     | M     | A部   | 中堅  | 70    | 45    | 65    | 71    | 53    | 251   | 248   | 249.5 | \n",
       "| 3 | 3     | M     | A部   | 中堅  | 54    | 70    | 55    | 70    | 61    | 249   | 242   | 245.5 | \n",
       "| 4 | 4     | M     | A部   | 熟練  | 51    | 63    | 53    | 65    | 60    | 232   | 240   | 236.0 | \n",
       "| 6 | 6     | M     | A部   | 熟練  | 51    | 64    | 48    | 73    | 52    | 236   | 216   | 226.0 | \n",
       "| 8 | 8     | M     | A部   | 若手  | 47    | 77    | 54    | 59    | 68    | 237   | 215   | 226.0 | \n",
       "| 9 | 9     | M     | A部   | 若手  | 62    | 76    | 74    | 82    | 55    | 294   | 314   | 304.0 | \n",
       "\n",
       "\n"
      ],
      "text/plain": [
       "  ID sex dep age  cooperativeness self-assertion skill knowledge stress total\n",
       "1 1  M   A部 中堅 70              45             65    71        53     251  \n",
       "3 3  M   A部 中堅 54              70             55    70        61     249  \n",
       "4 4  M   A部 熟練 51              63             53    65        60     232  \n",
       "6 6  M   A部 熟練 51              64             48    73        52     236  \n",
       "8 8  M   A部 若手 47              77             54    59        68     237  \n",
       "9 9  M   A部 若手 62              76             74    82        55     294  \n",
       "  last_year_total total_mean\n",
       "1 248             249.5     \n",
       "3 242             245.5     \n",
       "4 240             236.0     \n",
       "6 216             226.0     \n",
       "8 215             226.0     \n",
       "9 314             304.0     "
      ]
     },
     "metadata": {},
     "output_type": "display_data"
    }
   ],
   "source": [
    "#==, != を用いた条件抽出\n",
    "\n",
    "#男性のデータのみ抽出\n",
    "mdat <- subset(jinji_hyouka, sex==\"M\")    #subset(data.frame, 条件式(arg=...ではないので注意))\n",
    "head(mdat)\n",
    "\n",
    "#否定(!)を用いたデータ抽出\n",
    "mdat2 <- subset(jinji_hyouka, sex!=\"F\")\n",
    "head(mdat2)"
   ]
  },
  {
   "cell_type": "code",
   "execution_count": 7,
   "metadata": {},
   "outputs": [
    {
     "data": {
      "text/html": [
       "<table>\n",
       "<thead><tr><th></th><th scope=col>ID</th><th scope=col>sex</th><th scope=col>dep</th><th scope=col>age</th><th scope=col>cooperativeness</th><th scope=col>self-assertion</th><th scope=col>skill</th><th scope=col>knowledge</th><th scope=col>stress</th><th scope=col>total</th><th scope=col>last_year_total</th><th scope=col>total_mean</th></tr></thead>\n",
       "<tbody>\n",
       "\t<tr><th scope=row>2</th><td> 2   </td><td>F    </td><td>B部  </td><td>熟練 </td><td>45   </td><td>62   </td><td>51   </td><td>72   </td><td>64   </td><td>227  </td><td>211  </td><td>219.0</td></tr>\n",
       "\t<tr><th scope=row>8</th><td> 8   </td><td>M    </td><td>A部  </td><td>若手 </td><td>47   </td><td>77   </td><td>54   </td><td>59   </td><td>68   </td><td>237  </td><td>215  </td><td>226.0</td></tr>\n",
       "\t<tr><th scope=row>13</th><td>13   </td><td>M    </td><td>B部  </td><td>熟練 </td><td>43   </td><td>60   </td><td>47   </td><td>57   </td><td>57   </td><td>207  </td><td>202  </td><td>204.5</td></tr>\n",
       "\t<tr><th scope=row>16</th><td>16   </td><td>M    </td><td>A部  </td><td>若手 </td><td>47   </td><td>74   </td><td>48   </td><td>66   </td><td>57   </td><td>235  </td><td>246  </td><td>240.5</td></tr>\n",
       "\t<tr><th scope=row>18</th><td>18   </td><td>M    </td><td>A部  </td><td>若手 </td><td>34   </td><td>57   </td><td>36   </td><td>42   </td><td>57   </td><td>169  </td><td>188  </td><td>178.5</td></tr>\n",
       "\t<tr><th scope=row>19</th><td>19   </td><td>F    </td><td>B部  </td><td>熟練 </td><td>34   </td><td>36   </td><td>25   </td><td>42   </td><td>52   </td><td>134  </td><td>161  </td><td>147.5</td></tr>\n",
       "</tbody>\n",
       "</table>\n"
      ],
      "text/latex": [
       "\\begin{tabular}{r|llllllllllll}\n",
       "  & ID & sex & dep & age & cooperativeness & self-assertion & skill & knowledge & stress & total & last\\_year\\_total & total\\_mean\\\\\n",
       "\\hline\n",
       "\t2 &  2    & F     & B部   & 熟練  & 45    & 62    & 51    & 72    & 64    & 227   & 211   & 219.0\\\\\n",
       "\t8 &  8    & M     & A部   & 若手  & 47    & 77    & 54    & 59    & 68    & 237   & 215   & 226.0\\\\\n",
       "\t13 & 13    & M     & B部   & 熟練  & 43    & 60    & 47    & 57    & 57    & 207   & 202   & 204.5\\\\\n",
       "\t16 & 16    & M     & A部   & 若手  & 47    & 74    & 48    & 66    & 57    & 235   & 246   & 240.5\\\\\n",
       "\t18 & 18    & M     & A部   & 若手  & 34    & 57    & 36    & 42    & 57    & 169   & 188   & 178.5\\\\\n",
       "\t19 & 19    & F     & B部   & 熟練  & 34    & 36    & 25    & 42    & 52    & 134   & 161   & 147.5\\\\\n",
       "\\end{tabular}\n"
      ],
      "text/markdown": [
       "\n",
       "| <!--/--> | ID | sex | dep | age | cooperativeness | self-assertion | skill | knowledge | stress | total | last_year_total | total_mean | \n",
       "|---|---|---|---|---|---|\n",
       "| 2 |  2    | F     | B部   | 熟練  | 45    | 62    | 51    | 72    | 64    | 227   | 211   | 219.0 | \n",
       "| 8 |  8    | M     | A部   | 若手  | 47    | 77    | 54    | 59    | 68    | 237   | 215   | 226.0 | \n",
       "| 13 | 13    | M     | B部   | 熟練  | 43    | 60    | 47    | 57    | 57    | 207   | 202   | 204.5 | \n",
       "| 16 | 16    | M     | A部   | 若手  | 47    | 74    | 48    | 66    | 57    | 235   | 246   | 240.5 | \n",
       "| 18 | 18    | M     | A部   | 若手  | 34    | 57    | 36    | 42    | 57    | 169   | 188   | 178.5 | \n",
       "| 19 | 19    | F     | B部   | 熟練  | 34    | 36    | 25    | 42    | 52    | 134   | 161   | 147.5 | \n",
       "\n",
       "\n"
      ],
      "text/plain": [
       "   ID sex dep age  cooperativeness self-assertion skill knowledge stress total\n",
       "2   2 F   B部 熟練 45              62             51    72        64     227  \n",
       "8   8 M   A部 若手 47              77             54    59        68     237  \n",
       "13 13 M   B部 熟練 43              60             47    57        57     207  \n",
       "16 16 M   A部 若手 47              74             48    66        57     235  \n",
       "18 18 M   A部 若手 34              57             36    42        57     169  \n",
       "19 19 F   B部 熟練 34              36             25    42        52     134  \n",
       "   last_year_total total_mean\n",
       "2  211             219.0     \n",
       "8  215             226.0     \n",
       "13 202             204.5     \n",
       "16 246             240.5     \n",
       "18 188             178.5     \n",
       "19 161             147.5     "
      ]
     },
     "metadata": {},
     "output_type": "display_data"
    },
    {
     "data": {
      "text/html": [
       "<table>\n",
       "<thead><tr><th></th><th scope=col>ID</th><th scope=col>sex</th><th scope=col>dep</th><th scope=col>age</th><th scope=col>cooperativeness</th><th scope=col>self-assertion</th><th scope=col>skill</th><th scope=col>knowledge</th><th scope=col>stress</th><th scope=col>total</th><th scope=col>last_year_total</th><th scope=col>total_mean</th></tr></thead>\n",
       "<tbody>\n",
       "\t<tr><th scope=row>2</th><td> 2   </td><td>F    </td><td>B部  </td><td>熟練 </td><td>45   </td><td>62   </td><td>51   </td><td>72   </td><td>64   </td><td>227  </td><td>211  </td><td>219.0</td></tr>\n",
       "\t<tr><th scope=row>8</th><td> 8   </td><td>M    </td><td>A部  </td><td>若手 </td><td>47   </td><td>77   </td><td>54   </td><td>59   </td><td>68   </td><td>237  </td><td>215  </td><td>226.0</td></tr>\n",
       "\t<tr><th scope=row>10</th><td>10   </td><td>M    </td><td>A部  </td><td>中堅 </td><td>50   </td><td>77   </td><td>53   </td><td>74   </td><td>66   </td><td>254  </td><td>234  </td><td>244.0</td></tr>\n",
       "\t<tr><th scope=row>13</th><td>13   </td><td>M    </td><td>B部  </td><td>熟練 </td><td>43   </td><td>60   </td><td>47   </td><td>57   </td><td>57   </td><td>207  </td><td>202  </td><td>204.5</td></tr>\n",
       "\t<tr><th scope=row>16</th><td>16   </td><td>M    </td><td>A部  </td><td>若手 </td><td>47   </td><td>74   </td><td>48   </td><td>66   </td><td>57   </td><td>235  </td><td>246  </td><td>240.5</td></tr>\n",
       "\t<tr><th scope=row>18</th><td>18   </td><td>M    </td><td>A部  </td><td>若手 </td><td>34   </td><td>57   </td><td>36   </td><td>42   </td><td>57   </td><td>169  </td><td>188  </td><td>178.5</td></tr>\n",
       "</tbody>\n",
       "</table>\n"
      ],
      "text/latex": [
       "\\begin{tabular}{r|llllllllllll}\n",
       "  & ID & sex & dep & age & cooperativeness & self-assertion & skill & knowledge & stress & total & last\\_year\\_total & total\\_mean\\\\\n",
       "\\hline\n",
       "\t2 &  2    & F     & B部   & 熟練  & 45    & 62    & 51    & 72    & 64    & 227   & 211   & 219.0\\\\\n",
       "\t8 &  8    & M     & A部   & 若手  & 47    & 77    & 54    & 59    & 68    & 237   & 215   & 226.0\\\\\n",
       "\t10 & 10    & M     & A部   & 中堅  & 50    & 77    & 53    & 74    & 66    & 254   & 234   & 244.0\\\\\n",
       "\t13 & 13    & M     & B部   & 熟練  & 43    & 60    & 47    & 57    & 57    & 207   & 202   & 204.5\\\\\n",
       "\t16 & 16    & M     & A部   & 若手  & 47    & 74    & 48    & 66    & 57    & 235   & 246   & 240.5\\\\\n",
       "\t18 & 18    & M     & A部   & 若手  & 34    & 57    & 36    & 42    & 57    & 169   & 188   & 178.5\\\\\n",
       "\\end{tabular}\n"
      ],
      "text/markdown": [
       "\n",
       "| <!--/--> | ID | sex | dep | age | cooperativeness | self-assertion | skill | knowledge | stress | total | last_year_total | total_mean | \n",
       "|---|---|---|---|---|---|\n",
       "| 2 |  2    | F     | B部   | 熟練  | 45    | 62    | 51    | 72    | 64    | 227   | 211   | 219.0 | \n",
       "| 8 |  8    | M     | A部   | 若手  | 47    | 77    | 54    | 59    | 68    | 237   | 215   | 226.0 | \n",
       "| 10 | 10    | M     | A部   | 中堅  | 50    | 77    | 53    | 74    | 66    | 254   | 234   | 244.0 | \n",
       "| 13 | 13    | M     | B部   | 熟練  | 43    | 60    | 47    | 57    | 57    | 207   | 202   | 204.5 | \n",
       "| 16 | 16    | M     | A部   | 若手  | 47    | 74    | 48    | 66    | 57    | 235   | 246   | 240.5 | \n",
       "| 18 | 18    | M     | A部   | 若手  | 34    | 57    | 36    | 42    | 57    | 169   | 188   | 178.5 | \n",
       "\n",
       "\n"
      ],
      "text/plain": [
       "   ID sex dep age  cooperativeness self-assertion skill knowledge stress total\n",
       "2   2 F   B部 熟練 45              62             51    72        64     227  \n",
       "8   8 M   A部 若手 47              77             54    59        68     237  \n",
       "10 10 M   A部 中堅 50              77             53    74        66     254  \n",
       "13 13 M   B部 熟練 43              60             47    57        57     207  \n",
       "16 16 M   A部 若手 47              74             48    66        57     235  \n",
       "18 18 M   A部 若手 34              57             36    42        57     169  \n",
       "   last_year_total total_mean\n",
       "2  211             219.0     \n",
       "8  215             226.0     \n",
       "10 234             244.0     \n",
       "13 202             204.5     \n",
       "16 246             240.5     \n",
       "18 188             178.5     "
      ]
     },
     "metadata": {},
     "output_type": "display_data"
    },
    {
     "data": {
      "text/html": [
       "<table>\n",
       "<thead><tr><th></th><th scope=col>ID</th><th scope=col>sex</th><th scope=col>dep</th><th scope=col>age</th><th scope=col>cooperativeness</th><th scope=col>self-assertion</th><th scope=col>skill</th><th scope=col>knowledge</th><th scope=col>stress</th><th scope=col>total</th><th scope=col>last_year_total</th><th scope=col>total_mean</th></tr></thead>\n",
       "<tbody>\n",
       "\t<tr><th scope=row>1</th><td>1    </td><td>M    </td><td>A部  </td><td>中堅 </td><td>70   </td><td>45   </td><td>65   </td><td>71   </td><td>53   </td><td>251  </td><td>248  </td><td>249.5</td></tr>\n",
       "\t<tr><th scope=row>3</th><td>3    </td><td>M    </td><td>A部  </td><td>中堅 </td><td>54   </td><td>70   </td><td>55   </td><td>70   </td><td>61   </td><td>249  </td><td>242  </td><td>245.5</td></tr>\n",
       "\t<tr><th scope=row>4</th><td>4    </td><td>M    </td><td>A部  </td><td>熟練 </td><td>51   </td><td>63   </td><td>53   </td><td>65   </td><td>60   </td><td>232  </td><td>240  </td><td>236.0</td></tr>\n",
       "\t<tr><th scope=row>5</th><td>5    </td><td>F    </td><td>A部  </td><td>若手 </td><td>56   </td><td>52   </td><td>44   </td><td>68   </td><td>56   </td><td>217  </td><td>177  </td><td>197.0</td></tr>\n",
       "\t<tr><th scope=row>6</th><td>6    </td><td>M    </td><td>A部  </td><td>熟練 </td><td>51   </td><td>64   </td><td>48   </td><td>73   </td><td>52   </td><td>236  </td><td>216  </td><td>226.0</td></tr>\n",
       "\t<tr><th scope=row>7</th><td>7    </td><td>F    </td><td>B部  </td><td>若手 </td><td>64   </td><td>65   </td><td>58   </td><td>72   </td><td>45   </td><td>256  </td><td>262  </td><td>259.0</td></tr>\n",
       "</tbody>\n",
       "</table>\n"
      ],
      "text/latex": [
       "\\begin{tabular}{r|llllllllllll}\n",
       "  & ID & sex & dep & age & cooperativeness & self-assertion & skill & knowledge & stress & total & last\\_year\\_total & total\\_mean\\\\\n",
       "\\hline\n",
       "\t1 & 1     & M     & A部   & 中堅  & 70    & 45    & 65    & 71    & 53    & 251   & 248   & 249.5\\\\\n",
       "\t3 & 3     & M     & A部   & 中堅  & 54    & 70    & 55    & 70    & 61    & 249   & 242   & 245.5\\\\\n",
       "\t4 & 4     & M     & A部   & 熟練  & 51    & 63    & 53    & 65    & 60    & 232   & 240   & 236.0\\\\\n",
       "\t5 & 5     & F     & A部   & 若手  & 56    & 52    & 44    & 68    & 56    & 217   & 177   & 197.0\\\\\n",
       "\t6 & 6     & M     & A部   & 熟練  & 51    & 64    & 48    & 73    & 52    & 236   & 216   & 226.0\\\\\n",
       "\t7 & 7     & F     & B部   & 若手  & 64    & 65    & 58    & 72    & 45    & 256   & 262   & 259.0\\\\\n",
       "\\end{tabular}\n"
      ],
      "text/markdown": [
       "\n",
       "| <!--/--> | ID | sex | dep | age | cooperativeness | self-assertion | skill | knowledge | stress | total | last_year_total | total_mean | \n",
       "|---|---|---|---|---|---|\n",
       "| 1 | 1     | M     | A部   | 中堅  | 70    | 45    | 65    | 71    | 53    | 251   | 248   | 249.5 | \n",
       "| 3 | 3     | M     | A部   | 中堅  | 54    | 70    | 55    | 70    | 61    | 249   | 242   | 245.5 | \n",
       "| 4 | 4     | M     | A部   | 熟練  | 51    | 63    | 53    | 65    | 60    | 232   | 240   | 236.0 | \n",
       "| 5 | 5     | F     | A部   | 若手  | 56    | 52    | 44    | 68    | 56    | 217   | 177   | 197.0 | \n",
       "| 6 | 6     | M     | A部   | 熟練  | 51    | 64    | 48    | 73    | 52    | 236   | 216   | 226.0 | \n",
       "| 7 | 7     | F     | B部   | 若手  | 64    | 65    | 58    | 72    | 45    | 256   | 262   | 259.0 | \n",
       "\n",
       "\n"
      ],
      "text/plain": [
       "  ID sex dep age  cooperativeness self-assertion skill knowledge stress total\n",
       "1 1  M   A部 中堅 70              45             65    71        53     251  \n",
       "3 3  M   A部 中堅 54              70             55    70        61     249  \n",
       "4 4  M   A部 熟練 51              63             53    65        60     232  \n",
       "5 5  F   A部 若手 56              52             44    68        56     217  \n",
       "6 6  M   A部 熟練 51              64             48    73        52     236  \n",
       "7 7  F   B部 若手 64              65             58    72        45     256  \n",
       "  last_year_total total_mean\n",
       "1 248             249.5     \n",
       "3 242             245.5     \n",
       "4 240             236.0     \n",
       "5 177             197.0     \n",
       "6 216             226.0     \n",
       "7 262             259.0     "
      ]
     },
     "metadata": {},
     "output_type": "display_data"
    },
    {
     "data": {
      "text/html": [
       "<table>\n",
       "<thead><tr><th></th><th scope=col>ID</th><th scope=col>sex</th><th scope=col>dep</th><th scope=col>age</th><th scope=col>cooperativeness</th><th scope=col>self-assertion</th><th scope=col>skill</th><th scope=col>knowledge</th><th scope=col>stress</th><th scope=col>total</th><th scope=col>last_year_total</th><th scope=col>total_mean</th></tr></thead>\n",
       "<tbody>\n",
       "\t<tr><th scope=row>1</th><td>1    </td><td>M    </td><td>A部  </td><td>中堅 </td><td>70   </td><td>45   </td><td>65   </td><td>71   </td><td>53   </td><td>251  </td><td>248  </td><td>249.5</td></tr>\n",
       "\t<tr><th scope=row>3</th><td>3    </td><td>M    </td><td>A部  </td><td>中堅 </td><td>54   </td><td>70   </td><td>55   </td><td>70   </td><td>61   </td><td>249  </td><td>242  </td><td>245.5</td></tr>\n",
       "\t<tr><th scope=row>4</th><td>4    </td><td>M    </td><td>A部  </td><td>熟練 </td><td>51   </td><td>63   </td><td>53   </td><td>65   </td><td>60   </td><td>232  </td><td>240  </td><td>236.0</td></tr>\n",
       "\t<tr><th scope=row>5</th><td>5    </td><td>F    </td><td>A部  </td><td>若手 </td><td>56   </td><td>52   </td><td>44   </td><td>68   </td><td>56   </td><td>217  </td><td>177  </td><td>197.0</td></tr>\n",
       "\t<tr><th scope=row>6</th><td>6    </td><td>M    </td><td>A部  </td><td>熟練 </td><td>51   </td><td>64   </td><td>48   </td><td>73   </td><td>52   </td><td>236  </td><td>216  </td><td>226.0</td></tr>\n",
       "\t<tr><th scope=row>7</th><td>7    </td><td>F    </td><td>B部  </td><td>若手 </td><td>64   </td><td>65   </td><td>58   </td><td>72   </td><td>45   </td><td>256  </td><td>262  </td><td>259.0</td></tr>\n",
       "</tbody>\n",
       "</table>\n"
      ],
      "text/latex": [
       "\\begin{tabular}{r|llllllllllll}\n",
       "  & ID & sex & dep & age & cooperativeness & self-assertion & skill & knowledge & stress & total & last\\_year\\_total & total\\_mean\\\\\n",
       "\\hline\n",
       "\t1 & 1     & M     & A部   & 中堅  & 70    & 45    & 65    & 71    & 53    & 251   & 248   & 249.5\\\\\n",
       "\t3 & 3     & M     & A部   & 中堅  & 54    & 70    & 55    & 70    & 61    & 249   & 242   & 245.5\\\\\n",
       "\t4 & 4     & M     & A部   & 熟練  & 51    & 63    & 53    & 65    & 60    & 232   & 240   & 236.0\\\\\n",
       "\t5 & 5     & F     & A部   & 若手  & 56    & 52    & 44    & 68    & 56    & 217   & 177   & 197.0\\\\\n",
       "\t6 & 6     & M     & A部   & 熟練  & 51    & 64    & 48    & 73    & 52    & 236   & 216   & 226.0\\\\\n",
       "\t7 & 7     & F     & B部   & 若手  & 64    & 65    & 58    & 72    & 45    & 256   & 262   & 259.0\\\\\n",
       "\\end{tabular}\n"
      ],
      "text/markdown": [
       "\n",
       "| <!--/--> | ID | sex | dep | age | cooperativeness | self-assertion | skill | knowledge | stress | total | last_year_total | total_mean | \n",
       "|---|---|---|---|---|---|\n",
       "| 1 | 1     | M     | A部   | 中堅  | 70    | 45    | 65    | 71    | 53    | 251   | 248   | 249.5 | \n",
       "| 3 | 3     | M     | A部   | 中堅  | 54    | 70    | 55    | 70    | 61    | 249   | 242   | 245.5 | \n",
       "| 4 | 4     | M     | A部   | 熟練  | 51    | 63    | 53    | 65    | 60    | 232   | 240   | 236.0 | \n",
       "| 5 | 5     | F     | A部   | 若手  | 56    | 52    | 44    | 68    | 56    | 217   | 177   | 197.0 | \n",
       "| 6 | 6     | M     | A部   | 熟練  | 51    | 64    | 48    | 73    | 52    | 236   | 216   | 226.0 | \n",
       "| 7 | 7     | F     | B部   | 若手  | 64    | 65    | 58    | 72    | 45    | 256   | 262   | 259.0 | \n",
       "\n",
       "\n"
      ],
      "text/plain": [
       "  ID sex dep age  cooperativeness self-assertion skill knowledge stress total\n",
       "1 1  M   A部 中堅 70              45             65    71        53     251  \n",
       "3 3  M   A部 中堅 54              70             55    70        61     249  \n",
       "4 4  M   A部 熟練 51              63             53    65        60     232  \n",
       "5 5  F   A部 若手 56              52             44    68        56     217  \n",
       "6 6  M   A部 熟練 51              64             48    73        52     236  \n",
       "7 7  F   B部 若手 64              65             58    72        45     256  \n",
       "  last_year_total total_mean\n",
       "1 248             249.5     \n",
       "3 242             245.5     \n",
       "4 240             236.0     \n",
       "5 177             197.0     \n",
       "6 216             226.0     \n",
       "7 262             259.0     "
      ]
     },
     "metadata": {},
     "output_type": "display_data"
    }
   ],
   "source": [
    "#<, <=, >, >= を用いた条件抽出\n",
    "\n",
    "cope1 <- subset(jinji_hyouka, cooperativeness < 50)    #協調性50未満のデータ\n",
    "head(cope1)\n",
    "\n",
    "cope2 <- subset(jinji_hyouka, cooperativeness <= 50)    #協調性50以下のデータ \n",
    "head(cope2)\n",
    "\n",
    "cope3 <- subset(jinji_hyouka, cooperativeness > 50)    #協調性50より大きいデータ\n",
    "head(cope3)\n",
    "\n",
    "cope4 <- subset(jinji_hyouka, cooperativeness >= 50)    #協調性50以上のデータ\n",
    "head(cope4)"
   ]
  },
  {
   "cell_type": "code",
   "execution_count": 8,
   "metadata": {},
   "outputs": [
    {
     "data": {
      "text/html": [
       "<table>\n",
       "<thead><tr><th></th><th scope=col>ID</th><th scope=col>sex</th><th scope=col>dep</th><th scope=col>age</th><th scope=col>cooperativeness</th><th scope=col>self-assertion</th><th scope=col>skill</th><th scope=col>knowledge</th><th scope=col>stress</th><th scope=col>total</th><th scope=col>last_year_total</th><th scope=col>total_mean</th></tr></thead>\n",
       "<tbody>\n",
       "\t<tr><th scope=row>1</th><td>1    </td><td>M    </td><td>A部  </td><td>中堅 </td><td>70   </td><td>45   </td><td>65   </td><td>71   </td><td>53   </td><td>251  </td><td>248  </td><td>249.5</td></tr>\n",
       "\t<tr><th scope=row>2</th><td>2    </td><td>F    </td><td>B部  </td><td>熟練 </td><td>45   </td><td>62   </td><td>51   </td><td>72   </td><td>64   </td><td>227  </td><td>211  </td><td>219.0</td></tr>\n",
       "\t<tr><th scope=row>3</th><td>3    </td><td>M    </td><td>A部  </td><td>中堅 </td><td>54   </td><td>70   </td><td>55   </td><td>70   </td><td>61   </td><td>249  </td><td>242  </td><td>245.5</td></tr>\n",
       "\t<tr><th scope=row>4</th><td>4    </td><td>M    </td><td>A部  </td><td>熟練 </td><td>51   </td><td>63   </td><td>53   </td><td>65   </td><td>60   </td><td>232  </td><td>240  </td><td>236.0</td></tr>\n",
       "\t<tr><th scope=row>6</th><td>6    </td><td>M    </td><td>A部  </td><td>熟練 </td><td>51   </td><td>64   </td><td>48   </td><td>73   </td><td>52   </td><td>236  </td><td>216  </td><td>226.0</td></tr>\n",
       "\t<tr><th scope=row>8</th><td>8    </td><td>M    </td><td>A部  </td><td>若手 </td><td>47   </td><td>77   </td><td>54   </td><td>59   </td><td>68   </td><td>237  </td><td>215  </td><td>226.0</td></tr>\n",
       "</tbody>\n",
       "</table>\n"
      ],
      "text/latex": [
       "\\begin{tabular}{r|llllllllllll}\n",
       "  & ID & sex & dep & age & cooperativeness & self-assertion & skill & knowledge & stress & total & last\\_year\\_total & total\\_mean\\\\\n",
       "\\hline\n",
       "\t1 & 1     & M     & A部   & 中堅  & 70    & 45    & 65    & 71    & 53    & 251   & 248   & 249.5\\\\\n",
       "\t2 & 2     & F     & B部   & 熟練  & 45    & 62    & 51    & 72    & 64    & 227   & 211   & 219.0\\\\\n",
       "\t3 & 3     & M     & A部   & 中堅  & 54    & 70    & 55    & 70    & 61    & 249   & 242   & 245.5\\\\\n",
       "\t4 & 4     & M     & A部   & 熟練  & 51    & 63    & 53    & 65    & 60    & 232   & 240   & 236.0\\\\\n",
       "\t6 & 6     & M     & A部   & 熟練  & 51    & 64    & 48    & 73    & 52    & 236   & 216   & 226.0\\\\\n",
       "\t8 & 8     & M     & A部   & 若手  & 47    & 77    & 54    & 59    & 68    & 237   & 215   & 226.0\\\\\n",
       "\\end{tabular}\n"
      ],
      "text/markdown": [
       "\n",
       "| <!--/--> | ID | sex | dep | age | cooperativeness | self-assertion | skill | knowledge | stress | total | last_year_total | total_mean | \n",
       "|---|---|---|---|---|---|\n",
       "| 1 | 1     | M     | A部   | 中堅  | 70    | 45    | 65    | 71    | 53    | 251   | 248   | 249.5 | \n",
       "| 2 | 2     | F     | B部   | 熟練  | 45    | 62    | 51    | 72    | 64    | 227   | 211   | 219.0 | \n",
       "| 3 | 3     | M     | A部   | 中堅  | 54    | 70    | 55    | 70    | 61    | 249   | 242   | 245.5 | \n",
       "| 4 | 4     | M     | A部   | 熟練  | 51    | 63    | 53    | 65    | 60    | 232   | 240   | 236.0 | \n",
       "| 6 | 6     | M     | A部   | 熟練  | 51    | 64    | 48    | 73    | 52    | 236   | 216   | 226.0 | \n",
       "| 8 | 8     | M     | A部   | 若手  | 47    | 77    | 54    | 59    | 68    | 237   | 215   | 226.0 | \n",
       "\n",
       "\n"
      ],
      "text/plain": [
       "  ID sex dep age  cooperativeness self-assertion skill knowledge stress total\n",
       "1 1  M   A部 中堅 70              45             65    71        53     251  \n",
       "2 2  F   B部 熟練 45              62             51    72        64     227  \n",
       "3 3  M   A部 中堅 54              70             55    70        61     249  \n",
       "4 4  M   A部 熟練 51              63             53    65        60     232  \n",
       "6 6  M   A部 熟練 51              64             48    73        52     236  \n",
       "8 8  M   A部 若手 47              77             54    59        68     237  \n",
       "  last_year_total total_mean\n",
       "1 248             249.5     \n",
       "2 211             219.0     \n",
       "3 242             245.5     \n",
       "4 240             236.0     \n",
       "6 216             226.0     \n",
       "8 215             226.0     "
      ]
     },
     "metadata": {},
     "output_type": "display_data"
    },
    {
     "data": {
      "text/html": [
       "<table>\n",
       "<thead><tr><th></th><th scope=col>ID</th><th scope=col>sex</th><th scope=col>dep</th><th scope=col>age</th><th scope=col>cooperativeness</th><th scope=col>self-assertion</th><th scope=col>skill</th><th scope=col>knowledge</th><th scope=col>stress</th><th scope=col>total</th><th scope=col>last_year_total</th><th scope=col>total_mean</th></tr></thead>\n",
       "<tbody>\n",
       "\t<tr><th scope=row>4</th><td>  4  </td><td>M    </td><td>A部  </td><td>熟練 </td><td>51   </td><td>63   </td><td>53   </td><td>65   </td><td>60   </td><td>232  </td><td>240  </td><td>236.0</td></tr>\n",
       "\t<tr><th scope=row>50</th><td> 50  </td><td>M    </td><td>A部  </td><td>熟練 </td><td>64   </td><td>66   </td><td>60   </td><td>66   </td><td>47   </td><td>256  </td><td>260  </td><td>258.0</td></tr>\n",
       "\t<tr><th scope=row>94</th><td> 94  </td><td>M    </td><td>B部  </td><td>熟練 </td><td>65   </td><td>51   </td><td>64   </td><td>78   </td><td>51   </td><td>258  </td><td>218  </td><td>238.0</td></tr>\n",
       "\t<tr><th scope=row>97</th><td> 97  </td><td>M    </td><td>A部  </td><td>熟練 </td><td>35   </td><td>53   </td><td>51   </td><td>60   </td><td>63   </td><td>199  </td><td>186  </td><td>192.5</td></tr>\n",
       "\t<tr><th scope=row>144</th><td>144  </td><td>M    </td><td>B部  </td><td>熟練 </td><td>50   </td><td>50   </td><td>50   </td><td>58   </td><td>54   </td><td>208  </td><td>216  </td><td>212.0</td></tr>\n",
       "\t<tr><th scope=row>188</th><td>188  </td><td>M    </td><td>B部  </td><td>熟練 </td><td>45   </td><td>74   </td><td>79   </td><td>64   </td><td>64   </td><td>262  </td><td>291  </td><td>276.5</td></tr>\n",
       "</tbody>\n",
       "</table>\n"
      ],
      "text/latex": [
       "\\begin{tabular}{r|llllllllllll}\n",
       "  & ID & sex & dep & age & cooperativeness & self-assertion & skill & knowledge & stress & total & last\\_year\\_total & total\\_mean\\\\\n",
       "\\hline\n",
       "\t4 &   4   & M     & A部   & 熟練  & 51    & 63    & 53    & 65    & 60    & 232   & 240   & 236.0\\\\\n",
       "\t50 &  50   & M     & A部   & 熟練  & 64    & 66    & 60    & 66    & 47    & 256   & 260   & 258.0\\\\\n",
       "\t94 &  94   & M     & B部   & 熟練  & 65    & 51    & 64    & 78    & 51    & 258   & 218   & 238.0\\\\\n",
       "\t97 &  97   & M     & A部   & 熟練  & 35    & 53    & 51    & 60    & 63    & 199   & 186   & 192.5\\\\\n",
       "\t144 & 144   & M     & B部   & 熟練  & 50    & 50    & 50    & 58    & 54    & 208   & 216   & 212.0\\\\\n",
       "\t188 & 188   & M     & B部   & 熟練  & 45    & 74    & 79    & 64    & 64    & 262   & 291   & 276.5\\\\\n",
       "\\end{tabular}\n"
      ],
      "text/markdown": [
       "\n",
       "| <!--/--> | ID | sex | dep | age | cooperativeness | self-assertion | skill | knowledge | stress | total | last_year_total | total_mean | \n",
       "|---|---|---|---|---|---|\n",
       "| 4 |   4   | M     | A部   | 熟練  | 51    | 63    | 53    | 65    | 60    | 232   | 240   | 236.0 | \n",
       "| 50 |  50   | M     | A部   | 熟練  | 64    | 66    | 60    | 66    | 47    | 256   | 260   | 258.0 | \n",
       "| 94 |  94   | M     | B部   | 熟練  | 65    | 51    | 64    | 78    | 51    | 258   | 218   | 238.0 | \n",
       "| 97 |  97   | M     | A部   | 熟練  | 35    | 53    | 51    | 60    | 63    | 199   | 186   | 192.5 | \n",
       "| 144 | 144   | M     | B部   | 熟練  | 50    | 50    | 50    | 58    | 54    | 208   | 216   | 212.0 | \n",
       "| 188 | 188   | M     | B部   | 熟練  | 45    | 74    | 79    | 64    | 64    | 262   | 291   | 276.5 | \n",
       "\n",
       "\n"
      ],
      "text/plain": [
       "    ID  sex dep age  cooperativeness self-assertion skill knowledge stress\n",
       "4     4 M   A部 熟練 51              63             53    65        60    \n",
       "50   50 M   A部 熟練 64              66             60    66        47    \n",
       "94   94 M   B部 熟練 65              51             64    78        51    \n",
       "97   97 M   A部 熟練 35              53             51    60        63    \n",
       "144 144 M   B部 熟練 50              50             50    58        54    \n",
       "188 188 M   B部 熟練 45              74             79    64        64    \n",
       "    total last_year_total total_mean\n",
       "4   232   240             236.0     \n",
       "50  256   260             258.0     \n",
       "94  258   218             238.0     \n",
       "97  199   186             192.5     \n",
       "144 208   216             212.0     \n",
       "188 262   291             276.5     "
      ]
     },
     "metadata": {},
     "output_type": "display_data"
    },
    {
     "data": {
      "text/html": [
       "<table>\n",
       "<thead><tr><th></th><th scope=col>ID</th><th scope=col>sex</th><th scope=col>dep</th><th scope=col>age</th><th scope=col>cooperativeness</th><th scope=col>self-assertion</th><th scope=col>skill</th><th scope=col>knowledge</th><th scope=col>stress</th><th scope=col>total</th><th scope=col>last_year_total</th><th scope=col>total_mean</th></tr></thead>\n",
       "<tbody>\n",
       "\t<tr><th scope=row>4</th><td>  4  </td><td>M    </td><td>A部  </td><td>熟練 </td><td>51   </td><td>63   </td><td>53   </td><td>65   </td><td>60   </td><td>232  </td><td>240  </td><td>236.0</td></tr>\n",
       "\t<tr><th scope=row>50</th><td> 50  </td><td>M    </td><td>A部  </td><td>熟練 </td><td>64   </td><td>66   </td><td>60   </td><td>66   </td><td>47   </td><td>256  </td><td>260  </td><td>258.0</td></tr>\n",
       "\t<tr><th scope=row>94</th><td> 94  </td><td>M    </td><td>B部  </td><td>熟練 </td><td>65   </td><td>51   </td><td>64   </td><td>78   </td><td>51   </td><td>258  </td><td>218  </td><td>238.0</td></tr>\n",
       "\t<tr><th scope=row>97</th><td> 97  </td><td>M    </td><td>A部  </td><td>熟練 </td><td>35   </td><td>53   </td><td>51   </td><td>60   </td><td>63   </td><td>199  </td><td>186  </td><td>192.5</td></tr>\n",
       "\t<tr><th scope=row>144</th><td>144  </td><td>M    </td><td>B部  </td><td>熟練 </td><td>50   </td><td>50   </td><td>50   </td><td>58   </td><td>54   </td><td>208  </td><td>216  </td><td>212.0</td></tr>\n",
       "\t<tr><th scope=row>188</th><td>188  </td><td>M    </td><td>B部  </td><td>熟練 </td><td>45   </td><td>74   </td><td>79   </td><td>64   </td><td>64   </td><td>262  </td><td>291  </td><td>276.5</td></tr>\n",
       "</tbody>\n",
       "</table>\n"
      ],
      "text/latex": [
       "\\begin{tabular}{r|llllllllllll}\n",
       "  & ID & sex & dep & age & cooperativeness & self-assertion & skill & knowledge & stress & total & last\\_year\\_total & total\\_mean\\\\\n",
       "\\hline\n",
       "\t4 &   4   & M     & A部   & 熟練  & 51    & 63    & 53    & 65    & 60    & 232   & 240   & 236.0\\\\\n",
       "\t50 &  50   & M     & A部   & 熟練  & 64    & 66    & 60    & 66    & 47    & 256   & 260   & 258.0\\\\\n",
       "\t94 &  94   & M     & B部   & 熟練  & 65    & 51    & 64    & 78    & 51    & 258   & 218   & 238.0\\\\\n",
       "\t97 &  97   & M     & A部   & 熟練  & 35    & 53    & 51    & 60    & 63    & 199   & 186   & 192.5\\\\\n",
       "\t144 & 144   & M     & B部   & 熟練  & 50    & 50    & 50    & 58    & 54    & 208   & 216   & 212.0\\\\\n",
       "\t188 & 188   & M     & B部   & 熟練  & 45    & 74    & 79    & 64    & 64    & 262   & 291   & 276.5\\\\\n",
       "\\end{tabular}\n"
      ],
      "text/markdown": [
       "\n",
       "| <!--/--> | ID | sex | dep | age | cooperativeness | self-assertion | skill | knowledge | stress | total | last_year_total | total_mean | \n",
       "|---|---|---|---|---|---|\n",
       "| 4 |   4   | M     | A部   | 熟練  | 51    | 63    | 53    | 65    | 60    | 232   | 240   | 236.0 | \n",
       "| 50 |  50   | M     | A部   | 熟練  | 64    | 66    | 60    | 66    | 47    | 256   | 260   | 258.0 | \n",
       "| 94 |  94   | M     | B部   | 熟練  | 65    | 51    | 64    | 78    | 51    | 258   | 218   | 238.0 | \n",
       "| 97 |  97   | M     | A部   | 熟練  | 35    | 53    | 51    | 60    | 63    | 199   | 186   | 192.5 | \n",
       "| 144 | 144   | M     | B部   | 熟練  | 50    | 50    | 50    | 58    | 54    | 208   | 216   | 212.0 | \n",
       "| 188 | 188   | M     | B部   | 熟練  | 45    | 74    | 79    | 64    | 64    | 262   | 291   | 276.5 | \n",
       "\n",
       "\n"
      ],
      "text/plain": [
       "    ID  sex dep age  cooperativeness self-assertion skill knowledge stress\n",
       "4     4 M   A部 熟練 51              63             53    65        60    \n",
       "50   50 M   A部 熟練 64              66             60    66        47    \n",
       "94   94 M   B部 熟練 65              51             64    78        51    \n",
       "97   97 M   A部 熟練 35              53             51    60        63    \n",
       "144 144 M   B部 熟練 50              50             50    58        54    \n",
       "188 188 M   B部 熟練 45              74             79    64        64    \n",
       "    total last_year_total total_mean\n",
       "4   232   240             236.0     \n",
       "50  256   260             258.0     \n",
       "94  258   218             238.0     \n",
       "97  199   186             192.5     \n",
       "144 208   216             212.0     \n",
       "188 262   291             276.5     "
      ]
     },
     "metadata": {},
     "output_type": "display_data"
    }
   ],
   "source": [
    "# 論理和(|)と論理積(&)を用いたデータ抽出\n",
    "\n",
    "m1 <- subset(jinji_hyouka, (sex == \"M\")|(age == \"熟練\"))                   #男性or熟練のデータ\n",
    "head(m1)\n",
    "\n",
    "m2 <- subset(jinji_hyouka, (sex == \"M\")&(age == \"熟練\")&(skill >= 50))    #男性で熟練で技能50以上\n",
    "head(m2)\n",
    "\n",
    "m3 <- subset(jinji_hyouka, (sex == \"M\")&(age == \"中堅\")|(age == \"熟練\"))  #男性中堅or男性熟練\n",
    "head(m2)"
   ]
  },
  {
   "cell_type": "code",
   "execution_count": 9,
   "metadata": {},
   "outputs": [
    {
     "data": {
      "text/html": [
       "<ol class=list-inline>\n",
       "\t<li>TRUE</li>\n",
       "\t<li>FALSE</li>\n",
       "\t<li>TRUE</li>\n",
       "\t<li>TRUE</li>\n",
       "\t<li>FALSE</li>\n",
       "\t<li>TRUE</li>\n",
       "</ol>\n"
      ],
      "text/latex": [
       "\\begin{enumerate*}\n",
       "\\item TRUE\n",
       "\\item FALSE\n",
       "\\item TRUE\n",
       "\\item TRUE\n",
       "\\item FALSE\n",
       "\\item TRUE\n",
       "\\end{enumerate*}\n"
      ],
      "text/markdown": [
       "1. TRUE\n",
       "2. FALSE\n",
       "3. TRUE\n",
       "4. TRUE\n",
       "5. FALSE\n",
       "6. TRUE\n",
       "\n",
       "\n"
      ],
      "text/plain": [
       "[1]  TRUE FALSE  TRUE  TRUE FALSE  TRUE"
      ]
     },
     "metadata": {},
     "output_type": "display_data"
    },
    {
     "data": {
      "text/html": [
       "<table>\n",
       "<thead><tr><th></th><th scope=col>ID</th><th scope=col>sex</th><th scope=col>dep</th><th scope=col>age</th><th scope=col>cooperativeness</th><th scope=col>self-assertion</th><th scope=col>skill</th><th scope=col>knowledge</th><th scope=col>stress</th><th scope=col>total</th><th scope=col>last_year_total</th><th scope=col>total_mean</th></tr></thead>\n",
       "<tbody>\n",
       "\t<tr><th scope=row>1</th><td> 1   </td><td>M    </td><td>A部  </td><td>中堅 </td><td>70   </td><td>45   </td><td>65   </td><td>71   </td><td>53   </td><td>251  </td><td>248  </td><td>249.5</td></tr>\n",
       "\t<tr><th scope=row>3</th><td> 3   </td><td>M    </td><td>A部  </td><td>中堅 </td><td>54   </td><td>70   </td><td>55   </td><td>70   </td><td>61   </td><td>249  </td><td>242  </td><td>245.5</td></tr>\n",
       "\t<tr><th scope=row>4</th><td> 4   </td><td>M    </td><td>A部  </td><td>熟練 </td><td>51   </td><td>63   </td><td>53   </td><td>65   </td><td>60   </td><td>232  </td><td>240  </td><td>236.0</td></tr>\n",
       "\t<tr><th scope=row>6</th><td> 6   </td><td>M    </td><td>A部  </td><td>熟練 </td><td>51   </td><td>64   </td><td>48   </td><td>73   </td><td>52   </td><td>236  </td><td>216  </td><td>226.0</td></tr>\n",
       "\t<tr><th scope=row>10</th><td>10   </td><td>M    </td><td>A部  </td><td>中堅 </td><td>50   </td><td>77   </td><td>53   </td><td>74   </td><td>66   </td><td>254  </td><td>234  </td><td>244.0</td></tr>\n",
       "\t<tr><th scope=row>13</th><td>13   </td><td>M    </td><td>B部  </td><td>熟練 </td><td>43   </td><td>60   </td><td>47   </td><td>57   </td><td>57   </td><td>207  </td><td>202  </td><td>204.5</td></tr>\n",
       "</tbody>\n",
       "</table>\n"
      ],
      "text/latex": [
       "\\begin{tabular}{r|llllllllllll}\n",
       "  & ID & sex & dep & age & cooperativeness & self-assertion & skill & knowledge & stress & total & last\\_year\\_total & total\\_mean\\\\\n",
       "\\hline\n",
       "\t1 &  1    & M     & A部   & 中堅  & 70    & 45    & 65    & 71    & 53    & 251   & 248   & 249.5\\\\\n",
       "\t3 &  3    & M     & A部   & 中堅  & 54    & 70    & 55    & 70    & 61    & 249   & 242   & 245.5\\\\\n",
       "\t4 &  4    & M     & A部   & 熟練  & 51    & 63    & 53    & 65    & 60    & 232   & 240   & 236.0\\\\\n",
       "\t6 &  6    & M     & A部   & 熟練  & 51    & 64    & 48    & 73    & 52    & 236   & 216   & 226.0\\\\\n",
       "\t10 & 10    & M     & A部   & 中堅  & 50    & 77    & 53    & 74    & 66    & 254   & 234   & 244.0\\\\\n",
       "\t13 & 13    & M     & B部   & 熟練  & 43    & 60    & 47    & 57    & 57    & 207   & 202   & 204.5\\\\\n",
       "\\end{tabular}\n"
      ],
      "text/markdown": [
       "\n",
       "| <!--/--> | ID | sex | dep | age | cooperativeness | self-assertion | skill | knowledge | stress | total | last_year_total | total_mean | \n",
       "|---|---|---|---|---|---|\n",
       "| 1 |  1    | M     | A部   | 中堅  | 70    | 45    | 65    | 71    | 53    | 251   | 248   | 249.5 | \n",
       "| 3 |  3    | M     | A部   | 中堅  | 54    | 70    | 55    | 70    | 61    | 249   | 242   | 245.5 | \n",
       "| 4 |  4    | M     | A部   | 熟練  | 51    | 63    | 53    | 65    | 60    | 232   | 240   | 236.0 | \n",
       "| 6 |  6    | M     | A部   | 熟練  | 51    | 64    | 48    | 73    | 52    | 236   | 216   | 226.0 | \n",
       "| 10 | 10    | M     | A部   | 中堅  | 50    | 77    | 53    | 74    | 66    | 254   | 234   | 244.0 | \n",
       "| 13 | 13    | M     | B部   | 熟練  | 43    | 60    | 47    | 57    | 57    | 207   | 202   | 204.5 | \n",
       "\n",
       "\n"
      ],
      "text/plain": [
       "   ID sex dep age  cooperativeness self-assertion skill knowledge stress total\n",
       "1   1 M   A部 中堅 70              45             65    71        53     251  \n",
       "3   3 M   A部 中堅 54              70             55    70        61     249  \n",
       "4   4 M   A部 熟練 51              63             53    65        60     232  \n",
       "6   6 M   A部 熟練 51              64             48    73        52     236  \n",
       "10 10 M   A部 中堅 50              77             53    74        66     254  \n",
       "13 13 M   B部 熟練 43              60             47    57        57     207  \n",
       "   last_year_total total_mean\n",
       "1  248             249.5     \n",
       "3  242             245.5     \n",
       "4  240             236.0     \n",
       "6  216             226.0     \n",
       "10 234             244.0     \n",
       "13 202             204.5     "
      ]
     },
     "metadata": {},
     "output_type": "display_data"
    }
   ],
   "source": [
    "#subsetを利用しない行の抽出\n",
    "cond <- (jinji_hyouka$sex == \"M\")&((jinji_hyouka$age == \"中堅\")|(jinji_hyouka$age == \"熟練\"))   \n",
    "head(cond)    #condは論理値ベクトル\n",
    "\n",
    "head(jinji_hyouka[cond, ])"
   ]
  },
  {
   "cell_type": "markdown",
   "metadata": {},
   "source": [
    "### 欠損値の処理"
   ]
  },
  {
   "cell_type": "code",
   "execution_count": 10,
   "metadata": {},
   "outputs": [
    {
     "data": {
      "text/html": [
       "<table>\n",
       "<thead><tr><th scope=col>ID</th><th scope=col>A</th><th scope=col>B</th><th scope=col>C</th><th scope=col>D</th></tr></thead>\n",
       "<tbody>\n",
       "\t<tr><td>1 </td><td> 5</td><td>31</td><td>95</td><td>23</td></tr>\n",
       "\t<tr><td>2 </td><td>NA</td><td>23</td><td>73</td><td>33</td></tr>\n",
       "\t<tr><td>3 </td><td>23</td><td>35</td><td>43</td><td>54</td></tr>\n",
       "\t<tr><td>4 </td><td> 3</td><td>45</td><td> 8</td><td>NA</td></tr>\n",
       "</tbody>\n",
       "</table>\n"
      ],
      "text/latex": [
       "\\begin{tabular}{r|lllll}\n",
       " ID & A & B & C & D\\\\\n",
       "\\hline\n",
       "\t 1  &  5 & 31 & 95 & 23\\\\\n",
       "\t 2  & NA & 23 & 73 & 33\\\\\n",
       "\t 3  & 23 & 35 & 43 & 54\\\\\n",
       "\t 4  &  3 & 45 &  8 & NA\\\\\n",
       "\\end{tabular}\n"
      ],
      "text/markdown": [
       "\n",
       "ID | A | B | C | D | \n",
       "|---|---|---|---|\n",
       "| 1  |  5 | 31 | 95 | 23 | \n",
       "| 2  | NA | 23 | 73 | 33 | \n",
       "| 3  | 23 | 35 | 43 | 54 | \n",
       "| 4  |  3 | 45 |  8 | NA | \n",
       "\n",
       "\n"
      ],
      "text/plain": [
       "  ID A  B  C  D \n",
       "1 1   5 31 95 23\n",
       "2 2  NA 23 73 33\n",
       "3 3  23 35 43 54\n",
       "4 4   3 45  8 NA"
      ]
     },
     "metadata": {},
     "output_type": "display_data"
    },
    {
     "data": {
      "text/html": [
       "<table>\n",
       "<thead><tr><th scope=col>ID</th><th scope=col>A</th><th scope=col>B</th><th scope=col>C</th><th scope=col>D</th></tr></thead>\n",
       "<tbody>\n",
       "\t<tr><td>1   </td><td>  5 </td><td>31  </td><td>95  </td><td>  23</td></tr>\n",
       "\t<tr><td>2   </td><td>999 </td><td>23  </td><td>73  </td><td>  33</td></tr>\n",
       "\t<tr><td>3   </td><td> 23 </td><td>35  </td><td>43  </td><td>  54</td></tr>\n",
       "\t<tr><td>4   </td><td>  3 </td><td>45  </td><td> 8  </td><td>9999</td></tr>\n",
       "</tbody>\n",
       "</table>\n"
      ],
      "text/latex": [
       "\\begin{tabular}{r|lllll}\n",
       " ID & A & B & C & D\\\\\n",
       "\\hline\n",
       "\t 1    &   5  & 31   & 95   &   23\\\\\n",
       "\t 2    & 999  & 23   & 73   &   33\\\\\n",
       "\t 3    &  23  & 35   & 43   &   54\\\\\n",
       "\t 4    &   3  & 45   &  8   & 9999\\\\\n",
       "\\end{tabular}\n"
      ],
      "text/markdown": [
       "\n",
       "ID | A | B | C | D | \n",
       "|---|---|---|---|\n",
       "| 1    |   5  | 31   | 95   |   23 | \n",
       "| 2    | 999  | 23   | 73   |   33 | \n",
       "| 3    |  23  | 35   | 43   |   54 | \n",
       "| 4    |   3  | 45   |  8   | 9999 | \n",
       "\n",
       "\n"
      ],
      "text/plain": [
       "  ID A   B  C  D   \n",
       "1 1    5 31 95   23\n",
       "2 2  999 23 73   33\n",
       "3 3   23 35 43   54\n",
       "4 4    3 45  8 9999"
      ]
     },
     "metadata": {},
     "output_type": "display_data"
    }
   ],
   "source": [
    "#欠損値がNAのデータ(githubからデータ読み込み)\n",
    "kesson <- read.csv(\"https://raw.githubusercontent.com/gndb3168/Renshu_data/master/R_MA/Sec_02/missing_data.csv\")\n",
    "head(kesson)\n",
    "\n",
    "#欠損値が極値のデータ\n",
    "kesson2 <- read.csv(\"https://raw.githubusercontent.com/gndb3168/Renshu_data/master/R_MA/Sec_02/missing_data2.csv\")\n",
    "kesson2    #999, 9999は普通の数値として認識されてしまう"
   ]
  },
  {
   "cell_type": "code",
   "execution_count": 11,
   "metadata": {},
   "outputs": [
    {
     "data": {
      "text/html": [
       "<table>\n",
       "<thead><tr><th scope=col>ID</th><th scope=col>A</th><th scope=col>B</th><th scope=col>C</th><th scope=col>D</th></tr></thead>\n",
       "<tbody>\n",
       "\t<tr><td>1 </td><td> 5</td><td>31</td><td>95</td><td>23</td></tr>\n",
       "\t<tr><td>2 </td><td>NA</td><td>23</td><td>73</td><td>33</td></tr>\n",
       "\t<tr><td>3 </td><td>23</td><td>35</td><td>43</td><td>54</td></tr>\n",
       "\t<tr><td>4 </td><td> 3</td><td>45</td><td> 8</td><td>NA</td></tr>\n",
       "</tbody>\n",
       "</table>\n"
      ],
      "text/latex": [
       "\\begin{tabular}{r|lllll}\n",
       " ID & A & B & C & D\\\\\n",
       "\\hline\n",
       "\t 1  &  5 & 31 & 95 & 23\\\\\n",
       "\t 2  & NA & 23 & 73 & 33\\\\\n",
       "\t 3  & 23 & 35 & 43 & 54\\\\\n",
       "\t 4  &  3 & 45 &  8 & NA\\\\\n",
       "\\end{tabular}\n"
      ],
      "text/markdown": [
       "\n",
       "ID | A | B | C | D | \n",
       "|---|---|---|---|\n",
       "| 1  |  5 | 31 | 95 | 23 | \n",
       "| 2  | NA | 23 | 73 | 33 | \n",
       "| 3  | 23 | 35 | 43 | 54 | \n",
       "| 4  |  3 | 45 |  8 | NA | \n",
       "\n",
       "\n"
      ],
      "text/plain": [
       "  ID A  B  C  D \n",
       "1 1   5 31 95 23\n",
       "2 2  NA 23 73 33\n",
       "3 3  23 35 43 54\n",
       "4 4   3 45  8 NA"
      ]
     },
     "metadata": {},
     "output_type": "display_data"
    }
   ],
   "source": [
    "#欠損値の指定(指定した値を欠損値へ変換)\n",
    "\n",
    "#データ読み込み時に引数na.stringsで指定した値を欠損値に変換\n",
    "kesson3 <- read.csv(\"https://raw.githubusercontent.com/gndb3168/Renshu_data/master/R_MA/Sec_02/missing_data2.csv\", na.strings = c(999, 9999))\n",
    "kesson3"
   ]
  },
  {
   "cell_type": "code",
   "execution_count": 12,
   "metadata": {},
   "outputs": [
    {
     "data": {
      "text/html": [
       "<table>\n",
       "<thead><tr><th></th><th scope=col>ID</th><th scope=col>A</th><th scope=col>B</th><th scope=col>C</th><th scope=col>D</th></tr></thead>\n",
       "<tbody>\n",
       "\t<tr><th scope=row>1</th><td>1 </td><td> 5</td><td>31</td><td>95</td><td>23</td></tr>\n",
       "\t<tr><th scope=row>3</th><td>3 </td><td>23</td><td>35</td><td>43</td><td>54</td></tr>\n",
       "</tbody>\n",
       "</table>\n"
      ],
      "text/latex": [
       "\\begin{tabular}{r|lllll}\n",
       "  & ID & A & B & C & D\\\\\n",
       "\\hline\n",
       "\t1 & 1  &  5 & 31 & 95 & 23\\\\\n",
       "\t3 & 3  & 23 & 35 & 43 & 54\\\\\n",
       "\\end{tabular}\n"
      ],
      "text/markdown": [
       "\n",
       "| <!--/--> | ID | A | B | C | D | \n",
       "|---|---|\n",
       "| 1 | 1  |  5 | 31 | 95 | 23 | \n",
       "| 3 | 3  | 23 | 35 | 43 | 54 | \n",
       "\n",
       "\n"
      ],
      "text/plain": [
       "  ID A  B  C  D \n",
       "1 1   5 31 95 23\n",
       "3 3  23 35 43 54"
      ]
     },
     "metadata": {},
     "output_type": "display_data"
    }
   ],
   "source": [
    "#na.omit()を用いた欠損値があるデータ行の削除\n",
    "\n",
    "kanzen <- na.omit(kesson3)\n",
    "kanzen"
   ]
  },
  {
   "cell_type": "code",
   "execution_count": 13,
   "metadata": {},
   "outputs": [
    {
     "data": {
      "text/html": [
       "<ol class=list-inline>\n",
       "\t<li>TRUE</li>\n",
       "\t<li>FALSE</li>\n",
       "\t<li>TRUE</li>\n",
       "\t<li>FALSE</li>\n",
       "</ol>\n"
      ],
      "text/latex": [
       "\\begin{enumerate*}\n",
       "\\item TRUE\n",
       "\\item FALSE\n",
       "\\item TRUE\n",
       "\\item FALSE\n",
       "\\end{enumerate*}\n"
      ],
      "text/markdown": [
       "1. TRUE\n",
       "2. FALSE\n",
       "3. TRUE\n",
       "4. FALSE\n",
       "\n",
       "\n"
      ],
      "text/plain": [
       "[1]  TRUE FALSE  TRUE FALSE"
      ]
     },
     "metadata": {},
     "output_type": "display_data"
    },
    {
     "data": {
      "text/html": [
       "<table>\n",
       "<thead><tr><th></th><th scope=col>ID</th><th scope=col>A</th><th scope=col>B</th><th scope=col>C</th><th scope=col>D</th></tr></thead>\n",
       "<tbody>\n",
       "\t<tr><th scope=row>1</th><td>1 </td><td> 5</td><td>31</td><td>95</td><td>23</td></tr>\n",
       "\t<tr><th scope=row>3</th><td>3 </td><td>23</td><td>35</td><td>43</td><td>54</td></tr>\n",
       "</tbody>\n",
       "</table>\n"
      ],
      "text/latex": [
       "\\begin{tabular}{r|lllll}\n",
       "  & ID & A & B & C & D\\\\\n",
       "\\hline\n",
       "\t1 & 1  &  5 & 31 & 95 & 23\\\\\n",
       "\t3 & 3  & 23 & 35 & 43 & 54\\\\\n",
       "\\end{tabular}\n"
      ],
      "text/markdown": [
       "\n",
       "| <!--/--> | ID | A | B | C | D | \n",
       "|---|---|\n",
       "| 1 | 1  |  5 | 31 | 95 | 23 | \n",
       "| 3 | 3  | 23 | 35 | 43 | 54 | \n",
       "\n",
       "\n"
      ],
      "text/plain": [
       "  ID A  B  C  D \n",
       "1 1   5 31 95 23\n",
       "3 3  23 35 43 54"
      ]
     },
     "metadata": {},
     "output_type": "display_data"
    }
   ],
   "source": [
    "#complete.cases()を用いた欠損の無いデータ行の抽出\n",
    "\n",
    "cind <- complete.cases(kesson3)\n",
    "cind    #返り値は論理値ベクトル\n",
    "\n",
    "kanzen2 <- kesson3[cind,]\n",
    "kanzen2    #na.omit()と同様のデータが得られる"
   ]
  },
  {
   "cell_type": "markdown",
   "metadata": {},
   "source": [
    "### ソート"
   ]
  },
  {
   "cell_type": "code",
   "execution_count": 14,
   "metadata": {},
   "outputs": [
    {
     "data": {
      "text/html": [
       "<ol class=list-inline>\n",
       "\t<li>1</li>\n",
       "\t<li>1</li>\n",
       "\t<li>2</li>\n",
       "\t<li>2</li>\n",
       "\t<li>3</li>\n",
       "\t<li>3</li>\n",
       "\t<li>4</li>\n",
       "\t<li>5</li>\n",
       "\t<li>8</li>\n",
       "\t<li>10</li>\n",
       "</ol>\n"
      ],
      "text/latex": [
       "\\begin{enumerate*}\n",
       "\\item 1\n",
       "\\item 1\n",
       "\\item 2\n",
       "\\item 2\n",
       "\\item 3\n",
       "\\item 3\n",
       "\\item 4\n",
       "\\item 5\n",
       "\\item 8\n",
       "\\item 10\n",
       "\\end{enumerate*}\n"
      ],
      "text/markdown": [
       "1. 1\n",
       "2. 1\n",
       "3. 2\n",
       "4. 2\n",
       "5. 3\n",
       "6. 3\n",
       "7. 4\n",
       "8. 5\n",
       "9. 8\n",
       "10. 10\n",
       "\n",
       "\n"
      ],
      "text/plain": [
       " [1]  1  1  2  2  3  3  4  5  8 10"
      ]
     },
     "metadata": {},
     "output_type": "display_data"
    }
   ],
   "source": [
    "#1変数のソート\n",
    "\n",
    "score <- c(1,5,2,10,8,2,1,4,3,3)\n",
    "sort(score, decreasing=FALSE)    #sort(vec, 降順=T or F)"
   ]
  },
  {
   "cell_type": "markdown",
   "metadata": {},
   "source": [
    "#### 多変量データ全体のソート"
   ]
  },
  {
   "cell_type": "code",
   "execution_count": 15,
   "metadata": {},
   "outputs": [
    {
     "data": {
      "text/html": [
       "<table>\n",
       "<thead><tr><th scope=col>部署</th><th scope=col>協調性</th><th scope=col>ストレス</th><th scope=col>総合</th></tr></thead>\n",
       "<tbody>\n",
       "\t<tr><td>1 </td><td>30</td><td>40</td><td>10</td></tr>\n",
       "\t<tr><td>3 </td><td>25</td><td>10</td><td>50</td></tr>\n",
       "\t<tr><td>2 </td><td>50</td><td>20</td><td>20</td></tr>\n",
       "\t<tr><td>1 </td><td>40</td><td>40</td><td>30</td></tr>\n",
       "\t<tr><td>2 </td><td>20</td><td>30</td><td>40</td></tr>\n",
       "\t<tr><td>2 </td><td>10</td><td>20</td><td>40</td></tr>\n",
       "\t<tr><td>3 </td><td>20</td><td>10</td><td>30</td></tr>\n",
       "</tbody>\n",
       "</table>\n"
      ],
      "text/latex": [
       "\\begin{tabular}{r|llll}\n",
       " 部署 & 協調性 & ストレス & 総合\\\\\n",
       "\\hline\n",
       "\t 1  & 30 & 40 & 10\\\\\n",
       "\t 3  & 25 & 10 & 50\\\\\n",
       "\t 2  & 50 & 20 & 20\\\\\n",
       "\t 1  & 40 & 40 & 30\\\\\n",
       "\t 2  & 20 & 30 & 40\\\\\n",
       "\t 2  & 10 & 20 & 40\\\\\n",
       "\t 3  & 20 & 10 & 30\\\\\n",
       "\\end{tabular}\n"
      ],
      "text/markdown": [
       "\n",
       "部署 | 協調性 | ストレス | 総合 | \n",
       "|---|---|---|---|---|---|---|\n",
       "| 1  | 30 | 40 | 10 | \n",
       "| 3  | 25 | 10 | 50 | \n",
       "| 2  | 50 | 20 | 20 | \n",
       "| 1  | 40 | 40 | 30 | \n",
       "| 2  | 20 | 30 | 40 | \n",
       "| 2  | 10 | 20 | 40 | \n",
       "| 3  | 20 | 10 | 30 | \n",
       "\n",
       "\n"
      ],
      "text/plain": [
       "  部署 協調性 ストレス 総合\n",
       "1 1    30     40       10  \n",
       "2 3    25     10       50  \n",
       "3 2    50     20       20  \n",
       "4 1    40     40       30  \n",
       "5 2    20     30       40  \n",
       "6 2    10     20       40  \n",
       "7 3    20     10       30  "
      ]
     },
     "metadata": {},
     "output_type": "display_data"
    }
   ],
   "source": [
    "#サンプルデータの読み込み\n",
    "sdat <- read.csv(\"https://raw.githubusercontent.com/gndb3168/Renshu_data/master/R_MA/Sec_02/sort_data.csv\")\n",
    "sdat"
   ]
  },
  {
   "cell_type": "code",
   "execution_count": 16,
   "metadata": {},
   "outputs": [
    {
     "data": {
      "text/html": [
       "<ol class=list-inline>\n",
       "\t<li>6</li>\n",
       "\t<li>5</li>\n",
       "\t<li>7</li>\n",
       "\t<li>2</li>\n",
       "\t<li>1</li>\n",
       "\t<li>4</li>\n",
       "\t<li>3</li>\n",
       "</ol>\n"
      ],
      "text/latex": [
       "\\begin{enumerate*}\n",
       "\\item 6\n",
       "\\item 5\n",
       "\\item 7\n",
       "\\item 2\n",
       "\\item 1\n",
       "\\item 4\n",
       "\\item 3\n",
       "\\end{enumerate*}\n"
      ],
      "text/markdown": [
       "1. 6\n",
       "2. 5\n",
       "3. 7\n",
       "4. 2\n",
       "5. 1\n",
       "6. 4\n",
       "7. 3\n",
       "\n",
       "\n"
      ],
      "text/plain": [
       "[1] 6 5 7 2 1 4 3"
      ]
     },
     "metadata": {},
     "output_type": "display_data"
    },
    {
     "data": {
      "text/html": [
       "<ol class=list-inline>\n",
       "\t<li>3</li>\n",
       "\t<li>4</li>\n",
       "\t<li>1</li>\n",
       "\t<li>2</li>\n",
       "\t<li>5</li>\n",
       "\t<li>7</li>\n",
       "\t<li>6</li>\n",
       "</ol>\n"
      ],
      "text/latex": [
       "\\begin{enumerate*}\n",
       "\\item 3\n",
       "\\item 4\n",
       "\\item 1\n",
       "\\item 2\n",
       "\\item 5\n",
       "\\item 7\n",
       "\\item 6\n",
       "\\end{enumerate*}\n"
      ],
      "text/markdown": [
       "1. 3\n",
       "2. 4\n",
       "3. 1\n",
       "4. 2\n",
       "5. 5\n",
       "6. 7\n",
       "7. 6\n",
       "\n",
       "\n"
      ],
      "text/plain": [
       "[1] 3 4 1 2 5 7 6"
      ]
     },
     "metadata": {},
     "output_type": "display_data"
    }
   ],
   "source": [
    "#orderによるソートされた行番号の取得\n",
    "\n",
    "#order(ソートしたい変数, decreasing=FALSE)\n",
    "posi <- order(sdat$協調性)                      #協調性を昇順にソート\n",
    "posi                                            #返り値は行番号\n",
    "\n",
    "posi2 <- order(sdat$協調性, decreasing=TRUE)    #協調性を降順にソート\n",
    "posi2"
   ]
  },
  {
   "cell_type": "code",
   "execution_count": 17,
   "metadata": {},
   "outputs": [
    {
     "data": {
      "text/html": [
       "<table>\n",
       "<thead><tr><th></th><th scope=col>部署</th><th scope=col>協調性</th><th scope=col>ストレス</th><th scope=col>総合</th></tr></thead>\n",
       "<tbody>\n",
       "\t<tr><th scope=row>6</th><td>2 </td><td>10</td><td>20</td><td>40</td></tr>\n",
       "\t<tr><th scope=row>5</th><td>2 </td><td>20</td><td>30</td><td>40</td></tr>\n",
       "\t<tr><th scope=row>7</th><td>3 </td><td>20</td><td>10</td><td>30</td></tr>\n",
       "\t<tr><th scope=row>2</th><td>3 </td><td>25</td><td>10</td><td>50</td></tr>\n",
       "\t<tr><th scope=row>1</th><td>1 </td><td>30</td><td>40</td><td>10</td></tr>\n",
       "\t<tr><th scope=row>4</th><td>1 </td><td>40</td><td>40</td><td>30</td></tr>\n",
       "\t<tr><th scope=row>3</th><td>2 </td><td>50</td><td>20</td><td>20</td></tr>\n",
       "</tbody>\n",
       "</table>\n"
      ],
      "text/latex": [
       "\\begin{tabular}{r|llll}\n",
       "  & 部署 & 協調性 & ストレス & 総合\\\\\n",
       "\\hline\n",
       "\t6 & 2  & 10 & 20 & 40\\\\\n",
       "\t5 & 2  & 20 & 30 & 40\\\\\n",
       "\t7 & 3  & 20 & 10 & 30\\\\\n",
       "\t2 & 3  & 25 & 10 & 50\\\\\n",
       "\t1 & 1  & 30 & 40 & 10\\\\\n",
       "\t4 & 1  & 40 & 40 & 30\\\\\n",
       "\t3 & 2  & 50 & 20 & 20\\\\\n",
       "\\end{tabular}\n"
      ],
      "text/markdown": [
       "\n",
       "| <!--/--> | 部署 | 協調性 | ストレス | 総合 | \n",
       "|---|---|---|---|---|---|---|\n",
       "| 6 | 2  | 10 | 20 | 40 | \n",
       "| 5 | 2  | 20 | 30 | 40 | \n",
       "| 7 | 3  | 20 | 10 | 30 | \n",
       "| 2 | 3  | 25 | 10 | 50 | \n",
       "| 1 | 1  | 30 | 40 | 10 | \n",
       "| 4 | 1  | 40 | 40 | 30 | \n",
       "| 3 | 2  | 50 | 20 | 20 | \n",
       "\n",
       "\n"
      ],
      "text/plain": [
       "  部署 協調性 ストレス 総合\n",
       "6 2    10     20       40  \n",
       "5 2    20     30       40  \n",
       "7 3    20     10       30  \n",
       "2 3    25     10       50  \n",
       "1 1    30     40       10  \n",
       "4 1    40     40       30  \n",
       "3 2    50     20       20  "
      ]
     },
     "metadata": {},
     "output_type": "display_data"
    },
    {
     "data": {
      "text/html": [
       "<table>\n",
       "<thead><tr><th></th><th scope=col>部署</th><th scope=col>協調性</th><th scope=col>ストレス</th><th scope=col>総合</th></tr></thead>\n",
       "<tbody>\n",
       "\t<tr><th scope=row>3</th><td>2 </td><td>50</td><td>20</td><td>20</td></tr>\n",
       "\t<tr><th scope=row>4</th><td>1 </td><td>40</td><td>40</td><td>30</td></tr>\n",
       "\t<tr><th scope=row>1</th><td>1 </td><td>30</td><td>40</td><td>10</td></tr>\n",
       "\t<tr><th scope=row>2</th><td>3 </td><td>25</td><td>10</td><td>50</td></tr>\n",
       "\t<tr><th scope=row>5</th><td>2 </td><td>20</td><td>30</td><td>40</td></tr>\n",
       "\t<tr><th scope=row>7</th><td>3 </td><td>20</td><td>10</td><td>30</td></tr>\n",
       "\t<tr><th scope=row>6</th><td>2 </td><td>10</td><td>20</td><td>40</td></tr>\n",
       "</tbody>\n",
       "</table>\n"
      ],
      "text/latex": [
       "\\begin{tabular}{r|llll}\n",
       "  & 部署 & 協調性 & ストレス & 総合\\\\\n",
       "\\hline\n",
       "\t3 & 2  & 50 & 20 & 20\\\\\n",
       "\t4 & 1  & 40 & 40 & 30\\\\\n",
       "\t1 & 1  & 30 & 40 & 10\\\\\n",
       "\t2 & 3  & 25 & 10 & 50\\\\\n",
       "\t5 & 2  & 20 & 30 & 40\\\\\n",
       "\t7 & 3  & 20 & 10 & 30\\\\\n",
       "\t6 & 2  & 10 & 20 & 40\\\\\n",
       "\\end{tabular}\n"
      ],
      "text/markdown": [
       "\n",
       "| <!--/--> | 部署 | 協調性 | ストレス | 総合 | \n",
       "|---|---|---|---|---|---|---|\n",
       "| 3 | 2  | 50 | 20 | 20 | \n",
       "| 4 | 1  | 40 | 40 | 30 | \n",
       "| 1 | 1  | 30 | 40 | 10 | \n",
       "| 2 | 3  | 25 | 10 | 50 | \n",
       "| 5 | 2  | 20 | 30 | 40 | \n",
       "| 7 | 3  | 20 | 10 | 30 | \n",
       "| 6 | 2  | 10 | 20 | 40 | \n",
       "\n",
       "\n"
      ],
      "text/plain": [
       "  部署 協調性 ストレス 総合\n",
       "3 2    50     20       20  \n",
       "4 1    40     40       30  \n",
       "1 1    30     40       10  \n",
       "2 3    25     10       50  \n",
       "5 2    20     30       40  \n",
       "7 3    20     10       30  \n",
       "6 2    10     20       40  "
      ]
     },
     "metadata": {},
     "output_type": "display_data"
    }
   ],
   "source": [
    "sdat[posi, ]     #昇順の場合\n",
    "sdat[posi2, ]    #降順の場合"
   ]
  },
  {
   "cell_type": "markdown",
   "metadata": {
    "collapsed": true
   },
   "source": [
    "### マージ\n",
    "\n",
    "2つのデータフレームを横に併合する"
   ]
  },
  {
   "cell_type": "code",
   "execution_count": 18,
   "metadata": {},
   "outputs": [
    {
     "data": {
      "text/html": [
       "<table>\n",
       "<thead><tr><th scope=col>ID</th><th scope=col>質問A</th><th scope=col>質問B</th></tr></thead>\n",
       "<tbody>\n",
       "\t<tr><td>1</td><td>3</td><td>1</td></tr>\n",
       "\t<tr><td>2</td><td>3</td><td>5</td></tr>\n",
       "\t<tr><td>3</td><td>2</td><td>6</td></tr>\n",
       "\t<tr><td>4</td><td>0</td><td>7</td></tr>\n",
       "\t<tr><td>5</td><td>1</td><td>3</td></tr>\n",
       "\t<tr><td>6</td><td>4</td><td>3</td></tr>\n",
       "\t<tr><td>7</td><td>4</td><td>7</td></tr>\n",
       "\t<tr><td>8</td><td>4</td><td>3</td></tr>\n",
       "</tbody>\n",
       "</table>\n"
      ],
      "text/latex": [
       "\\begin{tabular}{r|lll}\n",
       " ID & 質問A & 質問B\\\\\n",
       "\\hline\n",
       "\t 1 & 3 & 1\\\\\n",
       "\t 2 & 3 & 5\\\\\n",
       "\t 3 & 2 & 6\\\\\n",
       "\t 4 & 0 & 7\\\\\n",
       "\t 5 & 1 & 3\\\\\n",
       "\t 6 & 4 & 3\\\\\n",
       "\t 7 & 4 & 7\\\\\n",
       "\t 8 & 4 & 3\\\\\n",
       "\\end{tabular}\n"
      ],
      "text/markdown": [
       "\n",
       "ID | 質問A | 質問B | \n",
       "|---|---|---|---|---|---|---|---|\n",
       "| 1 | 3 | 1 | \n",
       "| 2 | 3 | 5 | \n",
       "| 3 | 2 | 6 | \n",
       "| 4 | 0 | 7 | \n",
       "| 5 | 1 | 3 | \n",
       "| 6 | 4 | 3 | \n",
       "| 7 | 4 | 7 | \n",
       "| 8 | 4 | 3 | \n",
       "\n",
       "\n"
      ],
      "text/plain": [
       "  ID 質問A 質問B\n",
       "1 1  3     1    \n",
       "2 2  3     5    \n",
       "3 3  2     6    \n",
       "4 4  0     7    \n",
       "5 5  1     3    \n",
       "6 6  4     3    \n",
       "7 7  4     7    \n",
       "8 8  4     3    "
      ]
     },
     "metadata": {},
     "output_type": "display_data"
    },
    {
     "data": {
      "text/html": [
       "<table>\n",
       "<thead><tr><th scope=col>ID</th><th scope=col>質問C</th><th scope=col>質問D</th></tr></thead>\n",
       "<tbody>\n",
       "\t<tr><td>1  </td><td>30 </td><td>100</td></tr>\n",
       "\t<tr><td>3  </td><td>20 </td><td> 60</td></tr>\n",
       "\t<tr><td>5  </td><td>10 </td><td> 30</td></tr>\n",
       "\t<tr><td>7  </td><td>40 </td><td> 70</td></tr>\n",
       "</tbody>\n",
       "</table>\n"
      ],
      "text/latex": [
       "\\begin{tabular}{r|lll}\n",
       " ID & 質問C & 質問D\\\\\n",
       "\\hline\n",
       "\t 1   & 30  & 100\\\\\n",
       "\t 3   & 20  &  60\\\\\n",
       "\t 5   & 10  &  30\\\\\n",
       "\t 7   & 40  &  70\\\\\n",
       "\\end{tabular}\n"
      ],
      "text/markdown": [
       "\n",
       "ID | 質問C | 質問D | \n",
       "|---|---|---|---|\n",
       "| 1   | 30  | 100 | \n",
       "| 3   | 20  |  60 | \n",
       "| 5   | 10  |  30 | \n",
       "| 7   | 40  |  70 | \n",
       "\n",
       "\n"
      ],
      "text/plain": [
       "  ID 質問C 質問D\n",
       "1 1  30    100  \n",
       "2 3  20     60  \n",
       "3 5  10     30  \n",
       "4 7  40     70  "
      ]
     },
     "metadata": {},
     "output_type": "display_data"
    }
   ],
   "source": [
    "datA <- read.csv(\"https://raw.githubusercontent.com/gndb3168/Renshu_data/master/R_MA/Sec_02/merge_data_A.csv\")  #行数8\n",
    "datB <- read.csv(\"https://raw.githubusercontent.com/gndb3168/Renshu_data/master/R_MA/Sec_02/merge_data_B.csv\")  #行数4\n",
    "datA\n",
    "datB"
   ]
  },
  {
   "cell_type": "code",
   "execution_count": 19,
   "metadata": {},
   "outputs": [
    {
     "data": {
      "text/html": [
       "<table>\n",
       "<thead><tr><th scope=col>ID</th><th scope=col>質問A</th><th scope=col>質問B</th><th scope=col>質問C</th><th scope=col>質問D</th></tr></thead>\n",
       "<tbody>\n",
       "\t<tr><td>1  </td><td>3  </td><td>1  </td><td>30 </td><td>100</td></tr>\n",
       "\t<tr><td>3  </td><td>2  </td><td>6  </td><td>20 </td><td> 60</td></tr>\n",
       "\t<tr><td>5  </td><td>1  </td><td>3  </td><td>10 </td><td> 30</td></tr>\n",
       "\t<tr><td>7  </td><td>4  </td><td>7  </td><td>40 </td><td> 70</td></tr>\n",
       "</tbody>\n",
       "</table>\n"
      ],
      "text/latex": [
       "\\begin{tabular}{r|lllll}\n",
       " ID & 質問A & 質問B & 質問C & 質問D\\\\\n",
       "\\hline\n",
       "\t 1   & 3   & 1   & 30  & 100\\\\\n",
       "\t 3   & 2   & 6   & 20  &  60\\\\\n",
       "\t 5   & 1   & 3   & 10  &  30\\\\\n",
       "\t 7   & 4   & 7   & 40  &  70\\\\\n",
       "\\end{tabular}\n"
      ],
      "text/markdown": [
       "\n",
       "ID | 質問A | 質問B | 質問C | 質問D | \n",
       "|---|---|---|---|\n",
       "| 1   | 3   | 1   | 30  | 100 | \n",
       "| 3   | 2   | 6   | 20  |  60 | \n",
       "| 5   | 1   | 3   | 10  |  30 | \n",
       "| 7   | 4   | 7   | 40  |  70 | \n",
       "\n",
       "\n"
      ],
      "text/plain": [
       "  ID 質問A 質問B 質問C 質問D\n",
       "1 1  3     1     30    100  \n",
       "2 3  2     6     20     60  \n",
       "3 5  1     3     10     30  \n",
       "4 7  4     7     40     70  "
      ]
     },
     "metadata": {},
     "output_type": "display_data"
    }
   ],
   "source": [
    "#2つのデータフレームのマージ\n",
    "merge(datA, datB, by=\"ID\")    #merge(df1, df2, by=\"両方のデータに含まれる変数の名前\")"
   ]
  },
  {
   "cell_type": "code",
   "execution_count": 20,
   "metadata": {},
   "outputs": [
    {
     "data": {
      "text/html": [
       "<table>\n",
       "<thead><tr><th scope=col>ID</th><th scope=col>質問A</th><th scope=col>質問B</th><th scope=col>質問C</th><th scope=col>質問D</th></tr></thead>\n",
       "<tbody>\n",
       "\t<tr><td>1  </td><td>3  </td><td>1  </td><td>30 </td><td>100</td></tr>\n",
       "\t<tr><td>2  </td><td>3  </td><td>5  </td><td>NA </td><td> NA</td></tr>\n",
       "\t<tr><td>3  </td><td>2  </td><td>6  </td><td>20 </td><td> 60</td></tr>\n",
       "\t<tr><td>4  </td><td>0  </td><td>7  </td><td>NA </td><td> NA</td></tr>\n",
       "\t<tr><td>5  </td><td>1  </td><td>3  </td><td>10 </td><td> 30</td></tr>\n",
       "\t<tr><td>6  </td><td>4  </td><td>3  </td><td>NA </td><td> NA</td></tr>\n",
       "\t<tr><td>7  </td><td>4  </td><td>7  </td><td>40 </td><td> 70</td></tr>\n",
       "\t<tr><td>8  </td><td>4  </td><td>3  </td><td>NA </td><td> NA</td></tr>\n",
       "</tbody>\n",
       "</table>\n"
      ],
      "text/latex": [
       "\\begin{tabular}{r|lllll}\n",
       " ID & 質問A & 質問B & 質問C & 質問D\\\\\n",
       "\\hline\n",
       "\t 1   & 3   & 1   & 30  & 100\\\\\n",
       "\t 2   & 3   & 5   & NA  &  NA\\\\\n",
       "\t 3   & 2   & 6   & 20  &  60\\\\\n",
       "\t 4   & 0   & 7   & NA  &  NA\\\\\n",
       "\t 5   & 1   & 3   & 10  &  30\\\\\n",
       "\t 6   & 4   & 3   & NA  &  NA\\\\\n",
       "\t 7   & 4   & 7   & 40  &  70\\\\\n",
       "\t 8   & 4   & 3   & NA  &  NA\\\\\n",
       "\\end{tabular}\n"
      ],
      "text/markdown": [
       "\n",
       "ID | 質問A | 質問B | 質問C | 質問D | \n",
       "|---|---|---|---|---|---|---|---|\n",
       "| 1   | 3   | 1   | 30  | 100 | \n",
       "| 2   | 3   | 5   | NA  |  NA | \n",
       "| 3   | 2   | 6   | 20  |  60 | \n",
       "| 4   | 0   | 7   | NA  |  NA | \n",
       "| 5   | 1   | 3   | 10  |  30 | \n",
       "| 6   | 4   | 3   | NA  |  NA | \n",
       "| 7   | 4   | 7   | 40  |  70 | \n",
       "| 8   | 4   | 3   | NA  |  NA | \n",
       "\n",
       "\n"
      ],
      "text/plain": [
       "  ID 質問A 質問B 質問C 質問D\n",
       "1 1  3     1     30    100  \n",
       "2 2  3     5     NA     NA  \n",
       "3 3  2     6     20     60  \n",
       "4 4  0     7     NA     NA  \n",
       "5 5  1     3     10     30  \n",
       "6 6  4     3     NA     NA  \n",
       "7 7  4     7     40     70  \n",
       "8 8  4     3     NA     NA  "
      ]
     },
     "metadata": {},
     "output_type": "display_data"
    }
   ],
   "source": [
    "#欠損のあるデータ行も残すマージ\n",
    "merge(datA, datB, by=\"ID\", all=TRUE)    #all=TRUEで片方のデータにしか存在しないデータ行も含めたマージを行う  "
   ]
  },
  {
   "cell_type": "markdown",
   "metadata": {},
   "source": [
    "### 数値の置き換え"
   ]
  },
  {
   "cell_type": "code",
   "execution_count": 21,
   "metadata": {},
   "outputs": [
    {
     "data": {
      "text/html": [
       "<table>\n",
       "<tbody>\n",
       "\t<tr><td>2</td><td>5</td><td>3</td></tr>\n",
       "\t<tr><td>3</td><td>1</td><td>1</td></tr>\n",
       "\t<tr><td>4</td><td>2</td><td>2</td></tr>\n",
       "</tbody>\n",
       "</table>\n"
      ],
      "text/latex": [
       "\\begin{tabular}{lll}\n",
       "\t 2 & 5 & 3\\\\\n",
       "\t 3 & 1 & 1\\\\\n",
       "\t 4 & 2 & 2\\\\\n",
       "\\end{tabular}\n"
      ],
      "text/markdown": [
       "\n",
       "| 2 | 5 | 3 | \n",
       "| 3 | 1 | 1 | \n",
       "| 4 | 2 | 2 | \n",
       "\n",
       "\n"
      ],
      "text/plain": [
       "     [,1] [,2] [,3]\n",
       "[1,] 2    5    3   \n",
       "[2,] 3    1    1   \n",
       "[3,] 4    2    2   "
      ]
     },
     "metadata": {},
     "output_type": "display_data"
    }
   ],
   "source": [
    "#サンプルデータの生成\n",
    "vec <- c(2,3,4,5,1,2,3,1,2)\n",
    "tmat <- matrix(vec, ncol=3)\n",
    "tmat"
   ]
  },
  {
   "cell_type": "code",
   "execution_count": 22,
   "metadata": {},
   "outputs": [
    {
     "data": {
      "text/html": [
       "<table>\n",
       "<thead><tr><th scope=col>row</th><th scope=col>col</th></tr></thead>\n",
       "<tbody>\n",
       "\t<tr><td>1</td><td>1</td></tr>\n",
       "\t<tr><td>3</td><td>2</td></tr>\n",
       "\t<tr><td>3</td><td>3</td></tr>\n",
       "</tbody>\n",
       "</table>\n"
      ],
      "text/latex": [
       "\\begin{tabular}{ll}\n",
       " row & col\\\\\n",
       "\\hline\n",
       "\t 1 & 1\\\\\n",
       "\t 3 & 2\\\\\n",
       "\t 3 & 3\\\\\n",
       "\\end{tabular}\n"
      ],
      "text/markdown": [
       "\n",
       "row | col | \n",
       "|---|---|---|\n",
       "| 1 | 1 | \n",
       "| 3 | 2 | \n",
       "| 3 | 3 | \n",
       "\n",
       "\n"
      ],
      "text/plain": [
       "     row col\n",
       "[1,] 1   1  \n",
       "[2,] 3   2  \n",
       "[3,] 3   3  "
      ]
     },
     "metadata": {},
     "output_type": "display_data"
    }
   ],
   "source": [
    "#関数whichを用いた置換対象要素の座標取得\n",
    "\n",
    "loc2 <- which(tmat == 2, arr.ind=TRUE)    #2が収められている行と列を行列形式(arr.ind=TRUE)で取得\n",
    "loc4 <- which(tmat == 4, arr.ind=TRUE)    #4が収められている行と列を行列形式(arr.ind=TRUE)で取得\n",
    "loc2"
   ]
  },
  {
   "cell_type": "code",
   "execution_count": 23,
   "metadata": {},
   "outputs": [
    {
     "data": {
      "text/html": [
       "<table>\n",
       "<tbody>\n",
       "\t<tr><td>2</td><td>5</td><td>3</td></tr>\n",
       "\t<tr><td>3</td><td>1</td><td>1</td></tr>\n",
       "\t<tr><td>4</td><td>2</td><td>2</td></tr>\n",
       "</tbody>\n",
       "</table>\n"
      ],
      "text/latex": [
       "\\begin{tabular}{lll}\n",
       "\t 2 & 5 & 3\\\\\n",
       "\t 3 & 1 & 1\\\\\n",
       "\t 4 & 2 & 2\\\\\n",
       "\\end{tabular}\n"
      ],
      "text/markdown": [
       "\n",
       "| 2 | 5 | 3 | \n",
       "| 3 | 1 | 1 | \n",
       "| 4 | 2 | 2 | \n",
       "\n",
       "\n"
      ],
      "text/plain": [
       "     [,1] [,2] [,3]\n",
       "[1,] 2    5    3   \n",
       "[2,] 3    1    1   \n",
       "[3,] 4    2    2   "
      ]
     },
     "metadata": {},
     "output_type": "display_data"
    },
    {
     "data": {
      "text/html": [
       "<table>\n",
       "<tbody>\n",
       "\t<tr><td>4</td><td>5</td><td>3</td></tr>\n",
       "\t<tr><td>3</td><td>1</td><td>1</td></tr>\n",
       "\t<tr><td>2</td><td>4</td><td>4</td></tr>\n",
       "</tbody>\n",
       "</table>\n"
      ],
      "text/latex": [
       "\\begin{tabular}{lll}\n",
       "\t 4 & 5 & 3\\\\\n",
       "\t 3 & 1 & 1\\\\\n",
       "\t 2 & 4 & 4\\\\\n",
       "\\end{tabular}\n"
      ],
      "text/markdown": [
       "\n",
       "| 4 | 5 | 3 | \n",
       "| 3 | 1 | 1 | \n",
       "| 2 | 4 | 4 | \n",
       "\n",
       "\n"
      ],
      "text/plain": [
       "     [,1] [,2] [,3]\n",
       "[1,] 4    5    3   \n",
       "[2,] 3    1    1   \n",
       "[3,] 2    4    4   "
      ]
     },
     "metadata": {},
     "output_type": "display_data"
    }
   ],
   "source": [
    "#数値の置換\n",
    "\n",
    "#置換する前に元データのコピーを残しておくこと\n",
    "tmatc <- tmat\n",
    "\n",
    "#tmatの4がある座標に対して2を代入する\n",
    "tmatc[loc4] <- 2\n",
    "\n",
    "#tmatの2がある座標に対して4を代入する\n",
    "tmatc[loc2] <- 4\n",
    "\n",
    "tmat     #置換前\n",
    "tmatc    #置換後"
   ]
  },
  {
   "cell_type": "markdown",
   "metadata": {
    "collapsed": true
   },
   "source": [
    "### 固定長データのハンドリング\n",
    "\n",
    "#### 固定長データとは?\n",
    "- 各行が必ず同じ桁数になるように作成されたデータで、桁の位置によって変数の位置を表現\n",
    "- 区切り文字を含まないので、区切り文字分のメモリを節約できるメリット\n",
    "- 生データから変数を生成するのにやや手間がかかる"
   ]
  },
  {
   "cell_type": "code",
   "execution_count": 24,
   "metadata": {},
   "outputs": [
    {
     "data": {
      "text/html": [
       "<ol class=list-inline>\n",
       "\t<li>'ID000142414'</li>\n",
       "\t<li>'ID000211111'</li>\n",
       "\t<li>'ID000314144'</li>\n",
       "\t<li>'ID000434413'</li>\n",
       "\t<li>'ID000532112'</li>\n",
       "</ol>\n"
      ],
      "text/latex": [
       "\\begin{enumerate*}\n",
       "\\item 'ID000142414'\n",
       "\\item 'ID000211111'\n",
       "\\item 'ID000314144'\n",
       "\\item 'ID000434413'\n",
       "\\item 'ID000532112'\n",
       "\\end{enumerate*}\n"
      ],
      "text/markdown": [
       "1. 'ID000142414'\n",
       "2. 'ID000211111'\n",
       "3. 'ID000314144'\n",
       "4. 'ID000434413'\n",
       "5. 'ID000532112'\n",
       "\n",
       "\n"
      ],
      "text/plain": [
       "[1] \"ID000142414\" \"ID000211111\" \"ID000314144\" \"ID000434413\" \"ID000532112\""
      ]
     },
     "metadata": {},
     "output_type": "display_data"
    }
   ],
   "source": [
    "#固定長データの読み込み\n",
    "\n",
    "#readLinesで読み込み\n",
    "itemresp <- readLines(\"https://raw.githubusercontent.com/gndb3168/Renshu_data/master/R_MA/Sec_02/item_response_fixed_length.txt\")\n",
    "itemresp    #ID○○○○(6桁)と数値(1桁)×5の合計11行のデータ"
   ]
  },
  {
   "cell_type": "code",
   "execution_count": 25,
   "metadata": {},
   "outputs": [
    {
     "data": {
      "text/html": [
       "<ol class=list-inline>\n",
       "\t<li>1</li>\n",
       "\t<li>7</li>\n",
       "\t<li>8</li>\n",
       "\t<li>9</li>\n",
       "\t<li>10</li>\n",
       "\t<li>11</li>\n",
       "</ol>\n"
      ],
      "text/latex": [
       "\\begin{enumerate*}\n",
       "\\item 1\n",
       "\\item 7\n",
       "\\item 8\n",
       "\\item 9\n",
       "\\item 10\n",
       "\\item 11\n",
       "\\end{enumerate*}\n"
      ],
      "text/markdown": [
       "1. 1\n",
       "2. 7\n",
       "3. 8\n",
       "4. 9\n",
       "5. 10\n",
       "6. 11\n",
       "\n",
       "\n"
      ],
      "text/plain": [
       "[1]  1  7  8  9 10 11"
      ]
     },
     "metadata": {},
     "output_type": "display_data"
    },
    {
     "data": {
      "text/html": [
       "<ol class=list-inline>\n",
       "\t<li>6</li>\n",
       "\t<li>7</li>\n",
       "\t<li>8</li>\n",
       "\t<li>9</li>\n",
       "\t<li>10</li>\n",
       "\t<li>11</li>\n",
       "</ol>\n"
      ],
      "text/latex": [
       "\\begin{enumerate*}\n",
       "\\item 6\n",
       "\\item 7\n",
       "\\item 8\n",
       "\\item 9\n",
       "\\item 10\n",
       "\\item 11\n",
       "\\end{enumerate*}\n"
      ],
      "text/markdown": [
       "1. 6\n",
       "2. 7\n",
       "3. 8\n",
       "4. 9\n",
       "5. 10\n",
       "6. 11\n",
       "\n",
       "\n"
      ],
      "text/plain": [
       "[1]  6  7  8  9 10 11"
      ]
     },
     "metadata": {},
     "output_type": "display_data"
    }
   ],
   "source": [
    "#変数の位置情報の生成\n",
    "\n",
    "spoint <- c(1, seq(7, 11, 1))    #始点の生成\n",
    "epoint <- c(6, seq(7, 11, 1))    #終点の生成\n",
    "spoint                           \n",
    "epoint  "
   ]
  },
  {
   "cell_type": "code",
   "execution_count": 26,
   "metadata": {
    "scrolled": true
   },
   "outputs": [
    {
     "data": {
      "text/html": [
       "<table>\n",
       "<thead><tr><th scope=col>ID000142414</th><th scope=col>ID000211111</th><th scope=col>ID000314144</th><th scope=col>ID000434413</th><th scope=col>ID000532112</th></tr></thead>\n",
       "<tbody>\n",
       "\t<tr><td>ID0001</td><td>ID0002</td><td>ID0003</td><td>ID0004</td><td>ID0005</td></tr>\n",
       "\t<tr><td>4     </td><td>1     </td><td>1     </td><td>3     </td><td>3     </td></tr>\n",
       "\t<tr><td>2     </td><td>1     </td><td>4     </td><td>4     </td><td>2     </td></tr>\n",
       "\t<tr><td>4     </td><td>1     </td><td>1     </td><td>4     </td><td>1     </td></tr>\n",
       "\t<tr><td>1     </td><td>1     </td><td>4     </td><td>1     </td><td>1     </td></tr>\n",
       "\t<tr><td>4     </td><td>1     </td><td>4     </td><td>3     </td><td>2     </td></tr>\n",
       "</tbody>\n",
       "</table>\n"
      ],
      "text/latex": [
       "\\begin{tabular}{lllll}\n",
       " ID000142414 & ID000211111 & ID000314144 & ID000434413 & ID000532112\\\\\n",
       "\\hline\n",
       "\t ID0001 & ID0002 & ID0003 & ID0004 & ID0005\\\\\n",
       "\t 4      & 1      & 1      & 3      & 3     \\\\\n",
       "\t 2      & 1      & 4      & 4      & 2     \\\\\n",
       "\t 4      & 1      & 1      & 4      & 1     \\\\\n",
       "\t 1      & 1      & 4      & 1      & 1     \\\\\n",
       "\t 4      & 1      & 4      & 3      & 2     \\\\\n",
       "\\end{tabular}\n"
      ],
      "text/markdown": [
       "\n",
       "ID000142414 | ID000211111 | ID000314144 | ID000434413 | ID000532112 | \n",
       "|---|---|---|---|---|---|\n",
       "| ID0001 | ID0002 | ID0003 | ID0004 | ID0005 | \n",
       "| 4      | 1      | 1      | 3      | 3      | \n",
       "| 2      | 1      | 4      | 4      | 2      | \n",
       "| 4      | 1      | 1      | 4      | 1      | \n",
       "| 1      | 1      | 4      | 1      | 1      | \n",
       "| 4      | 1      | 4      | 3      | 2      | \n",
       "\n",
       "\n"
      ],
      "text/plain": [
       "     ID000142414 ID000211111 ID000314144 ID000434413 ID000532112\n",
       "[1,] ID0001      ID0002      ID0003      ID0004      ID0005     \n",
       "[2,] 4           1           1           3           3          \n",
       "[3,] 2           1           4           4           2          \n",
       "[4,] 4           1           1           4           1          \n",
       "[5,] 1           1           4           1           1          \n",
       "[6,] 4           1           4           3           2          "
      ]
     },
     "metadata": {},
     "output_type": "display_data"
    }
   ],
   "source": [
    "#変数の作成\n",
    "raw0 <- sapply(itemresp, substring, spoint, epoint)    #sapply(list_vec, 各要素に適用したい関数, 適用関数の引数,...)\n",
    "raw0                                                   #sapplyは属性(名前)のついた行列で返す(1要素につき列方向に値が返ってくる) "
   ]
  },
  {
   "cell_type": "code",
   "execution_count": 27,
   "metadata": {},
   "outputs": [
    {
     "data": {
      "text/html": [
       "<ol>\n",
       "\t<li>NULL</li>\n",
       "\t<li><ol class=list-inline>\n",
       "\t<li>'ID000142414'</li>\n",
       "\t<li>'ID000211111'</li>\n",
       "\t<li>'ID000314144'</li>\n",
       "\t<li>'ID000434413'</li>\n",
       "\t<li>'ID000532112'</li>\n",
       "</ol>\n",
       "</li>\n",
       "</ol>\n"
      ],
      "text/latex": [
       "\\begin{enumerate}\n",
       "\\item NULL\n",
       "\\item \\begin{enumerate*}\n",
       "\\item 'ID000142414'\n",
       "\\item 'ID000211111'\n",
       "\\item 'ID000314144'\n",
       "\\item 'ID000434413'\n",
       "\\item 'ID000532112'\n",
       "\\end{enumerate*}\n",
       "\n",
       "\\end{enumerate}\n"
      ],
      "text/markdown": [
       "1. NULL\n",
       "2. 1. 'ID000142414'\n",
       "2. 'ID000211111'\n",
       "3. 'ID000314144'\n",
       "4. 'ID000434413'\n",
       "5. 'ID000532112'\n",
       "\n",
       "\n",
       "\n",
       "\n",
       "\n"
      ],
      "text/plain": [
       "[[1]]\n",
       "NULL\n",
       "\n",
       "[[2]]\n",
       "[1] \"ID000142414\" \"ID000211111\" \"ID000314144\" \"ID000434413\" \"ID000532112\"\n"
      ]
     },
     "metadata": {},
     "output_type": "display_data"
    },
    {
     "data": {
      "text/html": [
       "'list'"
      ],
      "text/latex": [
       "'list'"
      ],
      "text/markdown": [
       "'list'"
      ],
      "text/plain": [
       "[1] \"list\""
      ]
     },
     "metadata": {},
     "output_type": "display_data"
    }
   ],
   "source": [
    "#行列の整形の前の確認\n",
    "dimnames(raw0)           #行名がNULL, 列名がデータの要素になっている\n",
    "class(dimnames(raw0))    #行名と列名を含んだリストデータ(listの要素を指定する場合は[[(数値)]])とする"
   ]
  },
  {
   "cell_type": "code",
   "execution_count": 28,
   "metadata": {},
   "outputs": [
    {
     "data": {
      "text/html": [
       "<table>\n",
       "<tbody>\n",
       "\t<tr><th scope=row>1</th><td>ID0001</td><td>4     </td><td>2     </td><td>4     </td><td>1     </td><td>4     </td></tr>\n",
       "\t<tr><th scope=row>2</th><td>ID0002</td><td>1     </td><td>1     </td><td>1     </td><td>1     </td><td>1     </td></tr>\n",
       "\t<tr><th scope=row>3</th><td>ID0003</td><td>1     </td><td>4     </td><td>1     </td><td>4     </td><td>4     </td></tr>\n",
       "\t<tr><th scope=row>4</th><td>ID0004</td><td>3     </td><td>4     </td><td>4     </td><td>1     </td><td>3     </td></tr>\n",
       "\t<tr><th scope=row>5</th><td>ID0005</td><td>3     </td><td>2     </td><td>1     </td><td>1     </td><td>2     </td></tr>\n",
       "</tbody>\n",
       "</table>\n"
      ],
      "text/latex": [
       "\\begin{tabular}{r|llllll}\n",
       "\t1 & ID0001 & 4      & 2      & 4      & 1      & 4     \\\\\n",
       "\t2 & ID0002 & 1      & 1      & 1      & 1      & 1     \\\\\n",
       "\t3 & ID0003 & 1      & 4      & 1      & 4      & 4     \\\\\n",
       "\t4 & ID0004 & 3      & 4      & 4      & 1      & 3     \\\\\n",
       "\t5 & ID0005 & 3      & 2      & 1      & 1      & 2     \\\\\n",
       "\\end{tabular}\n"
      ],
      "text/markdown": [
       "\n",
       "| 1 | ID0001 | 4      | 2      | 4      | 1      | 4      | \n",
       "| 2 | ID0002 | 1      | 1      | 1      | 1      | 1      | \n",
       "| 3 | ID0003 | 1      | 4      | 1      | 4      | 4      | \n",
       "| 4 | ID0004 | 3      | 4      | 4      | 1      | 3      | \n",
       "| 5 | ID0005 | 3      | 2      | 1      | 1      | 2      | \n",
       "\n",
       "\n"
      ],
      "text/plain": [
       "  [,1]   [,2] [,3] [,4] [,5] [,6]\n",
       "1 ID0001 4    2    4    1    4   \n",
       "2 ID0002 1    1    1    1    1   \n",
       "3 ID0003 1    4    1    4    4   \n",
       "4 ID0004 3    4    4    1    3   \n",
       "5 ID0005 3    2    1    1    2   "
      ]
     },
     "metadata": {},
     "output_type": "display_data"
    },
    {
     "data": {
      "text/html": [
       "<table>\n",
       "<thead><tr><th></th><th scope=col>ID</th><th scope=col>問1</th><th scope=col>問2</th><th scope=col>問3</th><th scope=col>問4</th><th scope=col>問5</th></tr></thead>\n",
       "<tbody>\n",
       "\t<tr><th scope=row>1</th><td>ID0001</td><td>4     </td><td>2     </td><td>4     </td><td>1     </td><td>4     </td></tr>\n",
       "\t<tr><th scope=row>2</th><td>ID0002</td><td>1     </td><td>1     </td><td>1     </td><td>1     </td><td>1     </td></tr>\n",
       "\t<tr><th scope=row>3</th><td>ID0003</td><td>1     </td><td>4     </td><td>1     </td><td>4     </td><td>4     </td></tr>\n",
       "\t<tr><th scope=row>4</th><td>ID0004</td><td>3     </td><td>4     </td><td>4     </td><td>1     </td><td>3     </td></tr>\n",
       "\t<tr><th scope=row>5</th><td>ID0005</td><td>3     </td><td>2     </td><td>1     </td><td>1     </td><td>2     </td></tr>\n",
       "</tbody>\n",
       "</table>\n"
      ],
      "text/latex": [
       "\\begin{tabular}{r|llllll}\n",
       "  & ID & 問1 & 問2 & 問3 & 問4 & 問5\\\\\n",
       "\\hline\n",
       "\t1 & ID0001 & 4      & 2      & 4      & 1      & 4     \\\\\n",
       "\t2 & ID0002 & 1      & 1      & 1      & 1      & 1     \\\\\n",
       "\t3 & ID0003 & 1      & 4      & 1      & 4      & 4     \\\\\n",
       "\t4 & ID0004 & 3      & 4      & 4      & 1      & 3     \\\\\n",
       "\t5 & ID0005 & 3      & 2      & 1      & 1      & 2     \\\\\n",
       "\\end{tabular}\n"
      ],
      "text/markdown": [
       "\n",
       "| <!--/--> | ID | 問1 | 問2 | 問3 | 問4 | 問5 | \n",
       "|---|---|---|---|---|\n",
       "| 1 | ID0001 | 4      | 2      | 4      | 1      | 4      | \n",
       "| 2 | ID0002 | 1      | 1      | 1      | 1      | 1      | \n",
       "| 3 | ID0003 | 1      | 4      | 1      | 4      | 4      | \n",
       "| 4 | ID0004 | 3      | 4      | 4      | 1      | 3      | \n",
       "| 5 | ID0005 | 3      | 2      | 1      | 1      | 2      | \n",
       "\n",
       "\n"
      ],
      "text/plain": [
       "  ID     問1 問2 問3 問4 問5\n",
       "1 ID0001 4   2   4   1   4  \n",
       "2 ID0002 1   1   1   1   1  \n",
       "3 ID0003 1   4   1   4   4  \n",
       "4 ID0004 3   4   4   1   3  \n",
       "5 ID0005 3   2   1   1   2  "
      ]
     },
     "metadata": {},
     "output_type": "display_data"
    }
   ],
   "source": [
    "#行列の整形\n",
    "dimnames(raw0)[[2]] <- 1:5    #ID~~となっている列名の変数名を1~5に変更(リストデータの場合の列名確認はdimnamesで行う)\n",
    "raw1 <- t(raw0)              #行と列を転置し、行方向にあるID番号を列方向に並べる(列名・行名も転置される)\n",
    "raw1\n",
    "colnames(raw1) <- c(\"ID\", paste0(\"問\", 1:5))    #列名を変更\n",
    "raw1"
   ]
  },
  {
   "cell_type": "code",
   "execution_count": 29,
   "metadata": {},
   "outputs": [
    {
     "name": "stdout",
     "output_type": "stream",
     "text": [
      "'data.frame':\t5 obs. of  1 variable:\n",
      " $ 正答: int  2 1 4 1 1\n"
     ]
    },
    {
     "data": {
      "text/html": [
       "<table>\n",
       "<thead><tr><th></th><th scope=col>問1</th><th scope=col>問2</th><th scope=col>問3</th><th scope=col>問4</th><th scope=col>問5</th></tr></thead>\n",
       "<tbody>\n",
       "\t<tr><th scope=row>1</th><td>0</td><td>0</td><td>1</td><td>1</td><td>0</td></tr>\n",
       "\t<tr><th scope=row>2</th><td>0</td><td>1</td><td>0</td><td>1</td><td>1</td></tr>\n",
       "\t<tr><th scope=row>3</th><td>0</td><td>0</td><td>0</td><td>0</td><td>0</td></tr>\n",
       "\t<tr><th scope=row>4</th><td>0</td><td>0</td><td>1</td><td>1</td><td>0</td></tr>\n",
       "\t<tr><th scope=row>5</th><td>0</td><td>0</td><td>0</td><td>1</td><td>0</td></tr>\n",
       "</tbody>\n",
       "</table>\n"
      ],
      "text/latex": [
       "\\begin{tabular}{r|lllll}\n",
       "  & 問1 & 問2 & 問3 & 問4 & 問5\\\\\n",
       "\\hline\n",
       "\t1 & 0 & 0 & 1 & 1 & 0\\\\\n",
       "\t2 & 0 & 1 & 0 & 1 & 1\\\\\n",
       "\t3 & 0 & 0 & 0 & 0 & 0\\\\\n",
       "\t4 & 0 & 0 & 1 & 1 & 0\\\\\n",
       "\t5 & 0 & 0 & 0 & 1 & 0\\\\\n",
       "\\end{tabular}\n"
      ],
      "text/markdown": [
       "\n",
       "| <!--/--> | 問1 | 問2 | 問3 | 問4 | 問5 | \n",
       "|---|---|---|---|---|\n",
       "| 1 | 0 | 0 | 1 | 1 | 0 | \n",
       "| 2 | 0 | 1 | 0 | 1 | 1 | \n",
       "| 3 | 0 | 0 | 0 | 0 | 0 | \n",
       "| 4 | 0 | 0 | 1 | 1 | 0 | \n",
       "| 5 | 0 | 0 | 0 | 1 | 0 | \n",
       "\n",
       "\n"
      ],
      "text/plain": [
       "  問1 問2 問3 問4 問5\n",
       "1 0   0   1   1   0  \n",
       "2 0   1   0   1   1  \n",
       "3 0   0   0   0   0  \n",
       "4 0   0   1   1   0  \n",
       "5 0   0   0   1   0  "
      ]
     },
     "metadata": {},
     "output_type": "display_data"
    }
   ],
   "source": [
    "#正誤データへの変換\n",
    "\n",
    "#答えの番号を記載したデータ\n",
    "key <- read.csv(\"https://raw.githubusercontent.com/gndb3168/Renshu_data/master/R_MA/Sec_02/key.txt\")    \n",
    "str(key)    #5×1のデータフレーム(列名は「正答」)\n",
    "\n",
    "#正解を1, 不正解を0に変換\n",
    "\n",
    "#sweep(データフレーム, 演算を適用する方向(1:行 or 2:列), 演算対象のvec,演算内容)\n",
    "binmat <- sweep(raw1[, -1], 2, key[, 1], FUN= \"==\")*1    #論理演算で論理値行列になっているので*1で数値変換\n",
    "binmat"
   ]
  },
  {
   "cell_type": "code",
   "execution_count": null,
   "metadata": {
    "collapsed": true
   },
   "outputs": [],
   "source": []
  },
  {
   "cell_type": "markdown",
   "metadata": {},
   "source": [
    "## ID-POSデータのハンドリング"
   ]
  },
  {
   "cell_type": "markdown",
   "metadata": {},
   "source": [
    "### ID-POSデータの特徴\n",
    "- 購買商品単位で記録されており、同じ顧客IDがデータ内で複数存在する"
   ]
  },
  {
   "cell_type": "code",
   "execution_count": 30,
   "metadata": {},
   "outputs": [
    {
     "data": {
      "text/html": [
       "<table>\n",
       "<thead><tr><th scope=col>顧客ID</th><th scope=col>店舗</th><th scope=col>購買日</th><th scope=col>購買時間</th><th scope=col>商品カテゴリ</th><th scope=col>購買金額</th></tr></thead>\n",
       "<tbody>\n",
       "\t<tr><td>ID00001 </td><td>B       </td><td>20130108</td><td>15.60   </td><td>C4      </td><td>322     </td></tr>\n",
       "\t<tr><td>ID00002 </td><td>B       </td><td>20130101</td><td>17.60   </td><td>C25     </td><td>320     </td></tr>\n",
       "\t<tr><td>ID00002 </td><td>B       </td><td>20130110</td><td>17.71   </td><td>C1      </td><td>383     </td></tr>\n",
       "</tbody>\n",
       "</table>\n"
      ],
      "text/latex": [
       "\\begin{tabular}{r|llllll}\n",
       " 顧客ID & 店舗 & 購買日 & 購買時間 & 商品カテゴリ & 購買金額\\\\\n",
       "\\hline\n",
       "\t ID00001  & B        & 20130108 & 15.60    & C4       & 322     \\\\\n",
       "\t ID00002  & B        & 20130101 & 17.60    & C25      & 320     \\\\\n",
       "\t ID00002  & B        & 20130110 & 17.71    & C1       & 383     \\\\\n",
       "\\end{tabular}\n"
      ],
      "text/markdown": [
       "\n",
       "顧客ID | 店舗 | 購買日 | 購買時間 | 商品カテゴリ | 購買金額 | \n",
       "|---|---|---|\n",
       "| ID00001  | B        | 20130108 | 15.60    | C4       | 322      | \n",
       "| ID00002  | B        | 20130101 | 17.60    | C25      | 320      | \n",
       "| ID00002  | B        | 20130110 | 17.71    | C1       | 383      | \n",
       "\n",
       "\n"
      ],
      "text/plain": [
       "  顧客ID  店舗 購買日   購買時間 商品カテゴリ 購買金額\n",
       "1 ID00001 B    20130108 15.60    C4           322     \n",
       "2 ID00002 B    20130101 17.60    C25          320     \n",
       "3 ID00002 B    20130110 17.71    C1           383     "
      ]
     },
     "metadata": {},
     "output_type": "display_data"
    }
   ],
   "source": [
    "#ID-POSデータの例\n",
    "pos0 <- read.csv(\"https://raw.githubusercontent.com/gndb3168/Renshu_data/master/R_MA/Sec_02/POS_dir/201301.csv\")\n",
    "head(pos0, 3)"
   ]
  },
  {
   "cell_type": "code",
   "execution_count": 31,
   "metadata": {},
   "outputs": [
    {
     "name": "stdout",
     "output_type": "stream",
     "text": [
      "'data.frame':\t96 obs. of  6 variables:\n",
      " $ 顧客ID      : Factor w/ 33 levels \"ID00001\",\"ID00002\",..: 1 2 2 2 3 3 3 3 3 4 ...\n",
      " $ 店舗        : Factor w/ 3 levels \"A\",\"B\",\"C\": 2 2 2 2 3 3 1 1 2 3 ...\n",
      " $ 購買日      : int  20130108 20130101 20130110 20130131 20130102 20130111 20130112 20130119 20130128 20130123 ...\n",
      " $ 購買時間    : num  15.6 17.6 17.7 15.6 17.2 ...\n",
      " $ 商品カテゴリ: Factor w/ 30 levels \"C1\",\"C10\",\"C11\",..: 25 18 1 18 6 17 10 17 6 18 ...\n",
      " $ 購買金額    : int  322 320 383 222 365 445 306 337 303 429 ...\n"
     ]
    }
   ],
   "source": [
    "#変数の型の確認\n",
    "str(pos0)"
   ]
  },
  {
   "cell_type": "markdown",
   "metadata": {},
   "source": [
    "### 複数のデータを一度に読み込むための前準備"
   ]
  },
  {
   "cell_type": "code",
   "execution_count": 32,
   "metadata": {
    "collapsed": true
   },
   "outputs": [],
   "source": [
    "#ファイル名のベクトルを生成\n",
    "\n",
    "#基本URL\n",
    "base_url <- \"https://raw.githubusercontent.com/gndb3168/Renshu_data/master/R_MA/Sec_02/POS_dir/\"    \n",
    "\n",
    "#1~9月と10~12月のファイル名ベクトルを生成し結合\n",
    "file_name1 <- paste0(\"20130\",1:9)\n",
    "file_name2 <- paste0(\"2013\",10:12)\n",
    "file_name <- c(file_name1, file_name2)\n",
    "\n",
    "#拡張子\n",
    "file_extension <- \".csv\"\n",
    "\n",
    "#基本URL,ファイル名,拡張子の結合\n",
    "fname <- paste0(base_url, file_name, file_extension)"
   ]
  },
  {
   "cell_type": "code",
   "execution_count": 33,
   "metadata": {
    "collapsed": true
   },
   "outputs": [],
   "source": [
    "#複数のデータを一度に読み込む(データフレームのリストを生成)\n",
    "\n",
    "#複数のデータフレームを同時に扱う際は文字列はfactor型にせず、そのまま読み込むこと\n",
    "tmp <- lapply(fname, read.csv, stringsAsFactors=FALSE)    #lapplyはリストを返す変数"
   ]
  },
  {
   "cell_type": "markdown",
   "metadata": {},
   "source": [
    "#### <span style=\"color:red\">ID-POSデータでの注意事項(文字列の扱い)</span>\n",
    "\n",
    "データフレーム内の文字列はfactor型として扱われて整数値が付与されるが、異なるファイルに同一IDのデータがあった場合にデータフレーム間で異なる整数値が付与される現象が起こってしまう。  \n",
    "複数のデータフレームをfactor型のまま統合すると想定外のミスを誘発する可能性があるので、読み込む際は\"stringsAsFactors=FALSE\"で文字列としてデータを読み込み、全データを併合してからfactor型に変換した方が良い。"
   ]
  },
  {
   "cell_type": "code",
   "execution_count": 34,
   "metadata": {
    "collapsed": true
   },
   "outputs": [],
   "source": [
    "#複数のデータフレームを縦につなげる\n",
    "posall <- do.call(rbind, tmp)    #do.call(適用関数, リストオブジェクト)はリスト形式のオブジェクトに対して関数を適用する"
   ]
  },
  {
   "cell_type": "markdown",
   "metadata": {},
   "source": [
    "#### 補足:do.callとlapplyの違い\n",
    "\n",
    "lapplyは1リスト単位で関数を実行し、処理結果を1つずつリストにして返す。  \n",
    "そのため、rbindのような1つのデータとして集約したい場合には向いていない。  \n",
    "(今回の12個(12か月分)のID-POSデータをlapplyでrbindしようとしても12個のリストが返ってくるだけ(笑))\n",
    "\n",
    "参考:[What's the difference between lapply and do.call?\n",
    "](https://stackoverflow.com/questions/10801750/whats-the-difference-between-lapply-and-do-call)"
   ]
  },
  {
   "cell_type": "code",
   "execution_count": 35,
   "metadata": {},
   "outputs": [
    {
     "name": "stdout",
     "output_type": "stream",
     "text": [
      "'data.frame':\t1000 obs. of  3 variables:\n",
      " $ 顧客ID      : Factor w/ 36 levels \"ID00001\",\"ID00002\",..: 1 2 2 2 3 3 3 3 3 4 ...\n",
      " $ 店舗        : Factor w/ 3 levels \"A\",\"B\",\"C\": 2 2 2 2 3 3 1 1 2 3 ...\n",
      " $ 商品カテゴリ: Factor w/ 30 levels \"C1\",\"C10\",\"C11\",..: 25 18 1 18 6 17 10 17 6 18 ...\n"
     ]
    }
   ],
   "source": [
    "#Factor型への変換\n",
    "locv <- c(\"顧客ID\", \"店舗\", \"商品カテゴリ\")\n",
    "posall[, locv] <- lapply(posall[, locv], as.factor)\n",
    "str(posall[, locv])"
   ]
  },
  {
   "cell_type": "markdown",
   "metadata": {},
   "source": [
    "### 複数の変数のソート"
   ]
  },
  {
   "cell_type": "code",
   "execution_count": 36,
   "metadata": {},
   "outputs": [
    {
     "data": {
      "text/html": [
       "<table>\n",
       "<thead><tr><th></th><th scope=col>顧客ID</th><th scope=col>店舗</th><th scope=col>購買日</th><th scope=col>購買時間</th><th scope=col>商品カテゴリ</th><th scope=col>購買金額</th></tr></thead>\n",
       "<tbody>\n",
       "\t<tr><th scope=row>1</th><td>ID00001 </td><td>B       </td><td>20130108</td><td>15.60   </td><td>C4      </td><td>322     </td></tr>\n",
       "\t<tr><th scope=row>97</th><td>ID00001 </td><td>B       </td><td>20130202</td><td>14.61   </td><td>C28     </td><td>332     </td></tr>\n",
       "\t<tr><th scope=row>98</th><td>ID00001 </td><td>A       </td><td>20130204</td><td>18.29   </td><td>C1      </td><td>254     </td></tr>\n",
       "\t<tr><th scope=row>99</th><td>ID00001 </td><td>B       </td><td>20130219</td><td>17.14   </td><td>C27     </td><td>385     </td></tr>\n",
       "\t<tr><th scope=row>188</th><td>ID00001 </td><td>C       </td><td>20130320</td><td>17.39   </td><td>C1      </td><td>406     </td></tr>\n",
       "\t<tr><th scope=row>256</th><td>ID00001 </td><td>C       </td><td>20130407</td><td>18.38   </td><td>C30     </td><td>289     </td></tr>\n",
       "</tbody>\n",
       "</table>\n"
      ],
      "text/latex": [
       "\\begin{tabular}{r|llllll}\n",
       "  & 顧客ID & 店舗 & 購買日 & 購買時間 & 商品カテゴリ & 購買金額\\\\\n",
       "\\hline\n",
       "\t1 & ID00001  & B        & 20130108 & 15.60    & C4       & 322     \\\\\n",
       "\t97 & ID00001  & B        & 20130202 & 14.61    & C28      & 332     \\\\\n",
       "\t98 & ID00001  & A        & 20130204 & 18.29    & C1       & 254     \\\\\n",
       "\t99 & ID00001  & B        & 20130219 & 17.14    & C27      & 385     \\\\\n",
       "\t188 & ID00001  & C        & 20130320 & 17.39    & C1       & 406     \\\\\n",
       "\t256 & ID00001  & C        & 20130407 & 18.38    & C30      & 289     \\\\\n",
       "\\end{tabular}\n"
      ],
      "text/markdown": [
       "\n",
       "| <!--/--> | 顧客ID | 店舗 | 購買日 | 購買時間 | 商品カテゴリ | 購買金額 | \n",
       "|---|---|---|---|---|---|\n",
       "| 1 | ID00001  | B        | 20130108 | 15.60    | C4       | 322      | \n",
       "| 97 | ID00001  | B        | 20130202 | 14.61    | C28      | 332      | \n",
       "| 98 | ID00001  | A        | 20130204 | 18.29    | C1       | 254      | \n",
       "| 99 | ID00001  | B        | 20130219 | 17.14    | C27      | 385      | \n",
       "| 188 | ID00001  | C        | 20130320 | 17.39    | C1       | 406      | \n",
       "| 256 | ID00001  | C        | 20130407 | 18.38    | C30      | 289      | \n",
       "\n",
       "\n"
      ],
      "text/plain": [
       "    顧客ID  店舗 購買日   購買時間 商品カテゴリ 購買金額\n",
       "1   ID00001 B    20130108 15.60    C4           322     \n",
       "97  ID00001 B    20130202 14.61    C28          332     \n",
       "98  ID00001 A    20130204 18.29    C1           254     \n",
       "99  ID00001 B    20130219 17.14    C27          385     \n",
       "188 ID00001 C    20130320 17.39    C1           406     \n",
       "256 ID00001 C    20130407 18.38    C30          289     "
      ]
     },
     "metadata": {},
     "output_type": "display_data"
    }
   ],
   "source": [
    "#顧客ID>購買日>購買時間でのソート\n",
    "\n",
    "tmploc <- order(posall$顧客ID, posall$購買日, posall$購買時間)\n",
    "pos <- posall[tmploc,]\n",
    "head(pos)"
   ]
  },
  {
   "cell_type": "markdown",
   "metadata": {},
   "source": [
    "### RFM分析\n",
    "顧客の優良性を評価するための分析。\n",
    "\n",
    "- R:recency(最新購買日)\n",
    "- F:frequency(総購買回数)\n",
    "- M:monetary(総購買金額)"
   ]
  },
  {
   "cell_type": "code",
   "execution_count": 37,
   "metadata": {},
   "outputs": [
    {
     "data": {
      "text/html": [
       "7.2"
      ],
      "text/latex": [
       "7.2"
      ],
      "text/markdown": [
       "7.2"
      ],
      "text/plain": [
       "[1] 7.2"
      ]
     },
     "metadata": {},
     "output_type": "display_data"
    },
    {
     "data": {
      "text/html": [
       "<table>\n",
       "<thead><tr><th></th><th scope=col>R</th><th scope=col>F</th><th scope=col>M</th></tr></thead>\n",
       "<tbody>\n",
       "\t<tr><th scope=row>ID00002</th><td>20131231</td><td>37      </td><td>11436   </td></tr>\n",
       "\t<tr><th scope=row>ID00019</th><td>20131218</td><td>38      </td><td>11246   </td></tr>\n",
       "\t<tr><th scope=row>ID00020</th><td>20131231</td><td>35      </td><td>11045   </td></tr>\n",
       "\t<tr><th scope=row>ID00005</th><td>20131230</td><td>33      </td><td>10743   </td></tr>\n",
       "\t<tr><th scope=row>ID00017</th><td>20131219</td><td>34      </td><td>10590   </td></tr>\n",
       "\t<tr><th scope=row>ID00028</th><td>20131223</td><td>34      </td><td>10295   </td></tr>\n",
       "\t<tr><th scope=row>ID00027</th><td>20131213</td><td>32      </td><td>10078   </td></tr>\n",
       "</tbody>\n",
       "</table>\n"
      ],
      "text/latex": [
       "\\begin{tabular}{r|lll}\n",
       "  & R & F & M\\\\\n",
       "\\hline\n",
       "\tID00002 & 20131231 & 37       & 11436   \\\\\n",
       "\tID00019 & 20131218 & 38       & 11246   \\\\\n",
       "\tID00020 & 20131231 & 35       & 11045   \\\\\n",
       "\tID00005 & 20131230 & 33       & 10743   \\\\\n",
       "\tID00017 & 20131219 & 34       & 10590   \\\\\n",
       "\tID00028 & 20131223 & 34       & 10295   \\\\\n",
       "\tID00027 & 20131213 & 32       & 10078   \\\\\n",
       "\\end{tabular}\n"
      ],
      "text/markdown": [
       "\n",
       "| <!--/--> | R | F | M | \n",
       "|---|---|---|---|---|---|---|\n",
       "| ID00002 | 20131231 | 37       | 11436    | \n",
       "| ID00019 | 20131218 | 38       | 11246    | \n",
       "| ID00020 | 20131231 | 35       | 11045    | \n",
       "| ID00005 | 20131230 | 33       | 10743    | \n",
       "| ID00017 | 20131219 | 34       | 10590    | \n",
       "| ID00028 | 20131223 | 34       | 10295    | \n",
       "| ID00027 | 20131213 | 32       | 10078    | \n",
       "\n",
       "\n"
      ],
      "text/plain": [
       "        R        F  M    \n",
       "ID00002 20131231 37 11436\n",
       "ID00019 20131218 38 11246\n",
       "ID00020 20131231 35 11045\n",
       "ID00005 20131230 33 10743\n",
       "ID00017 20131219 34 10590\n",
       "ID00028 20131223 34 10295\n",
       "ID00027 20131213 32 10078"
      ]
     },
     "metadata": {},
     "output_type": "display_data"
    }
   ],
   "source": [
    "#RFM分析\n",
    "\n",
    "#顧客IDごとの最新購買日\n",
    "R <- tapply(posall$購買日, posall$顧客ID, max)\n",
    "#顧客IDごとの総購買回数\n",
    "F <- tapply(posall$顧客ID, posall$顧客ID, length)\n",
    "#顧客IDごとの総購買金額\n",
    "M <- tapply(posall$購買金額, posall$顧客ID, sum)\n",
    "\n",
    "#RFMをデータフレームとして統合\n",
    "rfm <- data.frame(R=R, F=F, M=M)\n",
    "\n",
    "# M>F>Rで降順にソート\n",
    "tmploc2 <- order(rfm$M, rfm$F, rfm$R, decreasing=TRUE)\n",
    "rfm2 <- rfm[tmploc2, ]\n",
    "\n",
    "#上位20%以内の顧客の表示\n",
    "nrow(rfm2)*0.2    #36*0.2 = 7.2\n",
    "rfm2[1:7, ]"
   ]
  },
  {
   "cell_type": "markdown",
   "metadata": {},
   "source": [
    "### ID-POSデータにおけるクロス集計表\n",
    "クロス集計表で度数を求める際は度数0のカテゴリが表示されるように、文字列のカテゴリをfactor型に変換してから分析すること(読み込み時は文字列)"
   ]
  },
  {
   "cell_type": "code",
   "execution_count": 38,
   "metadata": {
    "collapsed": true
   },
   "outputs": [],
   "source": [
    "#全体\n",
    "t1 <- table(posall$顧客ID, posall$商品カテゴリ)\n",
    "\n",
    "#店舗別(3店舗)\n",
    "t2 <- xtabs(~顧客ID+商品カテゴリ+店舗, data=posall)\n",
    "\n",
    "#購買日別(336日)\n",
    "t3 <- xtabs(~顧客ID+商品カテゴリ+購買日, data=posall)"
   ]
  },
  {
   "cell_type": "code",
   "execution_count": 39,
   "metadata": {},
   "outputs": [
    {
     "data": {
      "text/html": [
       "<ol class=list-inline>\n",
       "\t<li>36</li>\n",
       "\t<li>30</li>\n",
       "</ol>\n"
      ],
      "text/latex": [
       "\\begin{enumerate*}\n",
       "\\item 36\n",
       "\\item 30\n",
       "\\end{enumerate*}\n"
      ],
      "text/markdown": [
       "1. 36\n",
       "2. 30\n",
       "\n",
       "\n"
      ],
      "text/plain": [
       "[1] 36 30"
      ]
     },
     "metadata": {},
     "output_type": "display_data"
    },
    {
     "data": {
      "text/html": [
       "<ol class=list-inline>\n",
       "\t<li>36</li>\n",
       "\t<li>30</li>\n",
       "</ol>\n"
      ],
      "text/latex": [
       "\\begin{enumerate*}\n",
       "\\item 36\n",
       "\\item 30\n",
       "\\end{enumerate*}\n"
      ],
      "text/markdown": [
       "1. 36\n",
       "2. 30\n",
       "\n",
       "\n"
      ],
      "text/plain": [
       "[1] 36 30"
      ]
     },
     "metadata": {},
     "output_type": "display_data"
    }
   ],
   "source": [
    "#factor型のデータは度数0のカテゴリもしっかり表示される\n",
    "dim(table(posall[, c(\"顧客ID\", \"商品カテゴリ\")]))\n",
    "\n",
    "#店舗Aにおけるクロス集計表の行列と列数を求める\n",
    "storeA <- subset(posall, 店舗==\"A\")\n",
    "dim(table(storeA[, c(\"顧客ID\", \"商品カテゴリ\")]))"
   ]
  },
  {
   "cell_type": "markdown",
   "metadata": {},
   "source": [
    "### 顧客ID別に月ごとの購買金額の取得"
   ]
  },
  {
   "cell_type": "code",
   "execution_count": 40,
   "metadata": {},
   "outputs": [
    {
     "data": {
      "text/html": [
       "<table>\n",
       "<thead><tr><th></th><th scope=col>201301</th><th scope=col>201302</th><th scope=col>201303</th><th scope=col>201304</th><th scope=col>201305</th><th scope=col>201306</th><th scope=col>201307</th><th scope=col>201308</th><th scope=col>201309</th><th scope=col>201310</th><th scope=col>201311</th><th scope=col>201312</th></tr></thead>\n",
       "<tbody>\n",
       "\t<tr><th scope=row>ID00001</th><td> 322</td><td>971 </td><td>406 </td><td> 704</td><td> 556</td><td>645 </td><td> 328</td><td> 901</td><td>815 </td><td> 609</td><td>386 </td><td> 383</td></tr>\n",
       "\t<tr><th scope=row>ID00002</th><td> 925</td><td>321 </td><td>420 </td><td>1317</td><td>1318</td><td>317 </td><td>1642</td><td>1517</td><td>427 </td><td>1786</td><td>339 </td><td>1107</td></tr>\n",
       "\t<tr><th scope=row>ID00003</th><td>1756</td><td>348 </td><td>287 </td><td>   0</td><td> 516</td><td>552 </td><td> 334</td><td> 965</td><td>  0 </td><td> 345</td><td>594 </td><td>1606</td></tr>\n",
       "</tbody>\n",
       "</table>\n"
      ],
      "text/latex": [
       "\\begin{tabular}{r|llllllllllll}\n",
       "  & 201301 & 201302 & 201303 & 201304 & 201305 & 201306 & 201307 & 201308 & 201309 & 201310 & 201311 & 201312\\\\\n",
       "\\hline\n",
       "\tID00001 &  322 & 971  & 406  &  704 &  556 & 645  &  328 &  901 & 815  &  609 & 386  &  383\\\\\n",
       "\tID00002 &  925 & 321  & 420  & 1317 & 1318 & 317  & 1642 & 1517 & 427  & 1786 & 339  & 1107\\\\\n",
       "\tID00003 & 1756 & 348  & 287  &    0 &  516 & 552  &  334 &  965 &   0  &  345 & 594  & 1606\\\\\n",
       "\\end{tabular}\n"
      ],
      "text/markdown": [
       "\n",
       "| <!--/--> | 201301 | 201302 | 201303 | 201304 | 201305 | 201306 | 201307 | 201308 | 201309 | 201310 | 201311 | 201312 | \n",
       "|---|---|---|\n",
       "| ID00001 |  322 | 971  | 406  |  704 |  556 | 645  |  328 |  901 | 815  |  609 | 386  |  383 | \n",
       "| ID00002 |  925 | 321  | 420  | 1317 | 1318 | 317  | 1642 | 1517 | 427  | 1786 | 339  | 1107 | \n",
       "| ID00003 | 1756 | 348  | 287  |    0 |  516 | 552  |  334 |  965 |   0  |  345 | 594  | 1606 | \n",
       "\n",
       "\n"
      ],
      "text/plain": [
       "        201301 201302 201303 201304 201305 201306 201307 201308 201309 201310\n",
       "ID00001  322   971    406     704    556   645     328    901   815     609  \n",
       "ID00002  925   321    420    1317   1318   317    1642   1517   427    1786  \n",
       "ID00003 1756   348    287       0    516   552     334    965     0     345  \n",
       "        201311 201312\n",
       "ID00001 386     383  \n",
       "ID00002 339    1107  \n",
       "ID00003 594    1606  "
      ]
     },
     "metadata": {},
     "output_type": "display_data"
    }
   ],
   "source": [
    "cid <- posall$顧客ID                  #顧客IDベクトル\n",
    "buym <- substr(posall$購買日, 1, 6)   #購買月のベクトル\n",
    "\n",
    "#引数をlist形式で与えることで2つの変数ごとに関数を適用させる\n",
    "resmat <- tapply(posall$購買金額, list(cid, buym), sum)\n",
    "\n",
    "#NAのデータに対し0を代入\n",
    "resmat[is.na(resmat)] <- 0\n",
    "head(resmat, 3)"
   ]
  },
  {
   "cell_type": "markdown",
   "metadata": {
    "collapsed": true
   },
   "source": [
    "### 顧客ID別に商品名を取得する"
   ]
  },
  {
   "cell_type": "code",
   "execution_count": 41,
   "metadata": {},
   "outputs": [
    {
     "data": {
      "text/html": [
       "<dl>\n",
       "\t<dt>$ID00001</dt>\n",
       "\t\t<dd><ol class=list-inline>\n",
       "\t<li>'C1'</li>\n",
       "\t<li>'C12'</li>\n",
       "\t<li>'C14'</li>\n",
       "\t<li>'C15'</li>\n",
       "\t<li>'C18'</li>\n",
       "\t<li>'C20'</li>\n",
       "\t<li>'C22'</li>\n",
       "\t<li>'C23'</li>\n",
       "\t<li>'C24'</li>\n",
       "\t<li>'C27'</li>\n",
       "\t<li>'C28'</li>\n",
       "\t<li>'C29'</li>\n",
       "\t<li>'C3'</li>\n",
       "\t<li>'C30'</li>\n",
       "\t<li>'C4'</li>\n",
       "</ol>\n",
       "</dd>\n",
       "\t<dt>$ID00002</dt>\n",
       "\t\t<dd><ol class=list-inline>\n",
       "\t<li>'C1'</li>\n",
       "\t<li>'C13'</li>\n",
       "\t<li>'C14'</li>\n",
       "\t<li>'C15'</li>\n",
       "\t<li>'C16'</li>\n",
       "\t<li>'C18'</li>\n",
       "\t<li>'C19'</li>\n",
       "\t<li>'C2'</li>\n",
       "\t<li>'C20'</li>\n",
       "\t<li>'C22'</li>\n",
       "\t<li>'C24'</li>\n",
       "\t<li>'C25'</li>\n",
       "\t<li>'C27'</li>\n",
       "\t<li>'C28'</li>\n",
       "\t<li>'C29'</li>\n",
       "\t<li>'C3'</li>\n",
       "\t<li>'C30'</li>\n",
       "\t<li>'C4'</li>\n",
       "\t<li>'C6'</li>\n",
       "\t<li>'C7'</li>\n",
       "\t<li>'C9'</li>\n",
       "</ol>\n",
       "</dd>\n",
       "</dl>\n"
      ],
      "text/latex": [
       "\\begin{description}\n",
       "\\item[\\$ID00001] \\begin{enumerate*}\n",
       "\\item 'C1'\n",
       "\\item 'C12'\n",
       "\\item 'C14'\n",
       "\\item 'C15'\n",
       "\\item 'C18'\n",
       "\\item 'C20'\n",
       "\\item 'C22'\n",
       "\\item 'C23'\n",
       "\\item 'C24'\n",
       "\\item 'C27'\n",
       "\\item 'C28'\n",
       "\\item 'C29'\n",
       "\\item 'C3'\n",
       "\\item 'C30'\n",
       "\\item 'C4'\n",
       "\\end{enumerate*}\n",
       "\n",
       "\\item[\\$ID00002] \\begin{enumerate*}\n",
       "\\item 'C1'\n",
       "\\item 'C13'\n",
       "\\item 'C14'\n",
       "\\item 'C15'\n",
       "\\item 'C16'\n",
       "\\item 'C18'\n",
       "\\item 'C19'\n",
       "\\item 'C2'\n",
       "\\item 'C20'\n",
       "\\item 'C22'\n",
       "\\item 'C24'\n",
       "\\item 'C25'\n",
       "\\item 'C27'\n",
       "\\item 'C28'\n",
       "\\item 'C29'\n",
       "\\item 'C3'\n",
       "\\item 'C30'\n",
       "\\item 'C4'\n",
       "\\item 'C6'\n",
       "\\item 'C7'\n",
       "\\item 'C9'\n",
       "\\end{enumerate*}\n",
       "\n",
       "\\end{description}\n"
      ],
      "text/markdown": [
       "$ID00001\n",
       ":   1. 'C1'\n",
       "2. 'C12'\n",
       "3. 'C14'\n",
       "4. 'C15'\n",
       "5. 'C18'\n",
       "6. 'C20'\n",
       "7. 'C22'\n",
       "8. 'C23'\n",
       "9. 'C24'\n",
       "10. 'C27'\n",
       "11. 'C28'\n",
       "12. 'C29'\n",
       "13. 'C3'\n",
       "14. 'C30'\n",
       "15. 'C4'\n",
       "\n",
       "\n",
       "\n",
       "$ID00002\n",
       ":   1. 'C1'\n",
       "2. 'C13'\n",
       "3. 'C14'\n",
       "4. 'C15'\n",
       "5. 'C16'\n",
       "6. 'C18'\n",
       "7. 'C19'\n",
       "8. 'C2'\n",
       "9. 'C20'\n",
       "10. 'C22'\n",
       "11. 'C24'\n",
       "12. 'C25'\n",
       "13. 'C27'\n",
       "14. 'C28'\n",
       "15. 'C29'\n",
       "16. 'C3'\n",
       "17. 'C30'\n",
       "18. 'C4'\n",
       "19. 'C6'\n",
       "20. 'C7'\n",
       "21. 'C9'\n",
       "\n",
       "\n",
       "\n",
       "\n",
       "\n"
      ],
      "text/plain": [
       "$ID00001\n",
       " [1] \"C1\"  \"C12\" \"C14\" \"C15\" \"C18\" \"C20\" \"C22\" \"C23\" \"C24\" \"C27\" \"C28\" \"C29\"\n",
       "[13] \"C3\"  \"C30\" \"C4\" \n",
       "\n",
       "$ID00002\n",
       " [1] \"C1\"  \"C13\" \"C14\" \"C15\" \"C16\" \"C18\" \"C19\" \"C2\"  \"C20\" \"C22\" \"C24\" \"C25\"\n",
       "[13] \"C27\" \"C28\" \"C29\" \"C3\"  \"C30\" \"C4\"  \"C6\"  \"C7\"  \"C9\" \n"
      ]
     },
     "metadata": {},
     "output_type": "display_data"
    }
   ],
   "source": [
    "#1顧客IDと承認カテゴリのクロス表に対し、1個以上購入した商品カテゴリの名前を取得\n",
    "getitemname <- function(x) {\n",
    "    return(names(which(x >= 1)))\n",
    "}\n",
    "\n",
    "#上記の関数を顧客ID別に適用\n",
    "res2 <- apply(t1, 1, getitemname)\n",
    "head(res2, 2)    #商品カテゴリの順番がバラバラなことに注意"
   ]
  },
  {
   "cell_type": "markdown",
   "metadata": {},
   "source": [
    "### 顧客IDごとに来店間隔の分布を描画・要約"
   ]
  },
  {
   "cell_type": "code",
   "execution_count": 42,
   "metadata": {},
   "outputs": [
    {
     "data": {
      "text/html": [
       "<ol class=list-inline>\n",
       "\t<li>'2013-01-08'</li>\n",
       "\t<li>'2013-01-01'</li>\n",
       "\t<li>'2013-01-10'</li>\n",
       "\t<li>'2013-01-31'</li>\n",
       "\t<li>'2013-01-02'</li>\n",
       "\t<li>'2013-01-11'</li>\n",
       "</ol>\n"
      ],
      "text/latex": [
       "\\begin{enumerate*}\n",
       "\\item '2013-01-08'\n",
       "\\item '2013-01-01'\n",
       "\\item '2013-01-10'\n",
       "\\item '2013-01-31'\n",
       "\\item '2013-01-02'\n",
       "\\item '2013-01-11'\n",
       "\\end{enumerate*}\n"
      ],
      "text/markdown": [
       "1. '2013-01-08'\n",
       "2. '2013-01-01'\n",
       "3. '2013-01-10'\n",
       "4. '2013-01-31'\n",
       "5. '2013-01-02'\n",
       "6. '2013-01-11'\n",
       "\n",
       "\n"
      ],
      "text/plain": [
       "[1] \"2013-01-08\" \"2013-01-01\" \"2013-01-10\" \"2013-01-31\" \"2013-01-02\"\n",
       "[6] \"2013-01-11\""
      ]
     },
     "metadata": {},
     "output_type": "display_data"
    },
    {
     "data": {
      "text/plain": [
       "$ID00001\n",
       "Time differences in days\n",
       " [1] 25  2 15 29 18  3 12 10 18 22  2 22 37 14  5 13  3  0 27 12 26 26\n",
       "\n",
       "$ID00002\n",
       "Time differences in days\n",
       " [1]  9 21 26  2  7  8 18 11  1  1 19  4  1 12  7 14 29  1  5  6  9 16  3  0 10\n",
       "[26] 31  2  6  9  8  4 24 12 15  2 11\n"
      ]
     },
     "metadata": {},
     "output_type": "display_data"
    }
   ],
   "source": [
    "#来店日をdate形式に変換\n",
    "\n",
    "#yyyymmddの整数形式の日付データを文字列\"yyyy-mm--dd\"に変換する\n",
    "tmpdate <- paste0(substr(posall$購買日, 1, 4), \"-\",\n",
    "                substr(posall$購買日, 5, 6), \"-\",\n",
    "                substr(posall$購買日,7, 8))\n",
    "head(tmpdate)\n",
    "\n",
    "#文字列\"yyyy-mm--dd\"をdate形式に変換\n",
    "ndate <- as.Date(tmpdate)\n",
    "\n",
    "#顧客別に来店感覚を求める\n",
    "restime <- tapply(ndate, posall$顧客ID, diff)\n",
    "head(restime, 2)"
   ]
  },
  {
   "cell_type": "code",
   "execution_count": 43,
   "metadata": {
    "scrolled": false
   },
   "outputs": [
    {
     "data": {
      "image/png": "[encoded data removed]",
      "text/plain": [
       "Plot with title \"\""
      ]
     },
     "metadata": {},
     "output_type": "display_data"
    }
   ],
   "source": [
    "#顧客別に来店間隔の分布を描画\n",
    "\n",
    "#histgramは数値データを対象にしているので、'difftime num'データを数値化しておく\n",
    "restime2 <- lapply(restime, as.numeric)    #restimeはリスト形式のデータなのでlapplyでリスとリスト毎に関数を適用させる\n",
    "\n",
    "#直後にコードで表示させるグラフを2行3列で表示されるように指定\n",
    "par(mfrow=c(2, 3))\n",
    "#lapplyでhistを実行すると余計な実行結果が返ってくるのでinvisible()で図だけ表示されるようにする\n",
    "invisible(lapply(restime2[1:6], hist, breaks=10, xlab=\"diff\", main=\"\"))"
   ]
  },
  {
   "cell_type": "markdown",
   "metadata": {},
   "source": [
    "参考:[How to stop hist from printing all the information into the console\n",
    "](https://stackoverflow.com/questions/42847872/how-to-stop-hist-from-printing-all-the-information-into-the-console)"
   ]
  },
  {
   "cell_type": "code",
   "execution_count": 44,
   "metadata": {
    "collapsed": true
   },
   "outputs": [],
   "source": [
    "#顧客別に来店間隔の分布を要約するための前準備\n",
    "\n",
    "#describe関数で要約するのに必要なpsychパッケージの呼び出し\n",
    "library(psych)    "
   ]
  },
  {
   "cell_type": "code",
   "execution_count": 45,
   "metadata": {},
   "outputs": [
    {
     "data": {
      "text/html": [
       "<dl>\n",
       "\t<dt>$ID00001</dt>\n",
       "\t\t<dd><table>\n",
       "<thead><tr><th></th><th scope=col>vars</th><th scope=col>n</th><th scope=col>mean</th><th scope=col>sd</th><th scope=col>median</th><th scope=col>trimmed</th><th scope=col>mad</th><th scope=col>min</th><th scope=col>max</th><th scope=col>range</th><th scope=col>skew</th><th scope=col>kurtosis</th><th scope=col>se</th></tr></thead>\n",
       "<tbody>\n",
       "\t<tr><th scope=row>X1</th><td>1        </td><td>22       </td><td>15.5     </td><td>10.40947 </td><td>14.5     </td><td>15.16667 </td><td>14.826   </td><td>0        </td><td>37       </td><td>37       </td><td>0.1488231</td><td>-1.115132</td><td>2.219307 </td></tr>\n",
       "</tbody>\n",
       "</table>\n",
       "</dd>\n",
       "\t<dt>$ID00002</dt>\n",
       "\t\t<dd><table>\n",
       "<thead><tr><th></th><th scope=col>vars</th><th scope=col>n</th><th scope=col>mean</th><th scope=col>sd</th><th scope=col>median</th><th scope=col>trimmed</th><th scope=col>mad</th><th scope=col>min</th><th scope=col>max</th><th scope=col>range</th><th scope=col>skew</th><th scope=col>kurtosis</th><th scope=col>se</th></tr></thead>\n",
       "<tbody>\n",
       "\t<tr><th scope=row>X1</th><td>1         </td><td>36        </td><td>10.11111  </td><td>8.331619  </td><td>8.5       </td><td>9.2       </td><td>8.1543    </td><td>0         </td><td>31        </td><td>31        </td><td>0.8929718 </td><td>-0.1021857</td><td>1.388603  </td></tr>\n",
       "</tbody>\n",
       "</table>\n",
       "</dd>\n",
       "</dl>\n"
      ],
      "text/latex": [
       "\\begin{description}\n",
       "\\item[\\$ID00001] \\begin{tabular}{r|lllllllllllll}\n",
       "  & vars & n & mean & sd & median & trimmed & mad & min & max & range & skew & kurtosis & se\\\\\n",
       "\\hline\n",
       "\tX1 & 1         & 22        & 15.5      & 10.40947  & 14.5      & 15.16667  & 14.826    & 0         & 37        & 37        & 0.1488231 & -1.115132 & 2.219307 \\\\\n",
       "\\end{tabular}\n",
       "\n",
       "\\item[\\$ID00002] \\begin{tabular}{r|lllllllllllll}\n",
       "  & vars & n & mean & sd & median & trimmed & mad & min & max & range & skew & kurtosis & se\\\\\n",
       "\\hline\n",
       "\tX1 & 1          & 36         & 10.11111   & 8.331619   & 8.5        & 9.2        & 8.1543     & 0          & 31         & 31         & 0.8929718  & -0.1021857 & 1.388603  \\\\\n",
       "\\end{tabular}\n",
       "\n",
       "\\end{description}\n"
      ],
      "text/markdown": [
       "$ID00001\n",
       ":   \n",
       "| <!--/--> | vars | n | mean | sd | median | trimmed | mad | min | max | range | skew | kurtosis | se | \n",
       "|---|\n",
       "| X1 | 1         | 22        | 15.5      | 10.40947  | 14.5      | 15.16667  | 14.826    | 0         | 37        | 37        | 0.1488231 | -1.115132 | 2.219307  | \n",
       "\n",
       "\n",
       "\n",
       "$ID00002\n",
       ":   \n",
       "| <!--/--> | vars | n | mean | sd | median | trimmed | mad | min | max | range | skew | kurtosis | se | \n",
       "|---|\n",
       "| X1 | 1          | 36         | 10.11111   | 8.331619   | 8.5        | 9.2        | 8.1543     | 0          | 31         | 31         | 0.8929718  | -0.1021857 | 1.388603   | \n",
       "\n",
       "\n",
       "\n",
       "\n",
       "\n"
      ],
      "text/plain": [
       "$ID00001\n",
       "   vars  n mean    sd median trimmed   mad min max range skew kurtosis   se\n",
       "X1    1 22 15.5 10.41   14.5   15.17 14.83   0  37    37 0.15    -1.12 2.22\n",
       "\n",
       "$ID00002\n",
       "   vars  n  mean   sd median trimmed  mad min max range skew kurtosis   se\n",
       "X1    1 36 10.11 8.33    8.5     9.2 8.15   0  31    31 0.89     -0.1 1.39\n"
      ]
     },
     "metadata": {},
     "output_type": "display_data"
    }
   ],
   "source": [
    "#describe関数で要約\n",
    "resd <- lapply(restime2, describe)\n",
    "resd[1:2]"
   ]
  }
 ],
 "metadata": {
  "kernelspec": {
   "display_name": "R",
   "language": "R",
   "name": "ir"
  },
  "language_info": {
   "codemirror_mode": "r",
   "file_extension": ".r",
   "mimetype": "text/x-r-source",
   "name": "R",
   "pygments_lexer": "r",
   "version": "3.5.1"
  }
 },
 "nbformat": 4,
 "nbformat_minor": 2
}
