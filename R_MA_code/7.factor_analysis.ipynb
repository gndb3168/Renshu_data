{
 "cells": [
  {
   "cell_type": "markdown",
   "metadata": {},
   "source": [
    "## 心理尺度を開発したい -探索的因子分析-"
   ]
  },
  {
   "cell_type": "code",
   "execution_count": 1,
   "metadata": {},
   "outputs": [
    {
     "data": {
      "text/html": [
       "<table>\n",
       "<thead><tr><th scope=col>I1</th><th scope=col>I2</th><th scope=col>I3</th><th scope=col>I4</th><th scope=col>E1</th><th scope=col>E2</th><th scope=col>E3</th><th scope=col>E4</th></tr></thead>\n",
       "<tbody>\n",
       "\t<tr><td>4</td><td>3</td><td>2</td><td>3</td><td>3</td><td>2</td><td>1</td><td>2</td></tr>\n",
       "\t<tr><td>2</td><td>3</td><td>2</td><td>2</td><td>3</td><td>3</td><td>3</td><td>2</td></tr>\n",
       "\t<tr><td>4</td><td>3</td><td>4</td><td>3</td><td>1</td><td>2</td><td>1</td><td>2</td></tr>\n",
       "\t<tr><td>3</td><td>4</td><td>3</td><td>3</td><td>2</td><td>1</td><td>2</td><td>3</td></tr>\n",
       "\t<tr><td>2</td><td>3</td><td>3</td><td>2</td><td>3</td><td>3</td><td>3</td><td>3</td></tr>\n",
       "\t<tr><td>3</td><td>3</td><td>3</td><td>3</td><td>3</td><td>3</td><td>3</td><td>1</td></tr>\n",
       "</tbody>\n",
       "</table>\n"
      ],
      "text/latex": [
       "\\begin{tabular}{r|llllllll}\n",
       " I1 & I2 & I3 & I4 & E1 & E2 & E3 & E4\\\\\n",
       "\\hline\n",
       "\t 4 & 3 & 2 & 3 & 3 & 2 & 1 & 2\\\\\n",
       "\t 2 & 3 & 2 & 2 & 3 & 3 & 3 & 2\\\\\n",
       "\t 4 & 3 & 4 & 3 & 1 & 2 & 1 & 2\\\\\n",
       "\t 3 & 4 & 3 & 3 & 2 & 1 & 2 & 3\\\\\n",
       "\t 2 & 3 & 3 & 2 & 3 & 3 & 3 & 3\\\\\n",
       "\t 3 & 3 & 3 & 3 & 3 & 3 & 3 & 1\\\\\n",
       "\\end{tabular}\n"
      ],
      "text/markdown": [
       "\n",
       "I1 | I2 | I3 | I4 | E1 | E2 | E3 | E4 | \n",
       "|---|---|---|---|---|---|\n",
       "| 4 | 3 | 2 | 3 | 3 | 2 | 1 | 2 | \n",
       "| 2 | 3 | 2 | 2 | 3 | 3 | 3 | 2 | \n",
       "| 4 | 3 | 4 | 3 | 1 | 2 | 1 | 2 | \n",
       "| 3 | 4 | 3 | 3 | 2 | 1 | 2 | 3 | \n",
       "| 2 | 3 | 3 | 2 | 3 | 3 | 3 | 3 | \n",
       "| 3 | 3 | 3 | 3 | 3 | 3 | 3 | 1 | \n",
       "\n",
       "\n"
      ],
      "text/plain": [
       "  I1 I2 I3 I4 E1 E2 E3 E4\n",
       "1 4  3  2  3  3  2  1  2 \n",
       "2 2  3  2  2  3  3  3  2 \n",
       "3 4  3  4  3  1  2  1  2 \n",
       "4 3  4  3  3  2  1  2  3 \n",
       "5 2  3  3  2  3  3  3  3 \n",
       "6 3  3  3  3  3  3  3  1 "
      ]
     },
     "metadata": {},
     "output_type": "display_data"
    }
   ],
   "source": [
    "#データの読み込み, データフレームの確認\n",
    "dkk <- read.csv(\"https://raw.githubusercontent.com/gndb3168/Renshu_data/master/R_MA/Sec_07/motivation.csv\")\n",
    "head(dkk)"
   ]
  },
  {
   "cell_type": "markdown",
   "metadata": {},
   "source": [
    "### 7.2 因子数の決定"
   ]
  },
  {
   "cell_type": "markdown",
   "metadata": {},
   "source": [
    "因子数を決定する方法は主に3つ.\n",
    "- ガットマン基準\n",
    "- スクリーテスト\n",
    "- 平行分析\n",
    "\n",
    "その他の方法は服部(2011)参照"
   ]
  },
  {
   "cell_type": "markdown",
   "metadata": {},
   "source": [
    "#### 7.2.1 ガットマン基準\n",
    "値が1以上の固有値の数を因子数とする方法"
   ]
  },
  {
   "cell_type": "code",
   "execution_count": 2,
   "metadata": {},
   "outputs": [
    {
     "data": {
      "text/plain": [
       "eigen() decomposition\n",
       "$values\n",
       "[1] 3.7613999 1.4433708 0.7540046 0.5187218 0.4542219 0.4047593 0.3621858\n",
       "[8] 0.3013360\n",
       "\n",
       "$vectors\n",
       "           [,1]       [,2]          [,3]        [,4]        [,5]        [,6]\n",
       "[1,] -0.3926462 -0.2301045 -0.0333832323 -0.52515661  0.21253515  0.47751342\n",
       "[2,] -0.3758623 -0.3098362  0.0632813112  0.39111687 -0.41525098  0.54121686\n",
       "[3,] -0.3549102 -0.3939742  0.0003961333  0.45820004 -0.03410657 -0.46807064\n",
       "[4,] -0.3558663 -0.3927385  0.0032942653 -0.44311775  0.09053310 -0.46167222\n",
       "[5,]  0.3188909 -0.4580327  0.0494596404  0.29034109  0.73346427  0.19706645\n",
       "[6,]  0.3739172 -0.3468658  0.3270319076 -0.26379599 -0.28764867  0.04845881\n",
       "[7,]  0.3770578 -0.3626446  0.2867485036 -0.08510451 -0.33073321 -0.07112476\n",
       "[8,]  0.2612974 -0.2827956 -0.8962417070 -0.06171277 -0.20721941  0.02432511\n",
       "            [,7]          [,8]\n",
       "[1,]  0.47636461  0.1259504495\n",
       "[2,] -0.37363526 -0.0282789005\n",
       "[3,]  0.52998734 -0.0879528720\n",
       "[4,] -0.54901170  0.0003674799\n",
       "[5,] -0.15786112 -0.0067312907\n",
       "[6,]  0.13200039 -0.6788355945\n",
       "[7,]  0.09117430  0.7170026813\n",
       "[8,]  0.02271632 -0.0253973565\n"
      ]
     },
     "metadata": {},
     "output_type": "display_data"
    }
   ],
   "source": [
    "#固有値の算出\n",
    "\n",
    "cor.dkk <- cor(dkk)    #相関行列の算出\n",
    "eigen(cor.dkk)         #固有値の算出"
   ]
  },
  {
   "cell_type": "markdown",
   "metadata": {},
   "source": [
    "### 7.2.2 スクリーテスト\n",
    "固有値を縦軸, 因子の番号を横軸にとって, こひゅうちの変化をプロットした折れ線グラフのことをスクリープロットという.  \n",
    "固有値の水位がなだらかになる直線までの固有値の数を因子数とする."
   ]
  },
  {
   "cell_type": "code",
   "execution_count": 3,
   "metadata": {},
   "outputs": [
    {
     "data": {
      "image/png": "[encoded data removed]",
      "text/plain": [
       "Plot with title \"scree plot\""
      ]
     },
     "metadata": {},
     "output_type": "display_data"
    }
   ],
   "source": [
    "#スクリープロットの出力\n",
    "\n",
    "library(psych)\n",
    "VSS.scree(dkk)    #パッケージpsychのVSS.screeでスクリープロットの出力"
   ]
  },
  {
   "cell_type": "markdown",
   "metadata": {},
   "source": [
    "### 7.2.3 平行分析\n",
    "変数の数と標本サイズが実際のデータと同一の乱数データをn個作成して, n個の乱数データそれぞれで固有値を算出し, n個の固有値の平均を求める.  \n",
    "平均した固有値よりも大きい実データの固有値の個数を因子数とする."
   ]
  },
  {
   "cell_type": "code",
   "execution_count": 4,
   "metadata": {},
   "outputs": [
    {
     "name": "stdout",
     "output_type": "stream",
     "text": [
      "Parallel analysis suggests that the number of factors =  NA  and the number of components =  2 \n"
     ]
    },
    {
     "data": {
      "image/png": "[encoded data removed]",
      "text/plain": [
       "Plot with title \"Parallel Analysis Scree Plots\""
      ]
     },
     "metadata": {},
     "output_type": "display_data"
    }
   ],
   "source": [
    "#平行分析\n",
    "fa.parallel(dkk, fm=\"ml\", fa=\"pc\", n.iter=100)    #パッケージpsychのfa.parallelで実行(n.iterは発生させる乱数データの個数)"
   ]
  },
  {
   "cell_type": "markdown",
   "metadata": {},
   "source": [
    "### 7.3 因子負荷の推定"
   ]
  },
  {
   "cell_type": "code",
   "execution_count": 5,
   "metadata": {},
   "outputs": [
    {
     "name": "stdout",
     "output_type": "stream",
     "text": [
      "Factor Analysis using method =  ml\n",
      "Call: fa(r = dkk, nfactors = 2, rotate = \"none\", fm = \"ml\")\n",
      "Standardized loadings (pattern matrix) based upon correlation matrix\n",
      "   item    ML1   ML2    h2    u2  com\n",
      "E3    7 -0.743 0.394 0.707 0.293 1.52\n",
      "E2    6 -0.727 0.362 0.660 0.340 1.47\n",
      "I1    1  0.701 0.270 0.565 0.435 1.29\n",
      "I2    2  0.664 0.352 0.564 0.436 1.52\n",
      "I4    4  0.630 0.437 0.588 0.412 1.78\n",
      "I3    3  0.630 0.425 0.577 0.423 1.75\n",
      "E1    5 -0.580 0.378 0.479 0.521 1.72\n",
      "E4    8 -0.426 0.144 0.202 0.798 1.22\n",
      "\n",
      "                        ML1   ML2\n",
      "SS loadings           3.324 1.018\n",
      "Proportion Var        0.416 0.127\n",
      "Cumulative Var        0.416 0.543\n",
      "Proportion Explained  0.766 0.234\n",
      "Cumulative Proportion 0.766 1.000\n",
      "\n",
      "Mean item complexity =  1.5\n",
      "Test of the hypothesis that 2 factors are sufficient.\n",
      "\n",
      "The degrees of freedom for the null model are  28  and the objective function was  3.156 with Chi Square of  1563.665\n",
      "The degrees of freedom for the model are 13  and the objective function was  0.066 \n",
      "\n",
      "The root mean square of the residuals (RMSR) is  0.025 \n",
      "The df corrected root mean square of the residuals is  0.037 \n",
      "\n",
      "The harmonic number of observations is  500 with the empirical chi square  17.43  with prob <  0.18 \n",
      "The total number of observations was  500  with Likelihood Chi Square =  32.804  with prob <  0.00182 \n",
      "\n",
      "Tucker Lewis Index of factoring reliability =  0.9721\n",
      "RMSEA index =  0.0557  and the 90 % confidence intervals are  0.032 0.0792\n",
      "BIC =  -47.986\n",
      "Fit based upon off diagonal values = 0.996\n",
      "Measures of factor score adequacy             \n",
      "                                                    ML1   ML2\n",
      "Correlation of (regression) scores with factors   0.945 0.848\n",
      "Multiple R square of scores with factors          0.893 0.719\n",
      "Minimum correlation of possible factor scores     0.786 0.438\n"
     ]
    }
   ],
   "source": [
    "#因子負荷の推定(初期解)\n",
    "\n",
    "fa.dkk1 <- fa(dkk, nfactors=2, fm=\"ml\", rotate=\"none\")    #パッケージpsychのfaで母数の推定\n",
    "print(fa.dkk1, sort=TRUE, digits=3)                       #結果の出力"
   ]
  },
  {
   "cell_type": "markdown",
   "metadata": {},
   "source": [
    "共通性の和と独自性の和は1になる."
   ]
  },
  {
   "cell_type": "code",
   "execution_count": 6,
   "metadata": {},
   "outputs": [
    {
     "name": "stdout",
     "output_type": "stream",
     "text": [
      "Factor Analysis using method =  ml\n",
      "Call: fa(r = cor.dkk, nfactors = 2, n.obs = 500, rotate = \"none\", fm = \"ml\")\n",
      "Standardized loadings (pattern matrix) based upon correlation matrix\n",
      "   item    ML1   ML2    h2    u2  com\n",
      "E3    7 -0.743 0.394 0.707 0.293 1.52\n",
      "E2    6 -0.727 0.362 0.660 0.340 1.47\n",
      "I1    1  0.701 0.270 0.565 0.435 1.29\n",
      "I2    2  0.664 0.352 0.564 0.436 1.52\n",
      "I4    4  0.630 0.437 0.588 0.412 1.78\n",
      "I3    3  0.630 0.425 0.577 0.423 1.75\n",
      "E1    5 -0.580 0.378 0.479 0.521 1.72\n",
      "E4    8 -0.426 0.144 0.202 0.798 1.22\n",
      "\n",
      "                        ML1   ML2\n",
      "SS loadings           3.324 1.018\n",
      "Proportion Var        0.416 0.127\n",
      "Cumulative Var        0.416 0.543\n",
      "Proportion Explained  0.766 0.234\n",
      "Cumulative Proportion 0.766 1.000\n",
      "\n",
      "Mean item complexity =  1.5\n",
      "Test of the hypothesis that 2 factors are sufficient.\n",
      "\n",
      "The degrees of freedom for the null model are  28  and the objective function was  3.156 with Chi Square of  1563.665\n",
      "The degrees of freedom for the model are 13  and the objective function was  0.066 \n",
      "\n",
      "The root mean square of the residuals (RMSR) is  0.025 \n",
      "The df corrected root mean square of the residuals is  0.037 \n",
      "\n",
      "The harmonic number of observations is  500 with the empirical chi square  17.43  with prob <  0.18 \n",
      "The total number of observations was  500  with Likelihood Chi Square =  32.804  with prob <  0.00182 \n",
      "\n",
      "Tucker Lewis Index of factoring reliability =  0.9721\n",
      "RMSEA index =  0.0557  and the 90 % confidence intervals are  0.032 0.0792\n",
      "BIC =  -47.986\n",
      "Fit based upon off diagonal values = 0.996\n",
      "Measures of factor score adequacy             \n",
      "                                                    ML1   ML2\n",
      "Correlation of (regression) scores with factors   0.945 0.848\n",
      "Multiple R square of scores with factors          0.893 0.719\n",
      "Minimum correlation of possible factor scores     0.786 0.438\n"
     ]
    }
   ],
   "source": [
    "#相関行列をもとにした因子負荷の推定(初期解)\n",
    "fa.dkk.cor <- fa(cor.dkk, nfactors=2, fm=\"ml\", rotate=\"none\", n.obs=500)\n",
    "print(fa.dkk.cor, sort=TRUE, digits=3)"
   ]
  },
  {
   "cell_type": "markdown",
   "metadata": {},
   "source": [
    "### 7.4 因子軸の回転"
   ]
  },
  {
   "cell_type": "code",
   "execution_count": 7,
   "metadata": {},
   "outputs": [
    {
     "name": "stdout",
     "output_type": "stream",
     "text": [
      "Factor Analysis using method =  ml\n",
      "Call: fa(r = dkk, nfactors = 2, rotate = \"promax\", fm = \"ml\")\n",
      "Standardized loadings (pattern matrix) based upon correlation matrix\n",
      "   item    ML2    ML1    h2    u2  com\n",
      "I4    4  0.803  0.073 0.588 0.412 1.02\n",
      "I3    3  0.791  0.061 0.577 0.423 1.01\n",
      "I2    2  0.732 -0.035 0.564 0.436 1.00\n",
      "I1    1  0.666 -0.141 0.565 0.435 1.09\n",
      "E3    7  0.013  0.848 0.707 0.293 1.00\n",
      "E2    6 -0.011  0.806 0.660 0.340 1.00\n",
      "E1    5  0.084  0.734 0.479 0.521 1.03\n",
      "E4    8 -0.079  0.402 0.202 0.798 1.08\n",
      "\n",
      "                        ML2   ML1\n",
      "SS loadings           2.253 2.089\n",
      "Proportion Var        0.282 0.261\n",
      "Cumulative Var        0.282 0.543\n",
      "Proportion Explained  0.519 0.481\n",
      "Cumulative Proportion 0.519 1.000\n",
      "\n",
      " With factor correlations of \n",
      "      ML2   ML1\n",
      "ML2  1.00 -0.54\n",
      "ML1 -0.54  1.00\n",
      "\n",
      "Mean item complexity =  1\n",
      "Test of the hypothesis that 2 factors are sufficient.\n",
      "\n",
      "The degrees of freedom for the null model are  28  and the objective function was  3.156 with Chi Square of  1563.665\n",
      "The degrees of freedom for the model are 13  and the objective function was  0.066 \n",
      "\n",
      "The root mean square of the residuals (RMSR) is  0.025 \n",
      "The df corrected root mean square of the residuals is  0.037 \n",
      "\n",
      "The harmonic number of observations is  500 with the empirical chi square  17.43  with prob <  0.18 \n",
      "The total number of observations was  500  with Likelihood Chi Square =  32.804  with prob <  0.00182 \n",
      "\n",
      "Tucker Lewis Index of factoring reliability =  0.9721\n",
      "RMSEA index =  0.0557  and the 90 % confidence intervals are  0.032 0.0792\n",
      "BIC =  -47.986\n",
      "Fit based upon off diagonal values = 0.996\n",
      "Measures of factor score adequacy             \n",
      "                                                    ML2   ML1\n",
      "Correlation of (regression) scores with factors   0.921 0.926\n",
      "Multiple R square of scores with factors          0.849 0.857\n",
      "Minimum correlation of possible factor scores     0.698 0.713\n"
     ]
    }
   ],
   "source": [
    "#因子負荷の推定(プロマックス回転)\n",
    "\n",
    "library(GPArotation)    #プロマックス回転をするためのパッケージGPArotationの読み込み\n",
    "fa.dkk2 <- fa(dkk, nfactors=2, fm=\"ml\", rotate=\"promax\")\n",
    "print(fa.dkk2, sort=TRUE, digits=3)"
   ]
  },
  {
   "cell_type": "markdown",
   "metadata": {},
   "source": [
    "**斜交回転を行った場合, 「因子寄与=(因子ごとの)因子負荷の2乗和」という関係は成り立たなくなる**"
   ]
  },
  {
   "cell_type": "markdown",
   "metadata": {},
   "source": [
    "### 7.6 報告例"
   ]
  },
  {
   "cell_type": "markdown",
   "metadata": {},
   "source": [
    "学習動機づけを測定するための8項目について, 探索的因子分析を行った. まず固有値を求めたところ, 3.761, 1.443, 0.574, 0.519, 0.454, $\\ldots$であり, 値が1以上の固有値の数は2つであった. また, 固有値の減衰状況からは, 2因子解が妥当と考えられた. 次に平行分析を行ったところ, ここでも2因子解が示唆された.\n",
    "以上の結果と, 動機付けは外発的動機付けと内発的動機付けの2つに分けられることが多いことから, 2因子解を探索的因子分析(最尤法・プロマックス回転)を行った. 推定結果を下表に示す.\n",
    "\n",
    "第1因子は「好奇心が満たされるから」や「わかるようになるのがうれしいから」など4項目が高い因子負荷を示しており, 学習自体を目的としていると考えられる項目が集まったことから, 「内発的動機付け」因子と命名した. 第2因子は, 「みんなが勉強しているから」や「勉強することが規則のようなものだから」など4項目が高い因子負荷を示しており, 学習以外のことを目的に学習していることを表す項目が集まったことから, 「外発的動機付け」因子と命名した. また, 2つの因子の間の相関は-.540であり, 内発的動機付けが高い人ほど外発的動機付けは低い傾向にあった. 累積因子寄与率は54.3%であった."
   ]
  },
  {
   "cell_type": "markdown",
   "metadata": {},
   "source": [
    "### 7.7 信頼性の評価\n",
    "因子分析における信頼性係数の推定値として, $\\omega$係数と$\\alpha$係数がある.  \n",
    "$\\omega$係数はより正確な信頼性の推定値になり, $\\alpha$係数は過去の心理学研究でよく報告される係数である."
   ]
  },
  {
   "cell_type": "markdown",
   "metadata": {},
   "source": [
    "#### 7.7.1 $\\alpha$係数 "
   ]
  },
  {
   "cell_type": "code",
   "execution_count": 8,
   "metadata": {},
   "outputs": [
    {
     "data": {
      "text/plain": [
       "\n",
       "Reliability analysis   \n",
       "Call: alpha(x = dkk.nht)\n",
       "\n",
       "  raw_alpha std.alpha G6(smc) average_r S/N   ase mean   sd median_r\n",
       "      0.84      0.84     0.8      0.57 5.2 0.012  2.5 0.62     0.56\n",
       "\n",
       " lower alpha upper     95% confidence boundaries\n",
       "0.82 0.84 0.86 \n",
       "\n",
       " Reliability if an item is dropped:\n",
       "   raw_alpha std.alpha G6(smc) average_r S/N alpha se   var.r med.r\n",
       "I1      0.80      0.80    0.73      0.57 4.0    0.015 0.00086  0.57\n",
       "I2      0.79      0.80    0.73      0.57 3.9    0.016 0.00152  0.57\n",
       "I3      0.79      0.80    0.72      0.57 3.9    0.016 0.00099  0.55\n",
       "I4      0.79      0.79    0.72      0.56 3.8    0.016 0.00165  0.55\n",
       "\n",
       " Item statistics \n",
       "     n raw.r std.r r.cor r.drop mean   sd\n",
       "I1 500  0.81  0.81  0.72   0.66  2.4 0.76\n",
       "I2 500  0.83  0.82  0.73   0.67  2.5 0.78\n",
       "I3 500  0.83  0.82  0.74   0.67  2.6 0.78\n",
       "I4 500  0.82  0.83  0.75   0.68  2.6 0.70\n",
       "\n",
       "Non missing response frequency for each item\n",
       "      1    2    3    4 miss\n",
       "I1 0.09 0.52 0.31 0.08    0\n",
       "I2 0.08 0.49 0.33 0.10    0\n",
       "I3 0.07 0.40 0.41 0.12    0\n",
       "I4 0.03 0.42 0.45 0.09    0"
      ]
     },
     "metadata": {},
     "output_type": "display_data"
    },
    {
     "data": {
      "text/plain": [
       "\n",
       "Reliability analysis   \n",
       "Call: alpha(x = dkk.ght)\n",
       "\n",
       "  raw_alpha std.alpha G6(smc) average_r S/N   ase mean   sd median_r\n",
       "      0.79      0.79    0.76      0.48 3.7 0.015  2.2 0.62     0.47\n",
       "\n",
       " lower alpha upper     95% confidence boundaries\n",
       "0.76 0.79 0.82 \n",
       "\n",
       " Reliability if an item is dropped:\n",
       "   raw_alpha std.alpha G6(smc) average_r S/N alpha se var.r med.r\n",
       "E1      0.72      0.72    0.67      0.46 2.5    0.022 0.041  0.35\n",
       "E2      0.70      0.70    0.62      0.44 2.3    0.023 0.013  0.39\n",
       "E3      0.69      0.69    0.61      0.42 2.2    0.024 0.013  0.39\n",
       "E4      0.82      0.82    0.76      0.60 4.6    0.014 0.006  0.57\n",
       "\n",
       " Item statistics \n",
       "     n raw.r std.r r.cor r.drop mean   sd\n",
       "E1 500  0.81  0.80  0.70   0.63  2.1 0.82\n",
       "E2 500  0.83  0.82  0.77   0.67  2.2 0.80\n",
       "E3 500  0.84  0.84  0.79   0.69  2.2 0.80\n",
       "E4 500  0.65  0.66  0.46   0.42  2.4 0.76\n",
       "\n",
       "Non missing response frequency for each item\n",
       "      1    2    3    4 miss\n",
       "E1 0.25 0.43 0.28 0.04    0\n",
       "E2 0.22 0.44 0.31 0.03    0\n",
       "E3 0.21 0.45 0.30 0.04    0\n",
       "E4 0.12 0.41 0.42 0.05    0"
      ]
     },
     "metadata": {},
     "output_type": "display_data"
    }
   ],
   "source": [
    "#α係数の算出\n",
    "#library(psych)\n",
    "\n",
    "#内発的動機付けの因子の抽出\n",
    "dkk.nht <- dkk[, c(\"I1\", \"I2\", \"I3\", \"I4\")]\n",
    "alpha(dkk.nht)    #パッケージpsychのalphaによる尺度のα係数の算出\n",
    "\n",
    "#外発的動機付けの因子の算出\n",
    "dkk.ght <- dkk[, c(\"E1\", \"E2\", \"E3\", \"E4\")]\n",
    "alpha(dkk.ght)"
   ]
  },
  {
   "cell_type": "markdown",
   "metadata": {},
   "source": [
    "$\\alpha$係数は下位尺度ごとに求めるのが一般的.  \n",
    "```raw_alpha```の値が$\\alpha$係数の値.  \n",
    "**$\\alpha$係数の最大値は1であり, 一般に0.8以上であれば信頼性が高いと判断される(尾崎・荘島, 2014など).**  \n",
    "```Reliability if an item is dropped:```は, 当該変数を除外したときの$\\alpha$係数の値が示されている."
   ]
  },
  {
   "cell_type": "markdown",
   "metadata": {},
   "source": [
    "#### 7.7.2 $\\omega$係数"
   ]
  },
  {
   "cell_type": "code",
   "execution_count": 9,
   "metadata": {},
   "outputs": [
    {
     "name": "stderr",
     "output_type": "stream",
     "text": [
      "Omega_h for 1 factor is not meaningful, just omega_t\n",
      "Warning message in schmid(m, nfactors, fm, digits, rotate = rotate, n.obs = n.obs, :\n",
      "\"Omega_h and Omega_asymptotic are not meaningful with one factor\"Warning message in cov2cor(t(w) %*% r %*% w):\n",
      "\"diag(.) had 0 or NA entries; non-finite result is doubtful\""
     ]
    },
    {
     "data": {
      "text/plain": [
       "Omega \n",
       "Call: omega(m = dkk.nht, nfactors = 1)\n",
       "Alpha:                 0.84 \n",
       "G.6:                   0.8 \n",
       "Omega Hierarchical:    0.84 \n",
       "Omega H asymptotic:    1 \n",
       "Omega Total            0.84 \n",
       "\n",
       "Schmid Leiman Factor loadings greater than  0.2 \n",
       "      g  F1*   h2   u2 p2\n",
       "I1 0.74      0.54 0.46  1\n",
       "I2 0.75      0.56 0.44  1\n",
       "I3 0.76      0.57 0.43  1\n",
       "I4 0.77      0.59 0.41  1\n",
       "\n",
       "With eigenvalues of:\n",
       "  g F1* \n",
       "2.3 0.0 \n",
       "\n",
       "general/max  Inf   max/min =   NaN\n",
       "mean percent general =  1    with sd =  0 and cv of  0 \n",
       "Explained Common Variance of the general factor =  1 \n",
       "\n",
       "The degrees of freedom are 2  and the fit is  0.02 \n",
       "The number of observations was  500  with Chi Square =  12.25  with prob <  0.0022\n",
       "The root mean square of the residuals is  0.03 \n",
       "The df corrected root mean square of the residuals is  0.05\n",
       "RMSEA index =  0.102  and the 10 % confidence intervals are  0.052 0.159\n",
       "BIC =  -0.18\n",
       "\n",
       "Compare this with the adequacy of just a general factor and no group factors\n",
       "The degrees of freedom for just the general factor are 2  and the fit is  0.02 \n",
       "The number of observations was  500  with Chi Square =  12.25  with prob <  0.0022\n",
       "The root mean square of the residuals is  0.03 \n",
       "The df corrected root mean square of the residuals is  0.05 \n",
       "\n",
       "RMSEA index =  0.102  and the 10 % confidence intervals are  0.052 0.159\n",
       "BIC =  -0.18 \n",
       "\n",
       "Measures of factor score adequacy             \n",
       "                                                 g F1*\n",
       "Correlation of scores with factors            0.92   0\n",
       "Multiple R square of scores with factors      0.84   0\n",
       "Minimum correlation of factor score estimates 0.68  -1\n",
       "\n",
       " Total, General and Subset omega for each subset\n",
       "                                                 g  F1*\n",
       "Omega total for total scores and subscales    0.84 0.84\n",
       "Omega general for total scores and subscales  0.84 0.84\n",
       "Omega group for total scores and subscales    0.00 0.00"
      ]
     },
     "metadata": {},
     "output_type": "display_data"
    },
    {
     "name": "stderr",
     "output_type": "stream",
     "text": [
      "Omega_h for 1 factor is not meaningful, just omega_t\n",
      "Warning message in schmid(m, nfactors, fm, digits, rotate = rotate, n.obs = n.obs, :\n",
      "\"Omega_h and Omega_asymptotic are not meaningful with one factor\"Warning message in cov2cor(t(w) %*% r %*% w):\n",
      "\"diag(.) had 0 or NA entries; non-finite result is doubtful\""
     ]
    },
    {
     "data": {
      "text/plain": [
       "Omega \n",
       "Call: omega(m = dkk.ght, nfactors = 1)\n",
       "Alpha:                 0.79 \n",
       "G.6:                   0.76 \n",
       "Omega Hierarchical:    0.8 \n",
       "Omega H asymptotic:    1 \n",
       "Omega Total            0.8 \n",
       "\n",
       "Schmid Leiman Factor loadings greater than  0.2 \n",
       "      g  F1*   h2   u2 p2\n",
       "E1 0.71      0.50 0.50  1\n",
       "E2 0.80      0.64 0.36  1\n",
       "E3 0.83      0.69 0.31  1\n",
       "E4 0.46      0.21 0.79  1\n",
       "\n",
       "With eigenvalues of:\n",
       "  g F1* \n",
       "  2   0 \n",
       "\n",
       "general/max  Inf   max/min =   NaN\n",
       "mean percent general =  1    with sd =  0 and cv of  0 \n",
       "Explained Common Variance of the general factor =  1 \n",
       "\n",
       "The degrees of freedom are 2  and the fit is  0.03 \n",
       "The number of observations was  500  with Chi Square =  13.35  with prob <  0.0013\n",
       "The root mean square of the residuals is  0.04 \n",
       "The df corrected root mean square of the residuals is  0.06\n",
       "RMSEA index =  0.107  and the 10 % confidence intervals are  0.057 0.164\n",
       "BIC =  0.92\n",
       "\n",
       "Compare this with the adequacy of just a general factor and no group factors\n",
       "The degrees of freedom for just the general factor are 2  and the fit is  0.03 \n",
       "The number of observations was  500  with Chi Square =  13.35  with prob <  0.0013\n",
       "The root mean square of the residuals is  0.04 \n",
       "The df corrected root mean square of the residuals is  0.06 \n",
       "\n",
       "RMSEA index =  0.107  and the 10 % confidence intervals are  0.057 0.164\n",
       "BIC =  0.92 \n",
       "\n",
       "Measures of factor score adequacy             \n",
       "                                                 g F1*\n",
       "Correlation of scores with factors            0.92   0\n",
       "Multiple R square of scores with factors      0.84   0\n",
       "Minimum correlation of factor score estimates 0.68  -1\n",
       "\n",
       " Total, General and Subset omega for each subset\n",
       "                                                g F1*\n",
       "Omega total for total scores and subscales    0.8 0.8\n",
       "Omega general for total scores and subscales  0.8 0.8\n",
       "Omega group for total scores and subscales    0.0 0.0"
      ]
     },
     "metadata": {},
     "output_type": "display_data"
    }
   ],
   "source": [
    "#ω係数の算出\n",
    "#library(psych)\n",
    "\n",
    "omega(dkk.nht, nfactors=1)\n",
    "omega(dkk.ght, nfactors=1)"
   ]
  },
  {
   "cell_type": "markdown",
   "metadata": {},
   "source": [
    "岡田(2011)のシミュレーションでは, $\\alpha$係数や他の$\\omega$係数と比較して, 群因子数を1としたときの$\\omega_t$(omega total)のバイアスが小さいことが示されており, ```Omega Total```の値を$\\omega$係数として参照している."
   ]
  },
  {
   "cell_type": "markdown",
   "metadata": {},
   "source": [
    "### 7.8 順序カテゴリカル変数の探索的因子分析と信頼性の評価"
   ]
  },
  {
   "cell_type": "markdown",
   "metadata": {},
   "source": [
    "#### 7.8.1 データ概要(中学生300人の数学テストデータを例に)\n",
    "- 対象: 中学生300人\n",
    "- 項目: 数学のテストの10問の回答があり, 「0 = 誤答」「1 = 正答」でコーディング"
   ]
  },
  {
   "cell_type": "code",
   "execution_count": 10,
   "metadata": {},
   "outputs": [
    {
     "data": {
      "text/html": [
       "<table>\n",
       "<thead><tr><th scope=col>math1</th><th scope=col>math2</th><th scope=col>math3</th><th scope=col>math4</th><th scope=col>math5</th><th scope=col>math6</th><th scope=col>math7</th><th scope=col>math8</th><th scope=col>math9</th><th scope=col>math10</th></tr></thead>\n",
       "<tbody>\n",
       "\t<tr><td>1</td><td>0</td><td>1</td><td>1</td><td>1</td><td>0</td><td>0</td><td>0</td><td>0</td><td>0</td></tr>\n",
       "\t<tr><td>1</td><td>0</td><td>0</td><td>1</td><td>0</td><td>1</td><td>0</td><td>1</td><td>0</td><td>1</td></tr>\n",
       "\t<tr><td>1</td><td>1</td><td>0</td><td>1</td><td>1</td><td>0</td><td>0</td><td>0</td><td>0</td><td>0</td></tr>\n",
       "\t<tr><td>1</td><td>1</td><td>1</td><td>1</td><td>1</td><td>1</td><td>0</td><td>1</td><td>1</td><td>1</td></tr>\n",
       "\t<tr><td>0</td><td>0</td><td>0</td><td>0</td><td>0</td><td>0</td><td>0</td><td>1</td><td>0</td><td>0</td></tr>\n",
       "\t<tr><td>0</td><td>0</td><td>0</td><td>0</td><td>0</td><td>0</td><td>0</td><td>1</td><td>1</td><td>0</td></tr>\n",
       "</tbody>\n",
       "</table>\n"
      ],
      "text/latex": [
       "\\begin{tabular}{r|llllllllll}\n",
       " math1 & math2 & math3 & math4 & math5 & math6 & math7 & math8 & math9 & math10\\\\\n",
       "\\hline\n",
       "\t 1 & 0 & 1 & 1 & 1 & 0 & 0 & 0 & 0 & 0\\\\\n",
       "\t 1 & 0 & 0 & 1 & 0 & 1 & 0 & 1 & 0 & 1\\\\\n",
       "\t 1 & 1 & 0 & 1 & 1 & 0 & 0 & 0 & 0 & 0\\\\\n",
       "\t 1 & 1 & 1 & 1 & 1 & 1 & 0 & 1 & 1 & 1\\\\\n",
       "\t 0 & 0 & 0 & 0 & 0 & 0 & 0 & 1 & 0 & 0\\\\\n",
       "\t 0 & 0 & 0 & 0 & 0 & 0 & 0 & 1 & 1 & 0\\\\\n",
       "\\end{tabular}\n"
      ],
      "text/markdown": [
       "\n",
       "math1 | math2 | math3 | math4 | math5 | math6 | math7 | math8 | math9 | math10 | \n",
       "|---|---|---|---|---|---|\n",
       "| 1 | 0 | 1 | 1 | 1 | 0 | 0 | 0 | 0 | 0 | \n",
       "| 1 | 0 | 0 | 1 | 0 | 1 | 0 | 1 | 0 | 1 | \n",
       "| 1 | 1 | 0 | 1 | 1 | 0 | 0 | 0 | 0 | 0 | \n",
       "| 1 | 1 | 1 | 1 | 1 | 1 | 0 | 1 | 1 | 1 | \n",
       "| 0 | 0 | 0 | 0 | 0 | 0 | 0 | 1 | 0 | 0 | \n",
       "| 0 | 0 | 0 | 0 | 0 | 0 | 0 | 1 | 1 | 0 | \n",
       "\n",
       "\n"
      ],
      "text/plain": [
       "  math1 math2 math3 math4 math5 math6 math7 math8 math9 math10\n",
       "1 1     0     1     1     1     0     0     0     0     0     \n",
       "2 1     0     0     1     0     1     0     1     0     1     \n",
       "3 1     1     0     1     1     0     0     0     0     0     \n",
       "4 1     1     1     1     1     1     0     1     1     1     \n",
       "5 0     0     0     0     0     0     0     1     0     0     \n",
       "6 0     0     0     0     0     0     0     1     1     0     "
      ]
     },
     "metadata": {},
     "output_type": "display_data"
    }
   ],
   "source": [
    "#データの読み込み\n",
    "\n",
    "math <- read.csv(\"https://raw.githubusercontent.com/gndb3168/Renshu_data/master/R_MA/Sec_07/math_test.csv\")\n",
    "head(math)"
   ]
  },
  {
   "cell_type": "markdown",
   "metadata": {},
   "source": [
    "#### 7.8.2 順序カテゴリカル変数を扱った探索的因子分析\n",
    "プロセスは通常の探索的因子分析と同様であるが, 変数の種類によって相関係数の算出の仕方が異なる(ポリコリック相関係数など)."
   ]
  },
  {
   "cell_type": "code",
   "execution_count": 11,
   "metadata": {},
   "outputs": [
    {
     "data": {
      "text/plain": [
       "eigen() decomposition\n",
       "$values\n",
       " [1] 6.72455979 1.03182662 0.52212413 0.47629035 0.40562141 0.28848683\n",
       " [7] 0.22278639 0.14818743 0.11671273 0.06340432\n",
       "\n",
       "$vectors\n",
       "            [,1]       [,2]        [,3]        [,4]        [,5]        [,6]\n",
       " [1,] -0.2957072 -0.3276082  0.22516311 -0.57435053  0.18074382 -0.58673421\n",
       " [2,] -0.3029994 -0.4054682  0.37147988  0.11804433  0.12374073  0.40684071\n",
       " [3,] -0.3183958 -0.2426510 -0.05563147 -0.38615432 -0.37148343  0.48857678\n",
       " [4,] -0.2958988 -0.3520125 -0.06092584  0.55783224  0.46544593 -0.03302337\n",
       " [5,] -0.3080954 -0.2754694 -0.40498742  0.23015763 -0.54034390 -0.29954891\n",
       " [6,] -0.2961184  0.2324548 -0.57268458 -0.32658208  0.49257458  0.25510241\n",
       " [7,] -0.3496602  0.2063621 -0.15434307  0.12565919 -0.17943911  0.02310166\n",
       " [8,] -0.3318567  0.4000756  0.18248272  0.09825377 -0.14891956  0.01973490\n",
       " [9,] -0.3119933  0.3584781  0.50399003  0.01871979 -0.02571018  0.03872937\n",
       "[10,] -0.3456541  0.2905257 -0.03724707  0.10233370  0.08799072 -0.30528001\n",
       "             [,7]        [,8]        [,9]       [,10]\n",
       " [1,]  0.04748266  0.11602033 -0.10276335  0.14646575\n",
       " [2,]  0.58058612 -0.02038746  0.09880648 -0.25251816\n",
       " [3,] -0.45129984 -0.26488282 -0.19089285  0.02351275\n",
       " [4,] -0.41977366 -0.01534202 -0.11455008  0.25757493\n",
       " [5,]  0.10542124  0.06299589  0.46411357 -0.00467729\n",
       " [6,]  0.12273077  0.09573966  0.30119839  0.03160397\n",
       " [7,]  0.12068997  0.59658425 -0.61043571 -0.14034869\n",
       " [8,]  0.28966482 -0.29847336 -0.05120798  0.69905372\n",
       " [9,] -0.39475245  0.33901904  0.47335008 -0.15103830\n",
       "[10,] -0.01749109 -0.58536976 -0.15709546 -0.56185191\n"
      ]
     },
     "metadata": {},
     "output_type": "display_data"
    },
    {
     "data": {
      "image/png": "[encoded data removed]",
      "text/plain": [
       "Plot with title \"scree plot\""
      ]
     },
     "metadata": {},
     "output_type": "display_data"
    },
    {
     "name": "stdout",
     "output_type": "stream",
     "text": [
      "Parallel analysis suggests that the number of factors =  NA  and the number of components =  1 \n"
     ]
    },
    {
     "data": {
      "image/png": "[encoded data removed]",
      "text/plain": [
       "Plot with title \"Parallel Analysis Scree Plots\""
      ]
     },
     "metadata": {},
     "output_type": "display_data"
    }
   ],
   "source": [
    "#因子数の決定\n",
    "#library(psych)    ポリコリック相関係数を求めるpolychoricを用いるのに必要\n",
    "\n",
    "cor.math <- polychoric(math)$rho    #$rhoを付与することで三角行列ではなく対称行列でオブジェクトを保存することが出来る\n",
    "eigen(cor.math)                     #固有値の算出(ガットマン基準)\n",
    "VSS.scree(cor.math)                 #スクリープロットの出力\n",
    "fa.parallel(cor.math, fm=\"ml\", fa=\"pc\", n.iter=100, n.obs=300)    #平行分析"
   ]
  },
  {
   "cell_type": "code",
   "execution_count": 12,
   "metadata": {},
   "outputs": [
    {
     "name": "stdout",
     "output_type": "stream",
     "text": [
      "\n",
      "Factor Analysis using method =  ml\n",
      "Call: fa.poly(x = math, nfactors = 1, fm = \"ml\")\n",
      "Standardized loadings (pattern matrix) based upon correlation matrix\n",
      "        V   ML1    h2    u2 com\n",
      "math10 10 0.923 0.852 0.148   1\n",
      "math7   7 0.921 0.849 0.151   1\n",
      "math8   8 0.904 0.817 0.183   1\n",
      "math9   9 0.831 0.690 0.310   1\n",
      "math6   6 0.758 0.574 0.426   1\n",
      "math3   3 0.746 0.556 0.444   1\n",
      "math5   5 0.735 0.540 0.460   1\n",
      "math2   2 0.689 0.474 0.526   1\n",
      "math4   4 0.683 0.467 0.533   1\n",
      "math1   1 0.675 0.455 0.545   1\n",
      "\n",
      "                 ML1\n",
      "SS loadings    6.275\n",
      "Proportion Var 0.627\n",
      "\n",
      "Mean item complexity =  1\n",
      "Test of the hypothesis that 1 factor is sufficient.\n",
      "\n",
      "The degrees of freedom for the null model are  45  and the objective function was  9.917 with Chi Square of  2923.863\n",
      "The degrees of freedom for the model are 35  and the objective function was  2.161 \n",
      "\n",
      "The root mean square of the residuals (RMSR) is  0.096 \n",
      "The df corrected root mean square of the residuals is  0.109 \n",
      "\n",
      "The harmonic number of observations is  300 with the empirical chi square  247.427  with prob <  8.43e-34 \n",
      "The total number of observations was  300  with Likelihood Chi Square =  635.717  with prob <  2.15e-111 \n",
      "\n",
      "Tucker Lewis Index of factoring reliability =  0.7311\n",
      "RMSEA index =  0.2417  and the 90 % confidence intervals are  0.2235 0.2561\n",
      "BIC =  436.084\n",
      "Fit based upon off diagonal values = 0.978\n",
      "Measures of factor score adequacy             \n",
      "                                                    ML1\n",
      "Correlation of (regression) scores with factors   0.980\n",
      "Multiple R square of scores with factors          0.961\n",
      "Minimum correlation of possible factor scores     0.921\n"
     ]
    }
   ],
   "source": [
    "#因子負荷の推定(データが全て順序カテゴリカル変数の場合)\n",
    "\n",
    "fa.math <- fa.poly(math, nfactors=1, fm=\"ml\")\n",
    "print(fa.math, sort=TRUE, digits=3)"
   ]
  },
  {
   "cell_type": "markdown",
   "metadata": {},
   "source": [
    "#### 7.8.3 信頼性の評価\n",
    "順序カテゴリカル変数について$\\alpha$係数や$\\omega$係数の算出するためには, 引数にポリコリック相関行列を指定する."
   ]
  },
  {
   "cell_type": "code",
   "execution_count": 13,
   "metadata": {},
   "outputs": [
    {
     "data": {
      "text/plain": [
       "\n",
       "Reliability analysis   \n",
       "Call: alpha(x = cor.math, n.obs = 300)\n",
       "\n",
       "  raw_alpha std.alpha G6(smc) average_r S/N    ase median_r\n",
       "      0.95      0.95    0.96      0.63  17 0.0048     0.61\n",
       "\n",
       " lower alpha upper     95% confidence boundaries\n",
       "0.94 0.95 0.95 \n",
       "\n",
       " Reliability if an item is dropped:\n",
       "       raw_alpha std.alpha G6(smc) average_r S/N alpha se  var.r med.r\n",
       "math1       0.94      0.94    0.96      0.64  16   0.0051 0.0128  0.62\n",
       "math2       0.94      0.94    0.95      0.64  16   0.0052 0.0123  0.61\n",
       "math3       0.94      0.94    0.96      0.63  15   0.0054 0.0136  0.60\n",
       "math4       0.94      0.94    0.96      0.64  16   0.0051 0.0123  0.61\n",
       "math5       0.94      0.94    0.96      0.64  16   0.0053 0.0125  0.60\n",
       "math6       0.94      0.94    0.96      0.65  16   0.0051 0.0114  0.62\n",
       "math7       0.93      0.93    0.95      0.61  14   0.0058 0.0103  0.59\n",
       "math8       0.94      0.94    0.95      0.63  15   0.0055 0.0086  0.61\n",
       "math9       0.94      0.94    0.96      0.64  16   0.0053 0.0099  0.62\n",
       "math10      0.94      0.94    0.95      0.62  14   0.0057 0.0098  0.59\n",
       "\n",
       " Item statistics \n",
       "          r r.cor r.drop\n",
       "math1  0.77  0.74   0.72\n",
       "math2  0.79  0.77   0.74\n",
       "math3  0.83  0.81   0.78\n",
       "math4  0.77  0.75   0.72\n",
       "math5  0.80  0.78   0.75\n",
       "math6  0.77  0.74   0.71\n",
       "math7  0.90  0.90   0.87\n",
       "math8  0.85  0.86   0.81\n",
       "math9  0.80  0.79   0.75\n",
       "math10 0.89  0.89   0.86"
      ]
     },
     "metadata": {},
     "output_type": "display_data"
    },
    {
     "name": "stderr",
     "output_type": "stream",
     "text": [
      "Omega_h for 1 factor is not meaningful, just omega_t\n",
      "Warning message in schmid(m, nfactors, fm, digits, rotate = rotate, n.obs = n.obs, :\n",
      "\"Omega_h and Omega_asymptotic are not meaningful with one factor\"Warning message in cov2cor(t(w) %*% r %*% w):\n",
      "\"diag(.) had 0 or NA entries; non-finite result is doubtful\""
     ]
    },
    {
     "data": {
      "text/plain": [
       "Omega \n",
       "Call: omega(m = cor.math, nfactors = 1, n.obs = 300)\n",
       "Alpha:                 0.95 \n",
       "G.6:                   0.96 \n",
       "Omega Hierarchical:    0.95 \n",
       "Omega H asymptotic:    1 \n",
       "Omega Total            0.95 \n",
       "\n",
       "Schmid Leiman Factor loadings greater than  0.2 \n",
       "          g  F1*   h2   u2 p2\n",
       "math1  0.73      0.54 0.46  1\n",
       "math2  0.75      0.57 0.43  1\n",
       "math3  0.80      0.64 0.36  1\n",
       "math4  0.73      0.54 0.46  1\n",
       "math5  0.77      0.59 0.41  1\n",
       "math6  0.74      0.54 0.46  1\n",
       "math7  0.91      0.82 0.18  1\n",
       "math8  0.85      0.72 0.28  1\n",
       "math9  0.78      0.62 0.38  1\n",
       "math10 0.89      0.80 0.20  1\n",
       "\n",
       "With eigenvalues of:\n",
       "  g F1* \n",
       "6.4 0.0 \n",
       "\n",
       "general/max  Inf   max/min =   NaN\n",
       "mean percent general =  1    with sd =  0 and cv of  0 \n",
       "Explained Common Variance of the general factor =  1 \n",
       "\n",
       "The degrees of freedom are 35  and the fit is  2.28 \n",
       "The number of observations was  300  with Chi Square =  670.7  with prob <  1.3e-118\n",
       "The root mean square of the residuals is  0.08 \n",
       "The df corrected root mean square of the residuals is  0.09\n",
       "RMSEA index =  0.249  and the 10 % confidence intervals are  0.23 0.263\n",
       "BIC =  471.07\n",
       "\n",
       "Compare this with the adequacy of just a general factor and no group factors\n",
       "The degrees of freedom for just the general factor are 35  and the fit is  2.28 \n",
       "The number of observations was  300  with Chi Square =  670.7  with prob <  1.3e-118\n",
       "The root mean square of the residuals is  0.08 \n",
       "The df corrected root mean square of the residuals is  0.09 \n",
       "\n",
       "RMSEA index =  0.249  and the 10 % confidence intervals are  0.23 0.263\n",
       "BIC =  471.07 \n",
       "\n",
       "Measures of factor score adequacy             \n",
       "                                                 g F1*\n",
       "Correlation of scores with factors            0.98   0\n",
       "Multiple R square of scores with factors      0.96   0\n",
       "Minimum correlation of factor score estimates 0.91  -1\n",
       "\n",
       " Total, General and Subset omega for each subset\n",
       "                                                 g  F1*\n",
       "Omega total for total scores and subscales    0.95 0.95\n",
       "Omega general for total scores and subscales  0.95 0.95\n",
       "Omega group for total scores and subscales    0.00 0.00"
      ]
     },
     "metadata": {},
     "output_type": "display_data"
    }
   ],
   "source": [
    "#α係数とω係数の算出\n",
    "#library(psych)\n",
    "\n",
    "alpha(cor.math, n.obs=300)\n",
    "omega(cor.math, nfactors=1, n.obs=300)"
   ]
  },
  {
   "cell_type": "code",
   "execution_count": null,
   "metadata": {},
   "outputs": [],
   "source": []
  }
 ],
 "metadata": {
  "kernelspec": {
   "display_name": "R",
   "language": "R",
   "name": "ir"
  },
  "language_info": {
   "codemirror_mode": "r",
   "file_extension": ".r",
   "mimetype": "text/x-r-source",
   "name": "R",
   "pygments_lexer": "r",
   "version": "3.5.1"
  },
  "latex_envs": {
   "LaTeX_envs_menu_present": true,
   "autoclose": false,
   "autocomplete": true,
   "bibliofile": "biblio.bib",
   "cite_by": "apalike",
   "current_citInitial": 1,
   "eqLabelWithNumbers": true,
   "eqNumInitial": 1,
   "hotkeys": {
    "equation": "Ctrl-E",
    "itemize": "Ctrl-I"
   },
   "labels_anchors": false,
   "latex_user_defs": false,
   "report_style_numbering": false,
   "user_envs_cfg": false
  }
 },
 "nbformat": 4,
 "nbformat_minor": 2
}
