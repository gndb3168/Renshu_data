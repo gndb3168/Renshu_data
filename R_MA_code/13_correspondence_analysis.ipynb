{
 "cells": [
  {
   "cell_type": "markdown",
   "metadata": {},
   "source": [
    "## 第13章 質的変数間の連関を視覚化したい -コレスポンデンス分析"
   ]
  },
  {
   "cell_type": "markdown",
   "metadata": {},
   "source": [
    "- 多数の質的変数の連関について大まかに把握したい場合に有効  \n",
    "- クロス集計表において, 両変数のカテゴリ間の対応関係を視覚的に把握\n",
    "- 2重クロス集計表に適用する手法をコレスポンデンス分析(CA)\n",
    "- カテゴリカルデータ行列や多重クロス集計表に適用する手法を多重コレスポンデンス分析(MCA)"
   ]
  },
  {
   "cell_type": "markdown",
   "metadata": {},
   "source": [
    "#### コレスポンデンス分析の特徴(対数線形モデルの比較して)\n",
    "- 出力が視覚的に与えられることで, 考察したい変数が増えても直感的に理解しやすい\n",
    "- 考察が主観的になりやすい\n",
    "- 変数間の連関構造の探索に有効"
   ]
  },
  {
   "cell_type": "markdown",
   "metadata": {},
   "source": [
    "#### 分析の流れ\n",
    "1. 分析手法の選択(多重 or not)\n",
    "2. 分析の実行と次元の確認\n",
    "3. バイプロットの描画と選択"
   ]
  },
  {
   "cell_type": "code",
   "execution_count": 1,
   "metadata": {},
   "outputs": [
    {
     "data": {
      "text/html": [
       "<table>\n",
       "<thead><tr><th scope=col>メーカー</th><th scope=col>ブランド力</th><th scope=col>コスパ</th><th scope=col>技術力</th><th scope=col>レース実績</th><th scope=col>デザイン</th></tr></thead>\n",
       "<tbody>\n",
       "\t<tr><td>イシドロ</td><td>D       </td><td>B       </td><td>A       </td><td>C       </td><td>D       </td></tr>\n",
       "\t<tr><td>イシドロ</td><td>D       </td><td>A       </td><td>D       </td><td>C       </td><td>D       </td></tr>\n",
       "\t<tr><td>ピロリロ</td><td>B       </td><td>D       </td><td>B       </td><td>C       </td><td>A       </td></tr>\n",
       "\t<tr><td>ピロリロ</td><td>C       </td><td>D       </td><td>B       </td><td>B       </td><td>C       </td></tr>\n",
       "\t<tr><td>デロンザ</td><td>B       </td><td>C       </td><td>C       </td><td>C       </td><td>B       </td></tr>\n",
       "\t<tr><td>デロンザ</td><td>C       </td><td>C       </td><td>C       </td><td>C       </td><td>C       </td></tr>\n",
       "</tbody>\n",
       "</table>\n"
      ],
      "text/latex": [
       "\\begin{tabular}{r|llllll}\n",
       " メーカー & ブランド力 & コスパ & 技術力 & レース実績 & デザイン\\\\\n",
       "\\hline\n",
       "\t イシドロ & D        & B        & A        & C        & D       \\\\\n",
       "\t イシドロ & D        & A        & D        & C        & D       \\\\\n",
       "\t ピロリロ & B        & D        & B        & C        & A       \\\\\n",
       "\t ピロリロ & C        & D        & B        & B        & C       \\\\\n",
       "\t デロンザ & B        & C        & C        & C        & B       \\\\\n",
       "\t デロンザ & C        & C        & C        & C        & C       \\\\\n",
       "\\end{tabular}\n"
      ],
      "text/markdown": [
       "\n",
       "メーカー | ブランド力 | コスパ | 技術力 | レース実績 | デザイン | \n",
       "|---|---|---|---|---|---|\n",
       "| イシドロ | D        | B        | A        | C        | D        | \n",
       "| イシドロ | D        | A        | D        | C        | D        | \n",
       "| ピロリロ | B        | D        | B        | C        | A        | \n",
       "| ピロリロ | C        | D        | B        | B        | C        | \n",
       "| デロンザ | B        | C        | C        | C        | B        | \n",
       "| デロンザ | C        | C        | C        | C        | C        | \n",
       "\n",
       "\n"
      ],
      "text/plain": [
       "  メーカー ブランド力 コスパ 技術力 レース実績 デザイン\n",
       "1 イシドロ D          B      A      C          D       \n",
       "2 イシドロ D          A      D      C          D       \n",
       "3 ピロリロ B          D      B      C          A       \n",
       "4 ピロリロ C          D      B      B          C       \n",
       "5 デロンザ B          C      C      C          B       \n",
       "6 デロンザ C          C      C      C          C       "
      ]
     },
     "metadata": {},
     "output_type": "display_data"
    }
   ],
   "source": [
    "#データ概要\n",
    "\n",
    "b3dat <- read.csv(\"https://raw.githubusercontent.com/gndb3168/Renshu_data/master/R_MA/Sec_13/bicycle3.csv\", row.names=1)\n",
    "head(b3dat)"
   ]
  },
  {
   "cell_type": "markdown",
   "metadata": {},
   "source": [
    "Aに近いほど評価が高く, Dに近いほど評価が低いことを示す."
   ]
  },
  {
   "cell_type": "code",
   "execution_count": 2,
   "metadata": {},
   "outputs": [
    {
     "data": {
      "text/plain": [
       ", , 技術力 = A\n",
       "\n",
       "          ブランド力\n",
       "メーカー    A  B  C  D\n",
       "  イシドロ  3  3  4 12\n",
       "  クォーク  1  4  8 15\n",
       "  コレナゴ  2  0  0  0\n",
       "  チネッロ  3  0  0  0\n",
       "  デロンザ  0  0  0  1\n",
       "  ビアンカ  2  2  0  0\n",
       "  ピロリロ  1  6  2  2\n",
       "\n",
       ", , 技術力 = B\n",
       "\n",
       "          ブランド力\n",
       "メーカー    A  B  C  D\n",
       "  イシドロ  1  0  3  4\n",
       "  クォーク  2  1  3  4\n",
       "  コレナゴ  9  8  1  1\n",
       "  チネッロ  3  1  1  0\n",
       "  デロンザ  3  6  3  0\n",
       "  ビアンカ  2  3  1  2\n",
       "  ピロリロ  6 16  3  3\n",
       "\n",
       ", , 技術力 = C\n",
       "\n",
       "          ブランド力\n",
       "メーカー    A  B  C  D\n",
       "  イシドロ  0  1  0  1\n",
       "  クォーク  0  0  1  4\n",
       "  コレナゴ  9  0  1  0\n",
       "  チネッロ  5  5  0  0\n",
       "  デロンザ 15  6  3  1\n",
       "  ビアンカ  7 15  3  2\n",
       "  ピロリロ  0  2  0  1\n",
       "\n",
       ", , 技術力 = D\n",
       "\n",
       "          ブランド力\n",
       "メーカー    A  B  C  D\n",
       "  イシドロ  1  0  0  3\n",
       "  クォーク  0  3  0  6\n",
       "  コレナゴ  3  2  0  1\n",
       "  チネッロ 15  6  1  3\n",
       "  デロンザ  2  0  1  0\n",
       "  ビアンカ  0  3  2  1\n",
       "  ピロリロ  0  2  2  0\n"
      ]
     },
     "metadata": {},
     "output_type": "display_data"
    }
   ],
   "source": [
    "#「メーカー」「ブランド力」「技術力」の3重クロス集計表\n",
    "xtabs(~メーカー+ブランド力+技術力, data=b3dat)"
   ]
  },
  {
   "cell_type": "markdown",
   "metadata": {},
   "source": [
    "### 13.2 コレスポンデンス分析"
   ]
  },
  {
   "cell_type": "code",
   "execution_count": 3,
   "metadata": {},
   "outputs": [
    {
     "data": {
      "text/html": [
       "<table>\n",
       "<thead><tr><th></th><th scope=col>ブランド力</th><th scope=col>コスパ</th><th scope=col>技術力</th><th scope=col>レース実績</th><th scope=col>デザイン</th></tr></thead>\n",
       "<tbody>\n",
       "\t<tr><th scope=row>コレナゴ</th><td>41</td><td>11</td><td>67</td><td>51</td><td>54</td></tr>\n",
       "\t<tr><th scope=row>デロンザ</th><td>84</td><td>21</td><td>54</td><td>23</td><td>82</td></tr>\n",
       "\t<tr><th scope=row>ピロリロ</th><td>54</td><td>32</td><td>72</td><td>83</td><td>42</td></tr>\n",
       "\t<tr><th scope=row>ビアンカ</th><td>32</td><td>43</td><td>42</td><td>34</td><td>92</td></tr>\n",
       "</tbody>\n",
       "</table>\n"
      ],
      "text/latex": [
       "\\begin{tabular}{r|lllll}\n",
       "  & ブランド力 & コスパ & 技術力 & レース実績 & デザイン\\\\\n",
       "\\hline\n",
       "\tコレナゴ & 41 & 11 & 67 & 51 & 54\\\\\n",
       "\tデロンザ & 84 & 21 & 54 & 23 & 82\\\\\n",
       "\tピロリロ & 54 & 32 & 72 & 83 & 42\\\\\n",
       "\tビアンカ & 32 & 43 & 42 & 34 & 92\\\\\n",
       "\\end{tabular}\n"
      ],
      "text/markdown": [
       "\n",
       "| <!--/--> | ブランド力 | コスパ | 技術力 | レース実績 | デザイン | \n",
       "|---|---|---|---|\n",
       "| コレナゴ | 41 | 11 | 67 | 51 | 54 | \n",
       "| デロンザ | 84 | 21 | 54 | 23 | 82 | \n",
       "| ピロリロ | 54 | 32 | 72 | 83 | 42 | \n",
       "| ビアンカ | 32 | 43 | 42 | 34 | 92 | \n",
       "\n",
       "\n"
      ],
      "text/plain": [
       "         ブランド力 コスパ 技術力 レース実績 デザイン\n",
       "コレナゴ 41         11     67     51         54      \n",
       "デロンザ 84         21     54     23         82      \n",
       "ピロリロ 54         32     72     83         42      \n",
       "ビアンカ 32         43     42     34         92      "
      ]
     },
     "metadata": {},
     "output_type": "display_data"
    }
   ],
   "source": [
    "#2重クロス集計表の読み込み\n",
    "b2dat <- read.csv(\"https://raw.githubusercontent.com/gndb3168/Renshu_data/master/R_MA/Sec_13/bicycle2.csv\", row.names=1)\n",
    "b2dat"
   ]
  },
  {
   "cell_type": "code",
   "execution_count": 4,
   "metadata": {},
   "outputs": [],
   "source": [
    "#パッケージの読み込み\n",
    "library(FactoMineR)"
   ]
  },
  {
   "cell_type": "code",
   "execution_count": 5,
   "metadata": {},
   "outputs": [
    {
     "data": {
      "image/png": "[encoded data removed]",
      "text/plain": [
       "Plot with title \"CA factor map\""
      ]
     },
     "metadata": {},
     "output_type": "display_data"
    }
   ],
   "source": [
    "#コレスポンデンス分析の実行\n",
    "resb2dat <- CA(b2dat)"
   ]
  },
  {
   "cell_type": "code",
   "execution_count": 6,
   "metadata": {},
   "outputs": [
    {
     "data": {
      "text/html": [
       "<table>\n",
       "<thead><tr><th></th><th scope=col>eigenvalue</th><th scope=col>percentage of variance</th><th scope=col>cumulative percentage of variance</th></tr></thead>\n",
       "<tbody>\n",
       "\t<tr><th scope=row>dim 1</th><td>0.068929372</td><td>59.408164  </td><td> 59.40816  </td></tr>\n",
       "\t<tr><th scope=row>dim 2</th><td>0.038273069</td><td>32.986414  </td><td> 92.39458  </td></tr>\n",
       "\t<tr><th scope=row>dim 3</th><td>0.008824326</td><td> 7.605422  </td><td>100.00000  </td></tr>\n",
       "</tbody>\n",
       "</table>\n"
      ],
      "text/latex": [
       "\\begin{tabular}{r|lll}\n",
       "  & eigenvalue & percentage of variance & cumulative percentage of variance\\\\\n",
       "\\hline\n",
       "\tdim 1 & 0.068929372 & 59.408164   &  59.40816  \\\\\n",
       "\tdim 2 & 0.038273069 & 32.986414   &  92.39458  \\\\\n",
       "\tdim 3 & 0.008824326 &  7.605422   & 100.00000  \\\\\n",
       "\\end{tabular}\n"
      ],
      "text/markdown": [
       "\n",
       "| <!--/--> | eigenvalue | percentage of variance | cumulative percentage of variance | \n",
       "|---|---|---|\n",
       "| dim 1 | 0.068929372 | 59.408164   |  59.40816   | \n",
       "| dim 2 | 0.038273069 | 32.986414   |  92.39458   | \n",
       "| dim 3 | 0.008824326 |  7.605422   | 100.00000   | \n",
       "\n",
       "\n"
      ],
      "text/plain": [
       "      eigenvalue  percentage of variance cumulative percentage of variance\n",
       "dim 1 0.068929372 59.408164               59.40816                        \n",
       "dim 2 0.038273069 32.986414               92.39458                        \n",
       "dim 3 0.008824326  7.605422              100.00000                        "
      ]
     },
     "metadata": {},
     "output_type": "display_data"
    }
   ],
   "source": [
    "#固有値の出力\n",
    "resb2dat$eig"
   ]
  },
  {
   "cell_type": "code",
   "execution_count": 7,
   "metadata": {},
   "outputs": [
    {
     "data": {
      "text/html": [
       "<table>\n",
       "<thead><tr><th></th><th scope=col>Dim 1</th><th scope=col>Dim 2</th><th scope=col>Dim 3</th></tr></thead>\n",
       "<tbody>\n",
       "\t<tr><th scope=row>コレナゴ</th><td> 0.1770967 </td><td>-0.07957513</td><td>-0.16014501</td></tr>\n",
       "\t<tr><th scope=row>デロンザ</th><td>-0.2535313 </td><td>-0.25110976</td><td> 0.04797783</td></tr>\n",
       "\t<tr><th scope=row>ピロリロ</th><td> 0.3213132 </td><td> 0.05081911</td><td> 0.09476861</td></tr>\n",
       "\t<tr><th scope=row>ビアンカ</th><td>-0.2620124 </td><td> 0.28697941</td><td>-0.01486906</td></tr>\n",
       "</tbody>\n",
       "</table>\n"
      ],
      "text/latex": [
       "\\begin{tabular}{r|lll}\n",
       "  & Dim 1 & Dim 2 & Dim 3\\\\\n",
       "\\hline\n",
       "\tコレナゴ &  0.1770967  & -0.07957513 & -0.16014501\\\\\n",
       "\tデロンザ & -0.2535313  & -0.25110976 &  0.04797783\\\\\n",
       "\tピロリロ &  0.3213132  &  0.05081911 &  0.09476861\\\\\n",
       "\tビアンカ & -0.2620124  &  0.28697941 & -0.01486906\\\\\n",
       "\\end{tabular}\n"
      ],
      "text/markdown": [
       "\n",
       "| <!--/--> | Dim 1 | Dim 2 | Dim 3 | \n",
       "|---|---|---|---|\n",
       "| コレナゴ |  0.1770967  | -0.07957513 | -0.16014501 | \n",
       "| デロンザ | -0.2535313  | -0.25110976 |  0.04797783 | \n",
       "| ピロリロ |  0.3213132  |  0.05081911 |  0.09476861 | \n",
       "| ビアンカ | -0.2620124  |  0.28697941 | -0.01486906 | \n",
       "\n",
       "\n"
      ],
      "text/plain": [
       "         Dim 1      Dim 2       Dim 3      \n",
       "コレナゴ  0.1770967 -0.07957513 -0.16014501\n",
       "デロンザ -0.2535313 -0.25110976  0.04797783\n",
       "ピロリロ  0.3213132  0.05081911  0.09476861\n",
       "ビアンカ -0.2620124  0.28697941 -0.01486906"
      ]
     },
     "metadata": {},
     "output_type": "display_data"
    },
    {
     "data": {
      "text/html": [
       "<table>\n",
       "<thead><tr><th></th><th scope=col>Dim 1</th><th scope=col>Dim 2</th><th scope=col>Dim 3</th></tr></thead>\n",
       "<tbody>\n",
       "\t<tr><th scope=row>ブランド力</th><td>-0.09150627</td><td>-0.30107873</td><td> 0.10624583</td></tr>\n",
       "\t<tr><th scope=row>コスパ</th><td>-0.15522470</td><td> 0.37346361</td><td> 0.16307907</td></tr>\n",
       "\t<tr><th scope=row>技術力</th><td> 0.16702061</td><td>-0.06915502</td><td>-0.08788395</td></tr>\n",
       "\t<tr><th scope=row>レース実績</th><td> 0.41800578</td><td> 0.11083332</td><td> 0.01651650</td></tr>\n",
       "\t<tr><th scope=row>デザイン</th><td>-0.30804475</td><td> 0.06907138</td><td>-0.08284909</td></tr>\n",
       "</tbody>\n",
       "</table>\n"
      ],
      "text/latex": [
       "\\begin{tabular}{r|lll}\n",
       "  & Dim 1 & Dim 2 & Dim 3\\\\\n",
       "\\hline\n",
       "\tブランド力 & -0.09150627 & -0.30107873 &  0.10624583\\\\\n",
       "\tコスパ & -0.15522470 &  0.37346361 &  0.16307907\\\\\n",
       "\t技術力 &  0.16702061 & -0.06915502 & -0.08788395\\\\\n",
       "\tレース実績 &  0.41800578 &  0.11083332 &  0.01651650\\\\\n",
       "\tデザイン & -0.30804475 &  0.06907138 & -0.08284909\\\\\n",
       "\\end{tabular}\n"
      ],
      "text/markdown": [
       "\n",
       "| <!--/--> | Dim 1 | Dim 2 | Dim 3 | \n",
       "|---|---|---|---|---|\n",
       "| ブランド力 | -0.09150627 | -0.30107873 |  0.10624583 | \n",
       "| コスパ | -0.15522470 |  0.37346361 |  0.16307907 | \n",
       "| 技術力 |  0.16702061 | -0.06915502 | -0.08788395 | \n",
       "| レース実績 |  0.41800578 |  0.11083332 |  0.01651650 | \n",
       "| デザイン | -0.30804475 |  0.06907138 | -0.08284909 | \n",
       "\n",
       "\n"
      ],
      "text/plain": [
       "           Dim 1       Dim 2       Dim 3      \n",
       "ブランド力 -0.09150627 -0.30107873  0.10624583\n",
       "コスパ     -0.15522470  0.37346361  0.16307907\n",
       "技術力      0.16702061 -0.06915502 -0.08788395\n",
       "レース実績  0.41800578  0.11083332  0.01651650\n",
       "デザイン   -0.30804475  0.06907138 -0.08284909"
      ]
     },
     "metadata": {},
     "output_type": "display_data"
    }
   ],
   "source": [
    "#行スコアと列スコアの出力(座標情報をスコアと呼ぶ)\n",
    "\n",
    "resb2dat$row$coord    #行スコアの出力\n",
    "resb2dat$col$coord    #列スコアの出力"
   ]
  },
  {
   "cell_type": "code",
   "execution_count": 8,
   "metadata": {},
   "outputs": [
    {
     "name": "stdout",
     "output_type": "stream",
     "text": [
      "\n",
      "Call:\n",
      "CA(X = b2dat) \n",
      "\n",
      "The chi square of independence between the two variables is equal to 117.6511 (p-value =  1.815039e-19 ).\n",
      "\n",
      "Eigenvalues\n",
      "                       Dim.1   Dim.2   Dim.3\n",
      "Variance               0.069   0.038   0.009\n",
      "% of var.             59.408  32.986   7.605\n",
      "Cumulative % of var.  59.408  92.395 100.000\n",
      "\n",
      "Rows\n",
      "           Iner*1000    Dim.1    ctr   cos2    Dim.2    ctr   cos2    Dim.3\n",
      "コレナゴ |    13.993 |  0.177 10.051  0.495 | -0.080  3.655  0.100 | -0.160\n",
      "デロンザ |    33.751 | -0.254 24.279  0.496 | -0.251 42.894  0.486 |  0.048\n",
      "ピロリロ |    32.041 |  0.321 41.802  0.899 |  0.051  1.883  0.022 |  0.095\n",
      "ビアンカ |    36.241 | -0.262 23.868  0.454 |  0.287 51.568  0.545 | -0.015\n",
      "            ctr   cos2  \n",
      "コレナゴ 64.203  0.405 |\n",
      "デロンザ  6.791  0.018 |\n",
      "ピロリロ 28.405  0.078 |\n",
      "ビアンカ  0.600  0.001 |\n",
      "\n",
      "Columns\n",
      "             Iner*1000    Dim.1    ctr   cos2    Dim.2    ctr   cos2    Dim.3\n",
      "ブランド力 |    22.954 | -0.092  2.528  0.076 | -0.301 49.285  0.822 |  0.106\n",
      "コスパ     |    20.067 | -0.155  3.689  0.127 |  0.373 38.455  0.733 |  0.163\n",
      "技術力     |     9.363 |  0.167  9.379  0.690 | -0.069  2.896  0.118 | -0.088\n",
      "レース実績 |    35.278 |  0.418 47.748  0.933 |  0.111  6.046  0.066 |  0.017\n",
      "デザイン   |    28.365 | -0.308 36.656  0.891 |  0.069  3.319  0.045 | -0.083\n",
      "              ctr   cos2  \n",
      "ブランド力 26.619  0.102 |\n",
      "コスパ     31.802  0.140 |\n",
      "技術力     20.285  0.191 |\n",
      "レース実績  0.582  0.001 |\n",
      "デザイン   20.712  0.064 |\n"
     ]
    }
   ],
   "source": [
    "#summaryの出力\n",
    "summary(resb2dat)"
   ]
  },
  {
   "cell_type": "markdown",
   "metadata": {},
   "source": [
    "```Iner*1000```  \n",
    "あるカテゴリが多次元空間上の重心からどれだけずれているかの指標である慣性(inertia)に1000を乗じた値  \n",
    "この値が大きいほど, そのカテゴリはバイプロットジュの原点から遠い場所に位置していると解釈できる  "
   ]
  },
  {
   "cell_type": "markdown",
   "metadata": {},
   "source": [
    "```ctr```  \n",
    "各カテゴリの軸への寄与率(contribution)で, 値が大きいカテゴリほど, その軸に強く寄与している"
   ]
  },
  {
   "cell_type": "markdown",
   "metadata": {},
   "source": [
    "```cos2```  \n",
    "軸が各カテゴリにどの程度寄与しているかを表す指標であり, 「平方相関」と呼ばれる  \n",
    "平方相関が高いカテゴリほど, 軸によってよく説明されている"
   ]
  },
  {
   "cell_type": "markdown",
   "metadata": {},
   "source": [
    "### 13.3 報告例"
   ]
  },
  {
   "cell_type": "markdown",
   "metadata": {},
   "source": [
    "　「メーカー」と「観点」の連関を詳細に検討するため, コレスポンデンス分析を実行した. 第2軸までの累積寄与率は92.4%であり, データが持つ情報のほとんどが平面上に集約されていると解釈することが出来る.  \n",
    "　次に軸の解釈を行う. 「観点」のカテゴリに注目すると, 第1軸に高い寄与を持っているのは「レース実績」(47.748)と「デザイン」(36.656)である. また, 平方相関の観点からは, 「技術力」は第1軸によってよく説明されている(0.690). バイプロットを合わせて参照すると, 第1軸の右には「レース実績」と「技術力」に優れたメーカー, 左には「デザイン」が良いメーカーが配置されているものと解釈できる. 具体的には, \"ピロリロ\", \"コレナゴ\"は相対的にレース実績や技術力に優れたメーカーで, \"デロンザ\", \"ビアンカ\"はデザインが良いメーカーであると考えられる.  \n",
    " 第2軸に高い寄与を持っているのは「ブランド力」(49.285)と「コスパ」(38.455)である. 第2軸の上部には「コスパ」が良いメーカー, 下部には「ブランド力」の高いメーカーが配置されるものと解釈できる. バイプロットを参照すると, \"ビアンカ\"は他のメーカーに対してコストパフォーマンスの点で優位であり, \"デロンザ\"はブランド力の点で優位であると考えられる.  \n",
    "　ところで, \"ピロリロ\"と\"コレナゴ\"は「レース実績」と「技術力」の2つの観点において近い評価を得ているが, 「デザイン」「コスパ」からはやや遠く布置されている. \"ピロリロ\"と\"コレナゴ\"は技術を先鋭化させ, 勝ちにこだわるハイエンドの自転車を開発しているメーカーであると考えられる.  \n",
    "　次に, \"デロンザ\"は「ブランド力」の近くに布置されているが, 「コスパ」「レース実績」「技術力」からは遠くなっている. このメーカーはブランド力は高いが, 性能に比して効果であるとみなせる. 最新の技術を搭載した勝ちにこだわる自転車を作らなくても, ブランド力の高さでその存在を認められているメーカーかもしれない.  \n",
    "　最後に, \"ビアンカ\"は「コスパ」と「デザイン」の近くに布置されている. 「ブランド力」も「レース実績」も「技術力」もそれほど優れていないが, コストパフォーマンスと, 気の利いたデザインで支持を得ているメーカーと考えられる.\n",
    " "
   ]
  },
  {
   "cell_type": "markdown",
   "metadata": {},
   "source": [
    "### 13.4 クラスター分析の併用"
   ]
  },
  {
   "cell_type": "markdown",
   "metadata": {},
   "source": [
    "(2重)クロス集計表を多変量データ行列とみなし, 各評価観点の度数のパターンから4つのメーカーをクラスタリングすることを考える."
   ]
  },
  {
   "cell_type": "code",
   "execution_count": 9,
   "metadata": {},
   "outputs": [
    {
     "data": {
      "image/png": "[encoded data removed]",
      "text/plain": [
       "Plot with title \"Cluster Dendrogram\""
      ]
     },
     "metadata": {},
     "output_type": "display_data"
    }
   ],
   "source": [
    "#「メーカー」のクラスター分析\n",
    "\n",
    "z <- scale(b2dat)    #列方向にz得点化\n",
    "\n",
    "#平方ユークリッド距離\n",
    "DO <- dist(z, method=\"euclidian\")\n",
    "D <- (1/2)*DO^2\n",
    "\n",
    "#階層的クラスター分析\n",
    "resclust <- hclust(D, method=\"ward.D\")\n",
    "plot(resclust)    #デンドログラムの描画"
   ]
  },
  {
   "cell_type": "code",
   "execution_count": 10,
   "metadata": {},
   "outputs": [
    {
     "data": {
      "text/html": [
       "<dl class=dl-horizontal>\n",
       "\t<dt>コレナゴ</dt>\n",
       "\t\t<dd>1</dd>\n",
       "\t<dt>デロンザ</dt>\n",
       "\t\t<dd>2</dd>\n",
       "\t<dt>ピロリロ</dt>\n",
       "\t\t<dd>1</dd>\n",
       "\t<dt>ビアンカ</dt>\n",
       "\t\t<dd>2</dd>\n",
       "</dl>\n"
      ],
      "text/latex": [
       "\\begin{description*}\n",
       "\\item[コレナゴ] 1\n",
       "\\item[デロンザ] 2\n",
       "\\item[ピロリロ] 1\n",
       "\\item[ビアンカ] 2\n",
       "\\end{description*}\n"
      ],
      "text/markdown": [
       "コレナゴ\n",
       ":   1デロンザ\n",
       ":   2ピロリロ\n",
       ":   1ビアンカ\n",
       ":   2\n",
       "\n"
      ],
      "text/plain": [
       "コレナゴ デロンザ ピロリロ ビアンカ \n",
       "       1        2        1        2 "
      ]
     },
     "metadata": {},
     "output_type": "display_data"
    },
    {
     "data": {
      "text/plain": [
       "b2dat$cluster: 1\n",
       "ブランド力     コスパ     技術力 レース実績   デザイン \n",
       "      47.5       21.5       69.5       67.0       48.0 \n",
       "------------------------------------------------------------ \n",
       "b2dat$cluster: 2\n",
       "ブランド力     コスパ     技術力 レース実績   デザイン \n",
       "      58.0       32.0       48.0       28.5       87.0 "
      ]
     },
     "metadata": {},
     "output_type": "display_data"
    }
   ],
   "source": [
    "#クラスターの解釈\n",
    "clus <- cutree(resclust, k=2)    #クラスター番号の取得\n",
    "clus\n",
    "\n",
    "b2dat$cluster <- clus\n",
    "by(b2dat[, -6], b2dat$cluster, apply, 2, mean)    #クラスター別の平均値の算出"
   ]
  },
  {
   "cell_type": "markdown",
   "metadata": {},
   "source": [
    "クラスタリングを行うことで, バイプロットの解釈がしやすくなるメリットがある.  \n",
    "行列を入れ替えることで, 列カテゴリも同様にクラスタリングすることが可能."
   ]
  },
  {
   "cell_type": "markdown",
   "metadata": {},
   "source": [
    "### 13.5 多重コレスポンデンス分析"
   ]
  },
  {
   "cell_type": "code",
   "execution_count": 11,
   "metadata": {},
   "outputs": [
    {
     "data": {
      "text/html": [
       "<table>\n",
       "<thead><tr><th scope=col>メーカー</th><th scope=col>ブランド力</th><th scope=col>コスパ</th><th scope=col>技術力</th><th scope=col>レース実績</th><th scope=col>デザイン</th></tr></thead>\n",
       "<tbody>\n",
       "\t<tr><td>イシドロ</td><td>D       </td><td>B       </td><td>A       </td><td>C       </td><td>D       </td></tr>\n",
       "\t<tr><td>イシドロ</td><td>D       </td><td>A       </td><td>D       </td><td>C       </td><td>D       </td></tr>\n",
       "\t<tr><td>ピロリロ</td><td>B       </td><td>D       </td><td>B       </td><td>C       </td><td>A       </td></tr>\n",
       "\t<tr><td>ピロリロ</td><td>C       </td><td>D       </td><td>B       </td><td>B       </td><td>C       </td></tr>\n",
       "\t<tr><td>デロンザ</td><td>B       </td><td>C       </td><td>C       </td><td>C       </td><td>B       </td></tr>\n",
       "\t<tr><td>デロンザ</td><td>C       </td><td>C       </td><td>C       </td><td>C       </td><td>C       </td></tr>\n",
       "</tbody>\n",
       "</table>\n"
      ],
      "text/latex": [
       "\\begin{tabular}{r|llllll}\n",
       " メーカー & ブランド力 & コスパ & 技術力 & レース実績 & デザイン\\\\\n",
       "\\hline\n",
       "\t イシドロ & D        & B        & A        & C        & D       \\\\\n",
       "\t イシドロ & D        & A        & D        & C        & D       \\\\\n",
       "\t ピロリロ & B        & D        & B        & C        & A       \\\\\n",
       "\t ピロリロ & C        & D        & B        & B        & C       \\\\\n",
       "\t デロンザ & B        & C        & C        & C        & B       \\\\\n",
       "\t デロンザ & C        & C        & C        & C        & C       \\\\\n",
       "\\end{tabular}\n"
      ],
      "text/markdown": [
       "\n",
       "メーカー | ブランド力 | コスパ | 技術力 | レース実績 | デザイン | \n",
       "|---|---|---|---|---|---|\n",
       "| イシドロ | D        | B        | A        | C        | D        | \n",
       "| イシドロ | D        | A        | D        | C        | D        | \n",
       "| ピロリロ | B        | D        | B        | C        | A        | \n",
       "| ピロリロ | C        | D        | B        | B        | C        | \n",
       "| デロンザ | B        | C        | C        | C        | B        | \n",
       "| デロンザ | C        | C        | C        | C        | C        | \n",
       "\n",
       "\n"
      ],
      "text/plain": [
       "  メーカー ブランド力 コスパ 技術力 レース実績 デザイン\n",
       "1 イシドロ D          B      A      C          D       \n",
       "2 イシドロ D          A      D      C          D       \n",
       "3 ピロリロ B          D      B      C          A       \n",
       "4 ピロリロ C          D      B      B          C       \n",
       "5 デロンザ B          C      C      C          B       \n",
       "6 デロンザ C          C      C      C          C       "
      ]
     },
     "metadata": {},
     "output_type": "display_data"
    },
    {
     "name": "stdout",
     "output_type": "stream",
     "text": [
      "'data.frame':\t300 obs. of  6 variables:\n",
      " $ メーカー  : Factor w/ 7 levels \"イシドロ\",\"クォーク\",..: 1 1 7 7 5 5 6 5 6 4 ...\n",
      " $ ブランド力: Factor w/ 4 levels \"A\",\"B\",\"C\",\"D\": 4 4 2 3 2 3 2 2 2 1 ...\n",
      " $ コスパ    : Factor w/ 4 levels \"A\",\"B\",\"C\",\"D\": 2 1 4 4 3 3 1 2 3 3 ...\n",
      " $ 技術力    : Factor w/ 4 levels \"A\",\"B\",\"C\",\"D\": 1 4 2 2 3 3 3 2 3 3 ...\n",
      " $ レース実績: Factor w/ 4 levels \"A\",\"B\",\"C\",\"D\": 3 3 3 2 3 3 1 3 3 4 ...\n",
      " $ デザイン  : Factor w/ 4 levels \"A\",\"B\",\"C\",\"D\": 4 4 1 3 2 3 2 2 2 4 ...\n"
     ]
    }
   ],
   "source": [
    "#分析対象のデータの形式\n",
    "head(b3dat)\n",
    "str(b3dat)"
   ]
  },
  {
   "cell_type": "markdown",
   "metadata": {},
   "source": [
    "#### カテゴリカルデータ行列をダミーデータ行列に変換し, CA関数で(多重)コレスポンデンス分析を行った場合"
   ]
  },
  {
   "cell_type": "code",
   "execution_count": 12,
   "metadata": {},
   "outputs": [
    {
     "name": "stderr",
     "output_type": "stream",
     "text": [
      "dummies-1.5.6 provided by Decision Patterns\n",
      "\n"
     ]
    }
   ],
   "source": [
    "#dummiesパッケージの読み込み\n",
    "library(dummies)"
   ]
  },
  {
   "cell_type": "code",
   "execution_count": 13,
   "metadata": {},
   "outputs": [
    {
     "data": {
      "text/html": [
       "<table>\n",
       "<thead><tr><th scope=col>メーカー:イシドロ</th><th scope=col>メーカー:クォーク</th><th scope=col>メーカー:コレナゴ</th><th scope=col>メーカー:チネッロ</th><th scope=col>メーカー:デロンザ</th><th scope=col>メーカー:ビアンカ</th><th scope=col>メーカー:ピロリロ</th><th scope=col>ブランド力:A</th><th scope=col>ブランド力:B</th><th scope=col>ブランド力:C</th><th scope=col>...</th><th scope=col>技術力:C</th><th scope=col>技術力:D</th><th scope=col>レース実績:A</th><th scope=col>レース実績:B</th><th scope=col>レース実績:C</th><th scope=col>レース実績:D</th><th scope=col>デザイン:A</th><th scope=col>デザイン:B</th><th scope=col>デザイン:C</th><th scope=col>デザイン:D</th></tr></thead>\n",
       "<tbody>\n",
       "\t<tr><td>1  </td><td>0  </td><td>0  </td><td>0  </td><td>0  </td><td>0  </td><td>0  </td><td>0  </td><td>0  </td><td>0  </td><td>...</td><td>0  </td><td>0  </td><td>0  </td><td>0  </td><td>1  </td><td>0  </td><td>0  </td><td>0  </td><td>0  </td><td>1  </td></tr>\n",
       "\t<tr><td>1  </td><td>0  </td><td>0  </td><td>0  </td><td>0  </td><td>0  </td><td>0  </td><td>0  </td><td>0  </td><td>0  </td><td>...</td><td>0  </td><td>1  </td><td>0  </td><td>0  </td><td>1  </td><td>0  </td><td>0  </td><td>0  </td><td>0  </td><td>1  </td></tr>\n",
       "\t<tr><td>0  </td><td>0  </td><td>0  </td><td>0  </td><td>0  </td><td>0  </td><td>1  </td><td>0  </td><td>1  </td><td>0  </td><td>...</td><td>0  </td><td>0  </td><td>0  </td><td>0  </td><td>1  </td><td>0  </td><td>1  </td><td>0  </td><td>0  </td><td>0  </td></tr>\n",
       "\t<tr><td>0  </td><td>0  </td><td>0  </td><td>0  </td><td>0  </td><td>0  </td><td>1  </td><td>0  </td><td>0  </td><td>1  </td><td>...</td><td>0  </td><td>0  </td><td>0  </td><td>1  </td><td>0  </td><td>0  </td><td>0  </td><td>0  </td><td>1  </td><td>0  </td></tr>\n",
       "\t<tr><td>0  </td><td>0  </td><td>0  </td><td>0  </td><td>1  </td><td>0  </td><td>0  </td><td>0  </td><td>1  </td><td>0  </td><td>...</td><td>1  </td><td>0  </td><td>0  </td><td>0  </td><td>1  </td><td>0  </td><td>0  </td><td>1  </td><td>0  </td><td>0  </td></tr>\n",
       "\t<tr><td>0  </td><td>0  </td><td>0  </td><td>0  </td><td>1  </td><td>0  </td><td>0  </td><td>0  </td><td>0  </td><td>1  </td><td>...</td><td>1  </td><td>0  </td><td>0  </td><td>0  </td><td>1  </td><td>0  </td><td>0  </td><td>0  </td><td>1  </td><td>0  </td></tr>\n",
       "</tbody>\n",
       "</table>\n"
      ],
      "text/latex": [
       "\\begin{tabular}{r|lllllllllllllllllllllllllll}\n",
       " メーカー:イシドロ & メーカー:クォーク & メーカー:コレナゴ & メーカー:チネッロ & メーカー:デロンザ & メーカー:ビアンカ & メーカー:ピロリロ & ブランド力:A & ブランド力:B & ブランド力:C & ... & 技術力:C & 技術力:D & レース実績:A & レース実績:B & レース実績:C & レース実績:D & デザイン:A & デザイン:B & デザイン:C & デザイン:D\\\\\n",
       "\\hline\n",
       "\t 1   & 0   & 0   & 0   & 0   & 0   & 0   & 0   & 0   & 0   & ... & 0   & 0   & 0   & 0   & 1   & 0   & 0   & 0   & 0   & 1  \\\\\n",
       "\t 1   & 0   & 0   & 0   & 0   & 0   & 0   & 0   & 0   & 0   & ... & 0   & 1   & 0   & 0   & 1   & 0   & 0   & 0   & 0   & 1  \\\\\n",
       "\t 0   & 0   & 0   & 0   & 0   & 0   & 1   & 0   & 1   & 0   & ... & 0   & 0   & 0   & 0   & 1   & 0   & 1   & 0   & 0   & 0  \\\\\n",
       "\t 0   & 0   & 0   & 0   & 0   & 0   & 1   & 0   & 0   & 1   & ... & 0   & 0   & 0   & 1   & 0   & 0   & 0   & 0   & 1   & 0  \\\\\n",
       "\t 0   & 0   & 0   & 0   & 1   & 0   & 0   & 0   & 1   & 0   & ... & 1   & 0   & 0   & 0   & 1   & 0   & 0   & 1   & 0   & 0  \\\\\n",
       "\t 0   & 0   & 0   & 0   & 1   & 0   & 0   & 0   & 0   & 1   & ... & 1   & 0   & 0   & 0   & 1   & 0   & 0   & 0   & 1   & 0  \\\\\n",
       "\\end{tabular}\n"
      ],
      "text/markdown": [
       "\n",
       "メーカー:イシドロ | メーカー:クォーク | メーカー:コレナゴ | メーカー:チネッロ | メーカー:デロンザ | メーカー:ビアンカ | メーカー:ピロリロ | ブランド力:A | ブランド力:B | ブランド力:C | ... | 技術力:C | 技術力:D | レース実績:A | レース実績:B | レース実績:C | レース実績:D | デザイン:A | デザイン:B | デザイン:C | デザイン:D | \n",
       "|---|---|---|---|---|---|\n",
       "| 1   | 0   | 0   | 0   | 0   | 0   | 0   | 0   | 0   | 0   | ... | 0   | 0   | 0   | 0   | 1   | 0   | 0   | 0   | 0   | 1   | \n",
       "| 1   | 0   | 0   | 0   | 0   | 0   | 0   | 0   | 0   | 0   | ... | 0   | 1   | 0   | 0   | 1   | 0   | 0   | 0   | 0   | 1   | \n",
       "| 0   | 0   | 0   | 0   | 0   | 0   | 1   | 0   | 1   | 0   | ... | 0   | 0   | 0   | 0   | 1   | 0   | 1   | 0   | 0   | 0   | \n",
       "| 0   | 0   | 0   | 0   | 0   | 0   | 1   | 0   | 0   | 1   | ... | 0   | 0   | 0   | 1   | 0   | 0   | 0   | 0   | 1   | 0   | \n",
       "| 0   | 0   | 0   | 0   | 1   | 0   | 0   | 0   | 1   | 0   | ... | 1   | 0   | 0   | 0   | 1   | 0   | 0   | 1   | 0   | 0   | \n",
       "| 0   | 0   | 0   | 0   | 1   | 0   | 0   | 0   | 0   | 1   | ... | 1   | 0   | 0   | 0   | 1   | 0   | 0   | 0   | 1   | 0   | \n",
       "\n",
       "\n"
      ],
      "text/plain": [
       "  メーカー:イシドロ メーカー:クォーク メーカー:コレナゴ メーカー:チネッロ\n",
       "1 1                 0                 0                 0                \n",
       "2 1                 0                 0                 0                \n",
       "3 0                 0                 0                 0                \n",
       "4 0                 0                 0                 0                \n",
       "5 0                 0                 0                 0                \n",
       "6 0                 0                 0                 0                \n",
       "  メーカー:デロンザ メーカー:ビアンカ メーカー:ピロリロ ブランド力:A\n",
       "1 0                 0                 0                 0           \n",
       "2 0                 0                 0                 0           \n",
       "3 0                 0                 1                 0           \n",
       "4 0                 0                 1                 0           \n",
       "5 1                 0                 0                 0           \n",
       "6 1                 0                 0                 0           \n",
       "  ブランド力:B ブランド力:C ... 技術力:C 技術力:D レース実績:A レース実績:B\n",
       "1 0            0            ... 0        0        0            0           \n",
       "2 0            0            ... 0        1        0            0           \n",
       "3 1            0            ... 0        0        0            0           \n",
       "4 0            1            ... 0        0        0            1           \n",
       "5 1            0            ... 1        0        0            0           \n",
       "6 0            1            ... 1        0        0            0           \n",
       "  レース実績:C レース実績:D デザイン:A デザイン:B デザイン:C デザイン:D\n",
       "1 1            0            0          0          0          1         \n",
       "2 1            0            0          0          0          1         \n",
       "3 1            0            1          0          0          0         \n",
       "4 0            0            0          0          1          0         \n",
       "5 1            0            0          1          0          0         \n",
       "6 1            0            0          0          1          0         "
      ]
     },
     "metadata": {},
     "output_type": "display_data"
    }
   ],
   "source": [
    "#カテゴリカルデータ行列のダミーデータ行列への変換\n",
    "db3dat <- dummy.data.frame(b3dat, sep=\":\")    #dummie.data.frame関数の実行\n",
    "head(db3dat)"
   ]
  },
  {
   "cell_type": "code",
   "execution_count": 14,
   "metadata": {},
   "outputs": [
    {
     "data": {
      "text/html": [
       "<table>\n",
       "<thead><tr><th></th><th scope=col>eigenvalue</th><th scope=col>percentage of variance</th><th scope=col>cumulative percentage of variance</th></tr></thead>\n",
       "<tbody>\n",
       "\t<tr><th scope=row>dim 1</th><td>4.222986e-01</td><td>1.206567e+01</td><td> 12.06567   </td></tr>\n",
       "\t<tr><th scope=row>dim 2</th><td>3.484257e-01</td><td>9.955021e+00</td><td> 22.02069   </td></tr>\n",
       "\t<tr><th scope=row>dim 3</th><td>3.229287e-01</td><td>9.226534e+00</td><td> 31.24723   </td></tr>\n",
       "\t<tr><th scope=row>dim 4</th><td>2.624222e-01</td><td>7.497778e+00</td><td> 38.74501   </td></tr>\n",
       "\t<tr><th scope=row>dim 5</th><td>2.308917e-01</td><td>6.596905e+00</td><td> 45.34191   </td></tr>\n",
       "\t<tr><th scope=row>dim 6</th><td>2.079285e-01</td><td>5.940813e+00</td><td> 51.28273   </td></tr>\n",
       "\t<tr><th scope=row>dim 7</th><td>1.875809e-01</td><td>5.359454e+00</td><td> 56.64218   </td></tr>\n",
       "\t<tr><th scope=row>dim 8</th><td>1.633606e-01</td><td>4.667445e+00</td><td> 61.30963   </td></tr>\n",
       "\t<tr><th scope=row>dim 9</th><td>1.608702e-01</td><td>4.596290e+00</td><td> 65.90592   </td></tr>\n",
       "\t<tr><th scope=row>dim 10</th><td>1.467147e-01</td><td>4.191848e+00</td><td> 70.09776   </td></tr>\n",
       "\t<tr><th scope=row>dim 11</th><td>1.370264e-01</td><td>3.915039e+00</td><td> 74.01280   </td></tr>\n",
       "\t<tr><th scope=row>dim 12</th><td>1.299282e-01</td><td>3.712236e+00</td><td> 77.72504   </td></tr>\n",
       "\t<tr><th scope=row>dim 13</th><td>1.242920e-01</td><td>3.551201e+00</td><td> 81.27624   </td></tr>\n",
       "\t<tr><th scope=row>dim 14</th><td>1.127047e-01</td><td>3.220134e+00</td><td> 84.49637   </td></tr>\n",
       "\t<tr><th scope=row>dim 15</th><td>1.094220e-01</td><td>3.126344e+00</td><td> 87.62272   </td></tr>\n",
       "\t<tr><th scope=row>dim 16</th><td>1.044772e-01</td><td>2.985064e+00</td><td> 90.60778   </td></tr>\n",
       "\t<tr><th scope=row>dim 17</th><td>9.288472e-02</td><td>2.653849e+00</td><td> 93.26163   </td></tr>\n",
       "\t<tr><th scope=row>dim 18</th><td>7.639277e-02</td><td>2.182651e+00</td><td> 95.44428   </td></tr>\n",
       "\t<tr><th scope=row>dim 19</th><td>6.247009e-02</td><td>1.784860e+00</td><td> 97.22914   </td></tr>\n",
       "\t<tr><th scope=row>dim 20</th><td>5.331225e-02</td><td>1.523207e+00</td><td> 98.75235   </td></tr>\n",
       "\t<tr><th scope=row>dim 21</th><td>4.366781e-02</td><td>1.247652e+00</td><td>100.00000   </td></tr>\n",
       "\t<tr><th scope=row>dim 22</th><td>6.102985e-32</td><td>1.743710e-30</td><td>100.00000   </td></tr>\n",
       "\t<tr><th scope=row>dim 23</th><td>3.538795e-32</td><td>1.011084e-30</td><td>100.00000   </td></tr>\n",
       "\t<tr><th scope=row>dim 24</th><td>1.302333e-32</td><td>3.720951e-31</td><td>100.00000   </td></tr>\n",
       "\t<tr><th scope=row>dim 25</th><td>1.076238e-32</td><td>3.074965e-31</td><td>100.00000   </td></tr>\n",
       "\t<tr><th scope=row>dim 26</th><td>8.181887e-33</td><td>2.337682e-31</td><td>100.00000   </td></tr>\n",
       "</tbody>\n",
       "</table>\n"
      ],
      "text/latex": [
       "\\begin{tabular}{r|lll}\n",
       "  & eigenvalue & percentage of variance & cumulative percentage of variance\\\\\n",
       "\\hline\n",
       "\tdim 1 & 4.222986e-01 & 1.206567e+01 &  12.06567   \\\\\n",
       "\tdim 2 & 3.484257e-01 & 9.955021e+00 &  22.02069   \\\\\n",
       "\tdim 3 & 3.229287e-01 & 9.226534e+00 &  31.24723   \\\\\n",
       "\tdim 4 & 2.624222e-01 & 7.497778e+00 &  38.74501   \\\\\n",
       "\tdim 5 & 2.308917e-01 & 6.596905e+00 &  45.34191   \\\\\n",
       "\tdim 6 & 2.079285e-01 & 5.940813e+00 &  51.28273   \\\\\n",
       "\tdim 7 & 1.875809e-01 & 5.359454e+00 &  56.64218   \\\\\n",
       "\tdim 8 & 1.633606e-01 & 4.667445e+00 &  61.30963   \\\\\n",
       "\tdim 9 & 1.608702e-01 & 4.596290e+00 &  65.90592   \\\\\n",
       "\tdim 10 & 1.467147e-01 & 4.191848e+00 &  70.09776   \\\\\n",
       "\tdim 11 & 1.370264e-01 & 3.915039e+00 &  74.01280   \\\\\n",
       "\tdim 12 & 1.299282e-01 & 3.712236e+00 &  77.72504   \\\\\n",
       "\tdim 13 & 1.242920e-01 & 3.551201e+00 &  81.27624   \\\\\n",
       "\tdim 14 & 1.127047e-01 & 3.220134e+00 &  84.49637   \\\\\n",
       "\tdim 15 & 1.094220e-01 & 3.126344e+00 &  87.62272   \\\\\n",
       "\tdim 16 & 1.044772e-01 & 2.985064e+00 &  90.60778   \\\\\n",
       "\tdim 17 & 9.288472e-02 & 2.653849e+00 &  93.26163   \\\\\n",
       "\tdim 18 & 7.639277e-02 & 2.182651e+00 &  95.44428   \\\\\n",
       "\tdim 19 & 6.247009e-02 & 1.784860e+00 &  97.22914   \\\\\n",
       "\tdim 20 & 5.331225e-02 & 1.523207e+00 &  98.75235   \\\\\n",
       "\tdim 21 & 4.366781e-02 & 1.247652e+00 & 100.00000   \\\\\n",
       "\tdim 22 & 6.102985e-32 & 1.743710e-30 & 100.00000   \\\\\n",
       "\tdim 23 & 3.538795e-32 & 1.011084e-30 & 100.00000   \\\\\n",
       "\tdim 24 & 1.302333e-32 & 3.720951e-31 & 100.00000   \\\\\n",
       "\tdim 25 & 1.076238e-32 & 3.074965e-31 & 100.00000   \\\\\n",
       "\tdim 26 & 8.181887e-33 & 2.337682e-31 & 100.00000   \\\\\n",
       "\\end{tabular}\n"
      ],
      "text/markdown": [
       "\n",
       "| <!--/--> | eigenvalue | percentage of variance | cumulative percentage of variance | \n",
       "|---|---|---|---|---|---|---|---|---|---|---|---|---|---|---|---|---|---|---|---|---|---|---|---|---|---|\n",
       "| dim 1 | 4.222986e-01 | 1.206567e+01 |  12.06567    | \n",
       "| dim 2 | 3.484257e-01 | 9.955021e+00 |  22.02069    | \n",
       "| dim 3 | 3.229287e-01 | 9.226534e+00 |  31.24723    | \n",
       "| dim 4 | 2.624222e-01 | 7.497778e+00 |  38.74501    | \n",
       "| dim 5 | 2.308917e-01 | 6.596905e+00 |  45.34191    | \n",
       "| dim 6 | 2.079285e-01 | 5.940813e+00 |  51.28273    | \n",
       "| dim 7 | 1.875809e-01 | 5.359454e+00 |  56.64218    | \n",
       "| dim 8 | 1.633606e-01 | 4.667445e+00 |  61.30963    | \n",
       "| dim 9 | 1.608702e-01 | 4.596290e+00 |  65.90592    | \n",
       "| dim 10 | 1.467147e-01 | 4.191848e+00 |  70.09776    | \n",
       "| dim 11 | 1.370264e-01 | 3.915039e+00 |  74.01280    | \n",
       "| dim 12 | 1.299282e-01 | 3.712236e+00 |  77.72504    | \n",
       "| dim 13 | 1.242920e-01 | 3.551201e+00 |  81.27624    | \n",
       "| dim 14 | 1.127047e-01 | 3.220134e+00 |  84.49637    | \n",
       "| dim 15 | 1.094220e-01 | 3.126344e+00 |  87.62272    | \n",
       "| dim 16 | 1.044772e-01 | 2.985064e+00 |  90.60778    | \n",
       "| dim 17 | 9.288472e-02 | 2.653849e+00 |  93.26163    | \n",
       "| dim 18 | 7.639277e-02 | 2.182651e+00 |  95.44428    | \n",
       "| dim 19 | 6.247009e-02 | 1.784860e+00 |  97.22914    | \n",
       "| dim 20 | 5.331225e-02 | 1.523207e+00 |  98.75235    | \n",
       "| dim 21 | 4.366781e-02 | 1.247652e+00 | 100.00000    | \n",
       "| dim 22 | 6.102985e-32 | 1.743710e-30 | 100.00000    | \n",
       "| dim 23 | 3.538795e-32 | 1.011084e-30 | 100.00000    | \n",
       "| dim 24 | 1.302333e-32 | 3.720951e-31 | 100.00000    | \n",
       "| dim 25 | 1.076238e-32 | 3.074965e-31 | 100.00000    | \n",
       "| dim 26 | 8.181887e-33 | 2.337682e-31 | 100.00000    | \n",
       "\n",
       "\n"
      ],
      "text/plain": [
       "       eigenvalue   percentage of variance cumulative percentage of variance\n",
       "dim 1  4.222986e-01 1.206567e+01            12.06567                        \n",
       "dim 2  3.484257e-01 9.955021e+00            22.02069                        \n",
       "dim 3  3.229287e-01 9.226534e+00            31.24723                        \n",
       "dim 4  2.624222e-01 7.497778e+00            38.74501                        \n",
       "dim 5  2.308917e-01 6.596905e+00            45.34191                        \n",
       "dim 6  2.079285e-01 5.940813e+00            51.28273                        \n",
       "dim 7  1.875809e-01 5.359454e+00            56.64218                        \n",
       "dim 8  1.633606e-01 4.667445e+00            61.30963                        \n",
       "dim 9  1.608702e-01 4.596290e+00            65.90592                        \n",
       "dim 10 1.467147e-01 4.191848e+00            70.09776                        \n",
       "dim 11 1.370264e-01 3.915039e+00            74.01280                        \n",
       "dim 12 1.299282e-01 3.712236e+00            77.72504                        \n",
       "dim 13 1.242920e-01 3.551201e+00            81.27624                        \n",
       "dim 14 1.127047e-01 3.220134e+00            84.49637                        \n",
       "dim 15 1.094220e-01 3.126344e+00            87.62272                        \n",
       "dim 16 1.044772e-01 2.985064e+00            90.60778                        \n",
       "dim 17 9.288472e-02 2.653849e+00            93.26163                        \n",
       "dim 18 7.639277e-02 2.182651e+00            95.44428                        \n",
       "dim 19 6.247009e-02 1.784860e+00            97.22914                        \n",
       "dim 20 5.331225e-02 1.523207e+00            98.75235                        \n",
       "dim 21 4.366781e-02 1.247652e+00           100.00000                        \n",
       "dim 22 6.102985e-32 1.743710e-30           100.00000                        \n",
       "dim 23 3.538795e-32 1.011084e-30           100.00000                        \n",
       "dim 24 1.302333e-32 3.720951e-31           100.00000                        \n",
       "dim 25 1.076238e-32 3.074965e-31           100.00000                        \n",
       "dim 26 8.181887e-33 2.337682e-31           100.00000                        "
      ]
     },
     "metadata": {},
     "output_type": "display_data"
    },
    {
     "data": {
      "image/png": "[encoded data removed]",
      "text/plain": [
       "Plot with title \"CA factor map\""
      ]
     },
     "metadata": {},
     "output_type": "display_data"
    }
   ],
   "source": [
    "#CAによる(多重)コレスポンデンス分析\n",
    "resdb3dat <- CA(db3dat)\n",
    "resdb3dat$eig"
   ]
  },
  {
   "cell_type": "markdown",
   "metadata": {},
   "source": [
    "サンプルが多い場合, バイプロットの視認性は悪くなる.  \n",
    "引数```invisible```に```\"row\"``` or ```\"col\"```を指定することで, 列(行)カテゴリのみをプロット可能."
   ]
  },
  {
   "cell_type": "code",
   "execution_count": 15,
   "metadata": {},
   "outputs": [
    {
     "data": {
      "image/png": "[encoded data removed]",
      "text/plain": [
       "Plot with title \"CA factor map\""
      ]
     },
     "metadata": {},
     "output_type": "display_data"
    }
   ],
   "source": [
    "#列カテゴリのみをプロット\n",
    "plot(resdb3dat, invisible = \"row\")\n",
    "#plot(resdb3dat, invisible=\"col\")    #行カテゴリのみをプロット"
   ]
  },
  {
   "cell_type": "markdown",
   "metadata": {},
   "source": [
    "#### 13.5.3 様々なデータ形式からの多重コレスポンデンス分析の実行"
   ]
  },
  {
   "cell_type": "markdown",
   "metadata": {},
   "source": [
    "#### カテゴリカルデータ行列から行う多重コレスポンデンス分析"
   ]
  },
  {
   "cell_type": "code",
   "execution_count": 16,
   "metadata": {},
   "outputs": [],
   "source": [
    "#MCAによる多重コレスポンデンス分析\n",
    "resb3dat <- MCA(b3dat)"
   ]
  },
  {
   "cell_type": "markdown",
   "metadata": {},
   "source": [
    "#### 多重クロス集計表のデータから行う多重コレスポンデンス分析"
   ]
  },
  {
   "cell_type": "markdown",
   "metadata": {},
   "source": [
    "多重クロス集計表をデータフレーム化することで, 行にセルの情報が配置された形式になる."
   ]
  },
  {
   "cell_type": "code",
   "execution_count": 17,
   "metadata": {},
   "outputs": [
    {
     "data": {
      "text/html": [
       "<table>\n",
       "<thead><tr><th scope=col>メーカー</th><th scope=col>ブランド力</th><th scope=col>コスパ</th><th scope=col>技術力</th><th scope=col>レース実績</th><th scope=col>デザイン</th><th scope=col>Freq</th></tr></thead>\n",
       "<tbody>\n",
       "\t<tr><td>イシドロ</td><td>A       </td><td>A       </td><td>A       </td><td>A       </td><td>A       </td><td>0       </td></tr>\n",
       "\t<tr><td>クォーク</td><td>A       </td><td>A       </td><td>A       </td><td>A       </td><td>A       </td><td>0       </td></tr>\n",
       "\t<tr><td>コレナゴ</td><td>A       </td><td>A       </td><td>A       </td><td>A       </td><td>A       </td><td>0       </td></tr>\n",
       "\t<tr><td>チネッロ</td><td>A       </td><td>A       </td><td>A       </td><td>A       </td><td>A       </td><td>0       </td></tr>\n",
       "\t<tr><td>デロンザ</td><td>A       </td><td>A       </td><td>A       </td><td>A       </td><td>A       </td><td>0       </td></tr>\n",
       "\t<tr><td>ビアンカ</td><td>A       </td><td>A       </td><td>A       </td><td>A       </td><td>A       </td><td>0       </td></tr>\n",
       "</tbody>\n",
       "</table>\n"
      ],
      "text/latex": [
       "\\begin{tabular}{r|lllllll}\n",
       " メーカー & ブランド力 & コスパ & 技術力 & レース実績 & デザイン & Freq\\\\\n",
       "\\hline\n",
       "\t イシドロ & A        & A        & A        & A        & A        & 0       \\\\\n",
       "\t クォーク & A        & A        & A        & A        & A        & 0       \\\\\n",
       "\t コレナゴ & A        & A        & A        & A        & A        & 0       \\\\\n",
       "\t チネッロ & A        & A        & A        & A        & A        & 0       \\\\\n",
       "\t デロンザ & A        & A        & A        & A        & A        & 0       \\\\\n",
       "\t ビアンカ & A        & A        & A        & A        & A        & 0       \\\\\n",
       "\\end{tabular}\n"
      ],
      "text/markdown": [
       "\n",
       "メーカー | ブランド力 | コスパ | 技術力 | レース実績 | デザイン | Freq | \n",
       "|---|---|---|---|---|---|\n",
       "| イシドロ | A        | A        | A        | A        | A        | 0        | \n",
       "| クォーク | A        | A        | A        | A        | A        | 0        | \n",
       "| コレナゴ | A        | A        | A        | A        | A        | 0        | \n",
       "| チネッロ | A        | A        | A        | A        | A        | 0        | \n",
       "| デロンザ | A        | A        | A        | A        | A        | 0        | \n",
       "| ビアンカ | A        | A        | A        | A        | A        | 0        | \n",
       "\n",
       "\n"
      ],
      "text/plain": [
       "  メーカー ブランド力 コスパ 技術力 レース実績 デザイン Freq\n",
       "1 イシドロ A          A      A      A          A        0   \n",
       "2 クォーク A          A      A      A          A        0   \n",
       "3 コレナゴ A          A      A      A          A        0   \n",
       "4 チネッロ A          A      A      A          A        0   \n",
       "5 デロンザ A          A      A      A          A        0   \n",
       "6 ビアンカ A          A      A      A          A        0   "
      ]
     },
     "metadata": {},
     "output_type": "display_data"
    },
    {
     "data": {
      "text/html": [
       "7168"
      ],
      "text/latex": [
       "7168"
      ],
      "text/markdown": [
       "7168"
      ],
      "text/plain": [
       "[1] 7168"
      ]
     },
     "metadata": {},
     "output_type": "display_data"
    }
   ],
   "source": [
    "#データフレームへの変換\n",
    "\n",
    "#多重クロス集計表の作成\n",
    "crosb3dat <- xtabs(~., data=b3dat)\n",
    "\n",
    "#データフレームへの変換\n",
    "crosdf <- as.data.frame(crosb3dat)\n",
    "head(crosdf)\n",
    "\n",
    "#行数の確認\n",
    "nrow(crosdf)"
   ]
  },
  {
   "cell_type": "markdown",
   "metadata": {},
   "source": [
    "多重クロス集計表のデータから多重コレスポンデンス分析を行うには, 度数が0のセルを除外する必要がある."
   ]
  },
  {
   "cell_type": "code",
   "execution_count": 18,
   "metadata": {},
   "outputs": [
    {
     "data": {
      "text/html": [
       "253"
      ],
      "text/latex": [
       "253"
      ],
      "text/markdown": [
       "253"
      ],
      "text/plain": [
       "[1] 253"
      ]
     },
     "metadata": {},
     "output_type": "display_data"
    },
    {
     "data": {
      "text/html": [
       "<table>\n",
       "<thead><tr><th></th><th scope=col>メーカー</th><th scope=col>ブランド力</th><th scope=col>コスパ</th><th scope=col>技術力</th><th scope=col>レース実績</th><th scope=col>デザイン</th><th scope=col>Freq</th></tr></thead>\n",
       "<tbody>\n",
       "\t<tr><th scope=row>22</th><td>イシドロ</td><td>D       </td><td>A       </td><td>A       </td><td>A       </td><td>A       </td><td>2       </td></tr>\n",
       "\t<tr><th scope=row>49</th><td>ピロリロ</td><td>C       </td><td>B       </td><td>A       </td><td>A       </td><td>A       </td><td>1       </td></tr>\n",
       "\t<tr><th scope=row>91</th><td>ピロリロ</td><td>A       </td><td>D       </td><td>A       </td><td>A       </td><td>A       </td><td>1       </td></tr>\n",
       "\t<tr><th scope=row>98</th><td>ピロリロ</td><td>B       </td><td>D       </td><td>A       </td><td>A       </td><td>A       </td><td>1       </td></tr>\n",
       "\t<tr><th scope=row>126</th><td>ピロリロ</td><td>B       </td><td>A       </td><td>B       </td><td>A       </td><td>A       </td><td>1       </td></tr>\n",
       "\t<tr><th scope=row>140</th><td>ピロリロ</td><td>D       </td><td>A       </td><td>B       </td><td>A       </td><td>A       </td><td>1       </td></tr>\n",
       "</tbody>\n",
       "</table>\n"
      ],
      "text/latex": [
       "\\begin{tabular}{r|lllllll}\n",
       "  & メーカー & ブランド力 & コスパ & 技術力 & レース実績 & デザイン & Freq\\\\\n",
       "\\hline\n",
       "\t22 & イシドロ & D        & A        & A        & A        & A        & 2       \\\\\n",
       "\t49 & ピロリロ & C        & B        & A        & A        & A        & 1       \\\\\n",
       "\t91 & ピロリロ & A        & D        & A        & A        & A        & 1       \\\\\n",
       "\t98 & ピロリロ & B        & D        & A        & A        & A        & 1       \\\\\n",
       "\t126 & ピロリロ & B        & A        & B        & A        & A        & 1       \\\\\n",
       "\t140 & ピロリロ & D        & A        & B        & A        & A        & 1       \\\\\n",
       "\\end{tabular}\n"
      ],
      "text/markdown": [
       "\n",
       "| <!--/--> | メーカー | ブランド力 | コスパ | 技術力 | レース実績 | デザイン | Freq | \n",
       "|---|---|---|---|---|---|\n",
       "| 22 | イシドロ | D        | A        | A        | A        | A        | 2        | \n",
       "| 49 | ピロリロ | C        | B        | A        | A        | A        | 1        | \n",
       "| 91 | ピロリロ | A        | D        | A        | A        | A        | 1        | \n",
       "| 98 | ピロリロ | B        | D        | A        | A        | A        | 1        | \n",
       "| 126 | ピロリロ | B        | A        | B        | A        | A        | 1        | \n",
       "| 140 | ピロリロ | D        | A        | B        | A        | A        | 1        | \n",
       "\n",
       "\n"
      ],
      "text/plain": [
       "    メーカー ブランド力 コスパ 技術力 レース実績 デザイン Freq\n",
       "22  イシドロ D          A      A      A          A        2   \n",
       "49  ピロリロ C          B      A      A          A        1   \n",
       "91  ピロリロ A          D      A      A          A        1   \n",
       "98  ピロリロ B          D      A      A          A        1   \n",
       "126 ピロリロ B          A      B      A          A        1   \n",
       "140 ピロリロ D          A      B      A          A        1   "
      ]
     },
     "metadata": {},
     "output_type": "display_data"
    }
   ],
   "source": [
    "#度数が0のセルを除外\n",
    "crosdf2 <- crosdf[which(crosdf[,7]>=1), ]    #度数が1以上の行だけを選択\n",
    "nrow(crosdf2)    #行数の確認\n",
    "head(crosdf2)"
   ]
  },
  {
   "cell_type": "markdown",
   "metadata": {},
   "source": [
    "whichの返り値は論理型ではなく, int型(条件式がTRUEとなった要素の番号)"
   ]
  },
  {
   "cell_type": "code",
   "execution_count": 19,
   "metadata": {},
   "outputs": [],
   "source": [
    "#MCAによる多重コレスポンデンス分析\n",
    "rescrosdf2 <- MCA(crosdf2, quanti.sup=7, row.w=crosdf2$Freq)"
   ]
  },
  {
   "cell_type": "markdown",
   "metadata": {},
   "source": [
    "```quanti.sup```:量的変数が収められている列の番号  \n",
    "```row.w``` &emsp;&emsp; :度数が収められているベクトル"
   ]
  }
 ],
 "metadata": {
  "kernelspec": {
   "display_name": "R",
   "language": "R",
   "name": "ir"
  },
  "language_info": {
   "codemirror_mode": "r",
   "file_extension": ".r",
   "mimetype": "text/x-r-source",
   "name": "R",
   "pygments_lexer": "r",
   "version": "3.5.1"
  },
  "latex_envs": {
   "LaTeX_envs_menu_present": true,
   "autoclose": false,
   "autocomplete": true,
   "bibliofile": "biblio.bib",
   "cite_by": "apalike",
   "current_citInitial": 1,
   "eqLabelWithNumbers": true,
   "eqNumInitial": 1,
   "hotkeys": {
    "equation": "Ctrl-E",
    "itemize": "Ctrl-I"
   },
   "labels_anchors": false,
   "latex_user_defs": false,
   "report_style_numbering": false,
   "user_envs_cfg": false
  }
 },
 "nbformat": 4,
 "nbformat_minor": 2
}
