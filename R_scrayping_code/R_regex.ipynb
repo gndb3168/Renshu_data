{
 "cells": [
  {
   "cell_type": "markdown",
   "metadata": {},
   "source": [
    "## 8.1 正規表現"
   ]
  },
  {
   "cell_type": "code",
   "execution_count": 1,
   "metadata": {},
   "outputs": [],
   "source": [
    "#stringrパッケージの読み込みとサンプルオブジェクトの生成\n",
    "library(stringr)\n",
    "example.obj <- \"1. A small sentence. - 2. Another tiny sentence.\""
   ]
  },
  {
   "cell_type": "markdown",
   "metadata": {},
   "source": [
    "### 8.1.1 マッチした文字列の抽出"
   ]
  },
  {
   "cell_type": "markdown",
   "metadata": {},
   "source": [
    "```str_extract(string, pattern)```で定義される"
   ]
  },
  {
   "cell_type": "code",
   "execution_count": 2,
   "metadata": {},
   "outputs": [
    {
     "data": {
      "text/html": [
       "'small'"
      ],
      "text/latex": [
       "'small'"
      ],
      "text/markdown": [
       "'small'"
      ],
      "text/plain": [
       "[1] \"small\""
      ]
     },
     "metadata": {},
     "output_type": "display_data"
    }
   ],
   "source": [
    "str_extract(example.obj, \"small\")    "
   ]
  },
  {
   "cell_type": "markdown",
   "metadata": {},
   "source": [
    "マッチする部分文字列がない場合は欠損値が返ってくる"
   ]
  },
  {
   "cell_type": "code",
   "execution_count": 3,
   "metadata": {},
   "outputs": [
    {
     "data": {
      "text/html": [
       "NA"
      ],
      "text/latex": [
       "NA"
      ],
      "text/markdown": [
       "NA"
      ],
      "text/plain": [
       "[1] NA"
      ]
     },
     "metadata": {},
     "output_type": "display_data"
    }
   ],
   "source": [
    "str_extract(example.obj, \"banana\")"
   ]
  },
  {
   "cell_type": "markdown",
   "metadata": {},
   "source": [
    "マッチする全ての部分文字列を抽出する場合は```str_extract_all(string, pattern)```を用いる"
   ]
  },
  {
   "cell_type": "code",
   "execution_count": 4,
   "metadata": {},
   "outputs": [
    {
     "data": {
      "text/html": [
       "<ol class=list-inline>\n",
       "\t<li>'sentence'</li>\n",
       "\t<li>'sentence'</li>\n",
       "</ol>\n"
      ],
      "text/latex": [
       "\\begin{enumerate*}\n",
       "\\item 'sentence'\n",
       "\\item 'sentence'\n",
       "\\end{enumerate*}\n"
      ],
      "text/markdown": [
       "1. 'sentence'\n",
       "2. 'sentence'\n",
       "\n",
       "\n"
      ],
      "text/plain": [
       "[1] \"sentence\" \"sentence\""
      ]
     },
     "metadata": {},
     "output_type": "display_data"
    }
   ],
   "source": [
    "unlist(str_extract_all(example.obj, \"sentence\"))"
   ]
  },
  {
   "cell_type": "markdown",
   "metadata": {},
   "source": [
    "```unlist()```はリストを非リスト化する関数"
   ]
  },
  {
   "cell_type": "markdown",
   "metadata": {},
   "source": [
    "```str_extract_all()```は入力ベクトルと同じ長さのリストを返す"
   ]
  },
  {
   "cell_type": "code",
   "execution_count": 5,
   "metadata": {},
   "outputs": [
    {
     "data": {
      "text/html": [
       "<ol>\n",
       "\t<li></li>\n",
       "\t<li><ol class=list-inline>\n",
       "\t<li>'a'</li>\n",
       "\t<li>'a'</li>\n",
       "</ol>\n",
       "</li>\n",
       "\t<li>'a'</li>\n",
       "</ol>\n"
      ],
      "text/latex": [
       "\\begin{enumerate}\n",
       "\\item \n",
       "\\item \\begin{enumerate*}\n",
       "\\item 'a'\n",
       "\\item 'a'\n",
       "\\end{enumerate*}\n",
       "\n",
       "\\item 'a'\n",
       "\\end{enumerate}\n"
      ],
      "text/markdown": [
       "1. \n",
       "2. 1. 'a'\n",
       "2. 'a'\n",
       "\n",
       "\n",
       "\n",
       "3. 'a'\n",
       "\n",
       "\n"
      ],
      "text/plain": [
       "[[1]]\n",
       "character(0)\n",
       "\n",
       "[[2]]\n",
       "[1] \"a\" \"a\"\n",
       "\n",
       "[[3]]\n",
       "[1] \"a\"\n"
      ]
     },
     "metadata": {},
     "output_type": "display_data"
    }
   ],
   "source": [
    "str_extract_all(c(\"text\", \"manipulation\", \"basics\"), \"a\")"
   ]
  },
  {
   "cell_type": "markdown",
   "metadata": {},
   "source": [
    "デフォルトでは, 文字列のマッチは大文字と小文字を区別する"
   ]
  },
  {
   "cell_type": "code",
   "execution_count": 6,
   "metadata": {},
   "outputs": [
    {
     "data": {
      "text/html": [
       "NA"
      ],
      "text/latex": [
       "NA"
      ],
      "text/markdown": [
       "NA"
      ],
      "text/plain": [
       "[1] NA"
      ]
     },
     "metadata": {},
     "output_type": "display_data"
    }
   ],
   "source": [
    "str_extract(example.obj, \"SMALL\")"
   ]
  },
  {
   "cell_type": "markdown",
   "metadata": {},
   "source": [
    "大文字と小文字を区別せずに抽出するためには```regex()```, ```fixed()```, ```coll()```のいずれかを用いる"
   ]
  },
  {
   "cell_type": "code",
   "execution_count": 7,
   "metadata": {},
   "outputs": [
    {
     "data": {
      "text/html": [
       "'small'"
      ],
      "text/latex": [
       "'small'"
      ],
      "text/markdown": [
       "'small'"
      ],
      "text/plain": [
       "[1] \"small\""
      ]
     },
     "metadata": {},
     "output_type": "display_data"
    }
   ],
   "source": [
    "str_extract(example.obj, regex(\"SMALL\", ignore_case = TRUE))"
   ]
  },
  {
   "cell_type": "markdown",
   "metadata": {},
   "source": [
    "正規表現は単語の一部分や空白にマッチすることが出来る"
   ]
  },
  {
   "cell_type": "code",
   "execution_count": 8,
   "metadata": {},
   "outputs": [
    {
     "data": {
      "text/html": [
       "<ol class=list-inline>\n",
       "\t<li>'en'</li>\n",
       "\t<li>'en'</li>\n",
       "\t<li>'en'</li>\n",
       "\t<li>'en'</li>\n",
       "</ol>\n"
      ],
      "text/latex": [
       "\\begin{enumerate*}\n",
       "\\item 'en'\n",
       "\\item 'en'\n",
       "\\item 'en'\n",
       "\\item 'en'\n",
       "\\end{enumerate*}\n"
      ],
      "text/markdown": [
       "1. 'en'\n",
       "2. 'en'\n",
       "3. 'en'\n",
       "4. 'en'\n",
       "\n",
       "\n"
      ],
      "text/plain": [
       "[1] \"en\" \"en\" \"en\" \"en\""
      ]
     },
     "metadata": {},
     "output_type": "display_data"
    },
    {
     "data": {
      "text/html": [
       "'mall sent'"
      ],
      "text/latex": [
       "'mall sent'"
      ],
      "text/markdown": [
       "'mall sent'"
      ],
      "text/plain": [
       "[1] \"mall sent\""
      ]
     },
     "metadata": {},
     "output_type": "display_data"
    }
   ],
   "source": [
    "unlist(str_extract_all(example.obj, \"en\"))\n",
    "str_extract(example.obj, \"mall sent\")"
   ]
  },
  {
   "cell_type": "markdown",
   "metadata": {},
   "source": [
    "##### 開始と終端へのマッチ"
   ]
  },
  {
   "cell_type": "markdown",
   "metadata": {},
   "source": [
    "正規表現の開始につけるキャレット記号```^```は文字列の開始を意味しており, 末尾の```$```は文字列の終端を意味する"
   ]
  },
  {
   "cell_type": "code",
   "execution_count": 9,
   "metadata": {},
   "outputs": [
    {
     "data": {
      "text/html": [
       "NA"
      ],
      "text/latex": [
       "NA"
      ],
      "text/markdown": [
       "NA"
      ],
      "text/plain": [
       "[1] NA"
      ]
     },
     "metadata": {},
     "output_type": "display_data"
    },
    {
     "data": {
      "text/html": [
       "NA"
      ],
      "text/latex": [
       "NA"
      ],
      "text/markdown": [
       "NA"
      ],
      "text/plain": [
       "[1] NA"
      ]
     },
     "metadata": {},
     "output_type": "display_data"
    }
   ],
   "source": [
    "str_extract(example.obj, \"^2\")           #先頭に'2'はないのでNAが返ってくる\n",
    "str_extract(example.obj, \"sentence$\")    #末尾はピリオドなのでNAが返ってくる"
   ]
  },
  {
   "cell_type": "markdown",
   "metadata": {},
   "source": [
    "##### パイプ演算子"
   ]
  },
  {
   "cell_type": "markdown",
   "metadata": {},
   "source": [
    "正規表現において, パイプ```|```は論理演算子の```OR```のように振舞い, 関数はパイプの前後に書かれた正規表現のどちらかにマッチしたものを返す"
   ]
  },
  {
   "cell_type": "code",
   "execution_count": 10,
   "metadata": {},
   "outputs": [
    {
     "data": {
      "text/html": [
       "<ol class=list-inline>\n",
       "\t<li>'sentence'</li>\n",
       "\t<li>'tiny'</li>\n",
       "\t<li>'sentence'</li>\n",
       "</ol>\n"
      ],
      "text/latex": [
       "\\begin{enumerate*}\n",
       "\\item 'sentence'\n",
       "\\item 'tiny'\n",
       "\\item 'sentence'\n",
       "\\end{enumerate*}\n"
      ],
      "text/markdown": [
       "1. 'sentence'\n",
       "2. 'tiny'\n",
       "3. 'sentence'\n",
       "\n",
       "\n"
      ],
      "text/plain": [
       "[1] \"sentence\" \"tiny\"     \"sentence\""
      ]
     },
     "metadata": {},
     "output_type": "display_data"
    }
   ],
   "source": [
    "unlist(str_extract_all(example.obj, \"tiny|sentence\"))"
   ]
  },
  {
   "cell_type": "markdown",
   "metadata": {},
   "source": [
    "#### 8.1.2 正規表現の一般化"
   ]
  },
  {
   "cell_type": "markdown",
   "metadata": {},
   "source": [
    "正規表現中のピリオドは任意の1文字とマッチする"
   ]
  },
  {
   "cell_type": "code",
   "execution_count": 11,
   "metadata": {},
   "outputs": [
    {
     "data": {
      "text/html": [
       "'small'"
      ],
      "text/latex": [
       "'small'"
      ],
      "text/markdown": [
       "'small'"
      ],
      "text/plain": [
       "[1] \"small\""
      ]
     },
     "metadata": {},
     "output_type": "display_data"
    }
   ],
   "source": [
    "str_extract(example.obj, \"sm.ll\")"
   ]
  },
  {
   "cell_type": "markdown",
   "metadata": {},
   "source": [
    "文字をブラケット```[]```で囲むことで文字クラスを作成できる.  \n",
    "文字クラスは, ブラケット内の文字のどれかにマッチするというパターンを示す."
   ]
  },
  {
   "cell_type": "code",
   "execution_count": 12,
   "metadata": {},
   "outputs": [
    {
     "data": {
      "text/html": [
       "'small'"
      ],
      "text/latex": [
       "'small'"
      ],
      "text/markdown": [
       "'small'"
      ],
      "text/plain": [
       "[1] \"small\""
      ]
     },
     "metadata": {},
     "output_type": "display_data"
    }
   ],
   "source": [
    "str_extract(example.obj, \"sm[abc]ll\")"
   ]
  },
  {
   "cell_type": "markdown",
   "metadata": {},
   "source": [
    "文字クラス内でダッシュ(-)を用いることで文字の範囲を示すこともできる."
   ]
  },
  {
   "cell_type": "code",
   "execution_count": 13,
   "metadata": {},
   "outputs": [
    {
     "data": {
      "text/html": [
       "'small'"
      ],
      "text/latex": [
       "'small'"
      ],
      "text/markdown": [
       "'small'"
      ],
      "text/plain": [
       "[1] \"small\""
      ]
     },
     "metadata": {},
     "output_type": "display_data"
    }
   ],
   "source": [
    "str_extract(example.obj, \"sm[a-p]ll\")"
   ]
  },
  {
   "cell_type": "markdown",
   "metadata": {},
   "source": [
    "正規表現は句読点やスペースも含むことができ, \n",
    "**文字クラス内での句読点やスペースは正規表現としての機能を失う**ので注意が必要."
   ]
  },
  {
   "cell_type": "code",
   "execution_count": 14,
   "metadata": {},
   "outputs": [
    {
     "data": {
      "text/html": [
       "<ol class=list-inline>\n",
       "\t<li>'.'</li>\n",
       "\t<li>' '</li>\n",
       "\t<li>' '</li>\n",
       "\t<li>' '</li>\n",
       "\t<li>'.'</li>\n",
       "\t<li>' '</li>\n",
       "\t<li>' '</li>\n",
       "\t<li>'.'</li>\n",
       "\t<li>' '</li>\n",
       "\t<li>' '</li>\n",
       "\t<li>' '</li>\n",
       "\t<li>'.'</li>\n",
       "</ol>\n"
      ],
      "text/latex": [
       "\\begin{enumerate*}\n",
       "\\item '.'\n",
       "\\item ' '\n",
       "\\item ' '\n",
       "\\item ' '\n",
       "\\item '.'\n",
       "\\item ' '\n",
       "\\item ' '\n",
       "\\item '.'\n",
       "\\item ' '\n",
       "\\item ' '\n",
       "\\item ' '\n",
       "\\item '.'\n",
       "\\end{enumerate*}\n"
      ],
      "text/markdown": [
       "1. '.'\n",
       "2. ' '\n",
       "3. ' '\n",
       "4. ' '\n",
       "5. '.'\n",
       "6. ' '\n",
       "7. ' '\n",
       "8. '.'\n",
       "9. ' '\n",
       "10. ' '\n",
       "11. ' '\n",
       "12. '.'\n",
       "\n",
       "\n"
      ],
      "text/plain": [
       " [1] \".\" \" \" \" \" \" \" \".\" \" \" \" \" \".\" \" \" \" \" \" \" \".\""
      ]
     },
     "metadata": {},
     "output_type": "display_data"
    }
   ],
   "source": [
    "unlist(str_extract_all(example.obj, \"[uvw. ]\"))    #u, v, w, ピリオド, スペースのいずれかにマッチ"
   ]
  },
  {
   "cell_type": "markdown",
   "metadata": {},
   "source": [
    "##### 文字クラス"
   ]
  },
  {
   "cell_type": "markdown",
   "metadata": {},
   "source": [
    "Rの正規表現であらかじめ定義されている文字クラスがあり, **文字クラスをブラケットで二重に囲む**ことで利用できる.  \n",
    "([[:punct:]]などが正しく, [:punct:]だと「ブラケット内のいずれかの1文字」として認識されてしまう)"
   ]
  },
  {
   "cell_type": "markdown",
   "metadata": {},
   "source": [
    "- [:digit:] 数字: 0 1 2 3 4 5 6 7 8 9\n",
    "- [:lower:] 小文字のアルファベット全体\n",
    "- [:upper:] 大文字のアルファベット全体\n",
    "- [:alpha:] アルファベット全体(大文字・小文字は問わない)\n",
    "- [:alnum:] 数字とアルファベット全体\n",
    "- [:punct:] 句読点: . , ; など\n",
    "- [:graph:] 図形文字: [:alnum:] [:punct:]\n",
    "- [:blank:] 空白文字: スペース タブ\n",
    "- [:space:] 間隔文字: スペース タブ 改行 その他の間隔文字\n",
    "- [:print:] 印刷可能な文字: [:alnum:] [:punct:] [:space:]\n",
    "\n",
    "出典: http://stat.ethz.ch/R-manual/R-patched/library/base/html/regex.html"
   ]
  },
  {
   "cell_type": "code",
   "execution_count": 15,
   "metadata": {},
   "outputs": [
    {
     "data": {
      "text/html": [
       "<ol class=list-inline>\n",
       "\t<li>'.'</li>\n",
       "\t<li>'.'</li>\n",
       "\t<li>'-'</li>\n",
       "\t<li>'.'</li>\n",
       "\t<li>'.'</li>\n",
       "</ol>\n"
      ],
      "text/latex": [
       "\\begin{enumerate*}\n",
       "\\item '.'\n",
       "\\item '.'\n",
       "\\item '-'\n",
       "\\item '.'\n",
       "\\item '.'\n",
       "\\end{enumerate*}\n"
      ],
      "text/markdown": [
       "1. '.'\n",
       "2. '.'\n",
       "3. '-'\n",
       "4. '.'\n",
       "5. '.'\n",
       "\n",
       "\n"
      ],
      "text/plain": [
       "[1] \".\" \".\" \"-\" \".\" \".\""
      ]
     },
     "metadata": {},
     "output_type": "display_data"
    }
   ],
   "source": [
    "#句読点にマッチする正規表現\n",
    "unlist(str_extract_all(example.obj, \"[[:punct:]]\"))"
   ]
  },
  {
   "cell_type": "markdown",
   "metadata": {},
   "source": [
    "文字クラス内に同じ文字が2回以上表れても1回しか現れない場合と同じ結果になる."
   ]
  },
  {
   "cell_type": "code",
   "execution_count": 16,
   "metadata": {},
   "outputs": [
    {
     "data": {
      "text/html": [
       "<ol class=list-inline>\n",
       "\t<li>'A'</li>\n",
       "\t<li>'A'</li>\n",
       "</ol>\n"
      ],
      "text/latex": [
       "\\begin{enumerate*}\n",
       "\\item 'A'\n",
       "\\item 'A'\n",
       "\\end{enumerate*}\n"
      ],
      "text/markdown": [
       "1. 'A'\n",
       "2. 'A'\n",
       "\n",
       "\n"
      ],
      "text/plain": [
       "[1] \"A\" \"A\""
      ]
     },
     "metadata": {},
     "output_type": "display_data"
    }
   ],
   "source": [
    "unlist(str_extract_all(example.obj, \"[AAAAA]\"))"
   ]
  },
  {
   "cell_type": "markdown",
   "metadata": {},
   "source": [
    "[:alpha:]を用いると, [a-zA-Z]と違い, **&ccedil;のような特殊文字もマッチさせることが出来る**"
   ]
  },
  {
   "cell_type": "code",
   "execution_count": 17,
   "metadata": {},
   "outputs": [
    {
     "data": {
      "text/html": [
       "<ol class=list-inline>\n",
       "\t<li>'.'</li>\n",
       "\t<li>'A'</li>\n",
       "\t<li>'.'</li>\n",
       "\t<li>'-'</li>\n",
       "\t<li>'.'</li>\n",
       "\t<li>'A'</li>\n",
       "\t<li>'.'</li>\n",
       "</ol>\n"
      ],
      "text/latex": [
       "\\begin{enumerate*}\n",
       "\\item '.'\n",
       "\\item 'A'\n",
       "\\item '.'\n",
       "\\item '-'\n",
       "\\item '.'\n",
       "\\item 'A'\n",
       "\\item '.'\n",
       "\\end{enumerate*}\n"
      ],
      "text/markdown": [
       "1. '.'\n",
       "2. 'A'\n",
       "3. '.'\n",
       "4. '-'\n",
       "5. '.'\n",
       "6. 'A'\n",
       "7. '.'\n",
       "\n",
       "\n"
      ],
      "text/plain": [
       "[1] \".\" \"A\" \".\" \"-\" \".\" \"A\" \".\""
      ]
     },
     "metadata": {},
     "output_type": "display_data"
    }
   ],
   "source": [
    "#句読点とA, B, Cにマッチさせる正規表現\n",
    "unlist(str_extract_all(example.obj, \"[[:punct:]ABC]\"))"
   ]
  },
  {
   "cell_type": "markdown",
   "metadata": {},
   "source": [
    "**文字クラスの最初にキャレット記号(^)を追加することで否定の意味になる.**"
   ]
  },
  {
   "cell_type": "code",
   "execution_count": 18,
   "metadata": {},
   "outputs": [
    {
     "data": {
      "text/html": [
       "<ol class=list-inline>\n",
       "\t<li>'.'</li>\n",
       "\t<li>' '</li>\n",
       "\t<li>' '</li>\n",
       "\t<li>' '</li>\n",
       "\t<li>'.'</li>\n",
       "\t<li>' '</li>\n",
       "\t<li>'-'</li>\n",
       "\t<li>' '</li>\n",
       "\t<li>'.'</li>\n",
       "\t<li>' '</li>\n",
       "\t<li>' '</li>\n",
       "\t<li>' '</li>\n",
       "\t<li>'.'</li>\n",
       "</ol>\n"
      ],
      "text/latex": [
       "\\begin{enumerate*}\n",
       "\\item '.'\n",
       "\\item ' '\n",
       "\\item ' '\n",
       "\\item ' '\n",
       "\\item '.'\n",
       "\\item ' '\n",
       "\\item '-'\n",
       "\\item ' '\n",
       "\\item '.'\n",
       "\\item ' '\n",
       "\\item ' '\n",
       "\\item ' '\n",
       "\\item '.'\n",
       "\\end{enumerate*}\n"
      ],
      "text/markdown": [
       "1. '.'\n",
       "2. ' '\n",
       "3. ' '\n",
       "4. ' '\n",
       "5. '.'\n",
       "6. ' '\n",
       "7. '-'\n",
       "8. ' '\n",
       "9. '.'\n",
       "10. ' '\n",
       "11. ' '\n",
       "12. ' '\n",
       "13. '.'\n",
       "\n",
       "\n"
      ],
      "text/plain": [
       " [1] \".\" \" \" \" \" \" \" \".\" \" \" \"-\" \" \" \".\" \" \" \" \" \" \" \".\""
      ]
     },
     "metadata": {},
     "output_type": "display_data"
    }
   ],
   "source": [
    "#アルファベットと数字以外の1文字をマッチさせる\n",
    "unlist(str_extract_all(example.obj, \"[^[:alnum:]]\"))"
   ]
  },
  {
   "cell_type": "code",
   "execution_count": null,
   "metadata": {},
   "outputs": [],
   "source": []
  }
 ],
 "metadata": {
  "kernelspec": {
   "display_name": "R",
   "language": "R",
   "name": "ir"
  },
  "language_info": {
   "codemirror_mode": "r",
   "file_extension": ".r",
   "mimetype": "text/x-r-source",
   "name": "R",
   "pygments_lexer": "r",
   "version": "3.5.1"
  },
  "latex_envs": {
   "LaTeX_envs_menu_present": true,
   "autoclose": false,
   "autocomplete": true,
   "bibliofile": "biblio.bib",
   "cite_by": "apalike",
   "current_citInitial": 1,
   "eqLabelWithNumbers": true,
   "eqNumInitial": 1,
   "hotkeys": {
    "equation": "Ctrl-E",
    "itemize": "Ctrl-I"
   },
   "labels_anchors": false,
   "latex_user_defs": false,
   "report_style_numbering": false,
   "user_envs_cfg": false
  }
 },
 "nbformat": 4,
 "nbformat_minor": 2
}
